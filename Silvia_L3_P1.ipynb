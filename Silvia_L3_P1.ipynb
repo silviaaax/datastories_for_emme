{
  "nbformat": 4,
  "nbformat_minor": 0,
  "metadata": {
    "colab": {
      "provenance": [],
      "include_colab_link": true
    },
    "kernelspec": {
      "name": "python3",
      "display_name": "Python 3"
    },
    "language_info": {
      "name": "python"
    }
  },
  "cells": [
    {
      "cell_type": "markdown",
      "metadata": {
        "id": "view-in-github",
        "colab_type": "text"
      },
      "source": [
        "<a href=\"https://colab.research.google.com/github/silviaaax/datastories_for_emme/blob/main/Silvia_L3_P1.ipynb\" target=\"_parent\"><img src=\"https://colab.research.google.com/assets/colab-badge.svg\" alt=\"Open In Colab\"/></a>"
      ]
    },
    {
      "cell_type": "markdown",
      "source": [
        "# Εισαγωγή στα Pandas (Pandas library)"
      ],
      "metadata": {
        "id": "FMDoMzXBvE1-"
      }
    },
    {
      "cell_type": "markdown",
      "source": [
        "##**Δεν μας έφταναν οι πύθωνες, θέλουμε και αρκούδες**\n",
        "\n",
        "![](https://drive.google.com/uc?export=view&id=1LtZXFw65C7uK-TLSl_Svy-BAeI25wQHS)"
      ],
      "metadata": {
        "id": "dFezkn4Z_Fso"
      }
    },
    {
      "cell_type": "markdown",
      "source": [
        "##**Python libraries**\n",
        "\n",
        "Προκειμένου η ζωή μας στον προγραμματισμό να γίνει ευκολότερη, υπάρχουν κάποια έτοιμα πακέτα κώδικα που μπορούμε να καλέσουμε και να χρησιμοποιήσουμε γράφοντας απλώς το όνομά τους για να επιτελέσουμε συγκεκριμένες εργασίες."
      ],
      "metadata": {
        "id": "dDotxwpzoagD"
      }
    },
    {
      "cell_type": "code",
      "source": [
        "min(42, -6, 35, 13, 0, 1024)"
      ],
      "metadata": {
        "colab": {
          "base_uri": "https://localhost:8080/"
        },
        "id": "qmvcnOfSocns",
        "outputId": "564ec5e8-6d9b-4de7-e664-1b36ea97ca9d"
      },
      "execution_count": null,
      "outputs": [
        {
          "output_type": "execute_result",
          "data": {
            "text/plain": [
              "-6"
            ]
          },
          "metadata": {},
          "execution_count": 1
        }
      ]
    },
    {
      "cell_type": "markdown",
      "source": [
        "### **Τι είναι οι βιβλιοθήκες**\n",
        "\n",
        "Στον προγραμματισμό, **μια βιβλιοθήκη (library)** είναι μια **συλλογή** έτοιμων για χρήση πακέτων κώδικα που μπορούμε να χρησιμοποιήσουμε σε ένα πρόγραμμα για να επιτελέσουν κάποιες συγκεκριμένες λειτουργίες.\n",
        "\n",
        "Για παράδειγμα η βιβλιοθήκη **math** περιέχει μαθηματικές συναρτήσεις. Με τη συνάρτηση sqrt() της math, μπορούμε να βρούμε την τετραγωνική ρίζα ενός αριθμού. \n",
        "\n",
        "Για να χρησιμοποιήσουμε τη συνάρτηση μιας βιβλιοθήκης, η σύνταξη είναι:\n",
        "```\n",
        "<όνομα βιβλιοθήκης>.<όνομα συνάρτησης>\n",
        "```"
      ],
      "metadata": {
        "id": "8ACqwN9GrGXg"
      }
    },
    {
      "cell_type": "code",
      "source": [
        "math.sqrt(3)"
      ],
      "metadata": {
        "colab": {
          "base_uri": "https://localhost:8080/",
          "height": 165
        },
        "id": "7Pk9Ya4SrHnO",
        "outputId": "018a0519-dc3e-4e7b-d0a5-83b05fcdfc36"
      },
      "execution_count": null,
      "outputs": [
        {
          "output_type": "error",
          "ename": "NameError",
          "evalue": "ignored",
          "traceback": [
            "\u001b[0;31m---------------------------------------------------------------------------\u001b[0m",
            "\u001b[0;31mNameError\u001b[0m                                 Traceback (most recent call last)",
            "\u001b[0;32m<ipython-input-1-51c8bcbe0ecf>\u001b[0m in \u001b[0;36m<cell line: 1>\u001b[0;34m()\u001b[0m\n\u001b[0;32m----> 1\u001b[0;31m \u001b[0mmath\u001b[0m\u001b[0;34m.\u001b[0m\u001b[0msqrt\u001b[0m\u001b[0;34m(\u001b[0m\u001b[0;36m3\u001b[0m\u001b[0;34m)\u001b[0m\u001b[0;34m\u001b[0m\u001b[0;34m\u001b[0m\u001b[0m\n\u001b[0m",
            "\u001b[0;31mNameError\u001b[0m: name 'math' is not defined"
          ]
        }
      ]
    },
    {
      "cell_type": "markdown",
      "source": [
        "H εντολή μας δεν τρέχει, γιατί η βιβλιοθήκη math, δεν περιέχεται στην Python. Για να τη χρησιμοποιήσουμε στο πρόγραμμά μας, πρέπει πρώτα να την **εισάγουμε** (**import**)."
      ],
      "metadata": {
        "id": "V9Ihm1ljr6BV"
      }
    },
    {
      "cell_type": "markdown",
      "source": [
        "### **Εισαγωγή βιβλιοθηκών στην Python**"
      ],
      "metadata": {
        "id": "AQv0QkqcDhFD"
      }
    },
    {
      "cell_type": "code",
      "source": [
        "import math"
      ],
      "metadata": {
        "id": "x8aT_vTgsiF6"
      },
      "execution_count": null,
      "outputs": []
    },
    {
      "cell_type": "code",
      "source": [
        "math.sqrt(3)"
      ],
      "metadata": {
        "id": "gec4447Gsllx",
        "colab": {
          "base_uri": "https://localhost:8080/"
        },
        "outputId": "1338116c-25ad-497d-bcf4-629fe1e43c3f"
      },
      "execution_count": null,
      "outputs": [
        {
          "output_type": "execute_result",
          "data": {
            "text/plain": [
              "1.7320508075688772"
            ]
          },
          "metadata": {},
          "execution_count": 3
        }
      ]
    },
    {
      "cell_type": "markdown",
      "source": [
        "Κάθε βιβλιοθήκη περιλαμβάνει πάρα πολλά πακέτα, αλλά εμείς μπορεί να θέλουμε μόνο μερικά απ' αυτά. Γι' αυτό, μπορούμε να εισάγουμε μόνο το/τα πακέτα που θέλουμε από μια βιβλιοθήκη, με τη σύνταξη:\n",
        "\n",
        "```\n",
        "from <όνομα βιβλιοθήκης> import <όνομα πακέτου 1>, <όνομα πακέτου 2>...\n",
        "```\n",
        "\n",
        "#### **Σύνδεση του colab με το google drive**\n",
        "\n",
        "Ένα χρήσιμο πακέτο για τη σύνδεση του colab με το google drive είναι το **drive** από τη βιβλιοθήκη **google.colab**"
      ],
      "metadata": {
        "id": "_5X10lY5sqjz"
      }
    },
    {
      "cell_type": "code",
      "source": [
        "from google.colab import drive\n",
        "\n",
        "drive.mount('/content/gdrive/', force_remount=True)"
      ],
      "metadata": {
        "id": "bdOE_gZs148j",
        "colab": {
          "base_uri": "https://localhost:8080/"
        },
        "outputId": "07c5c647-1269-4a21-c886-4d66b044764f"
      },
      "execution_count": null,
      "outputs": [
        {
          "output_type": "stream",
          "name": "stdout",
          "text": [
            "Mounted at /content/gdrive/\n"
          ]
        }
      ]
    },
    {
      "cell_type": "markdown",
      "source": [
        "#### **Εισαγωγή βιβλιοθήκης με σύντομο όνομα**\n",
        "\n",
        "Όταν το όνομα μιας βιβλιοθήκης είναι μεγάλο, η συνήθης πρακτική είναι να την εισάγουμε ορίζοντας ταυτόχρονα και μια συντομογραφία του ονόματός της με την οποία θα την καλούμε. Π.χ.:\n",
        "\n",
        "```\n",
        "import matplotlib.pyplot as plt\n",
        "```"
      ],
      "metadata": {
        "id": "1tcNREGwKym-"
      }
    },
    {
      "cell_type": "markdown",
      "source": [
        "#### **Δημοφιλείς βιβλιοθήκες για την Python** στην ανάλυση δεδομένων\n",
        "\n",
        "* **Matplotlib**: Δημιουργεί απεικονίσεις αριθμητικών δεδομένων όπως bar charts, pie charts, histograms, scatterplots, κλπ. και γι' αυτό χρησιμοποιείται στην ανάλυση δεδομένων (data analysis).\n",
        "* **Numpy** (Numerical Python): Αποτελείται από ενσωματωμένες μαθηματικές συναρτήσεις για εύκολους υπολογισμούς, υποστηρίζει μεγάλους πίνακες και πολυδιάστατα δεδομένα και γι' αυτό χρησιμοποιείται πολύ στη μηχανική μάθηση (Machine Learning).\n",
        "* **SpaCy**: Περιέχει γλωσσολογικά (και αλλά) εργαλεία που χρησιμοποιούνται για την επεξεργασία της φυσικής γλώσσας [Natural Language Processing (NLP)]."
      ],
      "metadata": {
        "id": "J1pXaTV0X2K4"
      }
    },
    {
      "cell_type": "markdown",
      "source": [
        "## **Τι είναι τα Pandas**\n",
        "\n",
        "Τα Pandas είναι μια βιβλιοθήκη της Python που χρησιμοποιείται για να δουλέψουμε με σύνολα δεδομένων (data sets).\n",
        "\n",
        "Περιλαμβάνει συναρτήσεις για:\n",
        "* **ανάλυση**\n",
        "* **καθάρισμα**\n",
        "* **εξερεύνηση**, και\n",
        "* **επεξεργασία**\n",
        "\n",
        "Των δεδομένων.\n",
        "\n",
        "*Το όνομα \"Pandas\" συνδέεται με το \"Panel Data\" και το \"Python Data Analysis\" και δημιουργήθηκε από τον Wes McKinney το 2008.*\n"
      ],
      "metadata": {
        "id": "MmQRPGDRxIHj"
      }
    },
    {
      "cell_type": "markdown",
      "source": [
        "#### **Γιατί να χρησιμοποιήσουμε τα Pandas;**\n",
        "\n",
        "Στη δημοσιογραφία δεδομένων (Data Journalism), ο στόχος μας είναι να ανακαλύψουμε τους πιθανούς τρόπους με τους οποίους συσχετίζονται τα διάφορα δεδομένα μεταξύ τους και να βγάλουμε **συμπεράσματα**.\n",
        "\n",
        "Με τα πλαίσια δεδομένων (**dataframes**) των Pandas, τα δεδομένα μας οργανώνονται σε πίνακες (όπως στο exel, αλλά με πολύ περισσότερες δυνατότητες).\n",
        "\n",
        "![](https://www.cdn.geeksforgeeks.org/wp-content/uploads/creating_dataframe1.png)\n",
        "\n",
        "Έτσι μπορούμε να επισκοπήσουμε τα δεδομένα και, με τη βοήθεια των εργαλείων που μας παρέχει η βιβλιοθήκη, να πάρουμε απ' αυτά απαντήσεις, σε ερωτήσεις όπως:\n",
        "\n",
        "* Υπάρχει συσχέτιση μεταξύ δύο ή περισσότερων στηλών;\n",
        "* Ποιά είναι η μέση τιμή;\n",
        "* Ποιά είναι η μέγιστη ή η ελάχιστη;\n",
        "* Πώς εξελλίσσονται οι τιμές στο χρόνο;\n",
        "\n",
        "Με τα Pandas μπορούμε να διαγράψουμε σειρές που είναι άσχετες ή περιέχουν λανθασμένες ή κενές τιμές, στο πλαίσιο της διαδικασίας που ονομάζουμε \"**καθάρισμα δεδομένων**\"."
      ],
      "metadata": {
        "id": "fyC-aGl0OCKf"
      }
    },
    {
      "cell_type": "markdown",
      "source": [
        "---\n",
        "### **0. Εισαγωγή της βιβλιοθήκης Pandas στην Python**"
      ],
      "metadata": {
        "id": "hnMIXcG2D_lf"
      }
    },
    {
      "cell_type": "markdown",
      "source": [
        "Εισάγετε τη βιβλιοθήκη pandas με σύντομο όνομα το pd"
      ],
      "metadata": {
        "id": "d1OOIcfr4SJm"
      }
    },
    {
      "cell_type": "code",
      "execution_count": 1,
      "metadata": {
        "id": "PUNPcFdavAnk"
      },
      "outputs": [],
      "source": [
        "import pandas as pd"
      ]
    },
    {
      "cell_type": "markdown",
      "source": [
        "---\n",
        "### **1. Ανάγνωση και αποθήκευση δεδομένων**\n",
        "\n",
        "**1.1 Ανάγνωση αρχείου csv από το github**\n",
        "\n",
        "* Ανοίξτε στον browser σε νέο tab (δεξί κλικ στο link > Open Link in New Tab) τη διεύθυνση https://github.com/datajour-gr/DataJournalism/tree/main/Bachelor%20Lessons%202023/Lesson%203\n",
        "\n",
        "* Πατήστε στο αρχείο countries.csv\n",
        "\n",
        "* Πατήστε το κουμπί Raw\n",
        "\n",
        "* Αντιγράψτε τη διεύθυνση url\n",
        "\n",
        "* Επικολλήστε τη διεύθυνση url μέσα στα **εισαγωγικά** μέσα στην **παρένθεση** στον παρακάτω κώδικα\n",
        "\n",
        "* Τρέξτε το κελί\n"
      ],
      "metadata": {
        "id": "mQndwis3NUPz"
      }
    },
    {
      "cell_type": "code",
      "source": [
        "df = pd.read_csv(\"https://raw.githubusercontent.com/datajour-gr/DataJournalism/main/Bachelor%20Lessons%202023/Lesson%203/countries.csv\")\n",
        "df"
      ],
      "metadata": {
        "colab": {
          "base_uri": "https://localhost:8080/",
          "height": 424
        },
        "id": "FQNz_bXvaTSN",
        "outputId": "92ae6078-4ec9-4ee9-80c6-ae2c20376b73"
      },
      "execution_count": 2,
      "outputs": [
        {
          "output_type": "execute_result",
          "data": {
            "text/plain": [
              "                 country   continent  gdp_per_capita  life_expectancy  \\\n",
              "0            Afghanistan        Asia             663           54.863   \n",
              "1                Albania      Europe            4195           74.200   \n",
              "2                Algeria      Africa            5098           68.963   \n",
              "3                 Angola      Africa            2446           45.234   \n",
              "4    Antigua and Barbuda  N. America           12738           73.544   \n",
              "..                   ...         ...             ...              ...   \n",
              "183              Vietnam        Asia            1577           73.777   \n",
              "184   West Bank and Gaza        Asia            7586           70.929   \n",
              "185          Yemen, Rep.        Asia            2217           60.404   \n",
              "186               Zambia      Africa            1035           41.802   \n",
              "187             Zimbabwe      Africa             745           43.976   \n",
              "\n",
              "     population  \n",
              "0      22856302  \n",
              "1       3071856  \n",
              "2      30533827  \n",
              "3      13926373  \n",
              "4         77656  \n",
              "..          ...  \n",
              "183    78758010  \n",
              "184     3198560  \n",
              "185    17723186  \n",
              "186    10201562  \n",
              "187    12509477  \n",
              "\n",
              "[188 rows x 5 columns]"
            ],
            "text/html": [
              "\n",
              "  <div id=\"df-0a6c4b73-32a8-4fae-8b2a-50898fa00df8\">\n",
              "    <div class=\"colab-df-container\">\n",
              "      <div>\n",
              "<style scoped>\n",
              "    .dataframe tbody tr th:only-of-type {\n",
              "        vertical-align: middle;\n",
              "    }\n",
              "\n",
              "    .dataframe tbody tr th {\n",
              "        vertical-align: top;\n",
              "    }\n",
              "\n",
              "    .dataframe thead th {\n",
              "        text-align: right;\n",
              "    }\n",
              "</style>\n",
              "<table border=\"1\" class=\"dataframe\">\n",
              "  <thead>\n",
              "    <tr style=\"text-align: right;\">\n",
              "      <th></th>\n",
              "      <th>country</th>\n",
              "      <th>continent</th>\n",
              "      <th>gdp_per_capita</th>\n",
              "      <th>life_expectancy</th>\n",
              "      <th>population</th>\n",
              "    </tr>\n",
              "  </thead>\n",
              "  <tbody>\n",
              "    <tr>\n",
              "      <th>0</th>\n",
              "      <td>Afghanistan</td>\n",
              "      <td>Asia</td>\n",
              "      <td>663</td>\n",
              "      <td>54.863</td>\n",
              "      <td>22856302</td>\n",
              "    </tr>\n",
              "    <tr>\n",
              "      <th>1</th>\n",
              "      <td>Albania</td>\n",
              "      <td>Europe</td>\n",
              "      <td>4195</td>\n",
              "      <td>74.200</td>\n",
              "      <td>3071856</td>\n",
              "    </tr>\n",
              "    <tr>\n",
              "      <th>2</th>\n",
              "      <td>Algeria</td>\n",
              "      <td>Africa</td>\n",
              "      <td>5098</td>\n",
              "      <td>68.963</td>\n",
              "      <td>30533827</td>\n",
              "    </tr>\n",
              "    <tr>\n",
              "      <th>3</th>\n",
              "      <td>Angola</td>\n",
              "      <td>Africa</td>\n",
              "      <td>2446</td>\n",
              "      <td>45.234</td>\n",
              "      <td>13926373</td>\n",
              "    </tr>\n",
              "    <tr>\n",
              "      <th>4</th>\n",
              "      <td>Antigua and Barbuda</td>\n",
              "      <td>N. America</td>\n",
              "      <td>12738</td>\n",
              "      <td>73.544</td>\n",
              "      <td>77656</td>\n",
              "    </tr>\n",
              "    <tr>\n",
              "      <th>...</th>\n",
              "      <td>...</td>\n",
              "      <td>...</td>\n",
              "      <td>...</td>\n",
              "      <td>...</td>\n",
              "      <td>...</td>\n",
              "    </tr>\n",
              "    <tr>\n",
              "      <th>183</th>\n",
              "      <td>Vietnam</td>\n",
              "      <td>Asia</td>\n",
              "      <td>1577</td>\n",
              "      <td>73.777</td>\n",
              "      <td>78758010</td>\n",
              "    </tr>\n",
              "    <tr>\n",
              "      <th>184</th>\n",
              "      <td>West Bank and Gaza</td>\n",
              "      <td>Asia</td>\n",
              "      <td>7586</td>\n",
              "      <td>70.929</td>\n",
              "      <td>3198560</td>\n",
              "    </tr>\n",
              "    <tr>\n",
              "      <th>185</th>\n",
              "      <td>Yemen, Rep.</td>\n",
              "      <td>Asia</td>\n",
              "      <td>2217</td>\n",
              "      <td>60.404</td>\n",
              "      <td>17723186</td>\n",
              "    </tr>\n",
              "    <tr>\n",
              "      <th>186</th>\n",
              "      <td>Zambia</td>\n",
              "      <td>Africa</td>\n",
              "      <td>1035</td>\n",
              "      <td>41.802</td>\n",
              "      <td>10201562</td>\n",
              "    </tr>\n",
              "    <tr>\n",
              "      <th>187</th>\n",
              "      <td>Zimbabwe</td>\n",
              "      <td>Africa</td>\n",
              "      <td>745</td>\n",
              "      <td>43.976</td>\n",
              "      <td>12509477</td>\n",
              "    </tr>\n",
              "  </tbody>\n",
              "</table>\n",
              "<p>188 rows × 5 columns</p>\n",
              "</div>\n",
              "      <button class=\"colab-df-convert\" onclick=\"convertToInteractive('df-0a6c4b73-32a8-4fae-8b2a-50898fa00df8')\"\n",
              "              title=\"Convert this dataframe to an interactive table.\"\n",
              "              style=\"display:none;\">\n",
              "        \n",
              "  <svg xmlns=\"http://www.w3.org/2000/svg\" height=\"24px\"viewBox=\"0 0 24 24\"\n",
              "       width=\"24px\">\n",
              "    <path d=\"M0 0h24v24H0V0z\" fill=\"none\"/>\n",
              "    <path d=\"M18.56 5.44l.94 2.06.94-2.06 2.06-.94-2.06-.94-.94-2.06-.94 2.06-2.06.94zm-11 1L8.5 8.5l.94-2.06 2.06-.94-2.06-.94L8.5 2.5l-.94 2.06-2.06.94zm10 10l.94 2.06.94-2.06 2.06-.94-2.06-.94-.94-2.06-.94 2.06-2.06.94z\"/><path d=\"M17.41 7.96l-1.37-1.37c-.4-.4-.92-.59-1.43-.59-.52 0-1.04.2-1.43.59L10.3 9.45l-7.72 7.72c-.78.78-.78 2.05 0 2.83L4 21.41c.39.39.9.59 1.41.59.51 0 1.02-.2 1.41-.59l7.78-7.78 2.81-2.81c.8-.78.8-2.07 0-2.86zM5.41 20L4 18.59l7.72-7.72 1.47 1.35L5.41 20z\"/>\n",
              "  </svg>\n",
              "      </button>\n",
              "      \n",
              "  <style>\n",
              "    .colab-df-container {\n",
              "      display:flex;\n",
              "      flex-wrap:wrap;\n",
              "      gap: 12px;\n",
              "    }\n",
              "\n",
              "    .colab-df-convert {\n",
              "      background-color: #E8F0FE;\n",
              "      border: none;\n",
              "      border-radius: 50%;\n",
              "      cursor: pointer;\n",
              "      display: none;\n",
              "      fill: #1967D2;\n",
              "      height: 32px;\n",
              "      padding: 0 0 0 0;\n",
              "      width: 32px;\n",
              "    }\n",
              "\n",
              "    .colab-df-convert:hover {\n",
              "      background-color: #E2EBFA;\n",
              "      box-shadow: 0px 1px 2px rgba(60, 64, 67, 0.3), 0px 1px 3px 1px rgba(60, 64, 67, 0.15);\n",
              "      fill: #174EA6;\n",
              "    }\n",
              "\n",
              "    [theme=dark] .colab-df-convert {\n",
              "      background-color: #3B4455;\n",
              "      fill: #D2E3FC;\n",
              "    }\n",
              "\n",
              "    [theme=dark] .colab-df-convert:hover {\n",
              "      background-color: #434B5C;\n",
              "      box-shadow: 0px 1px 3px 1px rgba(0, 0, 0, 0.15);\n",
              "      filter: drop-shadow(0px 1px 2px rgba(0, 0, 0, 0.3));\n",
              "      fill: #FFFFFF;\n",
              "    }\n",
              "  </style>\n",
              "\n",
              "      <script>\n",
              "        const buttonEl =\n",
              "          document.querySelector('#df-0a6c4b73-32a8-4fae-8b2a-50898fa00df8 button.colab-df-convert');\n",
              "        buttonEl.style.display =\n",
              "          google.colab.kernel.accessAllowed ? 'block' : 'none';\n",
              "\n",
              "        async function convertToInteractive(key) {\n",
              "          const element = document.querySelector('#df-0a6c4b73-32a8-4fae-8b2a-50898fa00df8');\n",
              "          const dataTable =\n",
              "            await google.colab.kernel.invokeFunction('convertToInteractive',\n",
              "                                                     [key], {});\n",
              "          if (!dataTable) return;\n",
              "\n",
              "          const docLinkHtml = 'Like what you see? Visit the ' +\n",
              "            '<a target=\"_blank\" href=https://colab.research.google.com/notebooks/data_table.ipynb>data table notebook</a>'\n",
              "            + ' to learn more about interactive tables.';\n",
              "          element.innerHTML = '';\n",
              "          dataTable['output_type'] = 'display_data';\n",
              "          await google.colab.output.renderOutput(dataTable, element);\n",
              "          const docLink = document.createElement('div');\n",
              "          docLink.innerHTML = docLinkHtml;\n",
              "          element.appendChild(docLink);\n",
              "        }\n",
              "      </script>\n",
              "    </div>\n",
              "  </div>\n",
              "  "
            ]
          },
          "metadata": {},
          "execution_count": 2
        }
      ]
    },
    {
      "cell_type": "markdown",
      "source": [
        "Ο πίνακας που εμφανίζεται είναι ένα **dataframe** (γι' αυτό και το αποθηκεύσαμε σε μια μεταβλητή με όνομα **df**). \n",
        "\n",
        "* εμφανίζονται οι 5 πρώτες και οι 5 τελευταίες σειρές και ενδιάμεσα υπάρχουν τελίτσες\n",
        "* κάτω από τον πίνακα εμφανίζονται οι διαστάσεις του dataframe (ο αριθμός των σειρών και των στηλών)\n",
        "* ο αριθμός του index αρχίζει από το 0, όπως και στις λίστες"
      ],
      "metadata": {
        "id": "CCxnUtD0d4qo"
      }
    },
    {
      "cell_type": "markdown",
      "source": [
        "**1.2 Αποθήκευση dataframe σαν αρχείο csv στο google drive**\n",
        "\n",
        "* Πατήστε στο εικονίδιο του φακέλου στην αριστερή εργαλειοθήκη στο colab\n",
        "* Ανοίξτε το φάκελο gdrive\n",
        "* Mε mouse over στο όνομα ενός φακέλου εμφανίζονται 3 τελίτσες. Πατώντας τες εμφανίζονται κάποιες λειτουργίες, όπως το New folder και το Copy path\n",
        "* Επιλέξτε το φάκελο μέσα στον οποίο θα σώσετε το csv και αντιγράψτε το url του με τη λειτουργία Copy path\n",
        "* Επικολλήστε το path μέσα στα εισαγωγικά στην παρένθεση στον κώδικα στο παρακάτω code cell\n",
        "* Στο τέλος του path προσθέστε ένα slash (/) και το όνομα που θέλετε να έχει το αρχείο που θα σώσετε. \n",
        "\n",
        "Ο κώδικας θα είναι κάπως έτσι:\n",
        "```\n",
        "df.to_csv(\"/content/gdrive/MyDrive/2023/countries.csv\", index=False)\n",
        "```\n",
        "\n",
        "* Τρέξτε το κελί"
      ],
      "metadata": {
        "id": "ZwiFQ0KpePZl"
      }
    },
    {
      "cell_type": "code",
      "source": [
        "#μου εμφανιζεται το sample_data και αρεκτοι φακελοι αλλα πουθενα το gdrive "
      ],
      "metadata": {
        "id": "LObfH3ZI74UT"
      },
      "execution_count": null,
      "outputs": []
    },
    {
      "cell_type": "code",
      "source": [
        "from google.colab import drive\n",
        "drive.mount('/content/drive')"
      ],
      "metadata": {
        "colab": {
          "base_uri": "https://localhost:8080/"
        },
        "id": "oLYX-3juHVNR",
        "outputId": "3427ffa0-18bf-4804-f337-d1c02d3cde33"
      },
      "execution_count": null,
      "outputs": [
        {
          "output_type": "stream",
          "name": "stdout",
          "text": [
            "Mounted at /content/drive\n"
          ]
        }
      ]
    },
    {
      "cell_type": "markdown",
      "source": [
        "**1.3 Ανάγνωση αρχείου csv από το google drive**\n",
        "\n",
        "* Μέσα στην παρένθεση, μέσα σε εισαγωγικά, επικολλήστε το path του αρχείου csv από το drive σας"
      ],
      "metadata": {
        "id": "gyenxd7LlZov"
      }
    },
    {
      "cell_type": "code",
      "source": [
        "df = pd.read_csv(\"\")\n",
        "df"
      ],
      "metadata": {
        "id": "B3O2kNEc72Gt",
        "colab": {
          "base_uri": "https://localhost:8080/",
          "height": 328
        },
        "outputId": "513c2e13-e06e-47b1-8097-c283504f2f67"
      },
      "execution_count": null,
      "outputs": [
        {
          "output_type": "error",
          "ename": "FileNotFoundError",
          "evalue": "ignored",
          "traceback": [
            "\u001b[0;31m---------------------------------------------------------------------------\u001b[0m",
            "\u001b[0;31mFileNotFoundError\u001b[0m                         Traceback (most recent call last)",
            "\u001b[0;32m<ipython-input-8-1af94da1d6b4>\u001b[0m in \u001b[0;36m<cell line: 1>\u001b[0;34m()\u001b[0m\n\u001b[0;32m----> 1\u001b[0;31m \u001b[0mdf\u001b[0m \u001b[0;34m=\u001b[0m \u001b[0mpd\u001b[0m\u001b[0;34m.\u001b[0m\u001b[0mread_csv\u001b[0m\u001b[0;34m(\u001b[0m\u001b[0;34m\"\"\u001b[0m\u001b[0;34m)\u001b[0m\u001b[0;34m\u001b[0m\u001b[0;34m\u001b[0m\u001b[0m\n\u001b[0m\u001b[1;32m      2\u001b[0m \u001b[0mdf\u001b[0m\u001b[0;34m\u001b[0m\u001b[0;34m\u001b[0m\u001b[0m\n",
            "\u001b[0;32m/usr/local/lib/python3.9/dist-packages/pandas/util/_decorators.py\u001b[0m in \u001b[0;36mwrapper\u001b[0;34m(*args, **kwargs)\u001b[0m\n\u001b[1;32m    209\u001b[0m                 \u001b[0;32melse\u001b[0m\u001b[0;34m:\u001b[0m\u001b[0;34m\u001b[0m\u001b[0;34m\u001b[0m\u001b[0m\n\u001b[1;32m    210\u001b[0m                     \u001b[0mkwargs\u001b[0m\u001b[0;34m[\u001b[0m\u001b[0mnew_arg_name\u001b[0m\u001b[0;34m]\u001b[0m \u001b[0;34m=\u001b[0m \u001b[0mnew_arg_value\u001b[0m\u001b[0;34m\u001b[0m\u001b[0;34m\u001b[0m\u001b[0m\n\u001b[0;32m--> 211\u001b[0;31m             \u001b[0;32mreturn\u001b[0m \u001b[0mfunc\u001b[0m\u001b[0;34m(\u001b[0m\u001b[0;34m*\u001b[0m\u001b[0margs\u001b[0m\u001b[0;34m,\u001b[0m \u001b[0;34m**\u001b[0m\u001b[0mkwargs\u001b[0m\u001b[0;34m)\u001b[0m\u001b[0;34m\u001b[0m\u001b[0;34m\u001b[0m\u001b[0m\n\u001b[0m\u001b[1;32m    212\u001b[0m \u001b[0;34m\u001b[0m\u001b[0m\n\u001b[1;32m    213\u001b[0m         \u001b[0;32mreturn\u001b[0m \u001b[0mcast\u001b[0m\u001b[0;34m(\u001b[0m\u001b[0mF\u001b[0m\u001b[0;34m,\u001b[0m \u001b[0mwrapper\u001b[0m\u001b[0;34m)\u001b[0m\u001b[0;34m\u001b[0m\u001b[0;34m\u001b[0m\u001b[0m\n",
            "\u001b[0;32m/usr/local/lib/python3.9/dist-packages/pandas/util/_decorators.py\u001b[0m in \u001b[0;36mwrapper\u001b[0;34m(*args, **kwargs)\u001b[0m\n\u001b[1;32m    329\u001b[0m                     \u001b[0mstacklevel\u001b[0m\u001b[0;34m=\u001b[0m\u001b[0mfind_stack_level\u001b[0m\u001b[0;34m(\u001b[0m\u001b[0;34m)\u001b[0m\u001b[0;34m,\u001b[0m\u001b[0;34m\u001b[0m\u001b[0;34m\u001b[0m\u001b[0m\n\u001b[1;32m    330\u001b[0m                 )\n\u001b[0;32m--> 331\u001b[0;31m             \u001b[0;32mreturn\u001b[0m \u001b[0mfunc\u001b[0m\u001b[0;34m(\u001b[0m\u001b[0;34m*\u001b[0m\u001b[0margs\u001b[0m\u001b[0;34m,\u001b[0m \u001b[0;34m**\u001b[0m\u001b[0mkwargs\u001b[0m\u001b[0;34m)\u001b[0m\u001b[0;34m\u001b[0m\u001b[0;34m\u001b[0m\u001b[0m\n\u001b[0m\u001b[1;32m    332\u001b[0m \u001b[0;34m\u001b[0m\u001b[0m\n\u001b[1;32m    333\u001b[0m         \u001b[0;31m# error: \"Callable[[VarArg(Any), KwArg(Any)], Any]\" has no\u001b[0m\u001b[0;34m\u001b[0m\u001b[0;34m\u001b[0m\u001b[0m\n",
            "\u001b[0;32m/usr/local/lib/python3.9/dist-packages/pandas/io/parsers/readers.py\u001b[0m in \u001b[0;36mread_csv\u001b[0;34m(filepath_or_buffer, sep, delimiter, header, names, index_col, usecols, squeeze, prefix, mangle_dupe_cols, dtype, engine, converters, true_values, false_values, skipinitialspace, skiprows, skipfooter, nrows, na_values, keep_default_na, na_filter, verbose, skip_blank_lines, parse_dates, infer_datetime_format, keep_date_col, date_parser, dayfirst, cache_dates, iterator, chunksize, compression, thousands, decimal, lineterminator, quotechar, quoting, doublequote, escapechar, comment, encoding, encoding_errors, dialect, error_bad_lines, warn_bad_lines, on_bad_lines, delim_whitespace, low_memory, memory_map, float_precision, storage_options)\u001b[0m\n\u001b[1;32m    948\u001b[0m     \u001b[0mkwds\u001b[0m\u001b[0;34m.\u001b[0m\u001b[0mupdate\u001b[0m\u001b[0;34m(\u001b[0m\u001b[0mkwds_defaults\u001b[0m\u001b[0;34m)\u001b[0m\u001b[0;34m\u001b[0m\u001b[0;34m\u001b[0m\u001b[0m\n\u001b[1;32m    949\u001b[0m \u001b[0;34m\u001b[0m\u001b[0m\n\u001b[0;32m--> 950\u001b[0;31m     \u001b[0;32mreturn\u001b[0m \u001b[0m_read\u001b[0m\u001b[0;34m(\u001b[0m\u001b[0mfilepath_or_buffer\u001b[0m\u001b[0;34m,\u001b[0m \u001b[0mkwds\u001b[0m\u001b[0;34m)\u001b[0m\u001b[0;34m\u001b[0m\u001b[0;34m\u001b[0m\u001b[0m\n\u001b[0m\u001b[1;32m    951\u001b[0m \u001b[0;34m\u001b[0m\u001b[0m\n\u001b[1;32m    952\u001b[0m \u001b[0;34m\u001b[0m\u001b[0m\n",
            "\u001b[0;32m/usr/local/lib/python3.9/dist-packages/pandas/io/parsers/readers.py\u001b[0m in \u001b[0;36m_read\u001b[0;34m(filepath_or_buffer, kwds)\u001b[0m\n\u001b[1;32m    603\u001b[0m \u001b[0;34m\u001b[0m\u001b[0m\n\u001b[1;32m    604\u001b[0m     \u001b[0;31m# Create the parser.\u001b[0m\u001b[0;34m\u001b[0m\u001b[0;34m\u001b[0m\u001b[0m\n\u001b[0;32m--> 605\u001b[0;31m     \u001b[0mparser\u001b[0m \u001b[0;34m=\u001b[0m \u001b[0mTextFileReader\u001b[0m\u001b[0;34m(\u001b[0m\u001b[0mfilepath_or_buffer\u001b[0m\u001b[0;34m,\u001b[0m \u001b[0;34m**\u001b[0m\u001b[0mkwds\u001b[0m\u001b[0;34m)\u001b[0m\u001b[0;34m\u001b[0m\u001b[0;34m\u001b[0m\u001b[0m\n\u001b[0m\u001b[1;32m    606\u001b[0m \u001b[0;34m\u001b[0m\u001b[0m\n\u001b[1;32m    607\u001b[0m     \u001b[0;32mif\u001b[0m \u001b[0mchunksize\u001b[0m \u001b[0;32mor\u001b[0m \u001b[0miterator\u001b[0m\u001b[0;34m:\u001b[0m\u001b[0;34m\u001b[0m\u001b[0;34m\u001b[0m\u001b[0m\n",
            "\u001b[0;32m/usr/local/lib/python3.9/dist-packages/pandas/io/parsers/readers.py\u001b[0m in \u001b[0;36m__init__\u001b[0;34m(self, f, engine, **kwds)\u001b[0m\n\u001b[1;32m   1440\u001b[0m \u001b[0;34m\u001b[0m\u001b[0m\n\u001b[1;32m   1441\u001b[0m         \u001b[0mself\u001b[0m\u001b[0;34m.\u001b[0m\u001b[0mhandles\u001b[0m\u001b[0;34m:\u001b[0m \u001b[0mIOHandles\u001b[0m \u001b[0;34m|\u001b[0m \u001b[0;32mNone\u001b[0m \u001b[0;34m=\u001b[0m \u001b[0;32mNone\u001b[0m\u001b[0;34m\u001b[0m\u001b[0;34m\u001b[0m\u001b[0m\n\u001b[0;32m-> 1442\u001b[0;31m         \u001b[0mself\u001b[0m\u001b[0;34m.\u001b[0m\u001b[0m_engine\u001b[0m \u001b[0;34m=\u001b[0m \u001b[0mself\u001b[0m\u001b[0;34m.\u001b[0m\u001b[0m_make_engine\u001b[0m\u001b[0;34m(\u001b[0m\u001b[0mf\u001b[0m\u001b[0;34m,\u001b[0m \u001b[0mself\u001b[0m\u001b[0;34m.\u001b[0m\u001b[0mengine\u001b[0m\u001b[0;34m)\u001b[0m\u001b[0;34m\u001b[0m\u001b[0;34m\u001b[0m\u001b[0m\n\u001b[0m\u001b[1;32m   1443\u001b[0m \u001b[0;34m\u001b[0m\u001b[0m\n\u001b[1;32m   1444\u001b[0m     \u001b[0;32mdef\u001b[0m \u001b[0mclose\u001b[0m\u001b[0;34m(\u001b[0m\u001b[0mself\u001b[0m\u001b[0;34m)\u001b[0m \u001b[0;34m->\u001b[0m \u001b[0;32mNone\u001b[0m\u001b[0;34m:\u001b[0m\u001b[0;34m\u001b[0m\u001b[0;34m\u001b[0m\u001b[0m\n",
            "\u001b[0;32m/usr/local/lib/python3.9/dist-packages/pandas/io/parsers/readers.py\u001b[0m in \u001b[0;36m_make_engine\u001b[0;34m(self, f, engine)\u001b[0m\n\u001b[1;32m   1733\u001b[0m                 \u001b[0;32mif\u001b[0m \u001b[0;34m\"b\"\u001b[0m \u001b[0;32mnot\u001b[0m \u001b[0;32min\u001b[0m \u001b[0mmode\u001b[0m\u001b[0;34m:\u001b[0m\u001b[0;34m\u001b[0m\u001b[0;34m\u001b[0m\u001b[0m\n\u001b[1;32m   1734\u001b[0m                     \u001b[0mmode\u001b[0m \u001b[0;34m+=\u001b[0m \u001b[0;34m\"b\"\u001b[0m\u001b[0;34m\u001b[0m\u001b[0;34m\u001b[0m\u001b[0m\n\u001b[0;32m-> 1735\u001b[0;31m             self.handles = get_handle(\n\u001b[0m\u001b[1;32m   1736\u001b[0m                 \u001b[0mf\u001b[0m\u001b[0;34m,\u001b[0m\u001b[0;34m\u001b[0m\u001b[0;34m\u001b[0m\u001b[0m\n\u001b[1;32m   1737\u001b[0m                 \u001b[0mmode\u001b[0m\u001b[0;34m,\u001b[0m\u001b[0;34m\u001b[0m\u001b[0;34m\u001b[0m\u001b[0m\n",
            "\u001b[0;32m/usr/local/lib/python3.9/dist-packages/pandas/io/common.py\u001b[0m in \u001b[0;36mget_handle\u001b[0;34m(path_or_buf, mode, encoding, compression, memory_map, is_text, errors, storage_options)\u001b[0m\n\u001b[1;32m    854\u001b[0m         \u001b[0;32mif\u001b[0m \u001b[0mioargs\u001b[0m\u001b[0;34m.\u001b[0m\u001b[0mencoding\u001b[0m \u001b[0;32mand\u001b[0m \u001b[0;34m\"b\"\u001b[0m \u001b[0;32mnot\u001b[0m \u001b[0;32min\u001b[0m \u001b[0mioargs\u001b[0m\u001b[0;34m.\u001b[0m\u001b[0mmode\u001b[0m\u001b[0;34m:\u001b[0m\u001b[0;34m\u001b[0m\u001b[0;34m\u001b[0m\u001b[0m\n\u001b[1;32m    855\u001b[0m             \u001b[0;31m# Encoding\u001b[0m\u001b[0;34m\u001b[0m\u001b[0;34m\u001b[0m\u001b[0m\n\u001b[0;32m--> 856\u001b[0;31m             handle = open(\n\u001b[0m\u001b[1;32m    857\u001b[0m                 \u001b[0mhandle\u001b[0m\u001b[0;34m,\u001b[0m\u001b[0;34m\u001b[0m\u001b[0;34m\u001b[0m\u001b[0m\n\u001b[1;32m    858\u001b[0m                 \u001b[0mioargs\u001b[0m\u001b[0;34m.\u001b[0m\u001b[0mmode\u001b[0m\u001b[0;34m,\u001b[0m\u001b[0;34m\u001b[0m\u001b[0;34m\u001b[0m\u001b[0m\n",
            "\u001b[0;31mFileNotFoundError\u001b[0m: [Errno 2] No such file or directory: ''"
          ]
        }
      ]
    },
    {
      "cell_type": "markdown",
      "source": [
        "---\n",
        "### **2. Επισκόπηση του dataframe**"
      ],
      "metadata": {
        "id": "kcRmQ20XmWqa"
      }
    },
    {
      "cell_type": "markdown",
      "source": [
        "**2.1 head() - πρώτες γραμμές**"
      ],
      "metadata": {
        "id": "YCv3wAeRn-9D"
      }
    },
    {
      "cell_type": "code",
      "source": [
        "# με το head() βλέπουμε τις πρώτες γραμμές\n",
        "# μέσα στην παρένθεση μπορούμε να ορίσουμε πόσες\n",
        "# το default (καμία τιμή) είναι 5\n",
        "df.head()"
      ],
      "metadata": {
        "id": "Wwr17HOMnDcK",
        "colab": {
          "base_uri": "https://localhost:8080/",
          "height": 206
        },
        "outputId": "a53f1f88-c5d8-448f-cc41-7f6bc9c77579"
      },
      "execution_count": null,
      "outputs": [
        {
          "output_type": "execute_result",
          "data": {
            "text/plain": [
              "               country   continent  gdp_per_capita  life_expectancy  \\\n",
              "0          Afghanistan        Asia             663           54.863   \n",
              "1              Albania      Europe            4195           74.200   \n",
              "2              Algeria      Africa            5098           68.963   \n",
              "3               Angola      Africa            2446           45.234   \n",
              "4  Antigua and Barbuda  N. America           12738           73.544   \n",
              "\n",
              "   population  \n",
              "0    22856302  \n",
              "1     3071856  \n",
              "2    30533827  \n",
              "3    13926373  \n",
              "4       77656  "
            ],
            "text/html": [
              "\n",
              "  <div id=\"df-c22b7bb1-3b60-4125-b04e-d4cf5cc97d0b\">\n",
              "    <div class=\"colab-df-container\">\n",
              "      <div>\n",
              "<style scoped>\n",
              "    .dataframe tbody tr th:only-of-type {\n",
              "        vertical-align: middle;\n",
              "    }\n",
              "\n",
              "    .dataframe tbody tr th {\n",
              "        vertical-align: top;\n",
              "    }\n",
              "\n",
              "    .dataframe thead th {\n",
              "        text-align: right;\n",
              "    }\n",
              "</style>\n",
              "<table border=\"1\" class=\"dataframe\">\n",
              "  <thead>\n",
              "    <tr style=\"text-align: right;\">\n",
              "      <th></th>\n",
              "      <th>country</th>\n",
              "      <th>continent</th>\n",
              "      <th>gdp_per_capita</th>\n",
              "      <th>life_expectancy</th>\n",
              "      <th>population</th>\n",
              "    </tr>\n",
              "  </thead>\n",
              "  <tbody>\n",
              "    <tr>\n",
              "      <th>0</th>\n",
              "      <td>Afghanistan</td>\n",
              "      <td>Asia</td>\n",
              "      <td>663</td>\n",
              "      <td>54.863</td>\n",
              "      <td>22856302</td>\n",
              "    </tr>\n",
              "    <tr>\n",
              "      <th>1</th>\n",
              "      <td>Albania</td>\n",
              "      <td>Europe</td>\n",
              "      <td>4195</td>\n",
              "      <td>74.200</td>\n",
              "      <td>3071856</td>\n",
              "    </tr>\n",
              "    <tr>\n",
              "      <th>2</th>\n",
              "      <td>Algeria</td>\n",
              "      <td>Africa</td>\n",
              "      <td>5098</td>\n",
              "      <td>68.963</td>\n",
              "      <td>30533827</td>\n",
              "    </tr>\n",
              "    <tr>\n",
              "      <th>3</th>\n",
              "      <td>Angola</td>\n",
              "      <td>Africa</td>\n",
              "      <td>2446</td>\n",
              "      <td>45.234</td>\n",
              "      <td>13926373</td>\n",
              "    </tr>\n",
              "    <tr>\n",
              "      <th>4</th>\n",
              "      <td>Antigua and Barbuda</td>\n",
              "      <td>N. America</td>\n",
              "      <td>12738</td>\n",
              "      <td>73.544</td>\n",
              "      <td>77656</td>\n",
              "    </tr>\n",
              "  </tbody>\n",
              "</table>\n",
              "</div>\n",
              "      <button class=\"colab-df-convert\" onclick=\"convertToInteractive('df-c22b7bb1-3b60-4125-b04e-d4cf5cc97d0b')\"\n",
              "              title=\"Convert this dataframe to an interactive table.\"\n",
              "              style=\"display:none;\">\n",
              "        \n",
              "  <svg xmlns=\"http://www.w3.org/2000/svg\" height=\"24px\"viewBox=\"0 0 24 24\"\n",
              "       width=\"24px\">\n",
              "    <path d=\"M0 0h24v24H0V0z\" fill=\"none\"/>\n",
              "    <path d=\"M18.56 5.44l.94 2.06.94-2.06 2.06-.94-2.06-.94-.94-2.06-.94 2.06-2.06.94zm-11 1L8.5 8.5l.94-2.06 2.06-.94-2.06-.94L8.5 2.5l-.94 2.06-2.06.94zm10 10l.94 2.06.94-2.06 2.06-.94-2.06-.94-.94-2.06-.94 2.06-2.06.94z\"/><path d=\"M17.41 7.96l-1.37-1.37c-.4-.4-.92-.59-1.43-.59-.52 0-1.04.2-1.43.59L10.3 9.45l-7.72 7.72c-.78.78-.78 2.05 0 2.83L4 21.41c.39.39.9.59 1.41.59.51 0 1.02-.2 1.41-.59l7.78-7.78 2.81-2.81c.8-.78.8-2.07 0-2.86zM5.41 20L4 18.59l7.72-7.72 1.47 1.35L5.41 20z\"/>\n",
              "  </svg>\n",
              "      </button>\n",
              "      \n",
              "  <style>\n",
              "    .colab-df-container {\n",
              "      display:flex;\n",
              "      flex-wrap:wrap;\n",
              "      gap: 12px;\n",
              "    }\n",
              "\n",
              "    .colab-df-convert {\n",
              "      background-color: #E8F0FE;\n",
              "      border: none;\n",
              "      border-radius: 50%;\n",
              "      cursor: pointer;\n",
              "      display: none;\n",
              "      fill: #1967D2;\n",
              "      height: 32px;\n",
              "      padding: 0 0 0 0;\n",
              "      width: 32px;\n",
              "    }\n",
              "\n",
              "    .colab-df-convert:hover {\n",
              "      background-color: #E2EBFA;\n",
              "      box-shadow: 0px 1px 2px rgba(60, 64, 67, 0.3), 0px 1px 3px 1px rgba(60, 64, 67, 0.15);\n",
              "      fill: #174EA6;\n",
              "    }\n",
              "\n",
              "    [theme=dark] .colab-df-convert {\n",
              "      background-color: #3B4455;\n",
              "      fill: #D2E3FC;\n",
              "    }\n",
              "\n",
              "    [theme=dark] .colab-df-convert:hover {\n",
              "      background-color: #434B5C;\n",
              "      box-shadow: 0px 1px 3px 1px rgba(0, 0, 0, 0.15);\n",
              "      filter: drop-shadow(0px 1px 2px rgba(0, 0, 0, 0.3));\n",
              "      fill: #FFFFFF;\n",
              "    }\n",
              "  </style>\n",
              "\n",
              "      <script>\n",
              "        const buttonEl =\n",
              "          document.querySelector('#df-c22b7bb1-3b60-4125-b04e-d4cf5cc97d0b button.colab-df-convert');\n",
              "        buttonEl.style.display =\n",
              "          google.colab.kernel.accessAllowed ? 'block' : 'none';\n",
              "\n",
              "        async function convertToInteractive(key) {\n",
              "          const element = document.querySelector('#df-c22b7bb1-3b60-4125-b04e-d4cf5cc97d0b');\n",
              "          const dataTable =\n",
              "            await google.colab.kernel.invokeFunction('convertToInteractive',\n",
              "                                                     [key], {});\n",
              "          if (!dataTable) return;\n",
              "\n",
              "          const docLinkHtml = 'Like what you see? Visit the ' +\n",
              "            '<a target=\"_blank\" href=https://colab.research.google.com/notebooks/data_table.ipynb>data table notebook</a>'\n",
              "            + ' to learn more about interactive tables.';\n",
              "          element.innerHTML = '';\n",
              "          dataTable['output_type'] = 'display_data';\n",
              "          await google.colab.output.renderOutput(dataTable, element);\n",
              "          const docLink = document.createElement('div');\n",
              "          docLink.innerHTML = docLinkHtml;\n",
              "          element.appendChild(docLink);\n",
              "        }\n",
              "      </script>\n",
              "    </div>\n",
              "  </div>\n",
              "  "
            ]
          },
          "metadata": {},
          "execution_count": 20
        }
      ]
    },
    {
      "cell_type": "markdown",
      "source": [
        "**2.2 tail() - τελευταίες γραμμές**"
      ],
      "metadata": {
        "id": "ssqvDTqZoLOO"
      }
    },
    {
      "cell_type": "code",
      "source": [
        "# με το tail() βλέπουμε τις τελευταίες γραμμές\n",
        "# βάζοντας τον αριθμό 3 μέσα στην παρένθεση, ζητάμε να μας δείξει τις 3 τελευταίες\n",
        "df.tail(3)"
      ],
      "metadata": {
        "id": "7vbxXFRknskw",
        "colab": {
          "base_uri": "https://localhost:8080/",
          "height": 143
        },
        "outputId": "bca9141d-1c17-4e52-b64d-c27da9baabe0"
      },
      "execution_count": null,
      "outputs": [
        {
          "output_type": "execute_result",
          "data": {
            "text/plain": [
              "         country continent  gdp_per_capita  life_expectancy  population\n",
              "185  Yemen, Rep.      Asia            2217           60.404    17723186\n",
              "186       Zambia    Africa            1035           41.802    10201562\n",
              "187     Zimbabwe    Africa             745           43.976    12509477"
            ],
            "text/html": [
              "\n",
              "  <div id=\"df-e05745c2-99bf-426e-827c-105a19501ec1\">\n",
              "    <div class=\"colab-df-container\">\n",
              "      <div>\n",
              "<style scoped>\n",
              "    .dataframe tbody tr th:only-of-type {\n",
              "        vertical-align: middle;\n",
              "    }\n",
              "\n",
              "    .dataframe tbody tr th {\n",
              "        vertical-align: top;\n",
              "    }\n",
              "\n",
              "    .dataframe thead th {\n",
              "        text-align: right;\n",
              "    }\n",
              "</style>\n",
              "<table border=\"1\" class=\"dataframe\">\n",
              "  <thead>\n",
              "    <tr style=\"text-align: right;\">\n",
              "      <th></th>\n",
              "      <th>country</th>\n",
              "      <th>continent</th>\n",
              "      <th>gdp_per_capita</th>\n",
              "      <th>life_expectancy</th>\n",
              "      <th>population</th>\n",
              "    </tr>\n",
              "  </thead>\n",
              "  <tbody>\n",
              "    <tr>\n",
              "      <th>185</th>\n",
              "      <td>Yemen, Rep.</td>\n",
              "      <td>Asia</td>\n",
              "      <td>2217</td>\n",
              "      <td>60.404</td>\n",
              "      <td>17723186</td>\n",
              "    </tr>\n",
              "    <tr>\n",
              "      <th>186</th>\n",
              "      <td>Zambia</td>\n",
              "      <td>Africa</td>\n",
              "      <td>1035</td>\n",
              "      <td>41.802</td>\n",
              "      <td>10201562</td>\n",
              "    </tr>\n",
              "    <tr>\n",
              "      <th>187</th>\n",
              "      <td>Zimbabwe</td>\n",
              "      <td>Africa</td>\n",
              "      <td>745</td>\n",
              "      <td>43.976</td>\n",
              "      <td>12509477</td>\n",
              "    </tr>\n",
              "  </tbody>\n",
              "</table>\n",
              "</div>\n",
              "      <button class=\"colab-df-convert\" onclick=\"convertToInteractive('df-e05745c2-99bf-426e-827c-105a19501ec1')\"\n",
              "              title=\"Convert this dataframe to an interactive table.\"\n",
              "              style=\"display:none;\">\n",
              "        \n",
              "  <svg xmlns=\"http://www.w3.org/2000/svg\" height=\"24px\"viewBox=\"0 0 24 24\"\n",
              "       width=\"24px\">\n",
              "    <path d=\"M0 0h24v24H0V0z\" fill=\"none\"/>\n",
              "    <path d=\"M18.56 5.44l.94 2.06.94-2.06 2.06-.94-2.06-.94-.94-2.06-.94 2.06-2.06.94zm-11 1L8.5 8.5l.94-2.06 2.06-.94-2.06-.94L8.5 2.5l-.94 2.06-2.06.94zm10 10l.94 2.06.94-2.06 2.06-.94-2.06-.94-.94-2.06-.94 2.06-2.06.94z\"/><path d=\"M17.41 7.96l-1.37-1.37c-.4-.4-.92-.59-1.43-.59-.52 0-1.04.2-1.43.59L10.3 9.45l-7.72 7.72c-.78.78-.78 2.05 0 2.83L4 21.41c.39.39.9.59 1.41.59.51 0 1.02-.2 1.41-.59l7.78-7.78 2.81-2.81c.8-.78.8-2.07 0-2.86zM5.41 20L4 18.59l7.72-7.72 1.47 1.35L5.41 20z\"/>\n",
              "  </svg>\n",
              "      </button>\n",
              "      \n",
              "  <style>\n",
              "    .colab-df-container {\n",
              "      display:flex;\n",
              "      flex-wrap:wrap;\n",
              "      gap: 12px;\n",
              "    }\n",
              "\n",
              "    .colab-df-convert {\n",
              "      background-color: #E8F0FE;\n",
              "      border: none;\n",
              "      border-radius: 50%;\n",
              "      cursor: pointer;\n",
              "      display: none;\n",
              "      fill: #1967D2;\n",
              "      height: 32px;\n",
              "      padding: 0 0 0 0;\n",
              "      width: 32px;\n",
              "    }\n",
              "\n",
              "    .colab-df-convert:hover {\n",
              "      background-color: #E2EBFA;\n",
              "      box-shadow: 0px 1px 2px rgba(60, 64, 67, 0.3), 0px 1px 3px 1px rgba(60, 64, 67, 0.15);\n",
              "      fill: #174EA6;\n",
              "    }\n",
              "\n",
              "    [theme=dark] .colab-df-convert {\n",
              "      background-color: #3B4455;\n",
              "      fill: #D2E3FC;\n",
              "    }\n",
              "\n",
              "    [theme=dark] .colab-df-convert:hover {\n",
              "      background-color: #434B5C;\n",
              "      box-shadow: 0px 1px 3px 1px rgba(0, 0, 0, 0.15);\n",
              "      filter: drop-shadow(0px 1px 2px rgba(0, 0, 0, 0.3));\n",
              "      fill: #FFFFFF;\n",
              "    }\n",
              "  </style>\n",
              "\n",
              "      <script>\n",
              "        const buttonEl =\n",
              "          document.querySelector('#df-e05745c2-99bf-426e-827c-105a19501ec1 button.colab-df-convert');\n",
              "        buttonEl.style.display =\n",
              "          google.colab.kernel.accessAllowed ? 'block' : 'none';\n",
              "\n",
              "        async function convertToInteractive(key) {\n",
              "          const element = document.querySelector('#df-e05745c2-99bf-426e-827c-105a19501ec1');\n",
              "          const dataTable =\n",
              "            await google.colab.kernel.invokeFunction('convertToInteractive',\n",
              "                                                     [key], {});\n",
              "          if (!dataTable) return;\n",
              "\n",
              "          const docLinkHtml = 'Like what you see? Visit the ' +\n",
              "            '<a target=\"_blank\" href=https://colab.research.google.com/notebooks/data_table.ipynb>data table notebook</a>'\n",
              "            + ' to learn more about interactive tables.';\n",
              "          element.innerHTML = '';\n",
              "          dataTable['output_type'] = 'display_data';\n",
              "          await google.colab.output.renderOutput(dataTable, element);\n",
              "          const docLink = document.createElement('div');\n",
              "          docLink.innerHTML = docLinkHtml;\n",
              "          element.appendChild(docLink);\n",
              "        }\n",
              "      </script>\n",
              "    </div>\n",
              "  </div>\n",
              "  "
            ]
          },
          "metadata": {},
          "execution_count": 21
        }
      ]
    },
    {
      "cell_type": "markdown",
      "source": [
        "**2.3 shape - διαστάσεις του dataframe (αριθμός σειρών, αριθμός στηλών)**"
      ],
      "metadata": {
        "id": "OI3r1BgAB0-2"
      }
    },
    {
      "cell_type": "code",
      "source": [
        "df.shape"
      ],
      "metadata": {
        "id": "4zUiVZpCCClh",
        "colab": {
          "base_uri": "https://localhost:8080/"
        },
        "outputId": "17b3bd19-4e60-44bc-a4ab-966d3f9636a7"
      },
      "execution_count": null,
      "outputs": [
        {
          "output_type": "execute_result",
          "data": {
            "text/plain": [
              "(188, 5)"
            ]
          },
          "metadata": {},
          "execution_count": 22
        }
      ]
    },
    {
      "cell_type": "markdown",
      "source": [
        "---\n",
        "**Άσκηση 1**: Πώς θα μπορούσαμε να γράψουμε τον κώδικα σε ένα κελί ώστε να μας δώσει στο output ταυτόχρονα το shape και το head?\n"
      ],
      "metadata": {
        "id": "MNovo4FH3u7u"
      }
    },
    {
      "cell_type": "code",
      "source": [
        "df.shape\n",
        "df.head()"
      ],
      "metadata": {
        "id": "Zr6nYyJw3gxV",
        "colab": {
          "base_uri": "https://localhost:8080/",
          "height": 206
        },
        "outputId": "b8069310-899f-4fa1-9a02-fc46a35c06dc"
      },
      "execution_count": null,
      "outputs": [
        {
          "output_type": "execute_result",
          "data": {
            "text/plain": [
              "               country   continent  gdp_per_capita  life_expectancy  \\\n",
              "0          Afghanistan        Asia             663           54.863   \n",
              "1              Albania      Europe            4195           74.200   \n",
              "2              Algeria      Africa            5098           68.963   \n",
              "3               Angola      Africa            2446           45.234   \n",
              "4  Antigua and Barbuda  N. America           12738           73.544   \n",
              "\n",
              "   population  \n",
              "0    22856302  \n",
              "1     3071856  \n",
              "2    30533827  \n",
              "3    13926373  \n",
              "4       77656  "
            ],
            "text/html": [
              "\n",
              "  <div id=\"df-cb045e7d-48c1-4353-b65f-d627c0a96f9c\">\n",
              "    <div class=\"colab-df-container\">\n",
              "      <div>\n",
              "<style scoped>\n",
              "    .dataframe tbody tr th:only-of-type {\n",
              "        vertical-align: middle;\n",
              "    }\n",
              "\n",
              "    .dataframe tbody tr th {\n",
              "        vertical-align: top;\n",
              "    }\n",
              "\n",
              "    .dataframe thead th {\n",
              "        text-align: right;\n",
              "    }\n",
              "</style>\n",
              "<table border=\"1\" class=\"dataframe\">\n",
              "  <thead>\n",
              "    <tr style=\"text-align: right;\">\n",
              "      <th></th>\n",
              "      <th>country</th>\n",
              "      <th>continent</th>\n",
              "      <th>gdp_per_capita</th>\n",
              "      <th>life_expectancy</th>\n",
              "      <th>population</th>\n",
              "    </tr>\n",
              "  </thead>\n",
              "  <tbody>\n",
              "    <tr>\n",
              "      <th>0</th>\n",
              "      <td>Afghanistan</td>\n",
              "      <td>Asia</td>\n",
              "      <td>663</td>\n",
              "      <td>54.863</td>\n",
              "      <td>22856302</td>\n",
              "    </tr>\n",
              "    <tr>\n",
              "      <th>1</th>\n",
              "      <td>Albania</td>\n",
              "      <td>Europe</td>\n",
              "      <td>4195</td>\n",
              "      <td>74.200</td>\n",
              "      <td>3071856</td>\n",
              "    </tr>\n",
              "    <tr>\n",
              "      <th>2</th>\n",
              "      <td>Algeria</td>\n",
              "      <td>Africa</td>\n",
              "      <td>5098</td>\n",
              "      <td>68.963</td>\n",
              "      <td>30533827</td>\n",
              "    </tr>\n",
              "    <tr>\n",
              "      <th>3</th>\n",
              "      <td>Angola</td>\n",
              "      <td>Africa</td>\n",
              "      <td>2446</td>\n",
              "      <td>45.234</td>\n",
              "      <td>13926373</td>\n",
              "    </tr>\n",
              "    <tr>\n",
              "      <th>4</th>\n",
              "      <td>Antigua and Barbuda</td>\n",
              "      <td>N. America</td>\n",
              "      <td>12738</td>\n",
              "      <td>73.544</td>\n",
              "      <td>77656</td>\n",
              "    </tr>\n",
              "  </tbody>\n",
              "</table>\n",
              "</div>\n",
              "      <button class=\"colab-df-convert\" onclick=\"convertToInteractive('df-cb045e7d-48c1-4353-b65f-d627c0a96f9c')\"\n",
              "              title=\"Convert this dataframe to an interactive table.\"\n",
              "              style=\"display:none;\">\n",
              "        \n",
              "  <svg xmlns=\"http://www.w3.org/2000/svg\" height=\"24px\"viewBox=\"0 0 24 24\"\n",
              "       width=\"24px\">\n",
              "    <path d=\"M0 0h24v24H0V0z\" fill=\"none\"/>\n",
              "    <path d=\"M18.56 5.44l.94 2.06.94-2.06 2.06-.94-2.06-.94-.94-2.06-.94 2.06-2.06.94zm-11 1L8.5 8.5l.94-2.06 2.06-.94-2.06-.94L8.5 2.5l-.94 2.06-2.06.94zm10 10l.94 2.06.94-2.06 2.06-.94-2.06-.94-.94-2.06-.94 2.06-2.06.94z\"/><path d=\"M17.41 7.96l-1.37-1.37c-.4-.4-.92-.59-1.43-.59-.52 0-1.04.2-1.43.59L10.3 9.45l-7.72 7.72c-.78.78-.78 2.05 0 2.83L4 21.41c.39.39.9.59 1.41.59.51 0 1.02-.2 1.41-.59l7.78-7.78 2.81-2.81c.8-.78.8-2.07 0-2.86zM5.41 20L4 18.59l7.72-7.72 1.47 1.35L5.41 20z\"/>\n",
              "  </svg>\n",
              "      </button>\n",
              "      \n",
              "  <style>\n",
              "    .colab-df-container {\n",
              "      display:flex;\n",
              "      flex-wrap:wrap;\n",
              "      gap: 12px;\n",
              "    }\n",
              "\n",
              "    .colab-df-convert {\n",
              "      background-color: #E8F0FE;\n",
              "      border: none;\n",
              "      border-radius: 50%;\n",
              "      cursor: pointer;\n",
              "      display: none;\n",
              "      fill: #1967D2;\n",
              "      height: 32px;\n",
              "      padding: 0 0 0 0;\n",
              "      width: 32px;\n",
              "    }\n",
              "\n",
              "    .colab-df-convert:hover {\n",
              "      background-color: #E2EBFA;\n",
              "      box-shadow: 0px 1px 2px rgba(60, 64, 67, 0.3), 0px 1px 3px 1px rgba(60, 64, 67, 0.15);\n",
              "      fill: #174EA6;\n",
              "    }\n",
              "\n",
              "    [theme=dark] .colab-df-convert {\n",
              "      background-color: #3B4455;\n",
              "      fill: #D2E3FC;\n",
              "    }\n",
              "\n",
              "    [theme=dark] .colab-df-convert:hover {\n",
              "      background-color: #434B5C;\n",
              "      box-shadow: 0px 1px 3px 1px rgba(0, 0, 0, 0.15);\n",
              "      filter: drop-shadow(0px 1px 2px rgba(0, 0, 0, 0.3));\n",
              "      fill: #FFFFFF;\n",
              "    }\n",
              "  </style>\n",
              "\n",
              "      <script>\n",
              "        const buttonEl =\n",
              "          document.querySelector('#df-cb045e7d-48c1-4353-b65f-d627c0a96f9c button.colab-df-convert');\n",
              "        buttonEl.style.display =\n",
              "          google.colab.kernel.accessAllowed ? 'block' : 'none';\n",
              "\n",
              "        async function convertToInteractive(key) {\n",
              "          const element = document.querySelector('#df-cb045e7d-48c1-4353-b65f-d627c0a96f9c');\n",
              "          const dataTable =\n",
              "            await google.colab.kernel.invokeFunction('convertToInteractive',\n",
              "                                                     [key], {});\n",
              "          if (!dataTable) return;\n",
              "\n",
              "          const docLinkHtml = 'Like what you see? Visit the ' +\n",
              "            '<a target=\"_blank\" href=https://colab.research.google.com/notebooks/data_table.ipynb>data table notebook</a>'\n",
              "            + ' to learn more about interactive tables.';\n",
              "          element.innerHTML = '';\n",
              "          dataTable['output_type'] = 'display_data';\n",
              "          await google.colab.output.renderOutput(dataTable, element);\n",
              "          const docLink = document.createElement('div');\n",
              "          docLink.innerHTML = docLinkHtml;\n",
              "          element.appendChild(docLink);\n",
              "        }\n",
              "      </script>\n",
              "    </div>\n",
              "  </div>\n",
              "  "
            ]
          },
          "metadata": {},
          "execution_count": 23
        }
      ]
    },
    {
      "cell_type": "markdown",
      "source": [
        "---"
      ],
      "metadata": {
        "id": "Z6qCivWU45r-"
      }
    },
    {
      "cell_type": "markdown",
      "source": [
        "**2.4 columns - ονόματα στηλών**"
      ],
      "metadata": {
        "id": "LfgZBeyMq-Z3"
      }
    },
    {
      "cell_type": "code",
      "source": [
        "df.columns"
      ],
      "metadata": {
        "id": "JPErSLH2q9Mh",
        "colab": {
          "base_uri": "https://localhost:8080/"
        },
        "outputId": "ef7e244b-d002-44e1-dbab-94da8eb76430"
      },
      "execution_count": null,
      "outputs": [
        {
          "output_type": "execute_result",
          "data": {
            "text/plain": [
              "Index(['country', 'continent', 'gdp_per_capita', 'life_expectancy',\n",
              "       'population'],\n",
              "      dtype='object')"
            ]
          },
          "metadata": {},
          "execution_count": 12
        }
      ]
    },
    {
      "cell_type": "markdown",
      "source": [
        "**2.5 dtypes - τύπος δεδομένων σε κάθε στήλη**"
      ],
      "metadata": {
        "id": "GenfqiHNrjAJ"
      }
    },
    {
      "cell_type": "code",
      "source": [
        "df.dtypes \n",
        "\n",
        "# object σημαίνει συμβολοσειρά (αλλά ΔΕΝ είναι string)"
      ],
      "metadata": {
        "id": "jE3YuCgMrwbo",
        "colab": {
          "base_uri": "https://localhost:8080/"
        },
        "outputId": "98a71ce5-b88a-4840-8940-9a061b69d6f9"
      },
      "execution_count": null,
      "outputs": [
        {
          "output_type": "execute_result",
          "data": {
            "text/plain": [
              "country             object\n",
              "continent           object\n",
              "gdp_per_capita       int64\n",
              "life_expectancy    float64\n",
              "population           int64\n",
              "dtype: object"
            ]
          },
          "metadata": {},
          "execution_count": 13
        }
      ]
    },
    {
      "cell_type": "markdown",
      "source": [
        "**2.6 describe() - στατιστικά μεγέθη** (για στήλες με αριθμούς - όλες οι στήλες)"
      ],
      "metadata": {
        "id": "ATGXo7blsoaB"
      }
    },
    {
      "cell_type": "code",
      "source": [
        "df.describe()"
      ],
      "metadata": {
        "id": "x5tlXbGJsbrt",
        "colab": {
          "base_uri": "https://localhost:8080/",
          "height": 300
        },
        "outputId": "fd65a23b-702d-4124-adae-e551636256f3"
      },
      "execution_count": null,
      "outputs": [
        {
          "output_type": "execute_result",
          "data": {
            "text/plain": [
              "       gdp_per_capita  life_expectancy    population\n",
              "count      188.000000       188.000000  1.880000e+02\n",
              "mean      9977.558511        66.501536  3.252682e+07\n",
              "std      11953.393378        10.298458  1.237952e+08\n",
              "min        292.000000        38.123000  5.619600e+04\n",
              "25%       1732.500000        59.663750  2.003170e+06\n",
              "50%       5290.500000        70.041500  6.888970e+06\n",
              "75%      12701.250000        74.134500  2.218517e+07\n",
              "max      63924.000000        81.350000  1.269117e+09"
            ],
            "text/html": [
              "\n",
              "  <div id=\"df-0bf455d9-113a-43b7-b116-91223c3a173b\">\n",
              "    <div class=\"colab-df-container\">\n",
              "      <div>\n",
              "<style scoped>\n",
              "    .dataframe tbody tr th:only-of-type {\n",
              "        vertical-align: middle;\n",
              "    }\n",
              "\n",
              "    .dataframe tbody tr th {\n",
              "        vertical-align: top;\n",
              "    }\n",
              "\n",
              "    .dataframe thead th {\n",
              "        text-align: right;\n",
              "    }\n",
              "</style>\n",
              "<table border=\"1\" class=\"dataframe\">\n",
              "  <thead>\n",
              "    <tr style=\"text-align: right;\">\n",
              "      <th></th>\n",
              "      <th>gdp_per_capita</th>\n",
              "      <th>life_expectancy</th>\n",
              "      <th>population</th>\n",
              "    </tr>\n",
              "  </thead>\n",
              "  <tbody>\n",
              "    <tr>\n",
              "      <th>count</th>\n",
              "      <td>188.000000</td>\n",
              "      <td>188.000000</td>\n",
              "      <td>1.880000e+02</td>\n",
              "    </tr>\n",
              "    <tr>\n",
              "      <th>mean</th>\n",
              "      <td>9977.558511</td>\n",
              "      <td>66.501536</td>\n",
              "      <td>3.252682e+07</td>\n",
              "    </tr>\n",
              "    <tr>\n",
              "      <th>std</th>\n",
              "      <td>11953.393378</td>\n",
              "      <td>10.298458</td>\n",
              "      <td>1.237952e+08</td>\n",
              "    </tr>\n",
              "    <tr>\n",
              "      <th>min</th>\n",
              "      <td>292.000000</td>\n",
              "      <td>38.123000</td>\n",
              "      <td>5.619600e+04</td>\n",
              "    </tr>\n",
              "    <tr>\n",
              "      <th>25%</th>\n",
              "      <td>1732.500000</td>\n",
              "      <td>59.663750</td>\n",
              "      <td>2.003170e+06</td>\n",
              "    </tr>\n",
              "    <tr>\n",
              "      <th>50%</th>\n",
              "      <td>5290.500000</td>\n",
              "      <td>70.041500</td>\n",
              "      <td>6.888970e+06</td>\n",
              "    </tr>\n",
              "    <tr>\n",
              "      <th>75%</th>\n",
              "      <td>12701.250000</td>\n",
              "      <td>74.134500</td>\n",
              "      <td>2.218517e+07</td>\n",
              "    </tr>\n",
              "    <tr>\n",
              "      <th>max</th>\n",
              "      <td>63924.000000</td>\n",
              "      <td>81.350000</td>\n",
              "      <td>1.269117e+09</td>\n",
              "    </tr>\n",
              "  </tbody>\n",
              "</table>\n",
              "</div>\n",
              "      <button class=\"colab-df-convert\" onclick=\"convertToInteractive('df-0bf455d9-113a-43b7-b116-91223c3a173b')\"\n",
              "              title=\"Convert this dataframe to an interactive table.\"\n",
              "              style=\"display:none;\">\n",
              "        \n",
              "  <svg xmlns=\"http://www.w3.org/2000/svg\" height=\"24px\"viewBox=\"0 0 24 24\"\n",
              "       width=\"24px\">\n",
              "    <path d=\"M0 0h24v24H0V0z\" fill=\"none\"/>\n",
              "    <path d=\"M18.56 5.44l.94 2.06.94-2.06 2.06-.94-2.06-.94-.94-2.06-.94 2.06-2.06.94zm-11 1L8.5 8.5l.94-2.06 2.06-.94-2.06-.94L8.5 2.5l-.94 2.06-2.06.94zm10 10l.94 2.06.94-2.06 2.06-.94-2.06-.94-.94-2.06-.94 2.06-2.06.94z\"/><path d=\"M17.41 7.96l-1.37-1.37c-.4-.4-.92-.59-1.43-.59-.52 0-1.04.2-1.43.59L10.3 9.45l-7.72 7.72c-.78.78-.78 2.05 0 2.83L4 21.41c.39.39.9.59 1.41.59.51 0 1.02-.2 1.41-.59l7.78-7.78 2.81-2.81c.8-.78.8-2.07 0-2.86zM5.41 20L4 18.59l7.72-7.72 1.47 1.35L5.41 20z\"/>\n",
              "  </svg>\n",
              "      </button>\n",
              "      \n",
              "  <style>\n",
              "    .colab-df-container {\n",
              "      display:flex;\n",
              "      flex-wrap:wrap;\n",
              "      gap: 12px;\n",
              "    }\n",
              "\n",
              "    .colab-df-convert {\n",
              "      background-color: #E8F0FE;\n",
              "      border: none;\n",
              "      border-radius: 50%;\n",
              "      cursor: pointer;\n",
              "      display: none;\n",
              "      fill: #1967D2;\n",
              "      height: 32px;\n",
              "      padding: 0 0 0 0;\n",
              "      width: 32px;\n",
              "    }\n",
              "\n",
              "    .colab-df-convert:hover {\n",
              "      background-color: #E2EBFA;\n",
              "      box-shadow: 0px 1px 2px rgba(60, 64, 67, 0.3), 0px 1px 3px 1px rgba(60, 64, 67, 0.15);\n",
              "      fill: #174EA6;\n",
              "    }\n",
              "\n",
              "    [theme=dark] .colab-df-convert {\n",
              "      background-color: #3B4455;\n",
              "      fill: #D2E3FC;\n",
              "    }\n",
              "\n",
              "    [theme=dark] .colab-df-convert:hover {\n",
              "      background-color: #434B5C;\n",
              "      box-shadow: 0px 1px 3px 1px rgba(0, 0, 0, 0.15);\n",
              "      filter: drop-shadow(0px 1px 2px rgba(0, 0, 0, 0.3));\n",
              "      fill: #FFFFFF;\n",
              "    }\n",
              "  </style>\n",
              "\n",
              "      <script>\n",
              "        const buttonEl =\n",
              "          document.querySelector('#df-0bf455d9-113a-43b7-b116-91223c3a173b button.colab-df-convert');\n",
              "        buttonEl.style.display =\n",
              "          google.colab.kernel.accessAllowed ? 'block' : 'none';\n",
              "\n",
              "        async function convertToInteractive(key) {\n",
              "          const element = document.querySelector('#df-0bf455d9-113a-43b7-b116-91223c3a173b');\n",
              "          const dataTable =\n",
              "            await google.colab.kernel.invokeFunction('convertToInteractive',\n",
              "                                                     [key], {});\n",
              "          if (!dataTable) return;\n",
              "\n",
              "          const docLinkHtml = 'Like what you see? Visit the ' +\n",
              "            '<a target=\"_blank\" href=https://colab.research.google.com/notebooks/data_table.ipynb>data table notebook</a>'\n",
              "            + ' to learn more about interactive tables.';\n",
              "          element.innerHTML = '';\n",
              "          dataTable['output_type'] = 'display_data';\n",
              "          await google.colab.output.renderOutput(dataTable, element);\n",
              "          const docLink = document.createElement('div');\n",
              "          docLink.innerHTML = docLinkHtml;\n",
              "          element.appendChild(docLink);\n",
              "        }\n",
              "      </script>\n",
              "    </div>\n",
              "  </div>\n",
              "  "
            ]
          },
          "metadata": {},
          "execution_count": 24
        }
      ]
    },
    {
      "cell_type": "code",
      "source": [
        "# στρογγυλοποίηση σε 2 δεκαδικά\n",
        "df.describe().round(2)"
      ],
      "metadata": {
        "id": "ph5TfIaq5rcf",
        "colab": {
          "base_uri": "https://localhost:8080/",
          "height": 300
        },
        "outputId": "b9ac6d05-d704-4dd8-cbfb-5d33ec797e25"
      },
      "execution_count": null,
      "outputs": [
        {
          "output_type": "execute_result",
          "data": {
            "text/plain": [
              "       gdp_per_capita  life_expectancy    population\n",
              "count          188.00           188.00  1.880000e+02\n",
              "mean          9977.56            66.50  3.252682e+07\n",
              "std          11953.39            10.30  1.237952e+08\n",
              "min            292.00            38.12  5.619600e+04\n",
              "25%           1732.50            59.66  2.003170e+06\n",
              "50%           5290.50            70.04  6.888970e+06\n",
              "75%          12701.25            74.13  2.218517e+07\n",
              "max          63924.00            81.35  1.269117e+09"
            ],
            "text/html": [
              "\n",
              "  <div id=\"df-4ac11e00-f579-4d97-89dd-f138138f2c04\">\n",
              "    <div class=\"colab-df-container\">\n",
              "      <div>\n",
              "<style scoped>\n",
              "    .dataframe tbody tr th:only-of-type {\n",
              "        vertical-align: middle;\n",
              "    }\n",
              "\n",
              "    .dataframe tbody tr th {\n",
              "        vertical-align: top;\n",
              "    }\n",
              "\n",
              "    .dataframe thead th {\n",
              "        text-align: right;\n",
              "    }\n",
              "</style>\n",
              "<table border=\"1\" class=\"dataframe\">\n",
              "  <thead>\n",
              "    <tr style=\"text-align: right;\">\n",
              "      <th></th>\n",
              "      <th>gdp_per_capita</th>\n",
              "      <th>life_expectancy</th>\n",
              "      <th>population</th>\n",
              "    </tr>\n",
              "  </thead>\n",
              "  <tbody>\n",
              "    <tr>\n",
              "      <th>count</th>\n",
              "      <td>188.00</td>\n",
              "      <td>188.00</td>\n",
              "      <td>1.880000e+02</td>\n",
              "    </tr>\n",
              "    <tr>\n",
              "      <th>mean</th>\n",
              "      <td>9977.56</td>\n",
              "      <td>66.50</td>\n",
              "      <td>3.252682e+07</td>\n",
              "    </tr>\n",
              "    <tr>\n",
              "      <th>std</th>\n",
              "      <td>11953.39</td>\n",
              "      <td>10.30</td>\n",
              "      <td>1.237952e+08</td>\n",
              "    </tr>\n",
              "    <tr>\n",
              "      <th>min</th>\n",
              "      <td>292.00</td>\n",
              "      <td>38.12</td>\n",
              "      <td>5.619600e+04</td>\n",
              "    </tr>\n",
              "    <tr>\n",
              "      <th>25%</th>\n",
              "      <td>1732.50</td>\n",
              "      <td>59.66</td>\n",
              "      <td>2.003170e+06</td>\n",
              "    </tr>\n",
              "    <tr>\n",
              "      <th>50%</th>\n",
              "      <td>5290.50</td>\n",
              "      <td>70.04</td>\n",
              "      <td>6.888970e+06</td>\n",
              "    </tr>\n",
              "    <tr>\n",
              "      <th>75%</th>\n",
              "      <td>12701.25</td>\n",
              "      <td>74.13</td>\n",
              "      <td>2.218517e+07</td>\n",
              "    </tr>\n",
              "    <tr>\n",
              "      <th>max</th>\n",
              "      <td>63924.00</td>\n",
              "      <td>81.35</td>\n",
              "      <td>1.269117e+09</td>\n",
              "    </tr>\n",
              "  </tbody>\n",
              "</table>\n",
              "</div>\n",
              "      <button class=\"colab-df-convert\" onclick=\"convertToInteractive('df-4ac11e00-f579-4d97-89dd-f138138f2c04')\"\n",
              "              title=\"Convert this dataframe to an interactive table.\"\n",
              "              style=\"display:none;\">\n",
              "        \n",
              "  <svg xmlns=\"http://www.w3.org/2000/svg\" height=\"24px\"viewBox=\"0 0 24 24\"\n",
              "       width=\"24px\">\n",
              "    <path d=\"M0 0h24v24H0V0z\" fill=\"none\"/>\n",
              "    <path d=\"M18.56 5.44l.94 2.06.94-2.06 2.06-.94-2.06-.94-.94-2.06-.94 2.06-2.06.94zm-11 1L8.5 8.5l.94-2.06 2.06-.94-2.06-.94L8.5 2.5l-.94 2.06-2.06.94zm10 10l.94 2.06.94-2.06 2.06-.94-2.06-.94-.94-2.06-.94 2.06-2.06.94z\"/><path d=\"M17.41 7.96l-1.37-1.37c-.4-.4-.92-.59-1.43-.59-.52 0-1.04.2-1.43.59L10.3 9.45l-7.72 7.72c-.78.78-.78 2.05 0 2.83L4 21.41c.39.39.9.59 1.41.59.51 0 1.02-.2 1.41-.59l7.78-7.78 2.81-2.81c.8-.78.8-2.07 0-2.86zM5.41 20L4 18.59l7.72-7.72 1.47 1.35L5.41 20z\"/>\n",
              "  </svg>\n",
              "      </button>\n",
              "      \n",
              "  <style>\n",
              "    .colab-df-container {\n",
              "      display:flex;\n",
              "      flex-wrap:wrap;\n",
              "      gap: 12px;\n",
              "    }\n",
              "\n",
              "    .colab-df-convert {\n",
              "      background-color: #E8F0FE;\n",
              "      border: none;\n",
              "      border-radius: 50%;\n",
              "      cursor: pointer;\n",
              "      display: none;\n",
              "      fill: #1967D2;\n",
              "      height: 32px;\n",
              "      padding: 0 0 0 0;\n",
              "      width: 32px;\n",
              "    }\n",
              "\n",
              "    .colab-df-convert:hover {\n",
              "      background-color: #E2EBFA;\n",
              "      box-shadow: 0px 1px 2px rgba(60, 64, 67, 0.3), 0px 1px 3px 1px rgba(60, 64, 67, 0.15);\n",
              "      fill: #174EA6;\n",
              "    }\n",
              "\n",
              "    [theme=dark] .colab-df-convert {\n",
              "      background-color: #3B4455;\n",
              "      fill: #D2E3FC;\n",
              "    }\n",
              "\n",
              "    [theme=dark] .colab-df-convert:hover {\n",
              "      background-color: #434B5C;\n",
              "      box-shadow: 0px 1px 3px 1px rgba(0, 0, 0, 0.15);\n",
              "      filter: drop-shadow(0px 1px 2px rgba(0, 0, 0, 0.3));\n",
              "      fill: #FFFFFF;\n",
              "    }\n",
              "  </style>\n",
              "\n",
              "      <script>\n",
              "        const buttonEl =\n",
              "          document.querySelector('#df-4ac11e00-f579-4d97-89dd-f138138f2c04 button.colab-df-convert');\n",
              "        buttonEl.style.display =\n",
              "          google.colab.kernel.accessAllowed ? 'block' : 'none';\n",
              "\n",
              "        async function convertToInteractive(key) {\n",
              "          const element = document.querySelector('#df-4ac11e00-f579-4d97-89dd-f138138f2c04');\n",
              "          const dataTable =\n",
              "            await google.colab.kernel.invokeFunction('convertToInteractive',\n",
              "                                                     [key], {});\n",
              "          if (!dataTable) return;\n",
              "\n",
              "          const docLinkHtml = 'Like what you see? Visit the ' +\n",
              "            '<a target=\"_blank\" href=https://colab.research.google.com/notebooks/data_table.ipynb>data table notebook</a>'\n",
              "            + ' to learn more about interactive tables.';\n",
              "          element.innerHTML = '';\n",
              "          dataTable['output_type'] = 'display_data';\n",
              "          await google.colab.output.renderOutput(dataTable, element);\n",
              "          const docLink = document.createElement('div');\n",
              "          docLink.innerHTML = docLinkHtml;\n",
              "          element.appendChild(docLink);\n",
              "        }\n",
              "      </script>\n",
              "    </div>\n",
              "  </div>\n",
              "  "
            ]
          },
          "metadata": {},
          "execution_count": 25
        }
      ]
    },
    {
      "cell_type": "code",
      "source": [
        "# μετατροπή σε ακέραιους\n",
        "df.describe().astype(int) "
      ],
      "metadata": {
        "id": "k0KihZWr8qlq"
      },
      "execution_count": null,
      "outputs": []
    },
    {
      "cell_type": "markdown",
      "source": [
        "### **3. Επιλογή στηλών και γραμμών**"
      ],
      "metadata": {
        "id": "WUou_ZQmvJmi"
      }
    },
    {
      "cell_type": "markdown",
      "source": [
        "**3.1 επιλογή στηλών - μία στήλη**"
      ],
      "metadata": {
        "id": "SEWaHCbAyOU0"
      }
    },
    {
      "cell_type": "code",
      "source": [
        "df['country'].head()"
      ],
      "metadata": {
        "id": "Wjn6DOqGyYf0",
        "colab": {
          "base_uri": "https://localhost:8080/"
        },
        "outputId": "e3ae4d79-02cb-4dae-dafd-d250328cc0a1"
      },
      "execution_count": null,
      "outputs": [
        {
          "output_type": "execute_result",
          "data": {
            "text/plain": [
              "0            Afghanistan\n",
              "1                Albania\n",
              "2                Algeria\n",
              "3                 Angola\n",
              "4    Antigua and Barbuda\n",
              "Name: country, dtype: object"
            ]
          },
          "metadata": {},
          "execution_count": 26
        }
      ]
    },
    {
      "cell_type": "code",
      "source": [
        "# αν το όνομα της στήλης δεν έχει κενά μπορούμε να την καλέσουμε και χωρίς αγκύλες και εισαγωγικά, βάζοντας τελεία μετά το όνομα του dataframe\n",
        "df.life_expectancy.tail()"
      ],
      "metadata": {
        "id": "9WS6RiQpzHvt"
      },
      "execution_count": null,
      "outputs": []
    },
    {
      "cell_type": "markdown",
      "source": [
        "**3.2 επιλογή στηλών - πολλές στήλες**"
      ],
      "metadata": {
        "id": "2FojPMidy-n2"
      }
    },
    {
      "cell_type": "code",
      "source": [
        "# χωρισμένα με κόμμα, ΠΡΟΣΟΧΗ στα διπλά square brackets\n",
        "df[[\"country\", \"population\"]].head(1)"
      ],
      "metadata": {
        "id": "_6fjkRpqzly9"
      },
      "execution_count": null,
      "outputs": []
    },
    {
      "cell_type": "markdown",
      "source": [
        "**3.3 επιλογή γραμμών - μία γραμμή** (loc)"
      ],
      "metadata": {
        "id": "sj0b4FH7vyDt"
      }
    },
    {
      "cell_type": "code",
      "source": [
        "# με την τιμή του index και χρήση του loc[]\n",
        "df.loc[0]"
      ],
      "metadata": {
        "id": "HtDY0dNyv8m8"
      },
      "execution_count": null,
      "outputs": []
    },
    {
      "cell_type": "markdown",
      "source": [
        "**3.4 επιλογή γραμμών - πολλές γραμμές** (loc)"
      ],
      "metadata": {
        "id": "FcegZu09zuyl"
      }
    },
    {
      "cell_type": "code",
      "source": [
        "# κι εδώ διπλά square brackets\n",
        "df.loc[[4,8]]"
      ],
      "metadata": {
        "id": "5rsNf5R7z2AC"
      },
      "execution_count": null,
      "outputs": []
    },
    {
      "cell_type": "markdown",
      "source": [
        "**3.5 επιλογή γραμμών - εύρος πολλών γραμμών** (loc)"
      ],
      "metadata": {
        "id": "hfXsviFJxsxA"
      }
    },
    {
      "cell_type": "code",
      "source": [
        "# όπως στις λίστες, αλλά εδώ το stop ΠΕΡΙΛΑΜΒΑΝΕΙ τον αριθμό\n",
        "df.loc[4:8]"
      ],
      "metadata": {
        "id": "84ATeiEHwMwr"
      },
      "execution_count": null,
      "outputs": []
    },
    {
      "cell_type": "markdown",
      "source": [
        "**3.6 επιλογή ενός κελιού με το index της γραμμής και το όνομα της στήλης** (loc / at)"
      ],
      "metadata": {
        "id": "sZK3b4Zqy-qW"
      }
    },
    {
      "cell_type": "code",
      "source": [
        "df.loc[4, 'country']"
      ],
      "metadata": {
        "id": "jFIc_5RdwDRA"
      },
      "execution_count": null,
      "outputs": []
    },
    {
      "cell_type": "code",
      "source": [
        "# μπορούμε να ζητήσουμε μόνο τη στήλη στο loc και μετά να ζητήσουμε το column\n",
        "df.loc[4]['country']"
      ],
      "metadata": {
        "id": "_df5VUlIAz2y"
      },
      "execution_count": null,
      "outputs": []
    },
    {
      "cell_type": "markdown",
      "source": [
        "**3.7 επιλογή πολλών κελιών με γραμμές και στήλες** (loc και iloc)"
      ],
      "metadata": {
        "id": "5EU_dReB04qq"
      }
    },
    {
      "cell_type": "code",
      "source": [
        "df.loc[[4,8,100], ['country', 'gdp_per_capita']]"
      ],
      "metadata": {
        "id": "re73b8xpxHQ0",
        "colab": {
          "base_uri": "https://localhost:8080/",
          "height": 143
        },
        "outputId": "0043a300-6ae3-459c-cc60-9d5ad6952234"
      },
      "execution_count": null,
      "outputs": [
        {
          "output_type": "execute_result",
          "data": {
            "text/plain": [
              "                 country  gdp_per_capita\n",
              "4    Antigua and Barbuda           12738\n",
              "8                Austria           32008\n",
              "100         Macao, China           22512"
            ],
            "text/html": [
              "\n",
              "  <div id=\"df-67a0452b-eea5-4a9e-88ba-c13091603f6b\">\n",
              "    <div class=\"colab-df-container\">\n",
              "      <div>\n",
              "<style scoped>\n",
              "    .dataframe tbody tr th:only-of-type {\n",
              "        vertical-align: middle;\n",
              "    }\n",
              "\n",
              "    .dataframe tbody tr th {\n",
              "        vertical-align: top;\n",
              "    }\n",
              "\n",
              "    .dataframe thead th {\n",
              "        text-align: right;\n",
              "    }\n",
              "</style>\n",
              "<table border=\"1\" class=\"dataframe\">\n",
              "  <thead>\n",
              "    <tr style=\"text-align: right;\">\n",
              "      <th></th>\n",
              "      <th>country</th>\n",
              "      <th>gdp_per_capita</th>\n",
              "    </tr>\n",
              "  </thead>\n",
              "  <tbody>\n",
              "    <tr>\n",
              "      <th>4</th>\n",
              "      <td>Antigua and Barbuda</td>\n",
              "      <td>12738</td>\n",
              "    </tr>\n",
              "    <tr>\n",
              "      <th>8</th>\n",
              "      <td>Austria</td>\n",
              "      <td>32008</td>\n",
              "    </tr>\n",
              "    <tr>\n",
              "      <th>100</th>\n",
              "      <td>Macao, China</td>\n",
              "      <td>22512</td>\n",
              "    </tr>\n",
              "  </tbody>\n",
              "</table>\n",
              "</div>\n",
              "      <button class=\"colab-df-convert\" onclick=\"convertToInteractive('df-67a0452b-eea5-4a9e-88ba-c13091603f6b')\"\n",
              "              title=\"Convert this dataframe to an interactive table.\"\n",
              "              style=\"display:none;\">\n",
              "        \n",
              "  <svg xmlns=\"http://www.w3.org/2000/svg\" height=\"24px\"viewBox=\"0 0 24 24\"\n",
              "       width=\"24px\">\n",
              "    <path d=\"M0 0h24v24H0V0z\" fill=\"none\"/>\n",
              "    <path d=\"M18.56 5.44l.94 2.06.94-2.06 2.06-.94-2.06-.94-.94-2.06-.94 2.06-2.06.94zm-11 1L8.5 8.5l.94-2.06 2.06-.94-2.06-.94L8.5 2.5l-.94 2.06-2.06.94zm10 10l.94 2.06.94-2.06 2.06-.94-2.06-.94-.94-2.06-.94 2.06-2.06.94z\"/><path d=\"M17.41 7.96l-1.37-1.37c-.4-.4-.92-.59-1.43-.59-.52 0-1.04.2-1.43.59L10.3 9.45l-7.72 7.72c-.78.78-.78 2.05 0 2.83L4 21.41c.39.39.9.59 1.41.59.51 0 1.02-.2 1.41-.59l7.78-7.78 2.81-2.81c.8-.78.8-2.07 0-2.86zM5.41 20L4 18.59l7.72-7.72 1.47 1.35L5.41 20z\"/>\n",
              "  </svg>\n",
              "      </button>\n",
              "      \n",
              "  <style>\n",
              "    .colab-df-container {\n",
              "      display:flex;\n",
              "      flex-wrap:wrap;\n",
              "      gap: 12px;\n",
              "    }\n",
              "\n",
              "    .colab-df-convert {\n",
              "      background-color: #E8F0FE;\n",
              "      border: none;\n",
              "      border-radius: 50%;\n",
              "      cursor: pointer;\n",
              "      display: none;\n",
              "      fill: #1967D2;\n",
              "      height: 32px;\n",
              "      padding: 0 0 0 0;\n",
              "      width: 32px;\n",
              "    }\n",
              "\n",
              "    .colab-df-convert:hover {\n",
              "      background-color: #E2EBFA;\n",
              "      box-shadow: 0px 1px 2px rgba(60, 64, 67, 0.3), 0px 1px 3px 1px rgba(60, 64, 67, 0.15);\n",
              "      fill: #174EA6;\n",
              "    }\n",
              "\n",
              "    [theme=dark] .colab-df-convert {\n",
              "      background-color: #3B4455;\n",
              "      fill: #D2E3FC;\n",
              "    }\n",
              "\n",
              "    [theme=dark] .colab-df-convert:hover {\n",
              "      background-color: #434B5C;\n",
              "      box-shadow: 0px 1px 3px 1px rgba(0, 0, 0, 0.15);\n",
              "      filter: drop-shadow(0px 1px 2px rgba(0, 0, 0, 0.3));\n",
              "      fill: #FFFFFF;\n",
              "    }\n",
              "  </style>\n",
              "\n",
              "      <script>\n",
              "        const buttonEl =\n",
              "          document.querySelector('#df-67a0452b-eea5-4a9e-88ba-c13091603f6b button.colab-df-convert');\n",
              "        buttonEl.style.display =\n",
              "          google.colab.kernel.accessAllowed ? 'block' : 'none';\n",
              "\n",
              "        async function convertToInteractive(key) {\n",
              "          const element = document.querySelector('#df-67a0452b-eea5-4a9e-88ba-c13091603f6b');\n",
              "          const dataTable =\n",
              "            await google.colab.kernel.invokeFunction('convertToInteractive',\n",
              "                                                     [key], {});\n",
              "          if (!dataTable) return;\n",
              "\n",
              "          const docLinkHtml = 'Like what you see? Visit the ' +\n",
              "            '<a target=\"_blank\" href=https://colab.research.google.com/notebooks/data_table.ipynb>data table notebook</a>'\n",
              "            + ' to learn more about interactive tables.';\n",
              "          element.innerHTML = '';\n",
              "          dataTable['output_type'] = 'display_data';\n",
              "          await google.colab.output.renderOutput(dataTable, element);\n",
              "          const docLink = document.createElement('div');\n",
              "          docLink.innerHTML = docLinkHtml;\n",
              "          element.appendChild(docLink);\n",
              "        }\n",
              "      </script>\n",
              "    </div>\n",
              "  </div>\n",
              "  "
            ]
          },
          "metadata": {},
          "execution_count": 27
        }
      ]
    },
    {
      "cell_type": "code",
      "source": [
        "df.loc[[4,8,100], ['country', 'gdp_per_capita']]"
      ],
      "metadata": {
        "id": "WwtXhzaXLcw8",
        "colab": {
          "base_uri": "https://localhost:8080/",
          "height": 143
        },
        "outputId": "965ad62c-4ae5-4fb2-977e-6c51f41dc57f"
      },
      "execution_count": null,
      "outputs": [
        {
          "output_type": "execute_result",
          "data": {
            "text/plain": [
              "                 country  gdp_per_capita\n",
              "4    Antigua and Barbuda           12738\n",
              "8                Austria           32008\n",
              "100         Macao, China           22512"
            ],
            "text/html": [
              "\n",
              "  <div id=\"df-2919670f-cb5f-4e81-b83e-a70e8043fefc\">\n",
              "    <div class=\"colab-df-container\">\n",
              "      <div>\n",
              "<style scoped>\n",
              "    .dataframe tbody tr th:only-of-type {\n",
              "        vertical-align: middle;\n",
              "    }\n",
              "\n",
              "    .dataframe tbody tr th {\n",
              "        vertical-align: top;\n",
              "    }\n",
              "\n",
              "    .dataframe thead th {\n",
              "        text-align: right;\n",
              "    }\n",
              "</style>\n",
              "<table border=\"1\" class=\"dataframe\">\n",
              "  <thead>\n",
              "    <tr style=\"text-align: right;\">\n",
              "      <th></th>\n",
              "      <th>country</th>\n",
              "      <th>gdp_per_capita</th>\n",
              "    </tr>\n",
              "  </thead>\n",
              "  <tbody>\n",
              "    <tr>\n",
              "      <th>4</th>\n",
              "      <td>Antigua and Barbuda</td>\n",
              "      <td>12738</td>\n",
              "    </tr>\n",
              "    <tr>\n",
              "      <th>8</th>\n",
              "      <td>Austria</td>\n",
              "      <td>32008</td>\n",
              "    </tr>\n",
              "    <tr>\n",
              "      <th>100</th>\n",
              "      <td>Macao, China</td>\n",
              "      <td>22512</td>\n",
              "    </tr>\n",
              "  </tbody>\n",
              "</table>\n",
              "</div>\n",
              "      <button class=\"colab-df-convert\" onclick=\"convertToInteractive('df-2919670f-cb5f-4e81-b83e-a70e8043fefc')\"\n",
              "              title=\"Convert this dataframe to an interactive table.\"\n",
              "              style=\"display:none;\">\n",
              "        \n",
              "  <svg xmlns=\"http://www.w3.org/2000/svg\" height=\"24px\"viewBox=\"0 0 24 24\"\n",
              "       width=\"24px\">\n",
              "    <path d=\"M0 0h24v24H0V0z\" fill=\"none\"/>\n",
              "    <path d=\"M18.56 5.44l.94 2.06.94-2.06 2.06-.94-2.06-.94-.94-2.06-.94 2.06-2.06.94zm-11 1L8.5 8.5l.94-2.06 2.06-.94-2.06-.94L8.5 2.5l-.94 2.06-2.06.94zm10 10l.94 2.06.94-2.06 2.06-.94-2.06-.94-.94-2.06-.94 2.06-2.06.94z\"/><path d=\"M17.41 7.96l-1.37-1.37c-.4-.4-.92-.59-1.43-.59-.52 0-1.04.2-1.43.59L10.3 9.45l-7.72 7.72c-.78.78-.78 2.05 0 2.83L4 21.41c.39.39.9.59 1.41.59.51 0 1.02-.2 1.41-.59l7.78-7.78 2.81-2.81c.8-.78.8-2.07 0-2.86zM5.41 20L4 18.59l7.72-7.72 1.47 1.35L5.41 20z\"/>\n",
              "  </svg>\n",
              "      </button>\n",
              "      \n",
              "  <style>\n",
              "    .colab-df-container {\n",
              "      display:flex;\n",
              "      flex-wrap:wrap;\n",
              "      gap: 12px;\n",
              "    }\n",
              "\n",
              "    .colab-df-convert {\n",
              "      background-color: #E8F0FE;\n",
              "      border: none;\n",
              "      border-radius: 50%;\n",
              "      cursor: pointer;\n",
              "      display: none;\n",
              "      fill: #1967D2;\n",
              "      height: 32px;\n",
              "      padding: 0 0 0 0;\n",
              "      width: 32px;\n",
              "    }\n",
              "\n",
              "    .colab-df-convert:hover {\n",
              "      background-color: #E2EBFA;\n",
              "      box-shadow: 0px 1px 2px rgba(60, 64, 67, 0.3), 0px 1px 3px 1px rgba(60, 64, 67, 0.15);\n",
              "      fill: #174EA6;\n",
              "    }\n",
              "\n",
              "    [theme=dark] .colab-df-convert {\n",
              "      background-color: #3B4455;\n",
              "      fill: #D2E3FC;\n",
              "    }\n",
              "\n",
              "    [theme=dark] .colab-df-convert:hover {\n",
              "      background-color: #434B5C;\n",
              "      box-shadow: 0px 1px 3px 1px rgba(0, 0, 0, 0.15);\n",
              "      filter: drop-shadow(0px 1px 2px rgba(0, 0, 0, 0.3));\n",
              "      fill: #FFFFFF;\n",
              "    }\n",
              "  </style>\n",
              "\n",
              "      <script>\n",
              "        const buttonEl =\n",
              "          document.querySelector('#df-2919670f-cb5f-4e81-b83e-a70e8043fefc button.colab-df-convert');\n",
              "        buttonEl.style.display =\n",
              "          google.colab.kernel.accessAllowed ? 'block' : 'none';\n",
              "\n",
              "        async function convertToInteractive(key) {\n",
              "          const element = document.querySelector('#df-2919670f-cb5f-4e81-b83e-a70e8043fefc');\n",
              "          const dataTable =\n",
              "            await google.colab.kernel.invokeFunction('convertToInteractive',\n",
              "                                                     [key], {});\n",
              "          if (!dataTable) return;\n",
              "\n",
              "          const docLinkHtml = 'Like what you see? Visit the ' +\n",
              "            '<a target=\"_blank\" href=https://colab.research.google.com/notebooks/data_table.ipynb>data table notebook</a>'\n",
              "            + ' to learn more about interactive tables.';\n",
              "          element.innerHTML = '';\n",
              "          dataTable['output_type'] = 'display_data';\n",
              "          await google.colab.output.renderOutput(dataTable, element);\n",
              "          const docLink = document.createElement('div');\n",
              "          docLink.innerHTML = docLinkHtml;\n",
              "          element.appendChild(docLink);\n",
              "        }\n",
              "      </script>\n",
              "    </div>\n",
              "  </div>\n",
              "  "
            ]
          },
          "metadata": {},
          "execution_count": 28
        }
      ]
    },
    {
      "cell_type": "code",
      "source": [
        "# εμφάνιση όλων των στηλών του dataframe\n",
        "df.head(1)"
      ],
      "metadata": {
        "id": "byWdTm-960zM"
      },
      "execution_count": null,
      "outputs": []
    },
    {
      "cell_type": "code",
      "source": [
        "# με το iloc βάζουμε και για τις στήλες τον αριθμό index \n",
        "df.iloc[[4,8,100], [0, 2]]"
      ],
      "metadata": {
        "id": "-hpP4isr2aHh"
      },
      "execution_count": null,
      "outputs": []
    },
    {
      "cell_type": "markdown",
      "source": [
        "**3.8 επιλογή εύρους γραμμών και στηλών** (iloc)"
      ],
      "metadata": {
        "id": "C7OOtXsJ1QWz"
      }
    },
    {
      "cell_type": "code",
      "source": [
        "# στο εύρος με το iloc ΔΕΝ περιλαμβάνεται το stop\n",
        "df.iloc[0:4, 1:3]"
      ],
      "metadata": {
        "id": "IsxOENPj195c"
      },
      "execution_count": null,
      "outputs": []
    },
    {
      "cell_type": "markdown",
      "source": [
        "### **4. Στατιστικά στοιχεία (σε επιλεγμένες στήλες)**"
      ],
      "metadata": {
        "id": "a3xa0VnN8o-V"
      }
    },
    {
      "cell_type": "code",
      "source": [
        "# διάμεσος\n",
        "df.population.median()"
      ],
      "metadata": {
        "id": "s2ULzwRi1KDa",
        "colab": {
          "base_uri": "https://localhost:8080/"
        },
        "outputId": "32292a02-0c78-4178-9f7a-51b97be43e98"
      },
      "execution_count": null,
      "outputs": [
        {
          "output_type": "execute_result",
          "data": {
            "text/plain": [
              "6888970.5"
            ]
          },
          "metadata": {},
          "execution_count": 29
        }
      ]
    },
    {
      "cell_type": "code",
      "source": [
        "# μέση τιμή\n",
        "df['population'].mean()"
      ],
      "metadata": {
        "id": "9gsBYUyO1ahR",
        "colab": {
          "base_uri": "https://localhost:8080/"
        },
        "outputId": "fafac0fc-1cb3-439a-8091-38e17e3863d1"
      },
      "execution_count": null,
      "outputs": [
        {
          "output_type": "execute_result",
          "data": {
            "text/plain": [
              "32526821.05319149"
            ]
          },
          "metadata": {},
          "execution_count": 30
        }
      ]
    },
    {
      "cell_type": "code",
      "source": [
        "# άθροισμα\n",
        "df.population.sum()"
      ],
      "metadata": {
        "id": "gP3FgIMV13j2"
      },
      "execution_count": null,
      "outputs": []
    },
    {
      "cell_type": "code",
      "source": [
        "# ελάχιστη τιμή\n",
        "df.population.min()"
      ],
      "metadata": {
        "id": "ytOkiA_F2BV_"
      },
      "execution_count": null,
      "outputs": []
    },
    {
      "cell_type": "code",
      "source": [
        "# μέγιστη τιμή\n",
        "df.population.max()"
      ],
      "metadata": {
        "id": "6MtA-70a2F0d"
      },
      "execution_count": null,
      "outputs": []
    },
    {
      "cell_type": "code",
      "source": [
        "# τυπική απόκλιση (πόσο απέχουν κατά μ.ο. οι τιμές από το μέσο όρο)\n",
        "df.population.std()"
      ],
      "metadata": {
        "id": "uCL9jK6v2L6R"
      },
      "execution_count": null,
      "outputs": []
    },
    {
      "cell_type": "code",
      "source": [
        "# συσχέτιση\n",
        "# Correlation: the tendency for two values or variables to change together, in either the same (+) or opposite way (-).\n",
        "df.corr()"
      ],
      "metadata": {
        "id": "kqNJ0LGj46c-"
      },
      "execution_count": null,
      "outputs": []
    },
    {
      "cell_type": "markdown",
      "source": [
        "---\n",
        "**Άσκηση 2**: Βρείτε τις ελάχιστες τιμές του προσδόκιμου ζωής και του κατά κεφαλή ΑΕΠ στρογγυλοποιημένες σε 1 δεκαδικό"
      ],
      "metadata": {
        "id": "nOncf3POtMZy"
      }
    },
    {
      "cell_type": "code",
      "source": [
        "df[['life_expectancy' , 'gdp_per_capita']].min().round(1)"
      ],
      "metadata": {
        "id": "02qNbTJGtZJ4",
        "colab": {
          "base_uri": "https://localhost:8080/"
        },
        "outputId": "38b0fff6-17e0-40f4-88ce-479275f2101b"
      },
      "execution_count": null,
      "outputs": [
        {
          "output_type": "execute_result",
          "data": {
            "text/plain": [
              "life_expectancy     38.1\n",
              "gdp_per_capita     292.0\n",
              "dtype: float64"
            ]
          },
          "metadata": {},
          "execution_count": 35
        }
      ]
    },
    {
      "cell_type": "markdown",
      "source": [
        "---"
      ],
      "metadata": {
        "id": "2nOUvCRMtWTk"
      }
    },
    {
      "cell_type": "markdown",
      "source": [
        "### **5. Περιγραφή στηλών**"
      ],
      "metadata": {
        "id": "D6Kce_6nKLn6"
      }
    },
    {
      "cell_type": "markdown",
      "source": [
        "**5.1 Μοναδικές τιμές σε μία στήλη**"
      ],
      "metadata": {
        "id": "FkNrYoZ54Xql"
      }
    },
    {
      "cell_type": "code",
      "source": [
        "df['continent'].unique()"
      ],
      "metadata": {
        "id": "Vg49apik4h4w",
        "colab": {
          "base_uri": "https://localhost:8080/"
        },
        "outputId": "3133862b-722b-4145-ef7b-f7f126b10935"
      },
      "execution_count": null,
      "outputs": [
        {
          "output_type": "execute_result",
          "data": {
            "text/plain": [
              "array(['Asia', 'Europe', 'Africa', 'N. America', 'S. America', 'Oceania'],\n",
              "      dtype=object)"
            ]
          },
          "metadata": {},
          "execution_count": 36
        }
      ]
    },
    {
      "cell_type": "markdown",
      "source": [
        "**5.2 describe() - περιγραφή τιμών σε μία στήλη**\n",
        "\n",
        "Η περιγραφή των τιμών μιάς μεταβλητής, δηλαδή τα αποτελέσματα που μας δίνει το describe(), εξαρτάται από το είδος της μεταβλητής που περιέχει η στήλη.\n",
        "\n",
        "![](https://drive.google.com/uc?export=view&id=1oB0c05u3hYw3QPGhRNW-D5eRqw9oqFf7)\n"
      ],
      "metadata": {
        "id": "U0bcNZ3OjcCx"
      }
    },
    {
      "cell_type": "markdown",
      "source": [
        "**5.2.1 describe() - αριθμητική μεταβλητή (numerical variable)**"
      ],
      "metadata": {
        "id": "DY4KAfgmo_xQ"
      }
    },
    {
      "cell_type": "code",
      "source": [
        "df['life_expectancy'].describe()"
      ],
      "metadata": {
        "id": "hTUw1EhJj0J1",
        "colab": {
          "base_uri": "https://localhost:8080/"
        },
        "outputId": "85899c79-2b48-4075-8c9b-4c981730b1ed"
      },
      "execution_count": 3,
      "outputs": [
        {
          "output_type": "execute_result",
          "data": {
            "text/plain": [
              "count    188.000000\n",
              "mean      66.501536\n",
              "std       10.298458\n",
              "min       38.123000\n",
              "25%       59.663750\n",
              "50%       70.041500\n",
              "75%       74.134500\n",
              "max       81.350000\n",
              "Name: life_expectancy, dtype: float64"
            ]
          },
          "metadata": {},
          "execution_count": 3
        }
      ]
    },
    {
      "cell_type": "markdown",
      "source": [
        "**5.2.2 describe() - κατηγορική μεταβλητή (categorical variable)**"
      ],
      "metadata": {
        "id": "_vjaLPw_pa5M"
      }
    },
    {
      "cell_type": "code",
      "source": [
        "df['continent'].describe()"
      ],
      "metadata": {
        "id": "M2NsVXNbjsra"
      },
      "execution_count": null,
      "outputs": []
    },
    {
      "cell_type": "markdown",
      "source": [
        "**5.3 value_counts() μέτρηση αριθμού εμφανίσεων των τιμών μιας μεταβλητής / πίνακας συχνοτήτων (frequencies)**"
      ],
      "metadata": {
        "id": "1oQQ7wkGqoM3"
      }
    },
    {
      "cell_type": "code",
      "source": [
        "df['continent'].value_counts().head()"
      ],
      "metadata": {
        "id": "1scR1ApLr8pV",
        "colab": {
          "base_uri": "https://localhost:8080/"
        },
        "outputId": "ee44892f-4e7e-408f-a447-82c11f708354"
      },
      "execution_count": 4,
      "outputs": [
        {
          "output_type": "execute_result",
          "data": {
            "text/plain": [
              "Africa        54\n",
              "Asia          48\n",
              "Europe        42\n",
              "N. America    22\n",
              "S. America    12\n",
              "Name: continent, dtype: int64"
            ]
          },
          "metadata": {},
          "execution_count": 4
        }
      ]
    },
    {
      "cell_type": "code",
      "source": [
        "df['gdp_per_capita'].value_counts().head()"
      ],
      "metadata": {
        "id": "XLtHXpCZrX2_",
        "colab": {
          "base_uri": "https://localhost:8080/"
        },
        "outputId": "95bffa20-4494-46d6-da45-d81e281c9c76"
      },
      "execution_count": null,
      "outputs": [
        {
          "output_type": "execute_result",
          "data": {
            "text/plain": [
              "1001     2\n",
              "881      2\n",
              "1054     1\n",
              "33000    1\n",
              "21895    1\n",
              "Name: gdp_per_capita, dtype: int64"
            ]
          },
          "metadata": {},
          "execution_count": 39
        }
      ]
    },
    {
      "cell_type": "markdown",
      "source": [
        "---\n",
        "**Άσκηση 3**:\n",
        "\n",
        "Μετατρέψτε το προσδόκιμο ζωής σε ακέραιο και φτιάξτε τον πίνακα συχνοτήτων του"
      ],
      "metadata": {
        "id": "XJ7GLhzyrk9O"
      }
    },
    {
      "cell_type": "code",
      "source": [
        "df['life_expectancy'].astype(int).value_counts()"
      ],
      "metadata": {
        "id": "f3Hn603Xr0-k",
        "colab": {
          "base_uri": "https://localhost:8080/"
        },
        "outputId": "8f0cc32c-8bd7-4000-d4db-35b12f7d9ea5"
      },
      "execution_count": 5,
      "outputs": [
        {
          "output_type": "execute_result",
          "data": {
            "text/plain": [
              "70    17\n",
              "73    11\n",
              "71    11\n",
              "78    10\n",
              "74     9\n",
              "76     9\n",
              "67     9\n",
              "79     8\n",
              "72     8\n",
              "77     7\n",
              "62     7\n",
              "69     6\n",
              "63     6\n",
              "46     5\n",
              "50     5\n",
              "68     5\n",
              "57     5\n",
              "55     4\n",
              "66     4\n",
              "47     4\n",
              "52     4\n",
              "59     3\n",
              "75     3\n",
              "51     3\n",
              "48     3\n",
              "65     3\n",
              "43     2\n",
              "56     2\n",
              "60     2\n",
              "49     2\n",
              "58     2\n",
              "61     1\n",
              "53     1\n",
              "38     1\n",
              "54     1\n",
              "64     1\n",
              "81     1\n",
              "80     1\n",
              "45     1\n",
              "41     1\n",
              "Name: life_expectancy, dtype: int64"
            ]
          },
          "metadata": {},
          "execution_count": 5
        }
      ]
    },
    {
      "cell_type": "markdown",
      "source": [
        "---"
      ],
      "metadata": {
        "id": "iL-lyedNrxs0"
      }
    },
    {
      "cell_type": "markdown",
      "source": [
        "### **6. Ταξινόμηση**"
      ],
      "metadata": {
        "id": "JGW-93_eNjfU"
      }
    },
    {
      "cell_type": "markdown",
      "source": [
        "**6.1 sort_values() - ταξινόμηση τιμών ως προς μία στήλη**"
      ],
      "metadata": {
        "id": "775Kr2h11_9o"
      }
    },
    {
      "cell_type": "code",
      "source": [
        "# ταξινόμηση ως προς τη στήλη \"population\"\n",
        "# το default είναι σε αύξουσα σειρά\n",
        "df.sort_values(by='population').head()"
      ],
      "metadata": {
        "id": "fDP9YrEUhl2j"
      },
      "execution_count": null,
      "outputs": []
    },
    {
      "cell_type": "code",
      "source": [
        "# ταξινόμηση σε φθίνουσα σειρά\n",
        "# το \"by=\" μπορεί και να παραληφθεί\n",
        "df.sort_values('population', ascending = False).head()"
      ],
      "metadata": {
        "id": "ZD3fj92ai1NT",
        "colab": {
          "base_uri": "https://localhost:8080/",
          "height": 206
        },
        "outputId": "cd45d22a-96fc-4af5-eab3-a8d9f222f0ea"
      },
      "execution_count": null,
      "outputs": [
        {
          "output_type": "execute_result",
          "data": {
            "text/plain": [
              "           country   continent  gdp_per_capita  life_expectancy  population\n",
              "34           China        Asia            3407           72.124  1269116737\n",
              "75           India        Asia            1648           62.129  1053898107\n",
              "178  United States  N. America           39758           76.800   282496310\n",
              "76       Indonesia        Asia            2714           67.289   213395411\n",
              "22          Brazil  S. America            8056           70.261   174425387"
            ],
            "text/html": [
              "\n",
              "  <div id=\"df-b01933e0-8197-4b38-8608-9724d653504e\">\n",
              "    <div class=\"colab-df-container\">\n",
              "      <div>\n",
              "<style scoped>\n",
              "    .dataframe tbody tr th:only-of-type {\n",
              "        vertical-align: middle;\n",
              "    }\n",
              "\n",
              "    .dataframe tbody tr th {\n",
              "        vertical-align: top;\n",
              "    }\n",
              "\n",
              "    .dataframe thead th {\n",
              "        text-align: right;\n",
              "    }\n",
              "</style>\n",
              "<table border=\"1\" class=\"dataframe\">\n",
              "  <thead>\n",
              "    <tr style=\"text-align: right;\">\n",
              "      <th></th>\n",
              "      <th>country</th>\n",
              "      <th>continent</th>\n",
              "      <th>gdp_per_capita</th>\n",
              "      <th>life_expectancy</th>\n",
              "      <th>population</th>\n",
              "    </tr>\n",
              "  </thead>\n",
              "  <tbody>\n",
              "    <tr>\n",
              "      <th>34</th>\n",
              "      <td>China</td>\n",
              "      <td>Asia</td>\n",
              "      <td>3407</td>\n",
              "      <td>72.124</td>\n",
              "      <td>1269116737</td>\n",
              "    </tr>\n",
              "    <tr>\n",
              "      <th>75</th>\n",
              "      <td>India</td>\n",
              "      <td>Asia</td>\n",
              "      <td>1648</td>\n",
              "      <td>62.129</td>\n",
              "      <td>1053898107</td>\n",
              "    </tr>\n",
              "    <tr>\n",
              "      <th>178</th>\n",
              "      <td>United States</td>\n",
              "      <td>N. America</td>\n",
              "      <td>39758</td>\n",
              "      <td>76.800</td>\n",
              "      <td>282496310</td>\n",
              "    </tr>\n",
              "    <tr>\n",
              "      <th>76</th>\n",
              "      <td>Indonesia</td>\n",
              "      <td>Asia</td>\n",
              "      <td>2714</td>\n",
              "      <td>67.289</td>\n",
              "      <td>213395411</td>\n",
              "    </tr>\n",
              "    <tr>\n",
              "      <th>22</th>\n",
              "      <td>Brazil</td>\n",
              "      <td>S. America</td>\n",
              "      <td>8056</td>\n",
              "      <td>70.261</td>\n",
              "      <td>174425387</td>\n",
              "    </tr>\n",
              "  </tbody>\n",
              "</table>\n",
              "</div>\n",
              "      <button class=\"colab-df-convert\" onclick=\"convertToInteractive('df-b01933e0-8197-4b38-8608-9724d653504e')\"\n",
              "              title=\"Convert this dataframe to an interactive table.\"\n",
              "              style=\"display:none;\">\n",
              "        \n",
              "  <svg xmlns=\"http://www.w3.org/2000/svg\" height=\"24px\"viewBox=\"0 0 24 24\"\n",
              "       width=\"24px\">\n",
              "    <path d=\"M0 0h24v24H0V0z\" fill=\"none\"/>\n",
              "    <path d=\"M18.56 5.44l.94 2.06.94-2.06 2.06-.94-2.06-.94-.94-2.06-.94 2.06-2.06.94zm-11 1L8.5 8.5l.94-2.06 2.06-.94-2.06-.94L8.5 2.5l-.94 2.06-2.06.94zm10 10l.94 2.06.94-2.06 2.06-.94-2.06-.94-.94-2.06-.94 2.06-2.06.94z\"/><path d=\"M17.41 7.96l-1.37-1.37c-.4-.4-.92-.59-1.43-.59-.52 0-1.04.2-1.43.59L10.3 9.45l-7.72 7.72c-.78.78-.78 2.05 0 2.83L4 21.41c.39.39.9.59 1.41.59.51 0 1.02-.2 1.41-.59l7.78-7.78 2.81-2.81c.8-.78.8-2.07 0-2.86zM5.41 20L4 18.59l7.72-7.72 1.47 1.35L5.41 20z\"/>\n",
              "  </svg>\n",
              "      </button>\n",
              "      \n",
              "  <style>\n",
              "    .colab-df-container {\n",
              "      display:flex;\n",
              "      flex-wrap:wrap;\n",
              "      gap: 12px;\n",
              "    }\n",
              "\n",
              "    .colab-df-convert {\n",
              "      background-color: #E8F0FE;\n",
              "      border: none;\n",
              "      border-radius: 50%;\n",
              "      cursor: pointer;\n",
              "      display: none;\n",
              "      fill: #1967D2;\n",
              "      height: 32px;\n",
              "      padding: 0 0 0 0;\n",
              "      width: 32px;\n",
              "    }\n",
              "\n",
              "    .colab-df-convert:hover {\n",
              "      background-color: #E2EBFA;\n",
              "      box-shadow: 0px 1px 2px rgba(60, 64, 67, 0.3), 0px 1px 3px 1px rgba(60, 64, 67, 0.15);\n",
              "      fill: #174EA6;\n",
              "    }\n",
              "\n",
              "    [theme=dark] .colab-df-convert {\n",
              "      background-color: #3B4455;\n",
              "      fill: #D2E3FC;\n",
              "    }\n",
              "\n",
              "    [theme=dark] .colab-df-convert:hover {\n",
              "      background-color: #434B5C;\n",
              "      box-shadow: 0px 1px 3px 1px rgba(0, 0, 0, 0.15);\n",
              "      filter: drop-shadow(0px 1px 2px rgba(0, 0, 0, 0.3));\n",
              "      fill: #FFFFFF;\n",
              "    }\n",
              "  </style>\n",
              "\n",
              "      <script>\n",
              "        const buttonEl =\n",
              "          document.querySelector('#df-b01933e0-8197-4b38-8608-9724d653504e button.colab-df-convert');\n",
              "        buttonEl.style.display =\n",
              "          google.colab.kernel.accessAllowed ? 'block' : 'none';\n",
              "\n",
              "        async function convertToInteractive(key) {\n",
              "          const element = document.querySelector('#df-b01933e0-8197-4b38-8608-9724d653504e');\n",
              "          const dataTable =\n",
              "            await google.colab.kernel.invokeFunction('convertToInteractive',\n",
              "                                                     [key], {});\n",
              "          if (!dataTable) return;\n",
              "\n",
              "          const docLinkHtml = 'Like what you see? Visit the ' +\n",
              "            '<a target=\"_blank\" href=https://colab.research.google.com/notebooks/data_table.ipynb>data table notebook</a>'\n",
              "            + ' to learn more about interactive tables.';\n",
              "          element.innerHTML = '';\n",
              "          dataTable['output_type'] = 'display_data';\n",
              "          await google.colab.output.renderOutput(dataTable, element);\n",
              "          const docLink = document.createElement('div');\n",
              "          docLink.innerHTML = docLinkHtml;\n",
              "          element.appendChild(docLink);\n",
              "        }\n",
              "      </script>\n",
              "    </div>\n",
              "  </div>\n",
              "  "
            ]
          },
          "metadata": {},
          "execution_count": 61
        }
      ]
    },
    {
      "cell_type": "markdown",
      "source": [
        "**6.2 sort_values ως προς πολλές στήλες**"
      ],
      "metadata": {
        "id": "y0K9wjb7WtPK"
      }
    },
    {
      "cell_type": "code",
      "source": [],
      "metadata": {
        "id": "lz9KrTSZVdiz"
      },
      "execution_count": null,
      "outputs": []
    },
    {
      "cell_type": "code",
      "source": [
        "df.sort_values(['continent', 'country'], ascending = [True,False]).head()"
      ],
      "metadata": {
        "id": "Du-ZDGvrW2e8",
        "colab": {
          "base_uri": "https://localhost:8080/",
          "height": 206
        },
        "outputId": "7f190c0c-06eb-4968-eaf2-3dbed42d9643"
      },
      "execution_count": null,
      "outputs": [
        {
          "output_type": "execute_result",
          "data": {
            "text/plain": [
              "      country continent  gdp_per_capita  life_expectancy  population\n",
              "187  Zimbabwe    Africa             745           43.976    12509477\n",
              "186    Zambia    Africa            1035           41.802    10201562\n",
              "174    Uganda    Africa             881           48.126    24213120\n",
              "171   Tunisia    Africa            5480           73.159     9456117\n",
              "168      Togo    Africa             890           53.585     4793504"
            ],
            "text/html": [
              "\n",
              "  <div id=\"df-66702ed6-b7a3-4766-b28c-8dcf91ced392\">\n",
              "    <div class=\"colab-df-container\">\n",
              "      <div>\n",
              "<style scoped>\n",
              "    .dataframe tbody tr th:only-of-type {\n",
              "        vertical-align: middle;\n",
              "    }\n",
              "\n",
              "    .dataframe tbody tr th {\n",
              "        vertical-align: top;\n",
              "    }\n",
              "\n",
              "    .dataframe thead th {\n",
              "        text-align: right;\n",
              "    }\n",
              "</style>\n",
              "<table border=\"1\" class=\"dataframe\">\n",
              "  <thead>\n",
              "    <tr style=\"text-align: right;\">\n",
              "      <th></th>\n",
              "      <th>country</th>\n",
              "      <th>continent</th>\n",
              "      <th>gdp_per_capita</th>\n",
              "      <th>life_expectancy</th>\n",
              "      <th>population</th>\n",
              "    </tr>\n",
              "  </thead>\n",
              "  <tbody>\n",
              "    <tr>\n",
              "      <th>187</th>\n",
              "      <td>Zimbabwe</td>\n",
              "      <td>Africa</td>\n",
              "      <td>745</td>\n",
              "      <td>43.976</td>\n",
              "      <td>12509477</td>\n",
              "    </tr>\n",
              "    <tr>\n",
              "      <th>186</th>\n",
              "      <td>Zambia</td>\n",
              "      <td>Africa</td>\n",
              "      <td>1035</td>\n",
              "      <td>41.802</td>\n",
              "      <td>10201562</td>\n",
              "    </tr>\n",
              "    <tr>\n",
              "      <th>174</th>\n",
              "      <td>Uganda</td>\n",
              "      <td>Africa</td>\n",
              "      <td>881</td>\n",
              "      <td>48.126</td>\n",
              "      <td>24213120</td>\n",
              "    </tr>\n",
              "    <tr>\n",
              "      <th>171</th>\n",
              "      <td>Tunisia</td>\n",
              "      <td>Africa</td>\n",
              "      <td>5480</td>\n",
              "      <td>73.159</td>\n",
              "      <td>9456117</td>\n",
              "    </tr>\n",
              "    <tr>\n",
              "      <th>168</th>\n",
              "      <td>Togo</td>\n",
              "      <td>Africa</td>\n",
              "      <td>890</td>\n",
              "      <td>53.585</td>\n",
              "      <td>4793504</td>\n",
              "    </tr>\n",
              "  </tbody>\n",
              "</table>\n",
              "</div>\n",
              "      <button class=\"colab-df-convert\" onclick=\"convertToInteractive('df-66702ed6-b7a3-4766-b28c-8dcf91ced392')\"\n",
              "              title=\"Convert this dataframe to an interactive table.\"\n",
              "              style=\"display:none;\">\n",
              "        \n",
              "  <svg xmlns=\"http://www.w3.org/2000/svg\" height=\"24px\"viewBox=\"0 0 24 24\"\n",
              "       width=\"24px\">\n",
              "    <path d=\"M0 0h24v24H0V0z\" fill=\"none\"/>\n",
              "    <path d=\"M18.56 5.44l.94 2.06.94-2.06 2.06-.94-2.06-.94-.94-2.06-.94 2.06-2.06.94zm-11 1L8.5 8.5l.94-2.06 2.06-.94-2.06-.94L8.5 2.5l-.94 2.06-2.06.94zm10 10l.94 2.06.94-2.06 2.06-.94-2.06-.94-.94-2.06-.94 2.06-2.06.94z\"/><path d=\"M17.41 7.96l-1.37-1.37c-.4-.4-.92-.59-1.43-.59-.52 0-1.04.2-1.43.59L10.3 9.45l-7.72 7.72c-.78.78-.78 2.05 0 2.83L4 21.41c.39.39.9.59 1.41.59.51 0 1.02-.2 1.41-.59l7.78-7.78 2.81-2.81c.8-.78.8-2.07 0-2.86zM5.41 20L4 18.59l7.72-7.72 1.47 1.35L5.41 20z\"/>\n",
              "  </svg>\n",
              "      </button>\n",
              "      \n",
              "  <style>\n",
              "    .colab-df-container {\n",
              "      display:flex;\n",
              "      flex-wrap:wrap;\n",
              "      gap: 12px;\n",
              "    }\n",
              "\n",
              "    .colab-df-convert {\n",
              "      background-color: #E8F0FE;\n",
              "      border: none;\n",
              "      border-radius: 50%;\n",
              "      cursor: pointer;\n",
              "      display: none;\n",
              "      fill: #1967D2;\n",
              "      height: 32px;\n",
              "      padding: 0 0 0 0;\n",
              "      width: 32px;\n",
              "    }\n",
              "\n",
              "    .colab-df-convert:hover {\n",
              "      background-color: #E2EBFA;\n",
              "      box-shadow: 0px 1px 2px rgba(60, 64, 67, 0.3), 0px 1px 3px 1px rgba(60, 64, 67, 0.15);\n",
              "      fill: #174EA6;\n",
              "    }\n",
              "\n",
              "    [theme=dark] .colab-df-convert {\n",
              "      background-color: #3B4455;\n",
              "      fill: #D2E3FC;\n",
              "    }\n",
              "\n",
              "    [theme=dark] .colab-df-convert:hover {\n",
              "      background-color: #434B5C;\n",
              "      box-shadow: 0px 1px 3px 1px rgba(0, 0, 0, 0.15);\n",
              "      filter: drop-shadow(0px 1px 2px rgba(0, 0, 0, 0.3));\n",
              "      fill: #FFFFFF;\n",
              "    }\n",
              "  </style>\n",
              "\n",
              "      <script>\n",
              "        const buttonEl =\n",
              "          document.querySelector('#df-66702ed6-b7a3-4766-b28c-8dcf91ced392 button.colab-df-convert');\n",
              "        buttonEl.style.display =\n",
              "          google.colab.kernel.accessAllowed ? 'block' : 'none';\n",
              "\n",
              "        async function convertToInteractive(key) {\n",
              "          const element = document.querySelector('#df-66702ed6-b7a3-4766-b28c-8dcf91ced392');\n",
              "          const dataTable =\n",
              "            await google.colab.kernel.invokeFunction('convertToInteractive',\n",
              "                                                     [key], {});\n",
              "          if (!dataTable) return;\n",
              "\n",
              "          const docLinkHtml = 'Like what you see? Visit the ' +\n",
              "            '<a target=\"_blank\" href=https://colab.research.google.com/notebooks/data_table.ipynb>data table notebook</a>'\n",
              "            + ' to learn more about interactive tables.';\n",
              "          element.innerHTML = '';\n",
              "          dataTable['output_type'] = 'display_data';\n",
              "          await google.colab.output.renderOutput(dataTable, element);\n",
              "          const docLink = document.createElement('div');\n",
              "          docLink.innerHTML = docLinkHtml;\n",
              "          element.appendChild(docLink);\n",
              "        }\n",
              "      </script>\n",
              "    </div>\n",
              "  </div>\n",
              "  "
            ]
          },
          "metadata": {},
          "execution_count": 60
        }
      ]
    },
    {
      "cell_type": "markdown",
      "source": [
        "---\n",
        "**Άσκηση 4**:\n",
        "\n",
        "Ταξινομήστε το dataframe ως προς το gdp_per_capita σε φθίνουσα σειρά και εμφανίστε ένα dataframe μόνο με τις στήλες country και gdp_per_capita"
      ],
      "metadata": {
        "id": "5qidJkbXqbhj"
      }
    },
    {
      "cell_type": "code",
      "source": [
        "df.sort_values('gdp_per_capita' , ascending=False)\n",
        "df[['country' , 'gdp_per_capita']]"
      ],
      "metadata": {
        "id": "B5wC5bwSrEZW",
        "colab": {
          "base_uri": "https://localhost:8080/",
          "height": 424
        },
        "outputId": "9143e72a-8a99-4922-8e8f-0cc336ddf179"
      },
      "execution_count": null,
      "outputs": [
        {
          "output_type": "execute_result",
          "data": {
            "text/plain": [
              "                 country  gdp_per_capita\n",
              "0            Afghanistan             663\n",
              "1                Albania            4195\n",
              "2                Algeria            5098\n",
              "3                 Angola            2446\n",
              "4    Antigua and Barbuda           12738\n",
              "..                   ...             ...\n",
              "183              Vietnam            1577\n",
              "184   West Bank and Gaza            7586\n",
              "185          Yemen, Rep.            2217\n",
              "186               Zambia            1035\n",
              "187             Zimbabwe             745\n",
              "\n",
              "[188 rows x 2 columns]"
            ],
            "text/html": [
              "\n",
              "  <div id=\"df-fcadff7f-53f4-4a2b-af0a-530dc71995f7\">\n",
              "    <div class=\"colab-df-container\">\n",
              "      <div>\n",
              "<style scoped>\n",
              "    .dataframe tbody tr th:only-of-type {\n",
              "        vertical-align: middle;\n",
              "    }\n",
              "\n",
              "    .dataframe tbody tr th {\n",
              "        vertical-align: top;\n",
              "    }\n",
              "\n",
              "    .dataframe thead th {\n",
              "        text-align: right;\n",
              "    }\n",
              "</style>\n",
              "<table border=\"1\" class=\"dataframe\">\n",
              "  <thead>\n",
              "    <tr style=\"text-align: right;\">\n",
              "      <th></th>\n",
              "      <th>country</th>\n",
              "      <th>gdp_per_capita</th>\n",
              "    </tr>\n",
              "  </thead>\n",
              "  <tbody>\n",
              "    <tr>\n",
              "      <th>0</th>\n",
              "      <td>Afghanistan</td>\n",
              "      <td>663</td>\n",
              "    </tr>\n",
              "    <tr>\n",
              "      <th>1</th>\n",
              "      <td>Albania</td>\n",
              "      <td>4195</td>\n",
              "    </tr>\n",
              "    <tr>\n",
              "      <th>2</th>\n",
              "      <td>Algeria</td>\n",
              "      <td>5098</td>\n",
              "    </tr>\n",
              "    <tr>\n",
              "      <th>3</th>\n",
              "      <td>Angola</td>\n",
              "      <td>2446</td>\n",
              "    </tr>\n",
              "    <tr>\n",
              "      <th>4</th>\n",
              "      <td>Antigua and Barbuda</td>\n",
              "      <td>12738</td>\n",
              "    </tr>\n",
              "    <tr>\n",
              "      <th>...</th>\n",
              "      <td>...</td>\n",
              "      <td>...</td>\n",
              "    </tr>\n",
              "    <tr>\n",
              "      <th>183</th>\n",
              "      <td>Vietnam</td>\n",
              "      <td>1577</td>\n",
              "    </tr>\n",
              "    <tr>\n",
              "      <th>184</th>\n",
              "      <td>West Bank and Gaza</td>\n",
              "      <td>7586</td>\n",
              "    </tr>\n",
              "    <tr>\n",
              "      <th>185</th>\n",
              "      <td>Yemen, Rep.</td>\n",
              "      <td>2217</td>\n",
              "    </tr>\n",
              "    <tr>\n",
              "      <th>186</th>\n",
              "      <td>Zambia</td>\n",
              "      <td>1035</td>\n",
              "    </tr>\n",
              "    <tr>\n",
              "      <th>187</th>\n",
              "      <td>Zimbabwe</td>\n",
              "      <td>745</td>\n",
              "    </tr>\n",
              "  </tbody>\n",
              "</table>\n",
              "<p>188 rows × 2 columns</p>\n",
              "</div>\n",
              "      <button class=\"colab-df-convert\" onclick=\"convertToInteractive('df-fcadff7f-53f4-4a2b-af0a-530dc71995f7')\"\n",
              "              title=\"Convert this dataframe to an interactive table.\"\n",
              "              style=\"display:none;\">\n",
              "        \n",
              "  <svg xmlns=\"http://www.w3.org/2000/svg\" height=\"24px\"viewBox=\"0 0 24 24\"\n",
              "       width=\"24px\">\n",
              "    <path d=\"M0 0h24v24H0V0z\" fill=\"none\"/>\n",
              "    <path d=\"M18.56 5.44l.94 2.06.94-2.06 2.06-.94-2.06-.94-.94-2.06-.94 2.06-2.06.94zm-11 1L8.5 8.5l.94-2.06 2.06-.94-2.06-.94L8.5 2.5l-.94 2.06-2.06.94zm10 10l.94 2.06.94-2.06 2.06-.94-2.06-.94-.94-2.06-.94 2.06-2.06.94z\"/><path d=\"M17.41 7.96l-1.37-1.37c-.4-.4-.92-.59-1.43-.59-.52 0-1.04.2-1.43.59L10.3 9.45l-7.72 7.72c-.78.78-.78 2.05 0 2.83L4 21.41c.39.39.9.59 1.41.59.51 0 1.02-.2 1.41-.59l7.78-7.78 2.81-2.81c.8-.78.8-2.07 0-2.86zM5.41 20L4 18.59l7.72-7.72 1.47 1.35L5.41 20z\"/>\n",
              "  </svg>\n",
              "      </button>\n",
              "      \n",
              "  <style>\n",
              "    .colab-df-container {\n",
              "      display:flex;\n",
              "      flex-wrap:wrap;\n",
              "      gap: 12px;\n",
              "    }\n",
              "\n",
              "    .colab-df-convert {\n",
              "      background-color: #E8F0FE;\n",
              "      border: none;\n",
              "      border-radius: 50%;\n",
              "      cursor: pointer;\n",
              "      display: none;\n",
              "      fill: #1967D2;\n",
              "      height: 32px;\n",
              "      padding: 0 0 0 0;\n",
              "      width: 32px;\n",
              "    }\n",
              "\n",
              "    .colab-df-convert:hover {\n",
              "      background-color: #E2EBFA;\n",
              "      box-shadow: 0px 1px 2px rgba(60, 64, 67, 0.3), 0px 1px 3px 1px rgba(60, 64, 67, 0.15);\n",
              "      fill: #174EA6;\n",
              "    }\n",
              "\n",
              "    [theme=dark] .colab-df-convert {\n",
              "      background-color: #3B4455;\n",
              "      fill: #D2E3FC;\n",
              "    }\n",
              "\n",
              "    [theme=dark] .colab-df-convert:hover {\n",
              "      background-color: #434B5C;\n",
              "      box-shadow: 0px 1px 3px 1px rgba(0, 0, 0, 0.15);\n",
              "      filter: drop-shadow(0px 1px 2px rgba(0, 0, 0, 0.3));\n",
              "      fill: #FFFFFF;\n",
              "    }\n",
              "  </style>\n",
              "\n",
              "      <script>\n",
              "        const buttonEl =\n",
              "          document.querySelector('#df-fcadff7f-53f4-4a2b-af0a-530dc71995f7 button.colab-df-convert');\n",
              "        buttonEl.style.display =\n",
              "          google.colab.kernel.accessAllowed ? 'block' : 'none';\n",
              "\n",
              "        async function convertToInteractive(key) {\n",
              "          const element = document.querySelector('#df-fcadff7f-53f4-4a2b-af0a-530dc71995f7');\n",
              "          const dataTable =\n",
              "            await google.colab.kernel.invokeFunction('convertToInteractive',\n",
              "                                                     [key], {});\n",
              "          if (!dataTable) return;\n",
              "\n",
              "          const docLinkHtml = 'Like what you see? Visit the ' +\n",
              "            '<a target=\"_blank\" href=https://colab.research.google.com/notebooks/data_table.ipynb>data table notebook</a>'\n",
              "            + ' to learn more about interactive tables.';\n",
              "          element.innerHTML = '';\n",
              "          dataTable['output_type'] = 'display_data';\n",
              "          await google.colab.output.renderOutput(dataTable, element);\n",
              "          const docLink = document.createElement('div');\n",
              "          docLink.innerHTML = docLinkHtml;\n",
              "          element.appendChild(docLink);\n",
              "        }\n",
              "      </script>\n",
              "    </div>\n",
              "  </div>\n",
              "  "
            ]
          },
          "metadata": {},
          "execution_count": 45
        }
      ]
    },
    {
      "cell_type": "markdown",
      "source": [
        "---"
      ],
      "metadata": {
        "id": "WIjLMX4irE4r"
      }
    },
    {
      "cell_type": "markdown",
      "source": [
        "### **7. Φιλτράρισμα**"
      ],
      "metadata": {
        "id": "AUn2VMHVZguH"
      }
    },
    {
      "cell_type": "markdown",
      "source": [
        "**7.1 Φιλτράρισμα στη βάση MIΑΣ συνθήκης (filtering based on ONE condition)**\n",
        "\n",
        "Όπως έχουμε δει στη for loop και στις if statements:\n",
        "* ο ορισμός μιας συνθήκης βασίζεται στις τιμές boolean **True/False**\n",
        "* υλοποιείται με τη χρήση τελεστών: **==**, **!=**, **<**, **>**, **<=**, **>=**"
      ],
      "metadata": {
        "id": "FGqwkfRss0c7"
      }
    },
    {
      "cell_type": "code",
      "source": [
        "# η τιμή της στήλης \"continent\" είναι \"Asia\"\n",
        "df['continent'] == 'Asia'"
      ],
      "metadata": {
        "id": "vvJQBgu1vj-k"
      },
      "execution_count": null,
      "outputs": []
    },
    {
      "cell_type": "markdown",
      "source": [
        "Για να δούμε το φιλτραρισμένο dataframe πρέπει να ζητήσουμε το dataframe και να βάλουμε τη συνθήκη του φιλτραρίσματος μέσα σε **square brackets**"
      ],
      "metadata": {
        "id": "HfcrD-DL--Hq"
      }
    },
    {
      "cell_type": "code",
      "source": [
        "# φέρε από το dataframe μόνο τα (5 πρώτα) rows, όπου η τιμή στη στήλη \"continent\" είναι \"Asia\"\n",
        "df[df['continent'] == 'Asia'].head()"
      ],
      "metadata": {
        "id": "XtuJVhHzydOa"
      },
      "execution_count": null,
      "outputs": []
    },
    {
      "cell_type": "code",
      "source": [
        "# φέρε από το dataframe μόνο τα (5 πρώτα) rows, όπου η τιμή στη στήλη \"gdp_per_capita\" είναι μεγαλύτερη από το μέσο όρο του \"gdp_per_capita\"\n",
        "df[df['gdp_per_capita'] > df['gdp_per_capita'].mean()].head()"
      ],
      "metadata": {
        "id": "ZeXodmW8zx1A",
        "colab": {
          "base_uri": "https://localhost:8080/",
          "height": 206
        },
        "outputId": "4b81262c-c47f-4093-9b39-5f6a5d113da9"
      },
      "execution_count": null,
      "outputs": [
        {
          "output_type": "execute_result",
          "data": {
            "text/plain": [
              "                country   continent  gdp_per_capita  life_expectancy  \\\n",
              "4   Antigua and Barbuda  N. America           12738           73.544   \n",
              "5             Argentina  S. America           10571           73.822   \n",
              "7             Australia     Oceania           29241           79.930   \n",
              "8               Austria      Europe           32008           78.330   \n",
              "10              Bahamas  N. America           22728           72.370   \n",
              "\n",
              "    population  \n",
              "4        77656  \n",
              "5     36930709  \n",
              "7     19164351  \n",
              "8      8004712  \n",
              "10      297651  "
            ],
            "text/html": [
              "\n",
              "  <div id=\"df-0eaa5348-947a-4739-9bd4-f1b804e09236\">\n",
              "    <div class=\"colab-df-container\">\n",
              "      <div>\n",
              "<style scoped>\n",
              "    .dataframe tbody tr th:only-of-type {\n",
              "        vertical-align: middle;\n",
              "    }\n",
              "\n",
              "    .dataframe tbody tr th {\n",
              "        vertical-align: top;\n",
              "    }\n",
              "\n",
              "    .dataframe thead th {\n",
              "        text-align: right;\n",
              "    }\n",
              "</style>\n",
              "<table border=\"1\" class=\"dataframe\">\n",
              "  <thead>\n",
              "    <tr style=\"text-align: right;\">\n",
              "      <th></th>\n",
              "      <th>country</th>\n",
              "      <th>continent</th>\n",
              "      <th>gdp_per_capita</th>\n",
              "      <th>life_expectancy</th>\n",
              "      <th>population</th>\n",
              "    </tr>\n",
              "  </thead>\n",
              "  <tbody>\n",
              "    <tr>\n",
              "      <th>4</th>\n",
              "      <td>Antigua and Barbuda</td>\n",
              "      <td>N. America</td>\n",
              "      <td>12738</td>\n",
              "      <td>73.544</td>\n",
              "      <td>77656</td>\n",
              "    </tr>\n",
              "    <tr>\n",
              "      <th>5</th>\n",
              "      <td>Argentina</td>\n",
              "      <td>S. America</td>\n",
              "      <td>10571</td>\n",
              "      <td>73.822</td>\n",
              "      <td>36930709</td>\n",
              "    </tr>\n",
              "    <tr>\n",
              "      <th>7</th>\n",
              "      <td>Australia</td>\n",
              "      <td>Oceania</td>\n",
              "      <td>29241</td>\n",
              "      <td>79.930</td>\n",
              "      <td>19164351</td>\n",
              "    </tr>\n",
              "    <tr>\n",
              "      <th>8</th>\n",
              "      <td>Austria</td>\n",
              "      <td>Europe</td>\n",
              "      <td>32008</td>\n",
              "      <td>78.330</td>\n",
              "      <td>8004712</td>\n",
              "    </tr>\n",
              "    <tr>\n",
              "      <th>10</th>\n",
              "      <td>Bahamas</td>\n",
              "      <td>N. America</td>\n",
              "      <td>22728</td>\n",
              "      <td>72.370</td>\n",
              "      <td>297651</td>\n",
              "    </tr>\n",
              "  </tbody>\n",
              "</table>\n",
              "</div>\n",
              "      <button class=\"colab-df-convert\" onclick=\"convertToInteractive('df-0eaa5348-947a-4739-9bd4-f1b804e09236')\"\n",
              "              title=\"Convert this dataframe to an interactive table.\"\n",
              "              style=\"display:none;\">\n",
              "        \n",
              "  <svg xmlns=\"http://www.w3.org/2000/svg\" height=\"24px\"viewBox=\"0 0 24 24\"\n",
              "       width=\"24px\">\n",
              "    <path d=\"M0 0h24v24H0V0z\" fill=\"none\"/>\n",
              "    <path d=\"M18.56 5.44l.94 2.06.94-2.06 2.06-.94-2.06-.94-.94-2.06-.94 2.06-2.06.94zm-11 1L8.5 8.5l.94-2.06 2.06-.94-2.06-.94L8.5 2.5l-.94 2.06-2.06.94zm10 10l.94 2.06.94-2.06 2.06-.94-2.06-.94-.94-2.06-.94 2.06-2.06.94z\"/><path d=\"M17.41 7.96l-1.37-1.37c-.4-.4-.92-.59-1.43-.59-.52 0-1.04.2-1.43.59L10.3 9.45l-7.72 7.72c-.78.78-.78 2.05 0 2.83L4 21.41c.39.39.9.59 1.41.59.51 0 1.02-.2 1.41-.59l7.78-7.78 2.81-2.81c.8-.78.8-2.07 0-2.86zM5.41 20L4 18.59l7.72-7.72 1.47 1.35L5.41 20z\"/>\n",
              "  </svg>\n",
              "      </button>\n",
              "      \n",
              "  <style>\n",
              "    .colab-df-container {\n",
              "      display:flex;\n",
              "      flex-wrap:wrap;\n",
              "      gap: 12px;\n",
              "    }\n",
              "\n",
              "    .colab-df-convert {\n",
              "      background-color: #E8F0FE;\n",
              "      border: none;\n",
              "      border-radius: 50%;\n",
              "      cursor: pointer;\n",
              "      display: none;\n",
              "      fill: #1967D2;\n",
              "      height: 32px;\n",
              "      padding: 0 0 0 0;\n",
              "      width: 32px;\n",
              "    }\n",
              "\n",
              "    .colab-df-convert:hover {\n",
              "      background-color: #E2EBFA;\n",
              "      box-shadow: 0px 1px 2px rgba(60, 64, 67, 0.3), 0px 1px 3px 1px rgba(60, 64, 67, 0.15);\n",
              "      fill: #174EA6;\n",
              "    }\n",
              "\n",
              "    [theme=dark] .colab-df-convert {\n",
              "      background-color: #3B4455;\n",
              "      fill: #D2E3FC;\n",
              "    }\n",
              "\n",
              "    [theme=dark] .colab-df-convert:hover {\n",
              "      background-color: #434B5C;\n",
              "      box-shadow: 0px 1px 3px 1px rgba(0, 0, 0, 0.15);\n",
              "      filter: drop-shadow(0px 1px 2px rgba(0, 0, 0, 0.3));\n",
              "      fill: #FFFFFF;\n",
              "    }\n",
              "  </style>\n",
              "\n",
              "      <script>\n",
              "        const buttonEl =\n",
              "          document.querySelector('#df-0eaa5348-947a-4739-9bd4-f1b804e09236 button.colab-df-convert');\n",
              "        buttonEl.style.display =\n",
              "          google.colab.kernel.accessAllowed ? 'block' : 'none';\n",
              "\n",
              "        async function convertToInteractive(key) {\n",
              "          const element = document.querySelector('#df-0eaa5348-947a-4739-9bd4-f1b804e09236');\n",
              "          const dataTable =\n",
              "            await google.colab.kernel.invokeFunction('convertToInteractive',\n",
              "                                                     [key], {});\n",
              "          if (!dataTable) return;\n",
              "\n",
              "          const docLinkHtml = 'Like what you see? Visit the ' +\n",
              "            '<a target=\"_blank\" href=https://colab.research.google.com/notebooks/data_table.ipynb>data table notebook</a>'\n",
              "            + ' to learn more about interactive tables.';\n",
              "          element.innerHTML = '';\n",
              "          dataTable['output_type'] = 'display_data';\n",
              "          await google.colab.output.renderOutput(dataTable, element);\n",
              "          const docLink = document.createElement('div');\n",
              "          docLink.innerHTML = docLinkHtml;\n",
              "          element.appendChild(docLink);\n",
              "        }\n",
              "      </script>\n",
              "    </div>\n",
              "  </div>\n",
              "  "
            ]
          },
          "metadata": {},
          "execution_count": 51
        }
      ]
    },
    {
      "cell_type": "markdown",
      "source": [
        "---\n",
        "**Άσκηση 5**:\n",
        "\n",
        "Βρείτε τις χώρες όπου το προσδόκιμο ζωής είναι μεγαλύτερο από το μέσο όρο και εμφανίστε ένα dataframe με τις στήλες country, life_expectancy και gdp_per_capita, ταξινομημένο ως προς το κατά κεφαλή gdp_per_capita με φθίνουσα σειρά \n",
        "\n",
        "(κάνετε όλα αυτά σε μια γραμμή κώδικα)"
      ],
      "metadata": {
        "id": "lD7kLPFinBrj"
      }
    },
    {
      "cell_type": "code",
      "source": [
        "df.country[df['life_expectancy'] > df['life_expectancy'].mean()]\n",
        "df[['country' , 'life_expectancy' , 'gdp_per_capita']].sort_values('gdp_per_capita' , ascending=False)"
      ],
      "metadata": {
        "id": "yhmBsXf4nnuJ",
        "colab": {
          "base_uri": "https://localhost:8080/",
          "height": 424
        },
        "outputId": "6586fd67-6065-45c6-9208-fba5ebce52ca"
      },
      "execution_count": 6,
      "outputs": [
        {
          "output_type": "execute_result",
          "data": {
            "text/plain": [
              "              country  life_expectancy  gdp_per_capita\n",
              "99         Luxembourg           77.820           63924\n",
              "135             Qatar           76.680           60394\n",
              "23             Brunei           75.927           48020\n",
              "125            Norway           78.760           43174\n",
              "178     United States           76.800           39758\n",
              "..                ...              ...             ...\n",
              "96            Liberia           52.424             519\n",
              "147      Sierra Leone           38.123             517\n",
              "54           Ethiopia           52.245             512\n",
              "26            Burundi           48.251             443\n",
              "37   Congo, Dem. Rep.           46.387             292\n",
              "\n",
              "[188 rows x 3 columns]"
            ],
            "text/html": [
              "\n",
              "  <div id=\"df-b7750f65-2b05-4997-8c81-6de4db07d949\">\n",
              "    <div class=\"colab-df-container\">\n",
              "      <div>\n",
              "<style scoped>\n",
              "    .dataframe tbody tr th:only-of-type {\n",
              "        vertical-align: middle;\n",
              "    }\n",
              "\n",
              "    .dataframe tbody tr th {\n",
              "        vertical-align: top;\n",
              "    }\n",
              "\n",
              "    .dataframe thead th {\n",
              "        text-align: right;\n",
              "    }\n",
              "</style>\n",
              "<table border=\"1\" class=\"dataframe\">\n",
              "  <thead>\n",
              "    <tr style=\"text-align: right;\">\n",
              "      <th></th>\n",
              "      <th>country</th>\n",
              "      <th>life_expectancy</th>\n",
              "      <th>gdp_per_capita</th>\n",
              "    </tr>\n",
              "  </thead>\n",
              "  <tbody>\n",
              "    <tr>\n",
              "      <th>99</th>\n",
              "      <td>Luxembourg</td>\n",
              "      <td>77.820</td>\n",
              "      <td>63924</td>\n",
              "    </tr>\n",
              "    <tr>\n",
              "      <th>135</th>\n",
              "      <td>Qatar</td>\n",
              "      <td>76.680</td>\n",
              "      <td>60394</td>\n",
              "    </tr>\n",
              "    <tr>\n",
              "      <th>23</th>\n",
              "      <td>Brunei</td>\n",
              "      <td>75.927</td>\n",
              "      <td>48020</td>\n",
              "    </tr>\n",
              "    <tr>\n",
              "      <th>125</th>\n",
              "      <td>Norway</td>\n",
              "      <td>78.760</td>\n",
              "      <td>43174</td>\n",
              "    </tr>\n",
              "    <tr>\n",
              "      <th>178</th>\n",
              "      <td>United States</td>\n",
              "      <td>76.800</td>\n",
              "      <td>39758</td>\n",
              "    </tr>\n",
              "    <tr>\n",
              "      <th>...</th>\n",
              "      <td>...</td>\n",
              "      <td>...</td>\n",
              "      <td>...</td>\n",
              "    </tr>\n",
              "    <tr>\n",
              "      <th>96</th>\n",
              "      <td>Liberia</td>\n",
              "      <td>52.424</td>\n",
              "      <td>519</td>\n",
              "    </tr>\n",
              "    <tr>\n",
              "      <th>147</th>\n",
              "      <td>Sierra Leone</td>\n",
              "      <td>38.123</td>\n",
              "      <td>517</td>\n",
              "    </tr>\n",
              "    <tr>\n",
              "      <th>54</th>\n",
              "      <td>Ethiopia</td>\n",
              "      <td>52.245</td>\n",
              "      <td>512</td>\n",
              "    </tr>\n",
              "    <tr>\n",
              "      <th>26</th>\n",
              "      <td>Burundi</td>\n",
              "      <td>48.251</td>\n",
              "      <td>443</td>\n",
              "    </tr>\n",
              "    <tr>\n",
              "      <th>37</th>\n",
              "      <td>Congo, Dem. Rep.</td>\n",
              "      <td>46.387</td>\n",
              "      <td>292</td>\n",
              "    </tr>\n",
              "  </tbody>\n",
              "</table>\n",
              "<p>188 rows × 3 columns</p>\n",
              "</div>\n",
              "      <button class=\"colab-df-convert\" onclick=\"convertToInteractive('df-b7750f65-2b05-4997-8c81-6de4db07d949')\"\n",
              "              title=\"Convert this dataframe to an interactive table.\"\n",
              "              style=\"display:none;\">\n",
              "        \n",
              "  <svg xmlns=\"http://www.w3.org/2000/svg\" height=\"24px\"viewBox=\"0 0 24 24\"\n",
              "       width=\"24px\">\n",
              "    <path d=\"M0 0h24v24H0V0z\" fill=\"none\"/>\n",
              "    <path d=\"M18.56 5.44l.94 2.06.94-2.06 2.06-.94-2.06-.94-.94-2.06-.94 2.06-2.06.94zm-11 1L8.5 8.5l.94-2.06 2.06-.94-2.06-.94L8.5 2.5l-.94 2.06-2.06.94zm10 10l.94 2.06.94-2.06 2.06-.94-2.06-.94-.94-2.06-.94 2.06-2.06.94z\"/><path d=\"M17.41 7.96l-1.37-1.37c-.4-.4-.92-.59-1.43-.59-.52 0-1.04.2-1.43.59L10.3 9.45l-7.72 7.72c-.78.78-.78 2.05 0 2.83L4 21.41c.39.39.9.59 1.41.59.51 0 1.02-.2 1.41-.59l7.78-7.78 2.81-2.81c.8-.78.8-2.07 0-2.86zM5.41 20L4 18.59l7.72-7.72 1.47 1.35L5.41 20z\"/>\n",
              "  </svg>\n",
              "      </button>\n",
              "      \n",
              "  <style>\n",
              "    .colab-df-container {\n",
              "      display:flex;\n",
              "      flex-wrap:wrap;\n",
              "      gap: 12px;\n",
              "    }\n",
              "\n",
              "    .colab-df-convert {\n",
              "      background-color: #E8F0FE;\n",
              "      border: none;\n",
              "      border-radius: 50%;\n",
              "      cursor: pointer;\n",
              "      display: none;\n",
              "      fill: #1967D2;\n",
              "      height: 32px;\n",
              "      padding: 0 0 0 0;\n",
              "      width: 32px;\n",
              "    }\n",
              "\n",
              "    .colab-df-convert:hover {\n",
              "      background-color: #E2EBFA;\n",
              "      box-shadow: 0px 1px 2px rgba(60, 64, 67, 0.3), 0px 1px 3px 1px rgba(60, 64, 67, 0.15);\n",
              "      fill: #174EA6;\n",
              "    }\n",
              "\n",
              "    [theme=dark] .colab-df-convert {\n",
              "      background-color: #3B4455;\n",
              "      fill: #D2E3FC;\n",
              "    }\n",
              "\n",
              "    [theme=dark] .colab-df-convert:hover {\n",
              "      background-color: #434B5C;\n",
              "      box-shadow: 0px 1px 3px 1px rgba(0, 0, 0, 0.15);\n",
              "      filter: drop-shadow(0px 1px 2px rgba(0, 0, 0, 0.3));\n",
              "      fill: #FFFFFF;\n",
              "    }\n",
              "  </style>\n",
              "\n",
              "      <script>\n",
              "        const buttonEl =\n",
              "          document.querySelector('#df-b7750f65-2b05-4997-8c81-6de4db07d949 button.colab-df-convert');\n",
              "        buttonEl.style.display =\n",
              "          google.colab.kernel.accessAllowed ? 'block' : 'none';\n",
              "\n",
              "        async function convertToInteractive(key) {\n",
              "          const element = document.querySelector('#df-b7750f65-2b05-4997-8c81-6de4db07d949');\n",
              "          const dataTable =\n",
              "            await google.colab.kernel.invokeFunction('convertToInteractive',\n",
              "                                                     [key], {});\n",
              "          if (!dataTable) return;\n",
              "\n",
              "          const docLinkHtml = 'Like what you see? Visit the ' +\n",
              "            '<a target=\"_blank\" href=https://colab.research.google.com/notebooks/data_table.ipynb>data table notebook</a>'\n",
              "            + ' to learn more about interactive tables.';\n",
              "          element.innerHTML = '';\n",
              "          dataTable['output_type'] = 'display_data';\n",
              "          await google.colab.output.renderOutput(dataTable, element);\n",
              "          const docLink = document.createElement('div');\n",
              "          docLink.innerHTML = docLinkHtml;\n",
              "          element.appendChild(docLink);\n",
              "        }\n",
              "      </script>\n",
              "    </div>\n",
              "  </div>\n",
              "  "
            ]
          },
          "metadata": {},
          "execution_count": 6
        }
      ]
    },
    {
      "cell_type": "markdown",
      "source": [
        "---"
      ],
      "metadata": {
        "id": "aOZUwlxPDE2o"
      }
    },
    {
      "cell_type": "markdown",
      "source": [
        "**7.2 Φιλτράρισμα βάση ΠΟΛΛΩΝ συνθηκών (filtering based on multiple conditions)**\n",
        "\n",
        "Ο έλεγχος γίνεται με τη χρήση **λογικών τελεστών**:\n",
        "* **&** (and): η συνολική συνθήκη είναι True όταν **και οι δύο** συνθήκες είναι True\n",
        "* **|** (or): η συνολική συνθήκη είναι True όταν **έστω η μία** συνθήκη είναι True\n",
        "\n",
        "Η κάθε συνθήκη μπαίνει **μέσα σε παρένθεση**"
      ],
      "metadata": {
        "id": "PIcfUlv30ZRF"
      }
    },
    {
      "cell_type": "code",
      "source": [
        "# φέρε από το dataframe μόνο τα (5 πρώτα) rows, όπου η ήπειρος είναι η Ασία ΚΑΙ το κατά κεφαλήν ΑΕΠ είναι μεγαλύτερο από το μ.ο.\n",
        "df[(df['continent'] == 'Asia') & (df['gdp_per_capita'] > df['gdp_per_capita'].mean())].head()"
      ],
      "metadata": {
        "id": "4tomgIsy1DA-",
        "colab": {
          "base_uri": "https://localhost:8080/",
          "height": 206
        },
        "outputId": "7a631a80-906c-44b0-cfca-486059be8172"
      },
      "execution_count": 7,
      "outputs": [
        {
          "output_type": "execute_result",
          "data": {
            "text/plain": [
              "             country continent  gdp_per_capita  life_expectancy  population\n",
              "11           Bahrain      Asia           22015           74.497      638193\n",
              "23            Brunei      Asia           48020           75.927      327036\n",
              "72  Hong Kong, China      Asia           29972           80.361     6783317\n",
              "80            Israel      Asia           22834           78.750     6014953\n",
              "83             Japan      Asia           28559           81.350   125720310"
            ],
            "text/html": [
              "\n",
              "  <div id=\"df-350b2c88-7351-4483-84ec-73973a31b9dd\">\n",
              "    <div class=\"colab-df-container\">\n",
              "      <div>\n",
              "<style scoped>\n",
              "    .dataframe tbody tr th:only-of-type {\n",
              "        vertical-align: middle;\n",
              "    }\n",
              "\n",
              "    .dataframe tbody tr th {\n",
              "        vertical-align: top;\n",
              "    }\n",
              "\n",
              "    .dataframe thead th {\n",
              "        text-align: right;\n",
              "    }\n",
              "</style>\n",
              "<table border=\"1\" class=\"dataframe\">\n",
              "  <thead>\n",
              "    <tr style=\"text-align: right;\">\n",
              "      <th></th>\n",
              "      <th>country</th>\n",
              "      <th>continent</th>\n",
              "      <th>gdp_per_capita</th>\n",
              "      <th>life_expectancy</th>\n",
              "      <th>population</th>\n",
              "    </tr>\n",
              "  </thead>\n",
              "  <tbody>\n",
              "    <tr>\n",
              "      <th>11</th>\n",
              "      <td>Bahrain</td>\n",
              "      <td>Asia</td>\n",
              "      <td>22015</td>\n",
              "      <td>74.497</td>\n",
              "      <td>638193</td>\n",
              "    </tr>\n",
              "    <tr>\n",
              "      <th>23</th>\n",
              "      <td>Brunei</td>\n",
              "      <td>Asia</td>\n",
              "      <td>48020</td>\n",
              "      <td>75.927</td>\n",
              "      <td>327036</td>\n",
              "    </tr>\n",
              "    <tr>\n",
              "      <th>72</th>\n",
              "      <td>Hong Kong, China</td>\n",
              "      <td>Asia</td>\n",
              "      <td>29972</td>\n",
              "      <td>80.361</td>\n",
              "      <td>6783317</td>\n",
              "    </tr>\n",
              "    <tr>\n",
              "      <th>80</th>\n",
              "      <td>Israel</td>\n",
              "      <td>Asia</td>\n",
              "      <td>22834</td>\n",
              "      <td>78.750</td>\n",
              "      <td>6014953</td>\n",
              "    </tr>\n",
              "    <tr>\n",
              "      <th>83</th>\n",
              "      <td>Japan</td>\n",
              "      <td>Asia</td>\n",
              "      <td>28559</td>\n",
              "      <td>81.350</td>\n",
              "      <td>125720310</td>\n",
              "    </tr>\n",
              "  </tbody>\n",
              "</table>\n",
              "</div>\n",
              "      <button class=\"colab-df-convert\" onclick=\"convertToInteractive('df-350b2c88-7351-4483-84ec-73973a31b9dd')\"\n",
              "              title=\"Convert this dataframe to an interactive table.\"\n",
              "              style=\"display:none;\">\n",
              "        \n",
              "  <svg xmlns=\"http://www.w3.org/2000/svg\" height=\"24px\"viewBox=\"0 0 24 24\"\n",
              "       width=\"24px\">\n",
              "    <path d=\"M0 0h24v24H0V0z\" fill=\"none\"/>\n",
              "    <path d=\"M18.56 5.44l.94 2.06.94-2.06 2.06-.94-2.06-.94-.94-2.06-.94 2.06-2.06.94zm-11 1L8.5 8.5l.94-2.06 2.06-.94-2.06-.94L8.5 2.5l-.94 2.06-2.06.94zm10 10l.94 2.06.94-2.06 2.06-.94-2.06-.94-.94-2.06-.94 2.06-2.06.94z\"/><path d=\"M17.41 7.96l-1.37-1.37c-.4-.4-.92-.59-1.43-.59-.52 0-1.04.2-1.43.59L10.3 9.45l-7.72 7.72c-.78.78-.78 2.05 0 2.83L4 21.41c.39.39.9.59 1.41.59.51 0 1.02-.2 1.41-.59l7.78-7.78 2.81-2.81c.8-.78.8-2.07 0-2.86zM5.41 20L4 18.59l7.72-7.72 1.47 1.35L5.41 20z\"/>\n",
              "  </svg>\n",
              "      </button>\n",
              "      \n",
              "  <style>\n",
              "    .colab-df-container {\n",
              "      display:flex;\n",
              "      flex-wrap:wrap;\n",
              "      gap: 12px;\n",
              "    }\n",
              "\n",
              "    .colab-df-convert {\n",
              "      background-color: #E8F0FE;\n",
              "      border: none;\n",
              "      border-radius: 50%;\n",
              "      cursor: pointer;\n",
              "      display: none;\n",
              "      fill: #1967D2;\n",
              "      height: 32px;\n",
              "      padding: 0 0 0 0;\n",
              "      width: 32px;\n",
              "    }\n",
              "\n",
              "    .colab-df-convert:hover {\n",
              "      background-color: #E2EBFA;\n",
              "      box-shadow: 0px 1px 2px rgba(60, 64, 67, 0.3), 0px 1px 3px 1px rgba(60, 64, 67, 0.15);\n",
              "      fill: #174EA6;\n",
              "    }\n",
              "\n",
              "    [theme=dark] .colab-df-convert {\n",
              "      background-color: #3B4455;\n",
              "      fill: #D2E3FC;\n",
              "    }\n",
              "\n",
              "    [theme=dark] .colab-df-convert:hover {\n",
              "      background-color: #434B5C;\n",
              "      box-shadow: 0px 1px 3px 1px rgba(0, 0, 0, 0.15);\n",
              "      filter: drop-shadow(0px 1px 2px rgba(0, 0, 0, 0.3));\n",
              "      fill: #FFFFFF;\n",
              "    }\n",
              "  </style>\n",
              "\n",
              "      <script>\n",
              "        const buttonEl =\n",
              "          document.querySelector('#df-350b2c88-7351-4483-84ec-73973a31b9dd button.colab-df-convert');\n",
              "        buttonEl.style.display =\n",
              "          google.colab.kernel.accessAllowed ? 'block' : 'none';\n",
              "\n",
              "        async function convertToInteractive(key) {\n",
              "          const element = document.querySelector('#df-350b2c88-7351-4483-84ec-73973a31b9dd');\n",
              "          const dataTable =\n",
              "            await google.colab.kernel.invokeFunction('convertToInteractive',\n",
              "                                                     [key], {});\n",
              "          if (!dataTable) return;\n",
              "\n",
              "          const docLinkHtml = 'Like what you see? Visit the ' +\n",
              "            '<a target=\"_blank\" href=https://colab.research.google.com/notebooks/data_table.ipynb>data table notebook</a>'\n",
              "            + ' to learn more about interactive tables.';\n",
              "          element.innerHTML = '';\n",
              "          dataTable['output_type'] = 'display_data';\n",
              "          await google.colab.output.renderOutput(dataTable, element);\n",
              "          const docLink = document.createElement('div');\n",
              "          docLink.innerHTML = docLinkHtml;\n",
              "          element.appendChild(docLink);\n",
              "        }\n",
              "      </script>\n",
              "    </div>\n",
              "  </div>\n",
              "  "
            ]
          },
          "metadata": {},
          "execution_count": 7
        }
      ]
    },
    {
      "cell_type": "code",
      "source": [
        "# μέτρησε (count()) πόσες εγγραφές υπάρχουν στο dataframe, όπου:\n",
        "# ΕΙΤΕ το προσδόκιμο ζωής είναι μικρότερο από το μ.ο.\n",
        "# ΕΙΤΕ το κατά κεφαλήν ΑΕΠ είναι μικρότερο από το μ.ο.\n",
        "df[(df['life_expectancy'] < df['life_expectancy'].mean()) | (df['gdp_per_capita'] < df['gdp_per_capita'].mean())].count()"
      ],
      "metadata": {
        "id": "ub2pfgep3aUD"
      },
      "execution_count": null,
      "outputs": []
    },
    {
      "cell_type": "code",
      "source": [
        "# ίδια συνθήκη με παραπάνω, αλλά φέρε (τις 5 πρώτες σειρές από) το dataframe ταξινομημένο σε αύξουσα σειρά με βάση τη στήλη 'country'  \n",
        "df[(df['life_expectancy'] < df['life_expectancy'].mean()) | (df['gdp_per_capita'] < df['gdp_per_capita'].mean())].sort_values('country').head()"
      ],
      "metadata": {
        "id": "F71aOLW_FWYt"
      },
      "execution_count": null,
      "outputs": []
    },
    {
      "cell_type": "markdown",
      "source": [
        "---\n",
        "**Άσκηση 6**: \n",
        "\n",
        "Βρείτε τις χώρες της Ασίας όπου το προσδόκιμο ζωής είναι κάτω από 64 και ταξινομήστε τες σε αύξουσα σειρά (ως προς το όνομα των χωρών). Εμφανίστε τις 5 πρώτες.\n"
      ],
      "metadata": {
        "id": "fVQFvBXel05-"
      }
    },
    {
      "cell_type": "code",
      "source": [
        "df.country[df['life_expectancy'] < 64].sort_values().head()"
      ],
      "metadata": {
        "id": "8cwKa4_ki2UM",
        "colab": {
          "base_uri": "https://localhost:8080/"
        },
        "outputId": "2ac14517-7981-4e25-afdd-8382b87e2f15"
      },
      "execution_count": 8,
      "outputs": [
        {
          "output_type": "execute_result",
          "data": {
            "text/plain": [
              "0     Afghanistan\n",
              "3          Angola\n",
              "17          Benin\n",
              "18         Bhutan\n",
              "19        Bolivia\n",
              "Name: country, dtype: object"
            ]
          },
          "metadata": {},
          "execution_count": 8
        }
      ]
    },
    {
      "cell_type": "markdown",
      "source": [
        "---\n",
        "**Άσκηση 7**: Βρείτε τη χώρα με το μικρότερο προσδόκιμο ζωής [min()]"
      ],
      "metadata": {
        "id": "BSxv5U6VwcwK"
      }
    },
    {
      "cell_type": "code",
      "source": [
        "df[['country' , 'life_expectancy']].min()"
      ],
      "metadata": {
        "id": "yS1TYq7luq4S",
        "colab": {
          "base_uri": "https://localhost:8080/"
        },
        "outputId": "9dbf4480-6573-4515-97cf-b1be7b455096"
      },
      "execution_count": 9,
      "outputs": [
        {
          "output_type": "execute_result",
          "data": {
            "text/plain": [
              "country            Afghanistan\n",
              "life_expectancy         38.123\n",
              "dtype: object"
            ]
          },
          "metadata": {},
          "execution_count": 9
        }
      ]
    },
    {
      "cell_type": "markdown",
      "source": [
        "---\n",
        "\n",
        "**Άσκηση 8**: Βρείτε τις χώρες όπου το προσδόκιμο ζωής είναι από ένα χρόνο κάτω έως ένα χρόνο πάνω του μέσου όρου"
      ],
      "metadata": {
        "id": "TvbzLVB5zJE2"
      }
    },
    {
      "cell_type": "code",
      "source": [
        "df.country[(df['life_expectancy']> 1) & (df['life_expectancy']< 1)].mean() #εχω φαει ηττα απο αυτην εδω την ασκηση lol "
      ],
      "metadata": {
        "id": "tygppC6HyKU7",
        "colab": {
          "base_uri": "https://localhost:8080/"
        },
        "outputId": "85b88ad2-bd6e-421a-a29d-69a7aec34cef"
      },
      "execution_count": 10,
      "outputs": [
        {
          "output_type": "execute_result",
          "data": {
            "text/plain": [
              "nan"
            ]
          },
          "metadata": {},
          "execution_count": 10
        }
      ]
    },
    {
      "cell_type": "markdown",
      "source": [
        "---"
      ],
      "metadata": {
        "id": "E12TU0eVmOyN"
      }
    },
    {
      "cell_type": "markdown",
      "source": [
        "### **8. Ομαδοποίηση** group_by()\n",
        "\n",
        "Με την ομαδοποίηση μπορούμε να πάρουμε στατιστικές πληροφορίες για υποσύνολα των δεδομένων μας. Π.χ. αν έχουμε ένα dataset με την πρόθεση ψήφου, ενός δείγματος ερωτώμενων, εφόσον έχουμε καταχωρήσει και το φύλλο του ερωτώμενου, μπορούμε να δούμε τυχόν διαφοροποιήσεις στην προτίμηση ανάμεσα στα φύλλα.\n",
        "\n",
        "Δηλαδή, θέλουμε να κάνουμε ομαδοποίηση για να δούμε συνήθως πόσες εγγραφές (count) είναι σε κάθε ομάδα, ποιος είναι ο μέσος όρος των τιμών (mean) μιας στήλης (ή περισσότερων στηλών) για κάθε ομάδα, ή το min, το max, το sum κλπ."
      ],
      "metadata": {
        "id": "M4WaL0YocTch"
      }
    },
    {
      "cell_type": "code",
      "source": [
        "# γκρουπάρισμα ανά ήπειρο και εύρεση του μ.ο. του κατά κεφαλή ΑΕΠ ανά γκρουπ\n",
        "df.groupby(\"continent\")[\"gdp_per_capita\"].mean()"
      ],
      "metadata": {
        "id": "nHTL3AFZP8Q5",
        "colab": {
          "base_uri": "https://localhost:8080/"
        },
        "outputId": "ef3b8851-c5c3-44fa-de88-a0b991a95043"
      },
      "execution_count": 11,
      "outputs": [
        {
          "output_type": "execute_result",
          "data": {
            "text/plain": [
              "continent\n",
              "Africa         2621.648148\n",
              "Asia          11106.437500\n",
              "Europe        18647.880952\n",
              "N. America    11665.681818\n",
              "Oceania        8038.400000\n",
              "S. America     6738.583333\n",
              "Name: gdp_per_capita, dtype: float64"
            ]
          },
          "metadata": {},
          "execution_count": 11
        }
      ]
    },
    {
      "cell_type": "code",
      "source": [
        "# το παραπάνω με στρογγυλοποίηση\n",
        "df.groupby(\"continent\")[\"gdp_per_capita\"].mean().round(2)"
      ],
      "metadata": {
        "id": "nSw_7s_oSAZx",
        "colab": {
          "base_uri": "https://localhost:8080/"
        },
        "outputId": "f422704f-755c-4764-f029-963c19d895d7"
      },
      "execution_count": 12,
      "outputs": [
        {
          "output_type": "execute_result",
          "data": {
            "text/plain": [
              "continent\n",
              "Africa         2621.65\n",
              "Asia          11106.44\n",
              "Europe        18647.88\n",
              "N. America    11665.68\n",
              "Oceania        8038.40\n",
              "S. America     6738.58\n",
              "Name: gdp_per_capita, dtype: float64"
            ]
          },
          "metadata": {},
          "execution_count": 12
        }
      ]
    },
    {
      "cell_type": "markdown",
      "source": [
        "---\n",
        "**Άσκηση 9**: \n",
        "\n",
        "Βρείτε το συνολικό πληθυσμό (sum) σε κάθε ήπειρο "
      ],
      "metadata": {
        "id": "eJ1aUzZNkstY"
      }
    },
    {
      "cell_type": "code",
      "source": [
        "# γκρουπάρισμα ανά ήπειρο και εύρεση του συνολικού πληθυσμού της\n",
        "df.groupby('continent') ['population'].sum()"
      ],
      "metadata": {
        "id": "DtLeMhJthBMC",
        "colab": {
          "base_uri": "https://localhost:8080/"
        },
        "outputId": "85a23c0d-64ed-4e18-83f9-21ffb19d153a"
      },
      "execution_count": 13,
      "outputs": [
        {
          "output_type": "execute_result",
          "data": {
            "text/plain": [
              "continent\n",
              "Africa         809892820\n",
              "Asia          3849172861\n",
              "Europe         596440013\n",
              "N. America     481999240\n",
              "Oceania         30272328\n",
              "S. America     347265096\n",
              "Name: population, dtype: int64"
            ]
          },
          "metadata": {},
          "execution_count": 13
        }
      ]
    },
    {
      "cell_type": "markdown",
      "source": [
        "---\n",
        "\n",
        "**Άσκηση 10**: \n",
        "\n",
        "Βρείτε σε ποιες ηπείρους ο μέσος όρος του προσδόκιμου ζωής είναι μικρότερος από 55"
      ],
      "metadata": {
        "id": "PfoEAcf0lFLM"
      }
    },
    {
      "cell_type": "code",
      "source": [
        "df.groupby('continent')['life_expectancy'].sum() < 55"
      ],
      "metadata": {
        "id": "8Hn1K82wjEdB",
        "colab": {
          "base_uri": "https://localhost:8080/"
        },
        "outputId": "c8a1d744-cdf2-4434-d89e-fa8af06de876"
      },
      "execution_count": 14,
      "outputs": [
        {
          "output_type": "execute_result",
          "data": {
            "text/plain": [
              "continent\n",
              "Africa        False\n",
              "Asia          False\n",
              "Europe        False\n",
              "N. America    False\n",
              "Oceania       False\n",
              "S. America    False\n",
              "Name: life_expectancy, dtype: bool"
            ]
          },
          "metadata": {},
          "execution_count": 14
        }
      ]
    },
    {
      "cell_type": "markdown",
      "source": [
        "---\n",
        "**Άσκηση 11**:\n",
        "\n",
        "Βρείτε πόσες χώρες υπάρχουν σε κάθε ήπειρο (count) και ταξινομήστε το αποτέλεσμα σε φθίνουσα σειρά\n"
      ],
      "metadata": {
        "id": "vRQgku8T2XZx"
      }
    },
    {
      "cell_type": "code",
      "source": [
        "df.groupby('continent')['country'].count().sort_values(ascending=False)"
      ],
      "metadata": {
        "id": "f6-PSUiK2lUQ",
        "colab": {
          "base_uri": "https://localhost:8080/"
        },
        "outputId": "c95658cd-e14d-4f88-8b57-68b881669fba"
      },
      "execution_count": 15,
      "outputs": [
        {
          "output_type": "execute_result",
          "data": {
            "text/plain": [
              "continent\n",
              "Africa        54\n",
              "Asia          48\n",
              "Europe        42\n",
              "N. America    22\n",
              "S. America    12\n",
              "Oceania       10\n",
              "Name: country, dtype: int64"
            ]
          },
          "metadata": {},
          "execution_count": 15
        }
      ]
    },
    {
      "cell_type": "markdown",
      "source": [
        "---"
      ],
      "metadata": {
        "id": "n1USRLC1Dc6A"
      }
    },
    {
      "cell_type": "markdown",
      "source": [
        "### **9. Αλλαγές στο dataframe**\n",
        "\n",
        "Μέχρι εδώ, απλώς επισκοπούσαμε το dataframe, χωρίς να το πειράζουμε. Όλα τα φιλτραρίσματα, οι στρογγυλοποιήσεις, οι ταξινομήσεις και οι ομαδοποιήσεις δεν έχουν αποθηκευτεί. Το dataframe εξακολουθεί να είναι όπως το ανοίξαμε."
      ],
      "metadata": {
        "id": "tcUdFuOkDgfa"
      }
    },
    {
      "cell_type": "code",
      "source": [
        "df.head()"
      ],
      "metadata": {
        "id": "m8pWdrP5EfQy"
      },
      "execution_count": null,
      "outputs": []
    },
    {
      "cell_type": "markdown",
      "source": [
        "**9.1 Αριθμητικές πράξεις σε όλες τις τιμές μιας στήλης**"
      ],
      "metadata": {
        "id": "uogFIpIplMG5"
      }
    },
    {
      "cell_type": "code",
      "source": [
        "# μετατροπή του πληθυσμού σε εκατομμύρια\n",
        "df['population'] / 1000000"
      ],
      "metadata": {
        "id": "jajqw1wvE80J",
        "colab": {
          "base_uri": "https://localhost:8080/"
        },
        "outputId": "51ca5073-dd6c-4fef-d16c-9215a365ea9b"
      },
      "execution_count": 16,
      "outputs": [
        {
          "output_type": "execute_result",
          "data": {
            "text/plain": [
              "0      22.856302\n",
              "1       3.071856\n",
              "2      30.533827\n",
              "3      13.926373\n",
              "4       0.077656\n",
              "         ...    \n",
              "183    78.758010\n",
              "184     3.198560\n",
              "185    17.723186\n",
              "186    10.201562\n",
              "187    12.509477\n",
              "Name: population, Length: 188, dtype: float64"
            ]
          },
          "metadata": {},
          "execution_count": 16
        }
      ]
    },
    {
      "cell_type": "markdown",
      "source": [
        "**9.2 Aποθήκευση του αποτελέσματος σε νέα στήλη**"
      ],
      "metadata": {
        "id": "Y-8Au3nVmIC6"
      }
    },
    {
      "cell_type": "code",
      "source": [
        "df['millions'] = df['population'] /1000000\n",
        "df.head()"
      ],
      "metadata": {
        "id": "92c7-kSrE7qf",
        "colab": {
          "base_uri": "https://localhost:8080/",
          "height": 206
        },
        "outputId": "07a03838-57fc-4a5a-b710-0efc140b1389"
      },
      "execution_count": 17,
      "outputs": [
        {
          "output_type": "execute_result",
          "data": {
            "text/plain": [
              "               country   continent  gdp_per_capita  life_expectancy  \\\n",
              "0          Afghanistan        Asia             663           54.863   \n",
              "1              Albania      Europe            4195           74.200   \n",
              "2              Algeria      Africa            5098           68.963   \n",
              "3               Angola      Africa            2446           45.234   \n",
              "4  Antigua and Barbuda  N. America           12738           73.544   \n",
              "\n",
              "   population   millions  \n",
              "0    22856302  22.856302  \n",
              "1     3071856   3.071856  \n",
              "2    30533827  30.533827  \n",
              "3    13926373  13.926373  \n",
              "4       77656   0.077656  "
            ],
            "text/html": [
              "\n",
              "  <div id=\"df-10d01898-2006-439b-a027-ad11dad12900\">\n",
              "    <div class=\"colab-df-container\">\n",
              "      <div>\n",
              "<style scoped>\n",
              "    .dataframe tbody tr th:only-of-type {\n",
              "        vertical-align: middle;\n",
              "    }\n",
              "\n",
              "    .dataframe tbody tr th {\n",
              "        vertical-align: top;\n",
              "    }\n",
              "\n",
              "    .dataframe thead th {\n",
              "        text-align: right;\n",
              "    }\n",
              "</style>\n",
              "<table border=\"1\" class=\"dataframe\">\n",
              "  <thead>\n",
              "    <tr style=\"text-align: right;\">\n",
              "      <th></th>\n",
              "      <th>country</th>\n",
              "      <th>continent</th>\n",
              "      <th>gdp_per_capita</th>\n",
              "      <th>life_expectancy</th>\n",
              "      <th>population</th>\n",
              "      <th>millions</th>\n",
              "    </tr>\n",
              "  </thead>\n",
              "  <tbody>\n",
              "    <tr>\n",
              "      <th>0</th>\n",
              "      <td>Afghanistan</td>\n",
              "      <td>Asia</td>\n",
              "      <td>663</td>\n",
              "      <td>54.863</td>\n",
              "      <td>22856302</td>\n",
              "      <td>22.856302</td>\n",
              "    </tr>\n",
              "    <tr>\n",
              "      <th>1</th>\n",
              "      <td>Albania</td>\n",
              "      <td>Europe</td>\n",
              "      <td>4195</td>\n",
              "      <td>74.200</td>\n",
              "      <td>3071856</td>\n",
              "      <td>3.071856</td>\n",
              "    </tr>\n",
              "    <tr>\n",
              "      <th>2</th>\n",
              "      <td>Algeria</td>\n",
              "      <td>Africa</td>\n",
              "      <td>5098</td>\n",
              "      <td>68.963</td>\n",
              "      <td>30533827</td>\n",
              "      <td>30.533827</td>\n",
              "    </tr>\n",
              "    <tr>\n",
              "      <th>3</th>\n",
              "      <td>Angola</td>\n",
              "      <td>Africa</td>\n",
              "      <td>2446</td>\n",
              "      <td>45.234</td>\n",
              "      <td>13926373</td>\n",
              "      <td>13.926373</td>\n",
              "    </tr>\n",
              "    <tr>\n",
              "      <th>4</th>\n",
              "      <td>Antigua and Barbuda</td>\n",
              "      <td>N. America</td>\n",
              "      <td>12738</td>\n",
              "      <td>73.544</td>\n",
              "      <td>77656</td>\n",
              "      <td>0.077656</td>\n",
              "    </tr>\n",
              "  </tbody>\n",
              "</table>\n",
              "</div>\n",
              "      <button class=\"colab-df-convert\" onclick=\"convertToInteractive('df-10d01898-2006-439b-a027-ad11dad12900')\"\n",
              "              title=\"Convert this dataframe to an interactive table.\"\n",
              "              style=\"display:none;\">\n",
              "        \n",
              "  <svg xmlns=\"http://www.w3.org/2000/svg\" height=\"24px\"viewBox=\"0 0 24 24\"\n",
              "       width=\"24px\">\n",
              "    <path d=\"M0 0h24v24H0V0z\" fill=\"none\"/>\n",
              "    <path d=\"M18.56 5.44l.94 2.06.94-2.06 2.06-.94-2.06-.94-.94-2.06-.94 2.06-2.06.94zm-11 1L8.5 8.5l.94-2.06 2.06-.94-2.06-.94L8.5 2.5l-.94 2.06-2.06.94zm10 10l.94 2.06.94-2.06 2.06-.94-2.06-.94-.94-2.06-.94 2.06-2.06.94z\"/><path d=\"M17.41 7.96l-1.37-1.37c-.4-.4-.92-.59-1.43-.59-.52 0-1.04.2-1.43.59L10.3 9.45l-7.72 7.72c-.78.78-.78 2.05 0 2.83L4 21.41c.39.39.9.59 1.41.59.51 0 1.02-.2 1.41-.59l7.78-7.78 2.81-2.81c.8-.78.8-2.07 0-2.86zM5.41 20L4 18.59l7.72-7.72 1.47 1.35L5.41 20z\"/>\n",
              "  </svg>\n",
              "      </button>\n",
              "      \n",
              "  <style>\n",
              "    .colab-df-container {\n",
              "      display:flex;\n",
              "      flex-wrap:wrap;\n",
              "      gap: 12px;\n",
              "    }\n",
              "\n",
              "    .colab-df-convert {\n",
              "      background-color: #E8F0FE;\n",
              "      border: none;\n",
              "      border-radius: 50%;\n",
              "      cursor: pointer;\n",
              "      display: none;\n",
              "      fill: #1967D2;\n",
              "      height: 32px;\n",
              "      padding: 0 0 0 0;\n",
              "      width: 32px;\n",
              "    }\n",
              "\n",
              "    .colab-df-convert:hover {\n",
              "      background-color: #E2EBFA;\n",
              "      box-shadow: 0px 1px 2px rgba(60, 64, 67, 0.3), 0px 1px 3px 1px rgba(60, 64, 67, 0.15);\n",
              "      fill: #174EA6;\n",
              "    }\n",
              "\n",
              "    [theme=dark] .colab-df-convert {\n",
              "      background-color: #3B4455;\n",
              "      fill: #D2E3FC;\n",
              "    }\n",
              "\n",
              "    [theme=dark] .colab-df-convert:hover {\n",
              "      background-color: #434B5C;\n",
              "      box-shadow: 0px 1px 3px 1px rgba(0, 0, 0, 0.15);\n",
              "      filter: drop-shadow(0px 1px 2px rgba(0, 0, 0, 0.3));\n",
              "      fill: #FFFFFF;\n",
              "    }\n",
              "  </style>\n",
              "\n",
              "      <script>\n",
              "        const buttonEl =\n",
              "          document.querySelector('#df-10d01898-2006-439b-a027-ad11dad12900 button.colab-df-convert');\n",
              "        buttonEl.style.display =\n",
              "          google.colab.kernel.accessAllowed ? 'block' : 'none';\n",
              "\n",
              "        async function convertToInteractive(key) {\n",
              "          const element = document.querySelector('#df-10d01898-2006-439b-a027-ad11dad12900');\n",
              "          const dataTable =\n",
              "            await google.colab.kernel.invokeFunction('convertToInteractive',\n",
              "                                                     [key], {});\n",
              "          if (!dataTable) return;\n",
              "\n",
              "          const docLinkHtml = 'Like what you see? Visit the ' +\n",
              "            '<a target=\"_blank\" href=https://colab.research.google.com/notebooks/data_table.ipynb>data table notebook</a>'\n",
              "            + ' to learn more about interactive tables.';\n",
              "          element.innerHTML = '';\n",
              "          dataTable['output_type'] = 'display_data';\n",
              "          await google.colab.output.renderOutput(dataTable, element);\n",
              "          const docLink = document.createElement('div');\n",
              "          docLink.innerHTML = docLinkHtml;\n",
              "          element.appendChild(docLink);\n",
              "        }\n",
              "      </script>\n",
              "    </div>\n",
              "  </div>\n",
              "  "
            ]
          },
          "metadata": {},
          "execution_count": 17
        }
      ]
    },
    {
      "cell_type": "markdown",
      "source": [
        "---\n",
        "**Άσκηση 11**:\n",
        "\n",
        "Ακαθάριστο Εγχώριο Προϊόν (ΑΕΠ / GDP) είναι το σύνολο των προϊόντων, υλικών και άυλων, που παράχθηκαν μέσα στην επικράτεια μιας χώρας σε διάστημα ενός έτους, εκφρασμένο σε χρηματικές μονάδες, ακόμα και αν μέρος αυτού παράχθηκε από παραγωγικές μονάδες που ανήκουν σε κατοίκους του εξωτερικού.\n",
        "\n",
        "Το κατά κεφαλή ΑΕΠ (gdp per capita) είναι το μέρος του ΑΕΠ μιας χώρας που θεωρητικά αναλογεί σε κάθε της κάτοικο. Προκύπτει από τη σχέση: gdp_per_capita = GDP / population.\n",
        "\n",
        "Στο dataframe έχουμε το gdp_per_capita και το population. \n",
        "* Βρείτε το ΑΕΠ κάθε χώρας και αποθηκεύστε το στο dataframe σε μια νέα στήλη με όνομα \"gdp\"."
      ],
      "metadata": {
        "id": "0AGSxvlMMNzq"
      }
    },
    {
      "cell_type": "code",
      "source": [
        "df['gdp'] = df['gdp_per_capita'] / df['population'] \n",
        "df.head()"
      ],
      "metadata": {
        "id": "yJBZ_kBQFMCl",
        "colab": {
          "base_uri": "https://localhost:8080/",
          "height": 206
        },
        "outputId": "39416eeb-49b6-4751-e7d7-76799a5649cb"
      },
      "execution_count": 18,
      "outputs": [
        {
          "output_type": "execute_result",
          "data": {
            "text/plain": [
              "               country   continent  gdp_per_capita  life_expectancy  \\\n",
              "0          Afghanistan        Asia             663           54.863   \n",
              "1              Albania      Europe            4195           74.200   \n",
              "2              Algeria      Africa            5098           68.963   \n",
              "3               Angola      Africa            2446           45.234   \n",
              "4  Antigua and Barbuda  N. America           12738           73.544   \n",
              "\n",
              "   population   millions       gdp  \n",
              "0    22856302  22.856302  0.000029  \n",
              "1     3071856   3.071856  0.001366  \n",
              "2    30533827  30.533827  0.000167  \n",
              "3    13926373  13.926373  0.000176  \n",
              "4       77656   0.077656  0.164031  "
            ],
            "text/html": [
              "\n",
              "  <div id=\"df-f9f47f6d-a359-432d-8eb7-5360e46684fc\">\n",
              "    <div class=\"colab-df-container\">\n",
              "      <div>\n",
              "<style scoped>\n",
              "    .dataframe tbody tr th:only-of-type {\n",
              "        vertical-align: middle;\n",
              "    }\n",
              "\n",
              "    .dataframe tbody tr th {\n",
              "        vertical-align: top;\n",
              "    }\n",
              "\n",
              "    .dataframe thead th {\n",
              "        text-align: right;\n",
              "    }\n",
              "</style>\n",
              "<table border=\"1\" class=\"dataframe\">\n",
              "  <thead>\n",
              "    <tr style=\"text-align: right;\">\n",
              "      <th></th>\n",
              "      <th>country</th>\n",
              "      <th>continent</th>\n",
              "      <th>gdp_per_capita</th>\n",
              "      <th>life_expectancy</th>\n",
              "      <th>population</th>\n",
              "      <th>millions</th>\n",
              "      <th>gdp</th>\n",
              "    </tr>\n",
              "  </thead>\n",
              "  <tbody>\n",
              "    <tr>\n",
              "      <th>0</th>\n",
              "      <td>Afghanistan</td>\n",
              "      <td>Asia</td>\n",
              "      <td>663</td>\n",
              "      <td>54.863</td>\n",
              "      <td>22856302</td>\n",
              "      <td>22.856302</td>\n",
              "      <td>0.000029</td>\n",
              "    </tr>\n",
              "    <tr>\n",
              "      <th>1</th>\n",
              "      <td>Albania</td>\n",
              "      <td>Europe</td>\n",
              "      <td>4195</td>\n",
              "      <td>74.200</td>\n",
              "      <td>3071856</td>\n",
              "      <td>3.071856</td>\n",
              "      <td>0.001366</td>\n",
              "    </tr>\n",
              "    <tr>\n",
              "      <th>2</th>\n",
              "      <td>Algeria</td>\n",
              "      <td>Africa</td>\n",
              "      <td>5098</td>\n",
              "      <td>68.963</td>\n",
              "      <td>30533827</td>\n",
              "      <td>30.533827</td>\n",
              "      <td>0.000167</td>\n",
              "    </tr>\n",
              "    <tr>\n",
              "      <th>3</th>\n",
              "      <td>Angola</td>\n",
              "      <td>Africa</td>\n",
              "      <td>2446</td>\n",
              "      <td>45.234</td>\n",
              "      <td>13926373</td>\n",
              "      <td>13.926373</td>\n",
              "      <td>0.000176</td>\n",
              "    </tr>\n",
              "    <tr>\n",
              "      <th>4</th>\n",
              "      <td>Antigua and Barbuda</td>\n",
              "      <td>N. America</td>\n",
              "      <td>12738</td>\n",
              "      <td>73.544</td>\n",
              "      <td>77656</td>\n",
              "      <td>0.077656</td>\n",
              "      <td>0.164031</td>\n",
              "    </tr>\n",
              "  </tbody>\n",
              "</table>\n",
              "</div>\n",
              "      <button class=\"colab-df-convert\" onclick=\"convertToInteractive('df-f9f47f6d-a359-432d-8eb7-5360e46684fc')\"\n",
              "              title=\"Convert this dataframe to an interactive table.\"\n",
              "              style=\"display:none;\">\n",
              "        \n",
              "  <svg xmlns=\"http://www.w3.org/2000/svg\" height=\"24px\"viewBox=\"0 0 24 24\"\n",
              "       width=\"24px\">\n",
              "    <path d=\"M0 0h24v24H0V0z\" fill=\"none\"/>\n",
              "    <path d=\"M18.56 5.44l.94 2.06.94-2.06 2.06-.94-2.06-.94-.94-2.06-.94 2.06-2.06.94zm-11 1L8.5 8.5l.94-2.06 2.06-.94-2.06-.94L8.5 2.5l-.94 2.06-2.06.94zm10 10l.94 2.06.94-2.06 2.06-.94-2.06-.94-.94-2.06-.94 2.06-2.06.94z\"/><path d=\"M17.41 7.96l-1.37-1.37c-.4-.4-.92-.59-1.43-.59-.52 0-1.04.2-1.43.59L10.3 9.45l-7.72 7.72c-.78.78-.78 2.05 0 2.83L4 21.41c.39.39.9.59 1.41.59.51 0 1.02-.2 1.41-.59l7.78-7.78 2.81-2.81c.8-.78.8-2.07 0-2.86zM5.41 20L4 18.59l7.72-7.72 1.47 1.35L5.41 20z\"/>\n",
              "  </svg>\n",
              "      </button>\n",
              "      \n",
              "  <style>\n",
              "    .colab-df-container {\n",
              "      display:flex;\n",
              "      flex-wrap:wrap;\n",
              "      gap: 12px;\n",
              "    }\n",
              "\n",
              "    .colab-df-convert {\n",
              "      background-color: #E8F0FE;\n",
              "      border: none;\n",
              "      border-radius: 50%;\n",
              "      cursor: pointer;\n",
              "      display: none;\n",
              "      fill: #1967D2;\n",
              "      height: 32px;\n",
              "      padding: 0 0 0 0;\n",
              "      width: 32px;\n",
              "    }\n",
              "\n",
              "    .colab-df-convert:hover {\n",
              "      background-color: #E2EBFA;\n",
              "      box-shadow: 0px 1px 2px rgba(60, 64, 67, 0.3), 0px 1px 3px 1px rgba(60, 64, 67, 0.15);\n",
              "      fill: #174EA6;\n",
              "    }\n",
              "\n",
              "    [theme=dark] .colab-df-convert {\n",
              "      background-color: #3B4455;\n",
              "      fill: #D2E3FC;\n",
              "    }\n",
              "\n",
              "    [theme=dark] .colab-df-convert:hover {\n",
              "      background-color: #434B5C;\n",
              "      box-shadow: 0px 1px 3px 1px rgba(0, 0, 0, 0.15);\n",
              "      filter: drop-shadow(0px 1px 2px rgba(0, 0, 0, 0.3));\n",
              "      fill: #FFFFFF;\n",
              "    }\n",
              "  </style>\n",
              "\n",
              "      <script>\n",
              "        const buttonEl =\n",
              "          document.querySelector('#df-f9f47f6d-a359-432d-8eb7-5360e46684fc button.colab-df-convert');\n",
              "        buttonEl.style.display =\n",
              "          google.colab.kernel.accessAllowed ? 'block' : 'none';\n",
              "\n",
              "        async function convertToInteractive(key) {\n",
              "          const element = document.querySelector('#df-f9f47f6d-a359-432d-8eb7-5360e46684fc');\n",
              "          const dataTable =\n",
              "            await google.colab.kernel.invokeFunction('convertToInteractive',\n",
              "                                                     [key], {});\n",
              "          if (!dataTable) return;\n",
              "\n",
              "          const docLinkHtml = 'Like what you see? Visit the ' +\n",
              "            '<a target=\"_blank\" href=https://colab.research.google.com/notebooks/data_table.ipynb>data table notebook</a>'\n",
              "            + ' to learn more about interactive tables.';\n",
              "          element.innerHTML = '';\n",
              "          dataTable['output_type'] = 'display_data';\n",
              "          await google.colab.output.renderOutput(dataTable, element);\n",
              "          const docLink = document.createElement('div');\n",
              "          docLink.innerHTML = docLinkHtml;\n",
              "          element.appendChild(docLink);\n",
              "        }\n",
              "      </script>\n",
              "    </div>\n",
              "  </div>\n",
              "  "
            ]
          },
          "metadata": {},
          "execution_count": 18
        }
      ]
    },
    {
      "cell_type": "markdown",
      "source": [
        "---"
      ],
      "metadata": {
        "id": "2A66SafaOPKt"
      }
    },
    {
      "cell_type": "markdown",
      "source": [
        "**9.3 Δημιουργία νέου dataframe με επιλεγμένες στήλες από το παλιό**"
      ],
      "metadata": {
        "id": "492cp6qdml3T"
      }
    },
    {
      "cell_type": "code",
      "source": [
        "df_new2 = df[['country', 'population', 'gdp']]\n",
        "df_new2.head()"
      ],
      "metadata": {
        "id": "E81m8145FNIh",
        "colab": {
          "base_uri": "https://localhost:8080/",
          "height": 206
        },
        "outputId": "6e657b88-21d8-46a2-9f6b-ef41ea921832"
      },
      "execution_count": 19,
      "outputs": [
        {
          "output_type": "execute_result",
          "data": {
            "text/plain": [
              "               country  population       gdp\n",
              "0          Afghanistan    22856302  0.000029\n",
              "1              Albania     3071856  0.001366\n",
              "2              Algeria    30533827  0.000167\n",
              "3               Angola    13926373  0.000176\n",
              "4  Antigua and Barbuda       77656  0.164031"
            ],
            "text/html": [
              "\n",
              "  <div id=\"df-1003012e-8ccc-4212-b0d9-055cf424dd28\">\n",
              "    <div class=\"colab-df-container\">\n",
              "      <div>\n",
              "<style scoped>\n",
              "    .dataframe tbody tr th:only-of-type {\n",
              "        vertical-align: middle;\n",
              "    }\n",
              "\n",
              "    .dataframe tbody tr th {\n",
              "        vertical-align: top;\n",
              "    }\n",
              "\n",
              "    .dataframe thead th {\n",
              "        text-align: right;\n",
              "    }\n",
              "</style>\n",
              "<table border=\"1\" class=\"dataframe\">\n",
              "  <thead>\n",
              "    <tr style=\"text-align: right;\">\n",
              "      <th></th>\n",
              "      <th>country</th>\n",
              "      <th>population</th>\n",
              "      <th>gdp</th>\n",
              "    </tr>\n",
              "  </thead>\n",
              "  <tbody>\n",
              "    <tr>\n",
              "      <th>0</th>\n",
              "      <td>Afghanistan</td>\n",
              "      <td>22856302</td>\n",
              "      <td>0.000029</td>\n",
              "    </tr>\n",
              "    <tr>\n",
              "      <th>1</th>\n",
              "      <td>Albania</td>\n",
              "      <td>3071856</td>\n",
              "      <td>0.001366</td>\n",
              "    </tr>\n",
              "    <tr>\n",
              "      <th>2</th>\n",
              "      <td>Algeria</td>\n",
              "      <td>30533827</td>\n",
              "      <td>0.000167</td>\n",
              "    </tr>\n",
              "    <tr>\n",
              "      <th>3</th>\n",
              "      <td>Angola</td>\n",
              "      <td>13926373</td>\n",
              "      <td>0.000176</td>\n",
              "    </tr>\n",
              "    <tr>\n",
              "      <th>4</th>\n",
              "      <td>Antigua and Barbuda</td>\n",
              "      <td>77656</td>\n",
              "      <td>0.164031</td>\n",
              "    </tr>\n",
              "  </tbody>\n",
              "</table>\n",
              "</div>\n",
              "      <button class=\"colab-df-convert\" onclick=\"convertToInteractive('df-1003012e-8ccc-4212-b0d9-055cf424dd28')\"\n",
              "              title=\"Convert this dataframe to an interactive table.\"\n",
              "              style=\"display:none;\">\n",
              "        \n",
              "  <svg xmlns=\"http://www.w3.org/2000/svg\" height=\"24px\"viewBox=\"0 0 24 24\"\n",
              "       width=\"24px\">\n",
              "    <path d=\"M0 0h24v24H0V0z\" fill=\"none\"/>\n",
              "    <path d=\"M18.56 5.44l.94 2.06.94-2.06 2.06-.94-2.06-.94-.94-2.06-.94 2.06-2.06.94zm-11 1L8.5 8.5l.94-2.06 2.06-.94-2.06-.94L8.5 2.5l-.94 2.06-2.06.94zm10 10l.94 2.06.94-2.06 2.06-.94-2.06-.94-.94-2.06-.94 2.06-2.06.94z\"/><path d=\"M17.41 7.96l-1.37-1.37c-.4-.4-.92-.59-1.43-.59-.52 0-1.04.2-1.43.59L10.3 9.45l-7.72 7.72c-.78.78-.78 2.05 0 2.83L4 21.41c.39.39.9.59 1.41.59.51 0 1.02-.2 1.41-.59l7.78-7.78 2.81-2.81c.8-.78.8-2.07 0-2.86zM5.41 20L4 18.59l7.72-7.72 1.47 1.35L5.41 20z\"/>\n",
              "  </svg>\n",
              "      </button>\n",
              "      \n",
              "  <style>\n",
              "    .colab-df-container {\n",
              "      display:flex;\n",
              "      flex-wrap:wrap;\n",
              "      gap: 12px;\n",
              "    }\n",
              "\n",
              "    .colab-df-convert {\n",
              "      background-color: #E8F0FE;\n",
              "      border: none;\n",
              "      border-radius: 50%;\n",
              "      cursor: pointer;\n",
              "      display: none;\n",
              "      fill: #1967D2;\n",
              "      height: 32px;\n",
              "      padding: 0 0 0 0;\n",
              "      width: 32px;\n",
              "    }\n",
              "\n",
              "    .colab-df-convert:hover {\n",
              "      background-color: #E2EBFA;\n",
              "      box-shadow: 0px 1px 2px rgba(60, 64, 67, 0.3), 0px 1px 3px 1px rgba(60, 64, 67, 0.15);\n",
              "      fill: #174EA6;\n",
              "    }\n",
              "\n",
              "    [theme=dark] .colab-df-convert {\n",
              "      background-color: #3B4455;\n",
              "      fill: #D2E3FC;\n",
              "    }\n",
              "\n",
              "    [theme=dark] .colab-df-convert:hover {\n",
              "      background-color: #434B5C;\n",
              "      box-shadow: 0px 1px 3px 1px rgba(0, 0, 0, 0.15);\n",
              "      filter: drop-shadow(0px 1px 2px rgba(0, 0, 0, 0.3));\n",
              "      fill: #FFFFFF;\n",
              "    }\n",
              "  </style>\n",
              "\n",
              "      <script>\n",
              "        const buttonEl =\n",
              "          document.querySelector('#df-1003012e-8ccc-4212-b0d9-055cf424dd28 button.colab-df-convert');\n",
              "        buttonEl.style.display =\n",
              "          google.colab.kernel.accessAllowed ? 'block' : 'none';\n",
              "\n",
              "        async function convertToInteractive(key) {\n",
              "          const element = document.querySelector('#df-1003012e-8ccc-4212-b0d9-055cf424dd28');\n",
              "          const dataTable =\n",
              "            await google.colab.kernel.invokeFunction('convertToInteractive',\n",
              "                                                     [key], {});\n",
              "          if (!dataTable) return;\n",
              "\n",
              "          const docLinkHtml = 'Like what you see? Visit the ' +\n",
              "            '<a target=\"_blank\" href=https://colab.research.google.com/notebooks/data_table.ipynb>data table notebook</a>'\n",
              "            + ' to learn more about interactive tables.';\n",
              "          element.innerHTML = '';\n",
              "          dataTable['output_type'] = 'display_data';\n",
              "          await google.colab.output.renderOutput(dataTable, element);\n",
              "          const docLink = document.createElement('div');\n",
              "          docLink.innerHTML = docLinkHtml;\n",
              "          element.appendChild(docLink);\n",
              "        }\n",
              "      </script>\n",
              "    </div>\n",
              "  </div>\n",
              "  "
            ]
          },
          "metadata": {},
          "execution_count": 19
        }
      ]
    },
    {
      "cell_type": "markdown",
      "source": [
        "**9.4 Διαχείριση του index σε περιπτώσεις groupby**\n",
        "\n",
        "Αν κάνουμε groupby και ζητήσουμε ένα στατιστικό μέγεθος, οι τιμές του groupby γίνονται index του νέου dataframe."
      ],
      "metadata": {
        "id": "NTcjruDSs2hr"
      }
    },
    {
      "cell_type": "code",
      "source": [
        "df.groupby('continent').sum()"
      ],
      "metadata": {
        "id": "68mc6RQKsMNI",
        "colab": {
          "base_uri": "https://localhost:8080/",
          "height": 324
        },
        "outputId": "89054467-8278-4837-cd09-c80080b99845"
      },
      "execution_count": null,
      "outputs": [
        {
          "output_type": "stream",
          "name": "stderr",
          "text": [
            "<ipython-input-180-25bb85ebe5e3>:1: FutureWarning: The default value of numeric_only in DataFrameGroupBy.sum is deprecated. In a future version, numeric_only will default to False. Either specify numeric_only or select only columns which should be valid for the function.\n",
            "  df.groupby('continent').sum()\n"
          ]
        },
        {
          "output_type": "execute_result",
          "data": {
            "text/plain": [
              "            gdp_per_capita  life_expectancy  population     millions       gdp\n",
              "continent                                                                     \n",
              "Africa              141569      2919.656500   809892820   809.892820  0.261038\n",
              "Asia                533109      3324.345000  3849172861  3849.172861  0.423318\n",
              "Europe              783211      3149.773275   596440013   596.440013  0.437606\n",
              "N. America          256645      1573.645000   481999240   481.999240  1.128591\n",
              "Oceania              80384       687.474000    30272328    30.272328  0.203388\n",
              "S. America           80863       847.395000   347265096   347.265096  0.022544"
            ],
            "text/html": [
              "\n",
              "  <div id=\"df-76fbf768-6cb8-4616-9741-67f74fd24eaa\">\n",
              "    <div class=\"colab-df-container\">\n",
              "      <div>\n",
              "<style scoped>\n",
              "    .dataframe tbody tr th:only-of-type {\n",
              "        vertical-align: middle;\n",
              "    }\n",
              "\n",
              "    .dataframe tbody tr th {\n",
              "        vertical-align: top;\n",
              "    }\n",
              "\n",
              "    .dataframe thead th {\n",
              "        text-align: right;\n",
              "    }\n",
              "</style>\n",
              "<table border=\"1\" class=\"dataframe\">\n",
              "  <thead>\n",
              "    <tr style=\"text-align: right;\">\n",
              "      <th></th>\n",
              "      <th>gdp_per_capita</th>\n",
              "      <th>life_expectancy</th>\n",
              "      <th>population</th>\n",
              "      <th>millions</th>\n",
              "      <th>gdp</th>\n",
              "    </tr>\n",
              "    <tr>\n",
              "      <th>continent</th>\n",
              "      <th></th>\n",
              "      <th></th>\n",
              "      <th></th>\n",
              "      <th></th>\n",
              "      <th></th>\n",
              "    </tr>\n",
              "  </thead>\n",
              "  <tbody>\n",
              "    <tr>\n",
              "      <th>Africa</th>\n",
              "      <td>141569</td>\n",
              "      <td>2919.656500</td>\n",
              "      <td>809892820</td>\n",
              "      <td>809.892820</td>\n",
              "      <td>0.261038</td>\n",
              "    </tr>\n",
              "    <tr>\n",
              "      <th>Asia</th>\n",
              "      <td>533109</td>\n",
              "      <td>3324.345000</td>\n",
              "      <td>3849172861</td>\n",
              "      <td>3849.172861</td>\n",
              "      <td>0.423318</td>\n",
              "    </tr>\n",
              "    <tr>\n",
              "      <th>Europe</th>\n",
              "      <td>783211</td>\n",
              "      <td>3149.773275</td>\n",
              "      <td>596440013</td>\n",
              "      <td>596.440013</td>\n",
              "      <td>0.437606</td>\n",
              "    </tr>\n",
              "    <tr>\n",
              "      <th>N. America</th>\n",
              "      <td>256645</td>\n",
              "      <td>1573.645000</td>\n",
              "      <td>481999240</td>\n",
              "      <td>481.999240</td>\n",
              "      <td>1.128591</td>\n",
              "    </tr>\n",
              "    <tr>\n",
              "      <th>Oceania</th>\n",
              "      <td>80384</td>\n",
              "      <td>687.474000</td>\n",
              "      <td>30272328</td>\n",
              "      <td>30.272328</td>\n",
              "      <td>0.203388</td>\n",
              "    </tr>\n",
              "    <tr>\n",
              "      <th>S. America</th>\n",
              "      <td>80863</td>\n",
              "      <td>847.395000</td>\n",
              "      <td>347265096</td>\n",
              "      <td>347.265096</td>\n",
              "      <td>0.022544</td>\n",
              "    </tr>\n",
              "  </tbody>\n",
              "</table>\n",
              "</div>\n",
              "      <button class=\"colab-df-convert\" onclick=\"convertToInteractive('df-76fbf768-6cb8-4616-9741-67f74fd24eaa')\"\n",
              "              title=\"Convert this dataframe to an interactive table.\"\n",
              "              style=\"display:none;\">\n",
              "        \n",
              "  <svg xmlns=\"http://www.w3.org/2000/svg\" height=\"24px\"viewBox=\"0 0 24 24\"\n",
              "       width=\"24px\">\n",
              "    <path d=\"M0 0h24v24H0V0z\" fill=\"none\"/>\n",
              "    <path d=\"M18.56 5.44l.94 2.06.94-2.06 2.06-.94-2.06-.94-.94-2.06-.94 2.06-2.06.94zm-11 1L8.5 8.5l.94-2.06 2.06-.94-2.06-.94L8.5 2.5l-.94 2.06-2.06.94zm10 10l.94 2.06.94-2.06 2.06-.94-2.06-.94-.94-2.06-.94 2.06-2.06.94z\"/><path d=\"M17.41 7.96l-1.37-1.37c-.4-.4-.92-.59-1.43-.59-.52 0-1.04.2-1.43.59L10.3 9.45l-7.72 7.72c-.78.78-.78 2.05 0 2.83L4 21.41c.39.39.9.59 1.41.59.51 0 1.02-.2 1.41-.59l7.78-7.78 2.81-2.81c.8-.78.8-2.07 0-2.86zM5.41 20L4 18.59l7.72-7.72 1.47 1.35L5.41 20z\"/>\n",
              "  </svg>\n",
              "      </button>\n",
              "      \n",
              "  <style>\n",
              "    .colab-df-container {\n",
              "      display:flex;\n",
              "      flex-wrap:wrap;\n",
              "      gap: 12px;\n",
              "    }\n",
              "\n",
              "    .colab-df-convert {\n",
              "      background-color: #E8F0FE;\n",
              "      border: none;\n",
              "      border-radius: 50%;\n",
              "      cursor: pointer;\n",
              "      display: none;\n",
              "      fill: #1967D2;\n",
              "      height: 32px;\n",
              "      padding: 0 0 0 0;\n",
              "      width: 32px;\n",
              "    }\n",
              "\n",
              "    .colab-df-convert:hover {\n",
              "      background-color: #E2EBFA;\n",
              "      box-shadow: 0px 1px 2px rgba(60, 64, 67, 0.3), 0px 1px 3px 1px rgba(60, 64, 67, 0.15);\n",
              "      fill: #174EA6;\n",
              "    }\n",
              "\n",
              "    [theme=dark] .colab-df-convert {\n",
              "      background-color: #3B4455;\n",
              "      fill: #D2E3FC;\n",
              "    }\n",
              "\n",
              "    [theme=dark] .colab-df-convert:hover {\n",
              "      background-color: #434B5C;\n",
              "      box-shadow: 0px 1px 3px 1px rgba(0, 0, 0, 0.15);\n",
              "      filter: drop-shadow(0px 1px 2px rgba(0, 0, 0, 0.3));\n",
              "      fill: #FFFFFF;\n",
              "    }\n",
              "  </style>\n",
              "\n",
              "      <script>\n",
              "        const buttonEl =\n",
              "          document.querySelector('#df-76fbf768-6cb8-4616-9741-67f74fd24eaa button.colab-df-convert');\n",
              "        buttonEl.style.display =\n",
              "          google.colab.kernel.accessAllowed ? 'block' : 'none';\n",
              "\n",
              "        async function convertToInteractive(key) {\n",
              "          const element = document.querySelector('#df-76fbf768-6cb8-4616-9741-67f74fd24eaa');\n",
              "          const dataTable =\n",
              "            await google.colab.kernel.invokeFunction('convertToInteractive',\n",
              "                                                     [key], {});\n",
              "          if (!dataTable) return;\n",
              "\n",
              "          const docLinkHtml = 'Like what you see? Visit the ' +\n",
              "            '<a target=\"_blank\" href=https://colab.research.google.com/notebooks/data_table.ipynb>data table notebook</a>'\n",
              "            + ' to learn more about interactive tables.';\n",
              "          element.innerHTML = '';\n",
              "          dataTable['output_type'] = 'display_data';\n",
              "          await google.colab.output.renderOutput(dataTable, element);\n",
              "          const docLink = document.createElement('div');\n",
              "          docLink.innerHTML = docLinkHtml;\n",
              "          element.appendChild(docLink);\n",
              "        }\n",
              "      </script>\n",
              "    </div>\n",
              "  </div>\n",
              "  "
            ]
          },
          "metadata": {},
          "execution_count": 180
        }
      ]
    },
    {
      "cell_type": "markdown",
      "source": [
        "Για να το αποφύγουμε αυτό, ορίζουμε ότι οι τιμές του groupby ΔΕΝ θα γίνουν index"
      ],
      "metadata": {
        "id": "SUQmOAaLtidU"
      }
    },
    {
      "cell_type": "code",
      "source": [
        "df.groupby('continent', as_index = False).sum()"
      ],
      "metadata": {
        "id": "RoLKf983nQ16"
      },
      "execution_count": null,
      "outputs": []
    },
    {
      "cell_type": "markdown",
      "source": [
        "Και μπορούμε να πάρουμε ένα νέο dataframe με τις στήλες που θέλουμε"
      ],
      "metadata": {
        "id": "Z-mN3Pg6uQ2X"
      }
    },
    {
      "cell_type": "code",
      "source": [
        "df_new2 = df.groupby('continent', as_index = False).sum()[['continent', 'gdp_per_capita', 'life_expectancy', 'population']]\n",
        "df_new2"
      ],
      "metadata": {
        "id": "FqZOiLpEsTIG"
      },
      "execution_count": null,
      "outputs": []
    },
    {
      "cell_type": "markdown",
      "source": [
        "### **10. Γραφήματα**\n",
        "\n",
        "Μια βιβλιοθήκη για δημιουργία γραφημάτων είναι η matplotlib. Δημιουργούμε γραφήματα με την εντολή plot()."
      ],
      "metadata": {
        "id": "SGLJcsr7Eoc2"
      }
    },
    {
      "cell_type": "code",
      "source": [
        "%matplotlib inline"
      ],
      "metadata": {
        "id": "V7usWRVkFnMj"
      },
      "execution_count": null,
      "outputs": []
    },
    {
      "cell_type": "markdown",
      "source": [
        "**10.1 Γράφημα των τιμών μιας μεταβλητής**"
      ],
      "metadata": {
        "id": "NTJ5vAWsSOcy"
      }
    },
    {
      "cell_type": "markdown",
      "source": [
        "Η plot() δέχεται διάφορες παραμέτρους. Το default είδος (kind) γραφήματος είναι το line chart."
      ],
      "metadata": {
        "id": "y-UG3eQ7yb32"
      }
    },
    {
      "cell_type": "code",
      "source": [
        "# οι συχνότητες των τιμών της μεταβλητής (στήλης) 'continent'\n",
        "df['continent'].value_counts().plot()"
      ],
      "metadata": {
        "id": "3QtLIgFVFB24",
        "colab": {
          "base_uri": "https://localhost:8080/",
          "height": 447
        },
        "outputId": "4d85469f-85b6-499f-c300-4ff4a78f961d"
      },
      "execution_count": null,
      "outputs": [
        {
          "output_type": "execute_result",
          "data": {
            "text/plain": [
              "<Axes: >"
            ]
          },
          "metadata": {},
          "execution_count": 182
        },
        {
          "output_type": "display_data",
          "data": {
            "text/plain": [
              "<Figure size 640x480 with 1 Axes>"
            ],
            "image/png": "[encoded data removed]"
          },
          "metadata": {}
        }
      ]
    },
    {
      "cell_type": "markdown",
      "source": [
        "Αυτό όμως δεν είναι το καλύτερο γράφημα για τη συγκεκριμένη μεταβλητή. Τα γραμμικά διαγράμματα είναι κατάλληλα για την απεικόνιση των μεταβολών στις τιμές μιας μεταβλητής. Π.χ. πώς αλλάζει το gdp ή το life_expectancy στην αλληλουχία των ετών.\n",
        "\n",
        "Στην περίπτωσή μας, οι τιμές της κάθε ηπείρου, δηλαδή το πόσες χώρες είναι σε κάθε ήπειρο, θα απεικονιστεί καλύτερα με ραβδόγραμμα (bar chart)."
      ],
      "metadata": {
        "id": "jIwD1u09043D"
      }
    },
    {
      "cell_type": "code",
      "source": [
        "# ορίζουμε την παράμετρο kind της plot() ως bar\n",
        "df['continent'].value_counts().plot(kind='bar')"
      ],
      "metadata": {
        "id": "rEFhBvXa21Up",
        "colab": {
          "base_uri": "https://localhost:8080/",
          "height": 509
        },
        "outputId": "6426c5b9-e7c2-4fbd-eb82-725942f3e6e5"
      },
      "execution_count": null,
      "outputs": [
        {
          "output_type": "execute_result",
          "data": {
            "text/plain": [
              "<Axes: >"
            ]
          },
          "metadata": {},
          "execution_count": 183
        },
        {
          "output_type": "display_data",
          "data": {
            "text/plain": [
              "<Figure size 640x480 with 1 Axes>"
            ],
            "image/png": "[encoded data removed]"
          },
          "metadata": {}
        }
      ]
    },
    {
      "cell_type": "markdown",
      "source": [
        "Όμως, ακόμα καλύτερο θα ήταν ένα οριζόντιο ραβδόγραμμα (horizontal barchart)"
      ],
      "metadata": {
        "id": "Ui19x73e3V9A"
      }
    },
    {
      "cell_type": "code",
      "source": [
        "# ορίζουμε την παράμετρο kind της plot() ως barh\n",
        "df['continent'].value_counts().plot(kind='barh')"
      ],
      "metadata": {
        "id": "KRYck7rzFrBh",
        "colab": {
          "base_uri": "https://localhost:8080/",
          "height": 447
        },
        "outputId": "7383bc81-a66d-49c2-9a72-71d95941a31c"
      },
      "execution_count": null,
      "outputs": [
        {
          "output_type": "execute_result",
          "data": {
            "text/plain": [
              "<Axes: >"
            ]
          },
          "metadata": {},
          "execution_count": 184
        },
        {
          "output_type": "display_data",
          "data": {
            "text/plain": [
              "<Figure size 640x480 with 1 Axes>"
            ],
            "image/png": "[encoded data removed]"
          },
          "metadata": {}
        }
      ]
    },
    {
      "cell_type": "markdown",
      "source": [
        "Και ακόμα καλύτερα αν η ταξινόμηση των αποτελεσμάτων ήταν ανάποδα"
      ],
      "metadata": {
        "id": "9gBAVxWx5gYI"
      }
    },
    {
      "cell_type": "code",
      "source": [
        "df['continent'].value_counts().sort_values(ascending=True).plot(kind='barh')"
      ],
      "metadata": {
        "id": "ffHmSDDu5rte",
        "colab": {
          "base_uri": "https://localhost:8080/",
          "height": 447
        },
        "outputId": "4c2f49e6-0b0e-450e-ea04-6ba8e76300b2"
      },
      "execution_count": null,
      "outputs": [
        {
          "output_type": "execute_result",
          "data": {
            "text/plain": [
              "<Axes: >"
            ]
          },
          "metadata": {},
          "execution_count": 185
        },
        {
          "output_type": "display_data",
          "data": {
            "text/plain": [
              "<Figure size 640x480 with 1 Axes>"
            ],
            "image/png": "[encoded data removed]"
          },
          "metadata": {}
        }
      ]
    },
    {
      "cell_type": "markdown",
      "source": [
        "Μπορούμε να αλλάξουμε και τα χρώματα"
      ],
      "metadata": {
        "id": "1_Mq-2GJ68fT"
      }
    },
    {
      "cell_type": "code",
      "source": [
        "df['continent'].value_counts().sort_values(ascending=True).plot(kind='barh', color=['green', 'orange', 'red', 'blue', 'yellow', 'black'])"
      ],
      "metadata": {
        "id": "tILn93--7B-S",
        "colab": {
          "base_uri": "https://localhost:8080/",
          "height": 447
        },
        "outputId": "010b42d8-ea84-4840-d951-88191c5a3cea"
      },
      "execution_count": null,
      "outputs": [
        {
          "output_type": "execute_result",
          "data": {
            "text/plain": [
              "<Axes: >"
            ]
          },
          "metadata": {},
          "execution_count": 186
        },
        {
          "output_type": "display_data",
          "data": {
            "text/plain": [
              "<Figure size 640x480 with 1 Axes>"
            ],
            "image/png": "[encoded data removed]"
          },
          "metadata": {}
        }
      ]
    },
    {
      "cell_type": "markdown",
      "source": [
        "**10.2 Γράφημα 2 μεταβλητών**"
      ],
      "metadata": {
        "id": "XLfqWJjmSDE5"
      }
    },
    {
      "cell_type": "markdown",
      "source": [
        "Ας απεικονίσουμε στον άξονα των x το κατά κεφαλή ΑΕΠ και στον άξονα των y το προσδόκιμο ζωής:"
      ],
      "metadata": {
        "id": "QHfR8LWCSh-V"
      }
    },
    {
      "cell_type": "code",
      "source": [
        "df.plot(kind='barh', x='gdp_per_capita', y='life_expectancy')"
      ],
      "metadata": {
        "id": "rq-HRQnzRlux",
        "colab": {
          "base_uri": "https://localhost:8080/",
          "height": 451
        },
        "outputId": "1649748a-a7b8-46aa-980b-860027fa02c3"
      },
      "execution_count": null,
      "outputs": [
        {
          "output_type": "execute_result",
          "data": {
            "text/plain": [
              "<Axes: ylabel='gdp_per_capita'>"
            ]
          },
          "metadata": {},
          "execution_count": 187
        },
        {
          "output_type": "display_data",
          "data": {
            "text/plain": [
              "<Figure size 640x480 with 1 Axes>"
            ],
            "image/png": "[encoded data removed]"
          },
          "metadata": {}
        }
      ]
    },
    {
      "cell_type": "markdown",
      "source": [
        "Το ραβδόγαμμα δεν μας βοηθάει να δούμε κάτι.\n",
        "\n",
        "Την καλύτερη απεικόνιση για τη σχέση του κατά κεφαλή ΑΕΠ με το προσδόκιμο ζωής, μας τη δίνει ένα γράφημα διασποράς (scatter plot).\n",
        "\n",
        "Στις παραμέτρους της plot() ορίζουμε ως kind το scatter και θέτουμε τις στήλες των μεταβλητών που μας ενδιαφέρουν στους άξονες x και y."
      ],
      "metadata": {
        "id": "MAxNThp589cY"
      }
    },
    {
      "cell_type": "code",
      "source": [
        "df.plot(kind='scatter', x='gdp_per_capita', y='life_expectancy')"
      ],
      "metadata": {
        "id": "QJ4xKO50FxrH",
        "colab": {
          "base_uri": "https://localhost:8080/",
          "height": 467
        },
        "outputId": "ff646f03-900b-454f-fb3c-7cee9c5dc7d8"
      },
      "execution_count": null,
      "outputs": [
        {
          "output_type": "execute_result",
          "data": {
            "text/plain": [
              "<Axes: xlabel='gdp_per_capita', ylabel='life_expectancy'>"
            ]
          },
          "metadata": {},
          "execution_count": 188
        },
        {
          "output_type": "display_data",
          "data": {
            "text/plain": [
              "<Figure size 640x480 with 1 Axes>"
            ],
            "image/png": "[encoded data removed]"
          },
          "metadata": {}
        }
      ]
    },
    {
      "cell_type": "markdown",
      "source": [
        "Το παραπάνω scatter plot μας δίνει άμεσα μια εικόνα για τη σχέση των δύο μεταβλητών. Αυτή είναι η δύναμη των οπτικοποιήσεων: \n",
        "* μπορούμε **με μια ματιά** να δούμε τι κρύβεται στα δεδομένα για να ψάξουμε περισσότερο\n",
        "* διαφορετικά είδη γραφημάτων δίνουν **καλύτερες** ή **χειρότερες** απεικονίσεις, ανάλογα με το είδος των (μεταβλητών των) δεδομένων μας και του εκάστοτε ζητούμενου\n",
        "\n",
        "Σημειώστε ότι τo γεγονός πώς οι δύο συγκεκριμένες μεταβλητές συσχετίζονται με κάποιο τρόπο, τη βλέπουμε και με το corr().\n",
        "\n",
        "Αλλά η τιμή του corr() δεν μας λέει το πώς ακριβώς συσχετίονται (πέρα από το πρόσιμο που μας λέει αν η συσχέτιση είναι ανάλογη ή αντιστρόφως ανάλογη)."
      ],
      "metadata": {
        "id": "FKVM4O6FNiOE"
      }
    },
    {
      "cell_type": "code",
      "source": [
        "df[['gdp_per_capita', 'life_expectancy']].corr()"
      ],
      "metadata": {
        "id": "YhaFi6-NN9he",
        "colab": {
          "base_uri": "https://localhost:8080/",
          "height": 112
        },
        "outputId": "e434dfdd-15bd-4171-c058-6e486fe2b100"
      },
      "execution_count": null,
      "outputs": [
        {
          "output_type": "execute_result",
          "data": {
            "text/plain": [
              "                 gdp_per_capita  life_expectancy\n",
              "gdp_per_capita         1.000000         0.629438\n",
              "life_expectancy        0.629438         1.000000"
            ],
            "text/html": [
              "\n",
              "  <div id=\"df-2bdf1f05-4f21-4637-bf96-5a66dfca0f4a\">\n",
              "    <div class=\"colab-df-container\">\n",
              "      <div>\n",
              "<style scoped>\n",
              "    .dataframe tbody tr th:only-of-type {\n",
              "        vertical-align: middle;\n",
              "    }\n",
              "\n",
              "    .dataframe tbody tr th {\n",
              "        vertical-align: top;\n",
              "    }\n",
              "\n",
              "    .dataframe thead th {\n",
              "        text-align: right;\n",
              "    }\n",
              "</style>\n",
              "<table border=\"1\" class=\"dataframe\">\n",
              "  <thead>\n",
              "    <tr style=\"text-align: right;\">\n",
              "      <th></th>\n",
              "      <th>gdp_per_capita</th>\n",
              "      <th>life_expectancy</th>\n",
              "    </tr>\n",
              "  </thead>\n",
              "  <tbody>\n",
              "    <tr>\n",
              "      <th>gdp_per_capita</th>\n",
              "      <td>1.000000</td>\n",
              "      <td>0.629438</td>\n",
              "    </tr>\n",
              "    <tr>\n",
              "      <th>life_expectancy</th>\n",
              "      <td>0.629438</td>\n",
              "      <td>1.000000</td>\n",
              "    </tr>\n",
              "  </tbody>\n",
              "</table>\n",
              "</div>\n",
              "      <button class=\"colab-df-convert\" onclick=\"convertToInteractive('df-2bdf1f05-4f21-4637-bf96-5a66dfca0f4a')\"\n",
              "              title=\"Convert this dataframe to an interactive table.\"\n",
              "              style=\"display:none;\">\n",
              "        \n",
              "  <svg xmlns=\"http://www.w3.org/2000/svg\" height=\"24px\"viewBox=\"0 0 24 24\"\n",
              "       width=\"24px\">\n",
              "    <path d=\"M0 0h24v24H0V0z\" fill=\"none\"/>\n",
              "    <path d=\"M18.56 5.44l.94 2.06.94-2.06 2.06-.94-2.06-.94-.94-2.06-.94 2.06-2.06.94zm-11 1L8.5 8.5l.94-2.06 2.06-.94-2.06-.94L8.5 2.5l-.94 2.06-2.06.94zm10 10l.94 2.06.94-2.06 2.06-.94-2.06-.94-.94-2.06-.94 2.06-2.06.94z\"/><path d=\"M17.41 7.96l-1.37-1.37c-.4-.4-.92-.59-1.43-.59-.52 0-1.04.2-1.43.59L10.3 9.45l-7.72 7.72c-.78.78-.78 2.05 0 2.83L4 21.41c.39.39.9.59 1.41.59.51 0 1.02-.2 1.41-.59l7.78-7.78 2.81-2.81c.8-.78.8-2.07 0-2.86zM5.41 20L4 18.59l7.72-7.72 1.47 1.35L5.41 20z\"/>\n",
              "  </svg>\n",
              "      </button>\n",
              "      \n",
              "  <style>\n",
              "    .colab-df-container {\n",
              "      display:flex;\n",
              "      flex-wrap:wrap;\n",
              "      gap: 12px;\n",
              "    }\n",
              "\n",
              "    .colab-df-convert {\n",
              "      background-color: #E8F0FE;\n",
              "      border: none;\n",
              "      border-radius: 50%;\n",
              "      cursor: pointer;\n",
              "      display: none;\n",
              "      fill: #1967D2;\n",
              "      height: 32px;\n",
              "      padding: 0 0 0 0;\n",
              "      width: 32px;\n",
              "    }\n",
              "\n",
              "    .colab-df-convert:hover {\n",
              "      background-color: #E2EBFA;\n",
              "      box-shadow: 0px 1px 2px rgba(60, 64, 67, 0.3), 0px 1px 3px 1px rgba(60, 64, 67, 0.15);\n",
              "      fill: #174EA6;\n",
              "    }\n",
              "\n",
              "    [theme=dark] .colab-df-convert {\n",
              "      background-color: #3B4455;\n",
              "      fill: #D2E3FC;\n",
              "    }\n",
              "\n",
              "    [theme=dark] .colab-df-convert:hover {\n",
              "      background-color: #434B5C;\n",
              "      box-shadow: 0px 1px 3px 1px rgba(0, 0, 0, 0.15);\n",
              "      filter: drop-shadow(0px 1px 2px rgba(0, 0, 0, 0.3));\n",
              "      fill: #FFFFFF;\n",
              "    }\n",
              "  </style>\n",
              "\n",
              "      <script>\n",
              "        const buttonEl =\n",
              "          document.querySelector('#df-2bdf1f05-4f21-4637-bf96-5a66dfca0f4a button.colab-df-convert');\n",
              "        buttonEl.style.display =\n",
              "          google.colab.kernel.accessAllowed ? 'block' : 'none';\n",
              "\n",
              "        async function convertToInteractive(key) {\n",
              "          const element = document.querySelector('#df-2bdf1f05-4f21-4637-bf96-5a66dfca0f4a');\n",
              "          const dataTable =\n",
              "            await google.colab.kernel.invokeFunction('convertToInteractive',\n",
              "                                                     [key], {});\n",
              "          if (!dataTable) return;\n",
              "\n",
              "          const docLinkHtml = 'Like what you see? Visit the ' +\n",
              "            '<a target=\"_blank\" href=https://colab.research.google.com/notebooks/data_table.ipynb>data table notebook</a>'\n",
              "            + ' to learn more about interactive tables.';\n",
              "          element.innerHTML = '';\n",
              "          dataTable['output_type'] = 'display_data';\n",
              "          await google.colab.output.renderOutput(dataTable, element);\n",
              "          const docLink = document.createElement('div');\n",
              "          docLink.innerHTML = docLinkHtml;\n",
              "          element.appendChild(docLink);\n",
              "        }\n",
              "      </script>\n",
              "    </div>\n",
              "  </div>\n",
              "  "
            ]
          },
          "metadata": {},
          "execution_count": 189
        }
      ]
    },
    {
      "cell_type": "markdown",
      "source": [
        "---\n",
        "**Άσκηση 12**:\n",
        "\n",
        "Βρείτε το μ.ο. του κατά κεφαλή ΑΕΠ ανά ήπειρο και φτιάξτε ένα γράφημμα πίτας (pie chart).\n",
        "\n",
        "Help: \n",
        "* η λογική είναι: ομαδοποίηση ανά ήπειρο, μέσος όρος του κατά κεφαλή ΑΕΠ, σχεδίαση σε γράφημα πίτας\n",
        "* το γράφημα πίτας στην plot() λέγεται pie\n"
      ],
      "metadata": {
        "id": "j2Hi9kTIAeSJ"
      }
    },
    {
      "cell_type": "code",
      "source": [
        "df.groupby('continent')['gdp_per_capita'].sum().plot(kind='pie')"
      ],
      "metadata": {
        "id": "AQny4ouz_f3U",
        "colab": {
          "base_uri": "https://localhost:8080/",
          "height": 423
        },
        "outputId": "5d021eb5-22a3-4e28-fed0-bb307808b623"
      },
      "execution_count": 20,
      "outputs": [
        {
          "output_type": "execute_result",
          "data": {
            "text/plain": [
              "<Axes: ylabel='gdp_per_capita'>"
            ]
          },
          "metadata": {},
          "execution_count": 20
        },
        {
          "output_type": "display_data",
          "data": {
            "text/plain": [
              "<Figure size 640x480 with 1 Axes>"
            ],
            "image/png": "[encoded data removed]"
          },
          "metadata": {}
        }
      ]
    },
    {
      "cell_type": "markdown",
      "source": [
        "---"
      ],
      "metadata": {
        "id": "c4OMhiMeCfSe"
      }
    },
    {
      "cell_type": "markdown",
      "source": [
        "# **Ανασκόπηση**\n",
        "\n",
        "Τι έχουμε μάθει ως εδώ:\n",
        "\n",
        "* να **εισάγουμε** βιβλιοθήκες\n",
        "* να **συνδέουμε** το colab με το drive\n",
        "* να **διαβάζουμε** και να **αποθηκεύουμε** csv\n",
        "* να **επισκοπούμε** τα δεδομένα\n",
        "* να βρίσκουμε **στατιστικά στοιχεία**\n",
        "* να βρίσκουμε **συσχετίσεις** των δεδομένων\n",
        "* να **επιλέγουμε** συγκεκριμένα κομμάτια των δεδομένων\n",
        "* να **ταξινομούμε** τα δεδομένα\n",
        "* να **φιλτράρουμε** τα δεδομένα\n",
        "* να **ομαδοποιούμε** τα δεδομένα και να παίρνουμε νέες πληροφορίες\n",
        "* να **επεξεργαζόμαστε** τα δεδομένα και να **αποθηκεύουμε** τις αλλαγές\n",
        "* να δημιουργούμε **νέα dataframes**\n",
        "* να δημιουργούμε **γραφικές απεικονίσεις** των δεδομένων και των ευρημάτων μας\n",
        "\n",
        "Προφανώς αυτά είναι μόνο η αρχή όσων μπορούμε να κάνουμε με τα pandas, αλλά δεν ξεχνάμε ότι η αρχή είναι το ήμισυ του παντός.\n",
        "\n",
        "#### **Μαθαίνουμε τα εργαλεία, αλλά δεν πρέπει να ξεχνάμε γαιτί τα μαθαίνουμε**:\n",
        "\n",
        "Εδώ επικεντρωνόμαστε στις δυνατότητες που μας προσφέρουν η Python και τα Pandas για να διαχειριστούμε μεγάλα σύνολα δεδομένων. **Αλλά ...**\n",
        "\n",
        "Ο σκοπός μας πάντα είναι να δίνουμε απαντήσεις σε ερωτήματα. Τα εργαλεία υπάρχουν και είναι ανεξάντλητα. \n",
        "\n",
        "Όλα όμως ξεκινούν από την **ενδελεχή επισκόπηση και κατανόηση των δεδομένων** μας, η οποία θα μας οδηγήσει σε σωστές, δηλαδή **ενδιαφέρουσες** και **συγκεκριμένες**, ερωτήσεις. Τα υπόλοιπα είναι πολύ σημαντικά μεν, technicalities δε που δεν πρέπει να μας τρομάζουν. \n",
        "\n",
        "\n",
        "[**Pandas Cheatsheet 1**](https://raw.githubusercontent.com/datajour-gr/DataJournalism/main/Bachelor%20Lessons%202023/Lesson%203/Pandas%20cheatsheet%201.pdf): οι βασικές εντολές για τα Pandas που καλύφθηκαν στο μάθημα σε ένα Α4"
      ],
      "metadata": {
        "id": "ONXfpalmG45E"
      }
    }
  ]
}