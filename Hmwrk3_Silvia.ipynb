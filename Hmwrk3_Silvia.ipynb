{
  "nbformat": 4,
  "nbformat_minor": 0,
  "metadata": {
    "colab": {
      "provenance": [],
      "include_colab_link": true
    },
    "kernelspec": {
      "name": "python3",
      "display_name": "Python 3"
    },
    "language_info": {
      "name": "python"
    }
  },
  "cells": [
    {
      "cell_type": "markdown",
      "metadata": {
        "id": "view-in-github",
        "colab_type": "text"
      },
      "source": [
        "<a href=\"https://colab.research.google.com/github/silviaaax/datastories_for_emme/blob/main/Hmwrk3_Silvia.ipynb\" target=\"_parent\"><img src=\"https://colab.research.google.com/assets/colab-badge.svg\" alt=\"Open In Colab\"/></a>"
      ]
    },
    {
      "cell_type": "markdown",
      "source": [
        "# Homework on Lesson 3 - Intro to Pandas\n",
        "\n",
        "Αυτή η εργασία περιγράφει μια ενδεικτική ροή εργασιών (workflow) που ακολουθούμε για την ανάλυση δεδομένων.\n",
        "\n",
        "Ακολουθήστε το ροή του notebook, διαβάστε τις πληροφορίες, τις οδηγίες και τις συμβουλές, συμπληρώστε τον κώδικα που λείπει και τέλος κάντε τις δικές σας αναλύσεις."
      ],
      "metadata": {
        "id": "RXN7sNeN8dZG"
      }
    },
    {
      "cell_type": "markdown",
      "source": [
        "**Ανάλυση ενός dataset με ταινίες από το IMDB**\n",
        "\n",
        "Έχουμε ένα αρχείο .csv το οποίο περιέχει τις καλύτερες 1000 ταινίες του IMDB. \n",
        "\n",
        "Χρησιμοποιώντας την Python και τις βιβλιοθήκες Pandas και Matplotlib: \n",
        "\n",
        "* εξετάστε τα δεδομένα\n",
        "* δημιουργήσε οπτικοποιήσεις για να κάνετε καλύτερες παρατηρήσεις\n",
        "* εντοπίστε θέματα για διερεύνηση\n",
        "* θέστε ενδιαφέροντα ερωτήματα\n",
        "* κάνετε περισσότερες αναλύσεις συνδυάζοντας τα δεδομένα, και\n",
        "* γράψτε μια μικρή παράγραφο με τα σημαντικότερα ευρήματά σας"
      ],
      "metadata": {
        "id": "NoDs3Hf_CaSn"
      }
    },
    {
      "cell_type": "markdown",
      "source": [
        "## **1. Εισαγωγή βιβλιοθηκών**\n",
        "\n",
        "Εισάγουμε στο notebook τα pandas ως pd και τη matplotlib.pyplot ως plt  "
      ],
      "metadata": {
        "id": "bywjItX-Y6ZH"
      }
    },
    {
      "cell_type": "code",
      "source": [
        "import pandas as pd\n",
        "import matplotlib.pyplot as plt "
      ],
      "metadata": {
        "id": "fbF6DffwXaS3"
      },
      "execution_count": 19,
      "outputs": []
    },
    {
      "cell_type": "markdown",
      "source": [
        "## **2. Εισαγωγή αρχείου δεδομένων**\n",
        "\n",
        "Διαβάζουμε με τα Pandas το csv από τη διεύθυνση https://raw.githubusercontent.com/thechaudharysab/imdb-data-pandas-visualization/master/data/imdb_1000.csv και το αποθηκεύουμε σε ένα dataframe με όνομα movies_df"
      ],
      "metadata": {
        "id": "wCBYczZ0ZeTz"
      }
    },
    {
      "cell_type": "code",
      "source": [
        "df = pd.read_csv(\"https://raw.githubusercontent.com/thechaudharysab/imdb-data-pandas-visualization/master/data/imdb_1000.csv\")\n",
        "df"
      ],
      "metadata": {
        "id": "xuceEMewZdl7",
        "outputId": "e7a45cb2-5714-4cc0-f881-0988850a552c",
        "colab": {
          "base_uri": "https://localhost:8080/",
          "height": 424
        }
      },
      "execution_count": 20,
      "outputs": [
        {
          "output_type": "execute_result",
          "data": {
            "text/plain": [
              "     star_rating                                            title  \\\n",
              "0            9.3                         The Shawshank Redemption   \n",
              "1            9.2                                    The Godfather   \n",
              "2            9.1                           The Godfather: Part II   \n",
              "3            9.0                                  The Dark Knight   \n",
              "4            8.9                                     Pulp Fiction   \n",
              "..           ...                                              ...   \n",
              "974          7.4                                          Tootsie   \n",
              "975          7.4                      Back to the Future Part III   \n",
              "976          7.4  Master and Commander: The Far Side of the World   \n",
              "977          7.4                                      Poltergeist   \n",
              "978          7.4                                      Wall Street   \n",
              "\n",
              "    content_rating      genre  duration  \\\n",
              "0                R      Crime       142   \n",
              "1                R      Crime       175   \n",
              "2                R      Crime       200   \n",
              "3            PG-13     Action       152   \n",
              "4                R      Crime       154   \n",
              "..             ...        ...       ...   \n",
              "974             PG     Comedy       116   \n",
              "975             PG  Adventure       118   \n",
              "976          PG-13     Action       138   \n",
              "977             PG     Horror       114   \n",
              "978              R      Crime       126   \n",
              "\n",
              "                                           actors_list  \n",
              "0    [u'Tim Robbins', u'Morgan Freeman', u'Bob Gunt...  \n",
              "1      [u'Marlon Brando', u'Al Pacino', u'James Caan']  \n",
              "2    [u'Al Pacino', u'Robert De Niro', u'Robert Duv...  \n",
              "3    [u'Christian Bale', u'Heath Ledger', u'Aaron E...  \n",
              "4    [u'John Travolta', u'Uma Thurman', u'Samuel L....  \n",
              "..                                                 ...  \n",
              "974  [u'Dustin Hoffman', u'Jessica Lange', u'Teri G...  \n",
              "975  [u'Michael J. Fox', u'Christopher Lloyd', u'Ma...  \n",
              "976  [u'Russell Crowe', u'Paul Bettany', u'Billy Bo...  \n",
              "977  [u'JoBeth Williams', u\"Heather O'Rourke\", u'Cr...  \n",
              "978  [u'Charlie Sheen', u'Michael Douglas', u'Tamar...  \n",
              "\n",
              "[979 rows x 6 columns]"
            ],
            "text/html": [
              "\n",
              "  <div id=\"df-0fe1f542-1dfc-43d5-83ef-5a0f69c36a4b\">\n",
              "    <div class=\"colab-df-container\">\n",
              "      <div>\n",
              "<style scoped>\n",
              "    .dataframe tbody tr th:only-of-type {\n",
              "        vertical-align: middle;\n",
              "    }\n",
              "\n",
              "    .dataframe tbody tr th {\n",
              "        vertical-align: top;\n",
              "    }\n",
              "\n",
              "    .dataframe thead th {\n",
              "        text-align: right;\n",
              "    }\n",
              "</style>\n",
              "<table border=\"1\" class=\"dataframe\">\n",
              "  <thead>\n",
              "    <tr style=\"text-align: right;\">\n",
              "      <th></th>\n",
              "      <th>star_rating</th>\n",
              "      <th>title</th>\n",
              "      <th>content_rating</th>\n",
              "      <th>genre</th>\n",
              "      <th>duration</th>\n",
              "      <th>actors_list</th>\n",
              "    </tr>\n",
              "  </thead>\n",
              "  <tbody>\n",
              "    <tr>\n",
              "      <th>0</th>\n",
              "      <td>9.3</td>\n",
              "      <td>The Shawshank Redemption</td>\n",
              "      <td>R</td>\n",
              "      <td>Crime</td>\n",
              "      <td>142</td>\n",
              "      <td>[u'Tim Robbins', u'Morgan Freeman', u'Bob Gunt...</td>\n",
              "    </tr>\n",
              "    <tr>\n",
              "      <th>1</th>\n",
              "      <td>9.2</td>\n",
              "      <td>The Godfather</td>\n",
              "      <td>R</td>\n",
              "      <td>Crime</td>\n",
              "      <td>175</td>\n",
              "      <td>[u'Marlon Brando', u'Al Pacino', u'James Caan']</td>\n",
              "    </tr>\n",
              "    <tr>\n",
              "      <th>2</th>\n",
              "      <td>9.1</td>\n",
              "      <td>The Godfather: Part II</td>\n",
              "      <td>R</td>\n",
              "      <td>Crime</td>\n",
              "      <td>200</td>\n",
              "      <td>[u'Al Pacino', u'Robert De Niro', u'Robert Duv...</td>\n",
              "    </tr>\n",
              "    <tr>\n",
              "      <th>3</th>\n",
              "      <td>9.0</td>\n",
              "      <td>The Dark Knight</td>\n",
              "      <td>PG-13</td>\n",
              "      <td>Action</td>\n",
              "      <td>152</td>\n",
              "      <td>[u'Christian Bale', u'Heath Ledger', u'Aaron E...</td>\n",
              "    </tr>\n",
              "    <tr>\n",
              "      <th>4</th>\n",
              "      <td>8.9</td>\n",
              "      <td>Pulp Fiction</td>\n",
              "      <td>R</td>\n",
              "      <td>Crime</td>\n",
              "      <td>154</td>\n",
              "      <td>[u'John Travolta', u'Uma Thurman', u'Samuel L....</td>\n",
              "    </tr>\n",
              "    <tr>\n",
              "      <th>...</th>\n",
              "      <td>...</td>\n",
              "      <td>...</td>\n",
              "      <td>...</td>\n",
              "      <td>...</td>\n",
              "      <td>...</td>\n",
              "      <td>...</td>\n",
              "    </tr>\n",
              "    <tr>\n",
              "      <th>974</th>\n",
              "      <td>7.4</td>\n",
              "      <td>Tootsie</td>\n",
              "      <td>PG</td>\n",
              "      <td>Comedy</td>\n",
              "      <td>116</td>\n",
              "      <td>[u'Dustin Hoffman', u'Jessica Lange', u'Teri G...</td>\n",
              "    </tr>\n",
              "    <tr>\n",
              "      <th>975</th>\n",
              "      <td>7.4</td>\n",
              "      <td>Back to the Future Part III</td>\n",
              "      <td>PG</td>\n",
              "      <td>Adventure</td>\n",
              "      <td>118</td>\n",
              "      <td>[u'Michael J. Fox', u'Christopher Lloyd', u'Ma...</td>\n",
              "    </tr>\n",
              "    <tr>\n",
              "      <th>976</th>\n",
              "      <td>7.4</td>\n",
              "      <td>Master and Commander: The Far Side of the World</td>\n",
              "      <td>PG-13</td>\n",
              "      <td>Action</td>\n",
              "      <td>138</td>\n",
              "      <td>[u'Russell Crowe', u'Paul Bettany', u'Billy Bo...</td>\n",
              "    </tr>\n",
              "    <tr>\n",
              "      <th>977</th>\n",
              "      <td>7.4</td>\n",
              "      <td>Poltergeist</td>\n",
              "      <td>PG</td>\n",
              "      <td>Horror</td>\n",
              "      <td>114</td>\n",
              "      <td>[u'JoBeth Williams', u\"Heather O'Rourke\", u'Cr...</td>\n",
              "    </tr>\n",
              "    <tr>\n",
              "      <th>978</th>\n",
              "      <td>7.4</td>\n",
              "      <td>Wall Street</td>\n",
              "      <td>R</td>\n",
              "      <td>Crime</td>\n",
              "      <td>126</td>\n",
              "      <td>[u'Charlie Sheen', u'Michael Douglas', u'Tamar...</td>\n",
              "    </tr>\n",
              "  </tbody>\n",
              "</table>\n",
              "<p>979 rows × 6 columns</p>\n",
              "</div>\n",
              "      <button class=\"colab-df-convert\" onclick=\"convertToInteractive('df-0fe1f542-1dfc-43d5-83ef-5a0f69c36a4b')\"\n",
              "              title=\"Convert this dataframe to an interactive table.\"\n",
              "              style=\"display:none;\">\n",
              "        \n",
              "  <svg xmlns=\"http://www.w3.org/2000/svg\" height=\"24px\"viewBox=\"0 0 24 24\"\n",
              "       width=\"24px\">\n",
              "    <path d=\"M0 0h24v24H0V0z\" fill=\"none\"/>\n",
              "    <path d=\"M18.56 5.44l.94 2.06.94-2.06 2.06-.94-2.06-.94-.94-2.06-.94 2.06-2.06.94zm-11 1L8.5 8.5l.94-2.06 2.06-.94-2.06-.94L8.5 2.5l-.94 2.06-2.06.94zm10 10l.94 2.06.94-2.06 2.06-.94-2.06-.94-.94-2.06-.94 2.06-2.06.94z\"/><path d=\"M17.41 7.96l-1.37-1.37c-.4-.4-.92-.59-1.43-.59-.52 0-1.04.2-1.43.59L10.3 9.45l-7.72 7.72c-.78.78-.78 2.05 0 2.83L4 21.41c.39.39.9.59 1.41.59.51 0 1.02-.2 1.41-.59l7.78-7.78 2.81-2.81c.8-.78.8-2.07 0-2.86zM5.41 20L4 18.59l7.72-7.72 1.47 1.35L5.41 20z\"/>\n",
              "  </svg>\n",
              "      </button>\n",
              "      \n",
              "  <style>\n",
              "    .colab-df-container {\n",
              "      display:flex;\n",
              "      flex-wrap:wrap;\n",
              "      gap: 12px;\n",
              "    }\n",
              "\n",
              "    .colab-df-convert {\n",
              "      background-color: #E8F0FE;\n",
              "      border: none;\n",
              "      border-radius: 50%;\n",
              "      cursor: pointer;\n",
              "      display: none;\n",
              "      fill: #1967D2;\n",
              "      height: 32px;\n",
              "      padding: 0 0 0 0;\n",
              "      width: 32px;\n",
              "    }\n",
              "\n",
              "    .colab-df-convert:hover {\n",
              "      background-color: #E2EBFA;\n",
              "      box-shadow: 0px 1px 2px rgba(60, 64, 67, 0.3), 0px 1px 3px 1px rgba(60, 64, 67, 0.15);\n",
              "      fill: #174EA6;\n",
              "    }\n",
              "\n",
              "    [theme=dark] .colab-df-convert {\n",
              "      background-color: #3B4455;\n",
              "      fill: #D2E3FC;\n",
              "    }\n",
              "\n",
              "    [theme=dark] .colab-df-convert:hover {\n",
              "      background-color: #434B5C;\n",
              "      box-shadow: 0px 1px 3px 1px rgba(0, 0, 0, 0.15);\n",
              "      filter: drop-shadow(0px 1px 2px rgba(0, 0, 0, 0.3));\n",
              "      fill: #FFFFFF;\n",
              "    }\n",
              "  </style>\n",
              "\n",
              "      <script>\n",
              "        const buttonEl =\n",
              "          document.querySelector('#df-0fe1f542-1dfc-43d5-83ef-5a0f69c36a4b button.colab-df-convert');\n",
              "        buttonEl.style.display =\n",
              "          google.colab.kernel.accessAllowed ? 'block' : 'none';\n",
              "\n",
              "        async function convertToInteractive(key) {\n",
              "          const element = document.querySelector('#df-0fe1f542-1dfc-43d5-83ef-5a0f69c36a4b');\n",
              "          const dataTable =\n",
              "            await google.colab.kernel.invokeFunction('convertToInteractive',\n",
              "                                                     [key], {});\n",
              "          if (!dataTable) return;\n",
              "\n",
              "          const docLinkHtml = 'Like what you see? Visit the ' +\n",
              "            '<a target=\"_blank\" href=https://colab.research.google.com/notebooks/data_table.ipynb>data table notebook</a>'\n",
              "            + ' to learn more about interactive tables.';\n",
              "          element.innerHTML = '';\n",
              "          dataTable['output_type'] = 'display_data';\n",
              "          await google.colab.output.renderOutput(dataTable, element);\n",
              "          const docLink = document.createElement('div');\n",
              "          docLink.innerHTML = docLinkHtml;\n",
              "          element.appendChild(docLink);\n",
              "        }\n",
              "      </script>\n",
              "    </div>\n",
              "  </div>\n",
              "  "
            ]
          },
          "metadata": {},
          "execution_count": 20
        }
      ]
    },
    {
      "cell_type": "markdown",
      "source": [
        "## **3. Επισκόπηση του dataframe**\n",
        "\n",
        "Πρώτα - πρώτα θέλουμε να δούμε και να κατανοήσουμε τι περιλαμβάνεται στα δεδομένα μας.\n",
        "\n",
        "* ποια είναι τα ονόματα των στηλών;\n",
        "* τι είδους είναι οι μεταβλητές μας; ποιος είναι ο τύπος των δεδομένων κάθε στήλης;\n",
        "* πόσες εγγραφές έχει συνολικά το δείγμα μας;\n",
        "* ποια είναι τα βασικά στατιστικά στοιχεία του dataframe;\n",
        "* ποιες μεταβλητές συσχετίζονται μεταξύ τους και πώς (correlation);\n",
        "\n",
        "Παίρνουμε απαντήσεις για τα παραπάνω ερωτήματα με τη βοήθεια των εργαλείων που μας παρέχουν τα Pandas.\n"
      ],
      "metadata": {
        "id": "76OJr-cwabIa"
      }
    },
    {
      "cell_type": "code",
      "source": [
        "df.columns"
      ],
      "metadata": {
        "id": "dC6u1oxOdBpW",
        "outputId": "c5324854-31cc-42cc-9e00-4ac6485ea2b5",
        "colab": {
          "base_uri": "https://localhost:8080/"
        }
      },
      "execution_count": null,
      "outputs": [
        {
          "output_type": "execute_result",
          "data": {
            "text/plain": [
              "Index(['star_rating', 'title', 'content_rating', 'genre', 'duration',\n",
              "       'actors_list'],\n",
              "      dtype='object')"
            ]
          },
          "metadata": {},
          "execution_count": 5
        }
      ]
    },
    {
      "cell_type": "code",
      "source": [
        "df.dtypes"
      ],
      "metadata": {
        "id": "gZSd-rwadxRZ",
        "outputId": "93e21da3-f77d-4100-db55-347e9f6b7d27",
        "colab": {
          "base_uri": "https://localhost:8080/"
        }
      },
      "execution_count": null,
      "outputs": [
        {
          "output_type": "execute_result",
          "data": {
            "text/plain": [
              "star_rating       float64\n",
              "title              object\n",
              "content_rating     object\n",
              "genre              object\n",
              "duration            int64\n",
              "actors_list        object\n",
              "dtype: object"
            ]
          },
          "metadata": {},
          "execution_count": 6
        }
      ]
    },
    {
      "cell_type": "code",
      "source": [
        "df.shape[1]"
      ],
      "metadata": {
        "id": "u2yXaM9tIGwB",
        "outputId": "15412a0c-2d3e-4242-a03a-ac945af2ddf3",
        "colab": {
          "base_uri": "https://localhost:8080/"
        }
      },
      "execution_count": null,
      "outputs": [
        {
          "output_type": "execute_result",
          "data": {
            "text/plain": [
              "6"
            ]
          },
          "metadata": {},
          "execution_count": 12
        }
      ]
    },
    {
      "cell_type": "code",
      "source": [
        "df.describe()"
      ],
      "metadata": {
        "id": "X3O2sFdbd5Ot",
        "outputId": "53886644-e013-4512-c09c-5f2e640152ce",
        "colab": {
          "base_uri": "https://localhost:8080/",
          "height": 300
        }
      },
      "execution_count": null,
      "outputs": [
        {
          "output_type": "execute_result",
          "data": {
            "text/plain": [
              "       star_rating    duration\n",
              "count   979.000000  979.000000\n",
              "mean      7.889785  120.979571\n",
              "std       0.336069   26.218010\n",
              "min       7.400000   64.000000\n",
              "25%       7.600000  102.000000\n",
              "50%       7.800000  117.000000\n",
              "75%       8.100000  134.000000\n",
              "max       9.300000  242.000000"
            ],
            "text/html": [
              "\n",
              "  <div id=\"df-82ca1947-8113-4134-87c5-82a5aecbab80\">\n",
              "    <div class=\"colab-df-container\">\n",
              "      <div>\n",
              "<style scoped>\n",
              "    .dataframe tbody tr th:only-of-type {\n",
              "        vertical-align: middle;\n",
              "    }\n",
              "\n",
              "    .dataframe tbody tr th {\n",
              "        vertical-align: top;\n",
              "    }\n",
              "\n",
              "    .dataframe thead th {\n",
              "        text-align: right;\n",
              "    }\n",
              "</style>\n",
              "<table border=\"1\" class=\"dataframe\">\n",
              "  <thead>\n",
              "    <tr style=\"text-align: right;\">\n",
              "      <th></th>\n",
              "      <th>star_rating</th>\n",
              "      <th>duration</th>\n",
              "    </tr>\n",
              "  </thead>\n",
              "  <tbody>\n",
              "    <tr>\n",
              "      <th>count</th>\n",
              "      <td>979.000000</td>\n",
              "      <td>979.000000</td>\n",
              "    </tr>\n",
              "    <tr>\n",
              "      <th>mean</th>\n",
              "      <td>7.889785</td>\n",
              "      <td>120.979571</td>\n",
              "    </tr>\n",
              "    <tr>\n",
              "      <th>std</th>\n",
              "      <td>0.336069</td>\n",
              "      <td>26.218010</td>\n",
              "    </tr>\n",
              "    <tr>\n",
              "      <th>min</th>\n",
              "      <td>7.400000</td>\n",
              "      <td>64.000000</td>\n",
              "    </tr>\n",
              "    <tr>\n",
              "      <th>25%</th>\n",
              "      <td>7.600000</td>\n",
              "      <td>102.000000</td>\n",
              "    </tr>\n",
              "    <tr>\n",
              "      <th>50%</th>\n",
              "      <td>7.800000</td>\n",
              "      <td>117.000000</td>\n",
              "    </tr>\n",
              "    <tr>\n",
              "      <th>75%</th>\n",
              "      <td>8.100000</td>\n",
              "      <td>134.000000</td>\n",
              "    </tr>\n",
              "    <tr>\n",
              "      <th>max</th>\n",
              "      <td>9.300000</td>\n",
              "      <td>242.000000</td>\n",
              "    </tr>\n",
              "  </tbody>\n",
              "</table>\n",
              "</div>\n",
              "      <button class=\"colab-df-convert\" onclick=\"convertToInteractive('df-82ca1947-8113-4134-87c5-82a5aecbab80')\"\n",
              "              title=\"Convert this dataframe to an interactive table.\"\n",
              "              style=\"display:none;\">\n",
              "        \n",
              "  <svg xmlns=\"http://www.w3.org/2000/svg\" height=\"24px\"viewBox=\"0 0 24 24\"\n",
              "       width=\"24px\">\n",
              "    <path d=\"M0 0h24v24H0V0z\" fill=\"none\"/>\n",
              "    <path d=\"M18.56 5.44l.94 2.06.94-2.06 2.06-.94-2.06-.94-.94-2.06-.94 2.06-2.06.94zm-11 1L8.5 8.5l.94-2.06 2.06-.94-2.06-.94L8.5 2.5l-.94 2.06-2.06.94zm10 10l.94 2.06.94-2.06 2.06-.94-2.06-.94-.94-2.06-.94 2.06-2.06.94z\"/><path d=\"M17.41 7.96l-1.37-1.37c-.4-.4-.92-.59-1.43-.59-.52 0-1.04.2-1.43.59L10.3 9.45l-7.72 7.72c-.78.78-.78 2.05 0 2.83L4 21.41c.39.39.9.59 1.41.59.51 0 1.02-.2 1.41-.59l7.78-7.78 2.81-2.81c.8-.78.8-2.07 0-2.86zM5.41 20L4 18.59l7.72-7.72 1.47 1.35L5.41 20z\"/>\n",
              "  </svg>\n",
              "      </button>\n",
              "      \n",
              "  <style>\n",
              "    .colab-df-container {\n",
              "      display:flex;\n",
              "      flex-wrap:wrap;\n",
              "      gap: 12px;\n",
              "    }\n",
              "\n",
              "    .colab-df-convert {\n",
              "      background-color: #E8F0FE;\n",
              "      border: none;\n",
              "      border-radius: 50%;\n",
              "      cursor: pointer;\n",
              "      display: none;\n",
              "      fill: #1967D2;\n",
              "      height: 32px;\n",
              "      padding: 0 0 0 0;\n",
              "      width: 32px;\n",
              "    }\n",
              "\n",
              "    .colab-df-convert:hover {\n",
              "      background-color: #E2EBFA;\n",
              "      box-shadow: 0px 1px 2px rgba(60, 64, 67, 0.3), 0px 1px 3px 1px rgba(60, 64, 67, 0.15);\n",
              "      fill: #174EA6;\n",
              "    }\n",
              "\n",
              "    [theme=dark] .colab-df-convert {\n",
              "      background-color: #3B4455;\n",
              "      fill: #D2E3FC;\n",
              "    }\n",
              "\n",
              "    [theme=dark] .colab-df-convert:hover {\n",
              "      background-color: #434B5C;\n",
              "      box-shadow: 0px 1px 3px 1px rgba(0, 0, 0, 0.15);\n",
              "      filter: drop-shadow(0px 1px 2px rgba(0, 0, 0, 0.3));\n",
              "      fill: #FFFFFF;\n",
              "    }\n",
              "  </style>\n",
              "\n",
              "      <script>\n",
              "        const buttonEl =\n",
              "          document.querySelector('#df-82ca1947-8113-4134-87c5-82a5aecbab80 button.colab-df-convert');\n",
              "        buttonEl.style.display =\n",
              "          google.colab.kernel.accessAllowed ? 'block' : 'none';\n",
              "\n",
              "        async function convertToInteractive(key) {\n",
              "          const element = document.querySelector('#df-82ca1947-8113-4134-87c5-82a5aecbab80');\n",
              "          const dataTable =\n",
              "            await google.colab.kernel.invokeFunction('convertToInteractive',\n",
              "                                                     [key], {});\n",
              "          if (!dataTable) return;\n",
              "\n",
              "          const docLinkHtml = 'Like what you see? Visit the ' +\n",
              "            '<a target=\"_blank\" href=https://colab.research.google.com/notebooks/data_table.ipynb>data table notebook</a>'\n",
              "            + ' to learn more about interactive tables.';\n",
              "          element.innerHTML = '';\n",
              "          dataTable['output_type'] = 'display_data';\n",
              "          await google.colab.output.renderOutput(dataTable, element);\n",
              "          const docLink = document.createElement('div');\n",
              "          docLink.innerHTML = docLinkHtml;\n",
              "          element.appendChild(docLink);\n",
              "        }\n",
              "      </script>\n",
              "    </div>\n",
              "  </div>\n",
              "  "
            ]
          },
          "metadata": {},
          "execution_count": 8
        }
      ]
    },
    {
      "cell_type": "code",
      "source": [
        "df.corr()"
      ],
      "metadata": {
        "id": "05438NH0f6t-",
        "outputId": "bdff2d15-fe08-413f-db72-70bab0c9b8d2",
        "colab": {
          "base_uri": "https://localhost:8080/",
          "height": 167
        }
      },
      "execution_count": null,
      "outputs": [
        {
          "output_type": "stream",
          "name": "stderr",
          "text": [
            "<ipython-input-9-2f6f6606aa2c>:1: FutureWarning: The default value of numeric_only in DataFrame.corr is deprecated. In a future version, it will default to False. Select only valid columns or specify the value of numeric_only to silence this warning.\n",
            "  df.corr()\n"
          ]
        },
        {
          "output_type": "execute_result",
          "data": {
            "text/plain": [
              "             star_rating  duration\n",
              "star_rating     1.000000  0.227149\n",
              "duration        0.227149  1.000000"
            ],
            "text/html": [
              "\n",
              "  <div id=\"df-0ea96f7f-9979-45c6-b779-e45fe657450a\">\n",
              "    <div class=\"colab-df-container\">\n",
              "      <div>\n",
              "<style scoped>\n",
              "    .dataframe tbody tr th:only-of-type {\n",
              "        vertical-align: middle;\n",
              "    }\n",
              "\n",
              "    .dataframe tbody tr th {\n",
              "        vertical-align: top;\n",
              "    }\n",
              "\n",
              "    .dataframe thead th {\n",
              "        text-align: right;\n",
              "    }\n",
              "</style>\n",
              "<table border=\"1\" class=\"dataframe\">\n",
              "  <thead>\n",
              "    <tr style=\"text-align: right;\">\n",
              "      <th></th>\n",
              "      <th>star_rating</th>\n",
              "      <th>duration</th>\n",
              "    </tr>\n",
              "  </thead>\n",
              "  <tbody>\n",
              "    <tr>\n",
              "      <th>star_rating</th>\n",
              "      <td>1.000000</td>\n",
              "      <td>0.227149</td>\n",
              "    </tr>\n",
              "    <tr>\n",
              "      <th>duration</th>\n",
              "      <td>0.227149</td>\n",
              "      <td>1.000000</td>\n",
              "    </tr>\n",
              "  </tbody>\n",
              "</table>\n",
              "</div>\n",
              "      <button class=\"colab-df-convert\" onclick=\"convertToInteractive('df-0ea96f7f-9979-45c6-b779-e45fe657450a')\"\n",
              "              title=\"Convert this dataframe to an interactive table.\"\n",
              "              style=\"display:none;\">\n",
              "        \n",
              "  <svg xmlns=\"http://www.w3.org/2000/svg\" height=\"24px\"viewBox=\"0 0 24 24\"\n",
              "       width=\"24px\">\n",
              "    <path d=\"M0 0h24v24H0V0z\" fill=\"none\"/>\n",
              "    <path d=\"M18.56 5.44l.94 2.06.94-2.06 2.06-.94-2.06-.94-.94-2.06-.94 2.06-2.06.94zm-11 1L8.5 8.5l.94-2.06 2.06-.94-2.06-.94L8.5 2.5l-.94 2.06-2.06.94zm10 10l.94 2.06.94-2.06 2.06-.94-2.06-.94-.94-2.06-.94 2.06-2.06.94z\"/><path d=\"M17.41 7.96l-1.37-1.37c-.4-.4-.92-.59-1.43-.59-.52 0-1.04.2-1.43.59L10.3 9.45l-7.72 7.72c-.78.78-.78 2.05 0 2.83L4 21.41c.39.39.9.59 1.41.59.51 0 1.02-.2 1.41-.59l7.78-7.78 2.81-2.81c.8-.78.8-2.07 0-2.86zM5.41 20L4 18.59l7.72-7.72 1.47 1.35L5.41 20z\"/>\n",
              "  </svg>\n",
              "      </button>\n",
              "      \n",
              "  <style>\n",
              "    .colab-df-container {\n",
              "      display:flex;\n",
              "      flex-wrap:wrap;\n",
              "      gap: 12px;\n",
              "    }\n",
              "\n",
              "    .colab-df-convert {\n",
              "      background-color: #E8F0FE;\n",
              "      border: none;\n",
              "      border-radius: 50%;\n",
              "      cursor: pointer;\n",
              "      display: none;\n",
              "      fill: #1967D2;\n",
              "      height: 32px;\n",
              "      padding: 0 0 0 0;\n",
              "      width: 32px;\n",
              "    }\n",
              "\n",
              "    .colab-df-convert:hover {\n",
              "      background-color: #E2EBFA;\n",
              "      box-shadow: 0px 1px 2px rgba(60, 64, 67, 0.3), 0px 1px 3px 1px rgba(60, 64, 67, 0.15);\n",
              "      fill: #174EA6;\n",
              "    }\n",
              "\n",
              "    [theme=dark] .colab-df-convert {\n",
              "      background-color: #3B4455;\n",
              "      fill: #D2E3FC;\n",
              "    }\n",
              "\n",
              "    [theme=dark] .colab-df-convert:hover {\n",
              "      background-color: #434B5C;\n",
              "      box-shadow: 0px 1px 3px 1px rgba(0, 0, 0, 0.15);\n",
              "      filter: drop-shadow(0px 1px 2px rgba(0, 0, 0, 0.3));\n",
              "      fill: #FFFFFF;\n",
              "    }\n",
              "  </style>\n",
              "\n",
              "      <script>\n",
              "        const buttonEl =\n",
              "          document.querySelector('#df-0ea96f7f-9979-45c6-b779-e45fe657450a button.colab-df-convert');\n",
              "        buttonEl.style.display =\n",
              "          google.colab.kernel.accessAllowed ? 'block' : 'none';\n",
              "\n",
              "        async function convertToInteractive(key) {\n",
              "          const element = document.querySelector('#df-0ea96f7f-9979-45c6-b779-e45fe657450a');\n",
              "          const dataTable =\n",
              "            await google.colab.kernel.invokeFunction('convertToInteractive',\n",
              "                                                     [key], {});\n",
              "          if (!dataTable) return;\n",
              "\n",
              "          const docLinkHtml = 'Like what you see? Visit the ' +\n",
              "            '<a target=\"_blank\" href=https://colab.research.google.com/notebooks/data_table.ipynb>data table notebook</a>'\n",
              "            + ' to learn more about interactive tables.';\n",
              "          element.innerHTML = '';\n",
              "          dataTable['output_type'] = 'display_data';\n",
              "          await google.colab.output.renderOutput(dataTable, element);\n",
              "          const docLink = document.createElement('div');\n",
              "          docLink.innerHTML = docLinkHtml;\n",
              "          element.appendChild(docLink);\n",
              "        }\n",
              "      </script>\n",
              "    </div>\n",
              "  </div>\n",
              "  "
            ]
          },
          "metadata": {},
          "execution_count": 9
        }
      ]
    },
    {
      "cell_type": "markdown",
      "source": [
        "###**3.1 Πρώτα ερωτήματα**\n",
        "\n",
        "Ποιες είναι οι μοναδικές τιμές (unique) που παίρνουν οι ονομαστικές μεταβλητές content_rating και genre;"
      ],
      "metadata": {
        "id": "QwbmkYHuhDuA"
      }
    },
    {
      "cell_type": "code",
      "source": [
        "df['content_rating'].unique()"
      ],
      "metadata": {
        "id": "1HMKwDpJh3nq",
        "outputId": "f7bdd641-a1d6-4544-ff6d-430067f2c4dd",
        "colab": {
          "base_uri": "https://localhost:8080/"
        }
      },
      "execution_count": null,
      "outputs": [
        {
          "output_type": "execute_result",
          "data": {
            "text/plain": [
              "array(['R', 'PG-13', 'NOT RATED', 'PG', 'UNRATED', 'APPROVED', 'PASSED',\n",
              "       'G', 'X', nan, 'TV-MA', 'GP', 'NC-17'], dtype=object)"
            ]
          },
          "metadata": {},
          "execution_count": 36
        }
      ]
    },
    {
      "cell_type": "code",
      "source": [
        "df['genre'].unique()"
      ],
      "metadata": {
        "id": "XMkOu-v6hu8u",
        "outputId": "bf903ada-f683-448e-fc88-5d8990501391",
        "colab": {
          "base_uri": "https://localhost:8080/"
        }
      },
      "execution_count": null,
      "outputs": [
        {
          "output_type": "execute_result",
          "data": {
            "text/plain": [
              "array(['Crime', 'Action', 'Drama', 'Western', 'Adventure', 'Biography',\n",
              "       'Comedy', 'Animation', 'Mystery', 'Horror', 'Film-Noir', 'Sci-Fi',\n",
              "       'History', 'Thriller', 'Family', 'Fantasy'], dtype=object)"
            ]
          },
          "metadata": {},
          "execution_count": 37
        }
      ]
    },
    {
      "cell_type": "markdown",
      "source": [
        "Ποιες είναι η πιο μικρή και η πιο μεγάλη σε διάρκεια ταινία;\n",
        "\n",
        "Tip: εδώ μπορούν να μας βοηθήσουν το sort_values σε συνδυασμό με τα head και tail"
      ],
      "metadata": {
        "id": "s1JAO5kxjUUK"
      }
    },
    {
      "cell_type": "code",
      "source": [
        "df['duration'].sort_values().head(1)"
      ],
      "metadata": {
        "id": "yqBCqJ8Kjin6",
        "outputId": "b927c143-bc24-4137-cd16-347da0725817",
        "colab": {
          "base_uri": "https://localhost:8080/"
        }
      },
      "execution_count": null,
      "outputs": [
        {
          "output_type": "execute_result",
          "data": {
            "text/plain": [
              "389    64\n",
              "Name: duration, dtype: int64"
            ]
          },
          "metadata": {},
          "execution_count": 40
        }
      ]
    },
    {
      "cell_type": "code",
      "source": [
        "df['duration'].sort_values().tail(1)"
      ],
      "metadata": {
        "id": "y8SBpbbWkLhi",
        "outputId": "c46a7e3d-1da1-4bdd-b1cb-1e833229316f",
        "colab": {
          "base_uri": "https://localhost:8080/"
        }
      },
      "execution_count": null,
      "outputs": [
        {
          "output_type": "execute_result",
          "data": {
            "text/plain": [
              "476    242\n",
              "Name: duration, dtype: int64"
            ]
          },
          "metadata": {},
          "execution_count": 41
        }
      ]
    },
    {
      "cell_type": "markdown",
      "source": [
        "Ποια είναι η μέση διάρκεια όλων των ταινιών με ακρίβεια λεπτού;"
      ],
      "metadata": {
        "id": "5oz0rPw2k6Su"
      }
    },
    {
      "cell_type": "code",
      "source": [
        "df['duration'].mean()"
      ],
      "metadata": {
        "id": "CKoivaOdk5g4",
        "outputId": "a2f07cdc-3cb6-40b3-f6d2-e7ed6dc3ff81",
        "colab": {
          "base_uri": "https://localhost:8080/"
        }
      },
      "execution_count": null,
      "outputs": [
        {
          "output_type": "execute_result",
          "data": {
            "text/plain": [
              "120.97957099080695"
            ]
          },
          "metadata": {},
          "execution_count": 42
        }
      ]
    },
    {
      "cell_type": "markdown",
      "source": [
        "### **3.2 Οπτικοποίηση των δεδομένων για καλύτερες παρατηρήσεις**\n",
        "\n",
        "Όπως έχουμε ήδη δει, διαφορετικά γραφήματα μας δίνουν διαφορετικές πληροφορίες και το είδος του γραφήματος εξαρτάται και από το είδος της μεταβλητής (nominal, interval, scale)"
      ],
      "metadata": {
        "id": "vqqhkzJGlsN6"
      }
    },
    {
      "cell_type": "markdown",
      "source": [
        "#### **3.2.1 Ιστόγραμμα κατανομής συχνοτήτων (histogram) του duration**\n",
        "\n",
        "A histogram is an approximate representation of the distribution of numerical data. The term was first introduced by Karl Pearson. To construct a histogram, the first step is to \"**bin**\" (or \"bucket\") the range of values—that is, divide the entire range of values into a series of intervals—and then count how many values fall into each interval. The bins are usually specified as consecutive, non-overlapping intervals of a variable. The bins (intervals) must be adjacent and are often (but not required to be) of equal size. [wikipedia](https://en.wikipedia.org/wiki/Histogram)\n",
        "\n",
        "![](https://external-content.duckduckgo.com/iu/?u=https%3A%2F%2Fi0.wp.com%2Finsightextractor.com%2Fwp-content%2Fuploads%2F2016%2F06%2FHistogram.jpg%3Fresize%3D183%252C185%26ssl%3D1&f=1&nofb=1&ipt=8c50694cd4292dbb7f5c1aa9e7d355e7587071bc2d7fe56ef71a1449f4f2df4f&ipo=images)\n",
        "\n",
        "**More sources**:\n",
        "\n",
        "* Περισσότερες **πληροφορίες για τα ιστογράμματα** μπορείτε να βρείτε εδώ: https://chartio.com/learn/charts/histogram-complete-guide/\n",
        "* Περισσότερα για το **πώς να επιλέγετε τα σωστά γραφήματα** μπορείτε να δείτε εδώ: https://chartio.com/learn/charts/how-to-choose-data-visualization/\n",
        "\n",
        "Για να σχεδιάσουμε με την plot() ένα ιστόγραμμα, πρέπει να ορίσουμε στις παραμέτρους της το kind='hist' και να ορίσουμε και αριθμό bins. \n",
        "\n",
        "π.χ.\n",
        "```\n",
        "df['col_name'].plot(kind='hist', bins=20)\n",
        "```\n",
        "Η μέγιστη διάρκεια των ταινιών είναι 242 λεπτά, επομένως αν ορίσουμε bins=10 θα έχουμε τη διάρκεια χωρισμένη σε 25λεπτα. Το ιστόγραμμα θα μας δείξει πόσες ταινίες εμπίπτουν σε κάθε bin."
      ],
      "metadata": {
        "id": "k5TlSgUnmQZH"
      }
    },
    {
      "cell_type": "code",
      "source": [
        "# δημιουργούμε ένα ιστόγραμμα με τις συχνότητες της διάρκειας των ταινιών, επιλέγοντας έναν αριθμό bins=10\n",
        "df['duration'].plot(kind='hist' , bins=10)"
      ],
      "metadata": {
        "id": "l3chEiKYl_qi",
        "outputId": "e487e666-617e-4276-f85a-ab7a3987c5ef",
        "colab": {
          "base_uri": "https://localhost:8080/",
          "height": 447
        }
      },
      "execution_count": null,
      "outputs": [
        {
          "output_type": "execute_result",
          "data": {
            "text/plain": [
              "<Axes: ylabel='Frequency'>"
            ]
          },
          "metadata": {},
          "execution_count": 43
        },
        {
          "output_type": "display_data",
          "data": {
            "text/plain": [
              "<Figure size 640x480 with 1 Axes>"
            ],
            "image/png": "[encoded data removed]"
          },
          "metadata": {}
        }
      ]
    },
    {
      "cell_type": "markdown",
      "source": [
        "#### **3.2.2 Γράφημα πλαισίου (box plot) για τo duration**\n",
        "\n",
        "Ένα άλλο είδος γραφήματος για συνεχείς μεταβλητές είναι το boxplot. \n",
        "\n",
        "\n",
        "Το boxplot βασίζεται στα τεταρτημόρια (quartiles). Στο describe() τα βλέπουμε με τα 25%, 50% και 75%. "
      ],
      "metadata": {
        "id": "mlj7VRkouidh"
      }
    },
    {
      "cell_type": "code",
      "source": [
        "# describe τη στήλη 'duration'\n",
        "df['duration'].describe()"
      ],
      "metadata": {
        "id": "8uRsmvhwybTZ",
        "outputId": "e9a45eb9-58e2-428c-dfa4-401d6ffaa307",
        "colab": {
          "base_uri": "https://localhost:8080/"
        }
      },
      "execution_count": null,
      "outputs": [
        {
          "output_type": "execute_result",
          "data": {
            "text/plain": [
              "count    979.000000\n",
              "mean     120.979571\n",
              "std       26.218010\n",
              "min       64.000000\n",
              "25%      102.000000\n",
              "50%      117.000000\n",
              "75%      134.000000\n",
              "max      242.000000\n",
              "Name: duration, dtype: float64"
            ]
          },
          "metadata": {},
          "execution_count": 48
        }
      ]
    },
    {
      "cell_type": "markdown",
      "source": [
        "Στο παραπάνω output του describe() για το duration, βλέπουμε ότι το 25% των ταινιών έχει διάρκεια έως 102 λεπτά, το 50% των ταινιών έχει διάρκεια έως 117 λεπτά και το 75% των ταινιών έχει διάρκεια έως 134 λεπτά. Απ' αυτό προκύπτει ότι η διάμεσος (median), είναι στο 50%, δηλαδή αν κατατάξουμε όλες τις διάρκειες σε αύξουσα σειρά, η μεσαία τιμή είναι τα 117 λεπτά.\n",
        "\n",
        "Το boxplot μας δείχνει με ένα κουτί τα δύο μεσαία τεταρτημόρια (δηλαδή μέσα σε ποια όρια βρίσκεται το 50% των τιμών του δείγματος), το ανώτατο και το κατώτατο όριο, καθώς και τις ακραίες τιμές (outliers). Το ανώτατο όριο τίθεται μετά το τρίτο τεταρτημόριο (Q3) και σε απόσταση μιάμιση φορά τη διαφορά του Q3-Q1.\n",
        "\n",
        "![](https://chartio.com/assets/26dba4/tutorials/charts/box-plots/046df50d3e23296f1dda99a385bd54925317c413ffff2a63779ffef0a42b9434/box-plot-construction.png)\n",
        "\n",
        "**Read more**:\n",
        "* Περισσότερα για το boxplot μπορείτε να δείτε εδώ: https://chartio.com/learn/charts/box-plot-complete-guide/\n",
        "\n",
        "Για να σχεδιάσουμε ένα boxplot με την plot() αρκεί να ορίσουμε kind=box."
      ],
      "metadata": {
        "id": "Kz0e4xXpyZvv"
      }
    },
    {
      "cell_type": "code",
      "source": [
        "# boxplot γράφημα για το duration\n",
        "df['duration'].plot(kind='box')"
      ],
      "metadata": {
        "id": "ry2XeMbhvnyA",
        "outputId": "e7708259-c8ed-4fac-ac9c-9dcd40d5b7d1",
        "colab": {
          "base_uri": "https://localhost:8080/",
          "height": 451
        }
      },
      "execution_count": null,
      "outputs": [
        {
          "output_type": "execute_result",
          "data": {
            "text/plain": [
              "<Axes: >"
            ]
          },
          "metadata": {},
          "execution_count": 50
        },
        {
          "output_type": "display_data",
          "data": {
            "text/plain": [
              "<Figure size 640x480 with 1 Axes>"
            ],
            "image/png": "[encoded data removed]"
          },
          "metadata": {}
        }
      ]
    },
    {
      "cell_type": "markdown",
      "source": [
        "Με το boxplot βλέπουμε ότι:\n",
        "\n",
        "* το 50% των ταινιών του δείγματος έχει διάρκεια από 102 έως 134 λεπτά,\n",
        "* το κάτω άκρο είναι στο min, δηλαδή στα 64 λεπτά, \n",
        "* το άνω άκρο είναι στα 182 λεπτά (Q3 + 1.5\\*(Q3-Q1) = Q3 + 1.5\\*(134-102) = 134 + 1.5\\*32 = 182) και \n",
        "* η διάμεσος είναι στα 117 λεπτά.\n",
        "* Όλες οι ταινίες με διάρκεια μεγαλύτερη από 182 λεπτά (3 ώρες) είναι outliers.\n",
        "\n",
        "Τα **outliers** είναι συχνά ένα ωραίο θέμα έρευνας. Έτσι, από την εξέταση των δεδομένων μας προκύπτουν μερικά ενδιαφέροντα ερωτήματα που θα μπορούσαμε να θέσουμε αργότερα:\n",
        "* Ποιές είναι οι ασυνήθιστα μεγάλης διάρκειας ταινίας μέσα στις 1000 πρώτες του IMDB;\n",
        "* Ποια είναι τα χαρακτηριστικά τους (content_rating, genre, star_rating);"
      ],
      "metadata": {
        "id": "sz2SL_HI2kQj"
      }
    },
    {
      "cell_type": "markdown",
      "source": [
        "## **4. Συνέχιση της επισκόπησης, ανάλυσης και οπτικοποίησης των δεδομένων**"
      ],
      "metadata": {
        "id": "hxKRqZnZ9jCo"
      }
    },
    {
      "cell_type": "markdown",
      "source": [
        "### **4.1 Εξέταση του content rating** (ονομαστική μεταβλητή / nominal)\n",
        "\n",
        "Ξαναβλέπουμε τις μοναδικές τιμές (unique) που παίρνει η μεταβλητή content_rating"
      ],
      "metadata": {
        "id": "tx6NczS9_HI8"
      }
    },
    {
      "cell_type": "code",
      "source": [
        "# unique τιμές της στήλης content_rating\n",
        "df['content_rating'].unique()"
      ],
      "metadata": {
        "id": "wSDod90TSNuI",
        "outputId": "c830ab02-bd13-4bb2-d588-11cf03e11f77",
        "colab": {
          "base_uri": "https://localhost:8080/"
        }
      },
      "execution_count": null,
      "outputs": [
        {
          "output_type": "execute_result",
          "data": {
            "text/plain": [
              "array(['R', 'PG-13', 'NOT RATED', 'PG', 'UNRATED', 'APPROVED', 'PASSED',\n",
              "       'G', 'X', nan, 'TV-MA', 'GP', 'NC-17'], dtype=object)"
            ]
          },
          "metadata": {},
          "execution_count": 51
        }
      ]
    },
    {
      "cell_type": "markdown",
      "source": [
        "#### **nan (κενές τιμές)**\n",
        "\n",
        "Παρατηρούμε ότι στις τιμές υπάρχει και το nan. Το nan σημαίνει ότι η τιμή είναι κενή. \n",
        "\n",
        "Με τη συνάρτηση isnull(), κοιτάμε να δούμε αν υπάρχουν κενές τιμές και σε άλλες στήλες και πόσες είναι σε κάθε στήλη.\n",
        "\n",
        "π.χ.\n",
        "```\n",
        "df.isnull().sum(axis=0)\n",
        "```\n",
        "**εξήγηση του παραπάνω κώδικα**: \n",
        "* η συνάρτηση isnull() ελέγχει αν υπάρχει nan. Επομένως επιστρέφει τιμές True/False για κάθε κελί \n",
        "* με το sum() μετά το isnull() ζητάμε το άθροισμα των τιμών True\n",
        "* με το axis=0 στις παραμέτρους του sum() ορίζουμε ότι η πρόσθεση θα γίνει κατά στήλη (το axis=0 αναφέρεται στις στήλες και το axis=1 στις γραμμές)"
      ],
      "metadata": {
        "id": "nLgHDs-KS8LT"
      }
    },
    {
      "cell_type": "code",
      "source": [
        "# sum των nan τιμών σε κάθε στήλη\n",
        "df.columns.isnull().sum(axis=0)\n"
      ],
      "metadata": {
        "id": "EgJv1fDITfAT",
        "outputId": "ce44773f-b259-4427-b9d8-1bac12caabdc",
        "colab": {
          "base_uri": "https://localhost:8080/"
        }
      },
      "execution_count": null,
      "outputs": [
        {
          "output_type": "execute_result",
          "data": {
            "text/plain": [
              "array([False, False, False, False, False, False])"
            ]
          },
          "metadata": {},
          "execution_count": 55
        }
      ]
    },
    {
      "cell_type": "markdown",
      "source": [
        "**Εντοπισμός των nan**\n",
        "\n",
        "Ψάχνουμε με firtering να δούμε πού βρίσκονται οι κενές τιμές.\n",
        "\n",
        "π.χ.\n",
        "```\n",
        "df[df['col_name'].isnull()]\n",
        "```"
      ],
      "metadata": {
        "id": "_wPdNv8gXi7l"
      }
    },
    {
      "cell_type": "code",
      "source": [
        "# filter dataframe to find rows with nan value in 'content_rating' column\n",
        "df[df['content_rating'].isnull()]"
      ],
      "metadata": {
        "id": "JTMvp8bbX459",
        "outputId": "998eca6b-c6d3-4019-b48e-eebbc4c06257",
        "colab": {
          "base_uri": "https://localhost:8080/",
          "height": 143
        }
      },
      "execution_count": null,
      "outputs": [
        {
          "output_type": "execute_result",
          "data": {
            "text/plain": [
              "     star_rating                               title content_rating  \\\n",
              "187          8.2  Butch Cassidy and the Sundance Kid            NaN   \n",
              "649          7.7                   Where Eagles Dare            NaN   \n",
              "936          7.4                           True Grit            NaN   \n",
              "\n",
              "         genre  duration                                        actors_list  \n",
              "187  Biography       110  [u'Paul Newman', u'Robert Redford', u'Katharin...  \n",
              "649     Action       158  [u'Richard Burton', u'Clint Eastwood', u'Mary ...  \n",
              "936  Adventure       128    [u'John Wayne', u'Kim Darby', u'Glen Campbell']  "
            ],
            "text/html": [
              "\n",
              "  <div id=\"df-e1a847c2-f53d-4557-92c3-4865a0d22aec\">\n",
              "    <div class=\"colab-df-container\">\n",
              "      <div>\n",
              "<style scoped>\n",
              "    .dataframe tbody tr th:only-of-type {\n",
              "        vertical-align: middle;\n",
              "    }\n",
              "\n",
              "    .dataframe tbody tr th {\n",
              "        vertical-align: top;\n",
              "    }\n",
              "\n",
              "    .dataframe thead th {\n",
              "        text-align: right;\n",
              "    }\n",
              "</style>\n",
              "<table border=\"1\" class=\"dataframe\">\n",
              "  <thead>\n",
              "    <tr style=\"text-align: right;\">\n",
              "      <th></th>\n",
              "      <th>star_rating</th>\n",
              "      <th>title</th>\n",
              "      <th>content_rating</th>\n",
              "      <th>genre</th>\n",
              "      <th>duration</th>\n",
              "      <th>actors_list</th>\n",
              "    </tr>\n",
              "  </thead>\n",
              "  <tbody>\n",
              "    <tr>\n",
              "      <th>187</th>\n",
              "      <td>8.2</td>\n",
              "      <td>Butch Cassidy and the Sundance Kid</td>\n",
              "      <td>NaN</td>\n",
              "      <td>Biography</td>\n",
              "      <td>110</td>\n",
              "      <td>[u'Paul Newman', u'Robert Redford', u'Katharin...</td>\n",
              "    </tr>\n",
              "    <tr>\n",
              "      <th>649</th>\n",
              "      <td>7.7</td>\n",
              "      <td>Where Eagles Dare</td>\n",
              "      <td>NaN</td>\n",
              "      <td>Action</td>\n",
              "      <td>158</td>\n",
              "      <td>[u'Richard Burton', u'Clint Eastwood', u'Mary ...</td>\n",
              "    </tr>\n",
              "    <tr>\n",
              "      <th>936</th>\n",
              "      <td>7.4</td>\n",
              "      <td>True Grit</td>\n",
              "      <td>NaN</td>\n",
              "      <td>Adventure</td>\n",
              "      <td>128</td>\n",
              "      <td>[u'John Wayne', u'Kim Darby', u'Glen Campbell']</td>\n",
              "    </tr>\n",
              "  </tbody>\n",
              "</table>\n",
              "</div>\n",
              "      <button class=\"colab-df-convert\" onclick=\"convertToInteractive('df-e1a847c2-f53d-4557-92c3-4865a0d22aec')\"\n",
              "              title=\"Convert this dataframe to an interactive table.\"\n",
              "              style=\"display:none;\">\n",
              "        \n",
              "  <svg xmlns=\"http://www.w3.org/2000/svg\" height=\"24px\"viewBox=\"0 0 24 24\"\n",
              "       width=\"24px\">\n",
              "    <path d=\"M0 0h24v24H0V0z\" fill=\"none\"/>\n",
              "    <path d=\"M18.56 5.44l.94 2.06.94-2.06 2.06-.94-2.06-.94-.94-2.06-.94 2.06-2.06.94zm-11 1L8.5 8.5l.94-2.06 2.06-.94-2.06-.94L8.5 2.5l-.94 2.06-2.06.94zm10 10l.94 2.06.94-2.06 2.06-.94-2.06-.94-.94-2.06-.94 2.06-2.06.94z\"/><path d=\"M17.41 7.96l-1.37-1.37c-.4-.4-.92-.59-1.43-.59-.52 0-1.04.2-1.43.59L10.3 9.45l-7.72 7.72c-.78.78-.78 2.05 0 2.83L4 21.41c.39.39.9.59 1.41.59.51 0 1.02-.2 1.41-.59l7.78-7.78 2.81-2.81c.8-.78.8-2.07 0-2.86zM5.41 20L4 18.59l7.72-7.72 1.47 1.35L5.41 20z\"/>\n",
              "  </svg>\n",
              "      </button>\n",
              "      \n",
              "  <style>\n",
              "    .colab-df-container {\n",
              "      display:flex;\n",
              "      flex-wrap:wrap;\n",
              "      gap: 12px;\n",
              "    }\n",
              "\n",
              "    .colab-df-convert {\n",
              "      background-color: #E8F0FE;\n",
              "      border: none;\n",
              "      border-radius: 50%;\n",
              "      cursor: pointer;\n",
              "      display: none;\n",
              "      fill: #1967D2;\n",
              "      height: 32px;\n",
              "      padding: 0 0 0 0;\n",
              "      width: 32px;\n",
              "    }\n",
              "\n",
              "    .colab-df-convert:hover {\n",
              "      background-color: #E2EBFA;\n",
              "      box-shadow: 0px 1px 2px rgba(60, 64, 67, 0.3), 0px 1px 3px 1px rgba(60, 64, 67, 0.15);\n",
              "      fill: #174EA6;\n",
              "    }\n",
              "\n",
              "    [theme=dark] .colab-df-convert {\n",
              "      background-color: #3B4455;\n",
              "      fill: #D2E3FC;\n",
              "    }\n",
              "\n",
              "    [theme=dark] .colab-df-convert:hover {\n",
              "      background-color: #434B5C;\n",
              "      box-shadow: 0px 1px 3px 1px rgba(0, 0, 0, 0.15);\n",
              "      filter: drop-shadow(0px 1px 2px rgba(0, 0, 0, 0.3));\n",
              "      fill: #FFFFFF;\n",
              "    }\n",
              "  </style>\n",
              "\n",
              "      <script>\n",
              "        const buttonEl =\n",
              "          document.querySelector('#df-e1a847c2-f53d-4557-92c3-4865a0d22aec button.colab-df-convert');\n",
              "        buttonEl.style.display =\n",
              "          google.colab.kernel.accessAllowed ? 'block' : 'none';\n",
              "\n",
              "        async function convertToInteractive(key) {\n",
              "          const element = document.querySelector('#df-e1a847c2-f53d-4557-92c3-4865a0d22aec');\n",
              "          const dataTable =\n",
              "            await google.colab.kernel.invokeFunction('convertToInteractive',\n",
              "                                                     [key], {});\n",
              "          if (!dataTable) return;\n",
              "\n",
              "          const docLinkHtml = 'Like what you see? Visit the ' +\n",
              "            '<a target=\"_blank\" href=https://colab.research.google.com/notebooks/data_table.ipynb>data table notebook</a>'\n",
              "            + ' to learn more about interactive tables.';\n",
              "          element.innerHTML = '';\n",
              "          dataTable['output_type'] = 'display_data';\n",
              "          await google.colab.output.renderOutput(dataTable, element);\n",
              "          const docLink = document.createElement('div');\n",
              "          docLink.innerHTML = docLinkHtml;\n",
              "          element.appendChild(docLink);\n",
              "        }\n",
              "      </script>\n",
              "    </div>\n",
              "  </div>\n",
              "  "
            ]
          },
          "metadata": {},
          "execution_count": 62
        }
      ]
    },
    {
      "cell_type": "markdown",
      "source": [
        "Αν έχουμε τη δυνατότητα να βρούμε τις τιμές που λείπουν, πηγαίνουμε στις πηγές. Στη συγκεκριμένη περίπτωση, πάμε στο IMDB και βρίσκουμε το content_rating για τις συγκεκριμένες ταινίες.\n",
        "\n",
        "Στη συνέχεια, εισάγουμε τις τιμές που βρήκαμε στο dataframe στα αντίστοιχα κελιά. Η επιλογή (selection) των κελιών γίνεται με τo loc.\n",
        "\n",
        "π.χ.\n",
        "\n",
        "```\n",
        "df.loc[[index_num1, index_num2],'col_name'] = 'value' \n",
        "df.loc[one_index_number,'col_name'] = 'value'\n",
        "```\n"
      ],
      "metadata": {
        "id": "tJGDfDDDYtVl"
      }
    },
    {
      "cell_type": "code",
      "source": [
        "df.loc[[187 , 649 , 936 ] , 'content_rating'] = '8.0' , '7.6' , '7,6'\n"
      ],
      "metadata": {
        "id": "BJNfLZoohW_1"
      },
      "execution_count": null,
      "outputs": []
    },
    {
      "cell_type": "code",
      "source": [
        "# ελέγχουμε την υλοποίηση των αλλαγών\n",
        "# e.g. df.loc[[index_num1, index_num2, ...], 'col_name']\n",
        "df.loc[[187 , 649, 936] , 'content_rating']"
      ],
      "metadata": {
        "id": "xUeLoRk4aPay",
        "outputId": "4f83afd8-7d0d-458a-c61e-d4e9e7ea9da7",
        "colab": {
          "base_uri": "https://localhost:8080/"
        }
      },
      "execution_count": null,
      "outputs": [
        {
          "output_type": "execute_result",
          "data": {
            "text/plain": [
              "187    8.0\n",
              "649    7.6\n",
              "936    7,6\n",
              "Name: content_rating, dtype: object"
            ]
          },
          "metadata": {},
          "execution_count": 71
        }
      ]
    },
    {
      "cell_type": "markdown",
      "source": [
        "**Μείωση των κατηγοριών για ακατάλληλο περιεχόμενο (adult content)**\n",
        "\n",
        "Από τις μοναδικές τιμές της στήλης content_rating, παρατηρούμε ότι στις τιμές υπάρχουν τα NC-17, X και TV-MA. Και οι 3 αυτοί χαρακτηρισμοί αφορούν περιεχόμενο κατάλληλο μόνο για ενήλικες άνω των 17.\n",
        "\n",
        "Επομένως, μπορούμε με replace να αντικαταστήσουμε τα Χ και TV-MA με το ΝC-17, και να έχουμε για όλες τις ταινίες ενηλίκων τη σήμανση NC-17.\n",
        "\n",
        "**Note**: για να εγγραφεί η αλλαγή στο dataframe πρέπει να την αποθηκεύσουμε, δηλαδή να ορίσουμε ότι η στήλη content_rating θα είναι η στήλη content_rating **με** την αλλαγή.\n",
        "\n",
        "π.χ.\n",
        "```\n",
        "df['col_name'] = df['col_name'].replace(['old_val1','old_val2'], 'new_value')\n",
        "```\n"
      ],
      "metadata": {
        "id": "mnBufGcHSW48"
      }
    },
    {
      "cell_type": "code",
      "source": [
        "# replace 'X' and 'TV-MA' with 'NC-17'\n",
        "df['content_rating'] = df['content_rating'].replace(['X' , 'TV-MA'], 'NC-17')"
      ],
      "metadata": {
        "id": "sdjRuKjhdoze"
      },
      "execution_count": null,
      "outputs": []
    },
    {
      "cell_type": "code",
      "source": [
        "# ελέγχουμε την υλοποίηση των αλλαγών \n",
        "df['content_rating']"
      ],
      "metadata": {
        "id": "0xLiUtZkebH3",
        "outputId": "b7fa6ca1-1c6a-4a39-c3c4-75c7229edc53",
        "colab": {
          "base_uri": "https://localhost:8080/"
        }
      },
      "execution_count": null,
      "outputs": [
        {
          "output_type": "execute_result",
          "data": {
            "text/plain": [
              "0          R\n",
              "1          R\n",
              "2          R\n",
              "3      PG-13\n",
              "4          R\n",
              "       ...  \n",
              "974       PG\n",
              "975       PG\n",
              "976    PG-13\n",
              "977       PG\n",
              "978        R\n",
              "Name: content_rating, Length: 979, dtype: object"
            ]
          },
          "metadata": {},
          "execution_count": 74
        }
      ]
    },
    {
      "cell_type": "markdown",
      "source": [
        "#### **Καταμέτρηση του πλήθους των ταινιών σε κάθε κατηγορία περιεχομένου**\n",
        "\n",
        "Όπως έχουμε δει στην Άσκηση 11 στο \"Intro to Pandas.ipynb\", μπορούμε να κάνουμε ομαδοποίηση των τιμών και να βρούμε τις συχνότητές τους (count).\n",
        "\n",
        "Αυτό θα κάνουμε κι εδώ για το content rating: ομαδοποίηση (groupby) ως προς το content_rating, καταμέτρηση (count) των τίτλων των ταινιών σε κάθε ομάδα και ταξινόμηση του αποτελέσματος σε φθίνουσα σειρά."
      ],
      "metadata": {
        "id": "1RE3-7bXR3l4"
      }
    },
    {
      "cell_type": "code",
      "source": [
        "df.groupby('content_rating')['title'].count().sort_values(ascending=False)"
      ],
      "metadata": {
        "id": "q0bgkS-Gul_f",
        "outputId": "aeb20d4e-8b42-4f87-de64-46a717271397",
        "colab": {
          "base_uri": "https://localhost:8080/"
        }
      },
      "execution_count": null,
      "outputs": [
        {
          "output_type": "execute_result",
          "data": {
            "text/plain": [
              "content_rating\n",
              "R            458\n",
              "PG-13        189\n",
              "PG           123\n",
              "NOT RATED     65\n",
              "APPROVED      47\n",
              "UNRATED       38\n",
              "G             32\n",
              "NC-17         12\n",
              "PASSED         7\n",
              "GP             3\n",
              "value          2\n",
              "7,6            1\n",
              "7.6            1\n",
              "8.0            1\n",
              "Name: title, dtype: int64"
            ]
          },
          "metadata": {},
          "execution_count": 79
        }
      ]
    },
    {
      "cell_type": "markdown",
      "source": [
        "**Γραφήματα**\n",
        "\n",
        "Οπτικοποιούμε την ομαδοποίηση με ένα bar chart.\n",
        "\n",
        "Για να ομορφύνει το γράφημα μπορούμε να προσθέσουμε έναν τίτλο καθώς και τίτλους στους άξονες x και y:\n",
        "* Για τον τίτλο του γραφήματος προσθέτουμε μέσα στην παρένθεση του plot: title='Content Rating Visualization'\n",
        "* Για τα labels στους άξονες x και y προσθέτουμε κάτω από την εντολή του plot στο ίδιο code cell:\n",
        "```\n",
        "plt.xlabel('Content Rating')\n",
        "plt.ylabel('Title Count')\n",
        "```"
      ],
      "metadata": {
        "id": "jzGWhEJIH0_7"
      }
    },
    {
      "cell_type": "code",
      "source": [
        "# create bar chart\n",
        "\n",
        "df['content_rating'].value_counts('title').plot(kind='bar' , title='Content Rating Visualization')\n",
        "plt.xlabel('Content Rating')\n",
        "plt.ylabel('Title Count')\n"
      ],
      "metadata": {
        "id": "xklPt4nZHhMU",
        "outputId": "8a020ee9-02ce-4827-8273-3a1ecefe7690",
        "colab": {
          "base_uri": "https://localhost:8080/",
          "height": 554
        }
      },
      "execution_count": null,
      "outputs": [
        {
          "output_type": "execute_result",
          "data": {
            "text/plain": [
              "Text(0, 0.5, 'Title Count')"
            ]
          },
          "metadata": {},
          "execution_count": 89
        },
        {
          "output_type": "display_data",
          "data": {
            "text/plain": [
              "<Figure size 640x480 with 1 Axes>"
            ],
            "image/png": "[encoded data removed]"
          },
          "metadata": {}
        }
      ]
    },
    {
      "cell_type": "markdown",
      "source": [
        "Βλέπουμε το γράφημα και εξετάζουμε αν είναι ακόμα καλύτερο με οριζόντιο barchart. Το ξαναφτιάχνουμε από κάτω για να τα συγκρίνουμε.\n",
        "\n",
        "**Note**: Προσέχουμε αν είναι σωστή η ταξινόμηση (τα περισσότερα counts να είναι στην κορυφή) και τα labels των αξόνων x και y"
      ],
      "metadata": {
        "id": "DTcF81wz8MgP"
      }
    },
    {
      "cell_type": "code",
      "source": [
        "# create horizontal bar chart\n",
        "\n",
        "df['content_rating'].value_counts('title' ,ascending=True).plot(kind='barh' , title='Content Rating Visualization')\n",
        "plt.xlabel('Content Rating')\n",
        "plt.ylabel('Title Count')\n"
      ],
      "metadata": {
        "id": "ov4KQJVcspV6",
        "outputId": "acce5eb0-50ba-471e-9391-e0244f4fb40a",
        "colab": {
          "base_uri": "https://localhost:8080/",
          "height": 489
        }
      },
      "execution_count": null,
      "outputs": [
        {
          "output_type": "execute_result",
          "data": {
            "text/plain": [
              "Text(0, 0.5, 'Title Count')"
            ]
          },
          "metadata": {},
          "execution_count": 93
        },
        {
          "output_type": "display_data",
          "data": {
            "text/plain": [
              "<Figure size 640x480 with 1 Axes>"
            ],
            "image/png": "[encoded data removed]"
          },
          "metadata": {}
        }
      ]
    },
    {
      "cell_type": "markdown",
      "source": [
        "### **4.2 Εξέταση με συγκρίσεις** \n",
        "\n",
        "#### **Υπάρχει συσχέτιση της βαθμολογίας των ταινιών (star_rating) με τη διάρκεια των ταινιών (duration);**\n",
        "\n",
        "Βλέπουμε τα στατιστικά στοιχεία για τη διάρκεια των ταινιών (duration) ανά βαθμολογία (star_rating) με ένα boxplot.\n",
        "\n",
        "π.χ.\n",
        "```\n",
        "df.plot[kind='', column='', by='')\n",
        "```"
      ],
      "metadata": {
        "id": "z69N9uBgPKxm"
      }
    },
    {
      "cell_type": "code",
      "source": [
        "df[['star_rating' , 'duration']].corr().plot(kind='box')"
      ],
      "metadata": {
        "id": "1ZFEguzJjTGF",
        "outputId": "bd5bf446-3f96-4289-9b8b-db827041d83f",
        "colab": {
          "base_uri": "https://localhost:8080/",
          "height": 447
        }
      },
      "execution_count": null,
      "outputs": [
        {
          "output_type": "execute_result",
          "data": {
            "text/plain": [
              "<Axes: >"
            ]
          },
          "metadata": {},
          "execution_count": 99
        },
        {
          "output_type": "display_data",
          "data": {
            "text/plain": [
              "<Figure size 640x480 with 1 Axes>"
            ],
            "image/png": "[encoded data removed]"
          },
          "metadata": {}
        }
      ]
    },
    {
      "cell_type": "markdown",
      "source": [
        "Παρατηρώντας το γράφημα βλέπουμε ότι:\n",
        "* ταινίες με βαθμολογία 8.9 έχουν μεγαλύτερη διάρκεια\n",
        "* καμία ταινία με διάρκεια μεγαλύτερη από 215 λεπτά δεν έχει βαθμολογία πάνω από 8.4\n",
        "* υπάρχει μόνο μία ταινία για κάθε βαθμολογία από 9 και πάνω (συνολικά 4 ταινίες) \n",
        "\n",
        "Βρίσκουμε τα ακριβή στατιστικά στοιχεία για τις ταινίες με βαθμολογία 8.9, με conditional filtering (η τιμή της στήλης star_rating να είναι ίση με 8.9) και describe().\n",
        "\n",
        "π.χ.\n",
        "```\n",
        "df[df['col_name'] == value].describe()\n",
        "```\n"
      ],
      "metadata": {
        "id": "Fw6I55uclsMo"
      }
    },
    {
      "cell_type": "code",
      "source": [
        "# stats for star_rating\n"
      ],
      "metadata": {
        "id": "LalDS-bnmVnA"
      },
      "execution_count": null,
      "outputs": []
    },
    {
      "cell_type": "markdown",
      "source": [
        "Επίσης με filtering, βρίσκουμε και ποιες είναι αυτές οι ταινίες (με star_rating ίσο με 8.9)."
      ],
      "metadata": {
        "id": "LpPetkX6sEGZ"
      }
    },
    {
      "cell_type": "code",
      "source": [
        "# rows with star_rating = 8.9\n"
      ],
      "metadata": {
        "id": "7FGDdLfUph1G"
      },
      "execution_count": null,
      "outputs": []
    },
    {
      "cell_type": "markdown",
      "source": [
        "### **4.3 Καλύτερη ταινία ανά είδος** \n",
        "\n",
        "Μπορούμε να βρούμε την ταινία με την ψηλότερη βαθμολογία (star_rating) σε κάθε είδος (genre) με τη χρήση των sort_values, groupby και το keyword first():\n",
        "\n",
        "π.χ.\n",
        "\n",
        "```\n",
        "df.sort_values('col_name_for_sorting', ascending=False).groupby('col_name_for_grouping', as_index=False)[['title','star_rating']].first()\n",
        "```\n",
        "\n",
        "**Εξήγηση του παραπάνω κώδικα**:\n",
        "\n",
        "* df.sort_values('col_name_for_sorting', ascending=False): ταξινομούμε το dataframe σε φθίνουσα σειρά ως προς την επιθυμητή στήλη\n",
        "* groupby('col_name_for_grouping', as_index=False): ομαδοποιούμε τα δεδομένα στη βάση των τιμών της επιθυμητής στήλης - με το index=False ζητάμε να μη γίνουν index του dataframe που θα προκύψει τα ονόματα των ομάδων που θα φτιάξει το groupby\n",
        "* [['title','star_rating']]: oρίζουμε τις στήλες που θα έχει το dataframe που θα προκύψει\n",
        "* first(): ζητάμε την πρώτη εγγραφή σε κάθε ομάδα (στη βάση της φθίνουσας σειράς που έφτιαξε το sort_values) [*με το last() θα παίρναμε την τελευταία εγγραφή*]"
      ],
      "metadata": {
        "id": "4SoQJ4WU6mci"
      }
    },
    {
      "cell_type": "code",
      "source": [
        "# top star rated movie in every genre\n"
      ],
      "metadata": {
        "id": "1DqxEziH68XL"
      },
      "execution_count": null,
      "outputs": []
    },
    {
      "cell_type": "markdown",
      "source": [
        "## **5. Περαιτέρω αναζητήσεις, αναλύσεις και οπτικοποιήσεις των δεδομένων**\n",
        "\n",
        "Συνεχίστε τη ίδια διαδικασία για να θέσετε περαιτέρω ερωτήματα στα δεδομένα και να πάρετε περισσότερες απαντήσεις.\n",
        "\n",
        "Μερικά ενδεικτικά ερωτήματα:\n",
        "* υπάρχει σχέση μεταξύ της βαθμολογίας των ταινιών (star_rating) και του είδους των ταινιών (genre);\n",
        "* σχετίζεται η βαθμολογία (star_rating) με τον χαρακτηρισμό περιεχομένου (content_rating);\n",
        "* ποιος είναι ο μ.o. διάρκειας (average duration) των ταινιών σε κάθε είδος (genre);\n",
        "* σχετίζεται η διάρκεια (duration) με το είδος (genre);"
      ],
      "metadata": {
        "id": "dtWc21fs1iyG"
      }
    },
    {
      "cell_type": "code",
      "source": [
        "corr = df['star_rating'].corr(df['genre'] , method='spearman') \n",
        "print(corr)\n",
        "# η αρχικη μου λυση "
      ],
      "metadata": {
        "colab": {
          "base_uri": "https://localhost:8080/"
        },
        "id": "bTXE5yPyuR9g",
        "outputId": "91a17c4f-202b-4e23-dee3-8748c6e31eac"
      },
      "execution_count": 46,
      "outputs": [
        {
          "output_type": "stream",
          "name": "stdout",
          "text": [
            "0.01959133252982592\n"
          ]
        }
      ]
    },
    {
      "cell_type": "code",
      "source": [
        "df.groupby('genre')['duration'].mean()"
      ],
      "metadata": {
        "colab": {
          "base_uri": "https://localhost:8080/"
        },
        "id": "ejWDpF2fy8Eo",
        "outputId": "86312ca2-da38-4db3-89df-648fca7d61b0"
      },
      "execution_count": 25,
      "outputs": [
        {
          "output_type": "execute_result",
          "data": {
            "text/plain": [
              "genre\n",
              "Action       126.485294\n",
              "Adventure    134.840000\n",
              "Animation     96.596774\n",
              "Biography    131.844156\n",
              "Comedy       107.602564\n",
              "Crime        122.298387\n",
              "Drama        126.539568\n",
              "Family       107.500000\n",
              "Fantasy      112.000000\n",
              "Film-Noir     97.333333\n",
              "History       66.000000\n",
              "Horror       102.517241\n",
              "Mystery      115.625000\n",
              "Sci-Fi       109.000000\n",
              "Thriller     114.200000\n",
              "Western      136.666667\n",
              "Name: duration, dtype: float64"
            ]
          },
          "metadata": {},
          "execution_count": 25
        }
      ]
    },
    {
      "cell_type": "markdown",
      "source": [
        "Συσχετιση διαρκειας των ταινιων απο συγκεκριμενο ειδος με την διαρκεια του μ.ο όλων των ταινιων"
      ],
      "metadata": {
        "id": "sQXWcta_kI7T"
      }
    },
    {
      "cell_type": "code",
      "source": [
        "df[(df['genre'] == 'Mystery') & (df['duration'] > df['duration'].mean())]"
      ],
      "metadata": {
        "colab": {
          "base_uri": "https://localhost:8080/",
          "height": 269
        },
        "id": "7NC3RIgZjwnb",
        "outputId": "a6f09929-09ca-4a81-9dd0-a70fd58abe62"
      },
      "execution_count": 43,
      "outputs": [
        {
          "output_type": "execute_result",
          "data": {
            "text/plain": [
              "     star_rating                     title content_rating    genre  duration  \\\n",
              "76           8.4                   Vertigo       APPROVED  Mystery       128   \n",
              "110          8.3     2001: A Space Odyssey              G  Mystery       160   \n",
              "149          8.2                   Rebecca      NOT RATED  Mystery       130   \n",
              "244          8.1            Shutter Island              R  Mystery       138   \n",
              "249          8.1                    Sleuth             PG  Mystery       138   \n",
              "264          8.1            Twelve Monkeys              R  Mystery       129   \n",
              "292          8.1  The Manchurian Candidate       APPROVED  Mystery       126   \n",
              "\n",
              "                                           actors_list  \n",
              "76   [u'James Stewart', u'Kim Novak', u'Barbara Bel...  \n",
              "110  [u'Keir Dullea', u'Gary Lockwood', u'William S...  \n",
              "149  [u'Laurence Olivier', u'Joan Fontaine', u'Geor...  \n",
              "244  [u'Leonardo DiCaprio', u'Emily Mortimer', u'Ma...  \n",
              "249  [u'Laurence Olivier', u'Michael Caine', u'Alec...  \n",
              "264  [u'Bruce Willis', u'Madeleine Stowe', u'Brad P...  \n",
              "292  [u'Frank Sinatra', u'Laurence Harvey', u'Janet...  "
            ],
            "text/html": [
              "\n",
              "  <div id=\"df-4621ec3a-e4e3-4833-a56c-2ce76db0771b\">\n",
              "    <div class=\"colab-df-container\">\n",
              "      <div>\n",
              "<style scoped>\n",
              "    .dataframe tbody tr th:only-of-type {\n",
              "        vertical-align: middle;\n",
              "    }\n",
              "\n",
              "    .dataframe tbody tr th {\n",
              "        vertical-align: top;\n",
              "    }\n",
              "\n",
              "    .dataframe thead th {\n",
              "        text-align: right;\n",
              "    }\n",
              "</style>\n",
              "<table border=\"1\" class=\"dataframe\">\n",
              "  <thead>\n",
              "    <tr style=\"text-align: right;\">\n",
              "      <th></th>\n",
              "      <th>star_rating</th>\n",
              "      <th>title</th>\n",
              "      <th>content_rating</th>\n",
              "      <th>genre</th>\n",
              "      <th>duration</th>\n",
              "      <th>actors_list</th>\n",
              "    </tr>\n",
              "  </thead>\n",
              "  <tbody>\n",
              "    <tr>\n",
              "      <th>76</th>\n",
              "      <td>8.4</td>\n",
              "      <td>Vertigo</td>\n",
              "      <td>APPROVED</td>\n",
              "      <td>Mystery</td>\n",
              "      <td>128</td>\n",
              "      <td>[u'James Stewart', u'Kim Novak', u'Barbara Bel...</td>\n",
              "    </tr>\n",
              "    <tr>\n",
              "      <th>110</th>\n",
              "      <td>8.3</td>\n",
              "      <td>2001: A Space Odyssey</td>\n",
              "      <td>G</td>\n",
              "      <td>Mystery</td>\n",
              "      <td>160</td>\n",
              "      <td>[u'Keir Dullea', u'Gary Lockwood', u'William S...</td>\n",
              "    </tr>\n",
              "    <tr>\n",
              "      <th>149</th>\n",
              "      <td>8.2</td>\n",
              "      <td>Rebecca</td>\n",
              "      <td>NOT RATED</td>\n",
              "      <td>Mystery</td>\n",
              "      <td>130</td>\n",
              "      <td>[u'Laurence Olivier', u'Joan Fontaine', u'Geor...</td>\n",
              "    </tr>\n",
              "    <tr>\n",
              "      <th>244</th>\n",
              "      <td>8.1</td>\n",
              "      <td>Shutter Island</td>\n",
              "      <td>R</td>\n",
              "      <td>Mystery</td>\n",
              "      <td>138</td>\n",
              "      <td>[u'Leonardo DiCaprio', u'Emily Mortimer', u'Ma...</td>\n",
              "    </tr>\n",
              "    <tr>\n",
              "      <th>249</th>\n",
              "      <td>8.1</td>\n",
              "      <td>Sleuth</td>\n",
              "      <td>PG</td>\n",
              "      <td>Mystery</td>\n",
              "      <td>138</td>\n",
              "      <td>[u'Laurence Olivier', u'Michael Caine', u'Alec...</td>\n",
              "    </tr>\n",
              "    <tr>\n",
              "      <th>264</th>\n",
              "      <td>8.1</td>\n",
              "      <td>Twelve Monkeys</td>\n",
              "      <td>R</td>\n",
              "      <td>Mystery</td>\n",
              "      <td>129</td>\n",
              "      <td>[u'Bruce Willis', u'Madeleine Stowe', u'Brad P...</td>\n",
              "    </tr>\n",
              "    <tr>\n",
              "      <th>292</th>\n",
              "      <td>8.1</td>\n",
              "      <td>The Manchurian Candidate</td>\n",
              "      <td>APPROVED</td>\n",
              "      <td>Mystery</td>\n",
              "      <td>126</td>\n",
              "      <td>[u'Frank Sinatra', u'Laurence Harvey', u'Janet...</td>\n",
              "    </tr>\n",
              "  </tbody>\n",
              "</table>\n",
              "</div>\n",
              "      <button class=\"colab-df-convert\" onclick=\"convertToInteractive('df-4621ec3a-e4e3-4833-a56c-2ce76db0771b')\"\n",
              "              title=\"Convert this dataframe to an interactive table.\"\n",
              "              style=\"display:none;\">\n",
              "        \n",
              "  <svg xmlns=\"http://www.w3.org/2000/svg\" height=\"24px\"viewBox=\"0 0 24 24\"\n",
              "       width=\"24px\">\n",
              "    <path d=\"M0 0h24v24H0V0z\" fill=\"none\"/>\n",
              "    <path d=\"M18.56 5.44l.94 2.06.94-2.06 2.06-.94-2.06-.94-.94-2.06-.94 2.06-2.06.94zm-11 1L8.5 8.5l.94-2.06 2.06-.94-2.06-.94L8.5 2.5l-.94 2.06-2.06.94zm10 10l.94 2.06.94-2.06 2.06-.94-2.06-.94-.94-2.06-.94 2.06-2.06.94z\"/><path d=\"M17.41 7.96l-1.37-1.37c-.4-.4-.92-.59-1.43-.59-.52 0-1.04.2-1.43.59L10.3 9.45l-7.72 7.72c-.78.78-.78 2.05 0 2.83L4 21.41c.39.39.9.59 1.41.59.51 0 1.02-.2 1.41-.59l7.78-7.78 2.81-2.81c.8-.78.8-2.07 0-2.86zM5.41 20L4 18.59l7.72-7.72 1.47 1.35L5.41 20z\"/>\n",
              "  </svg>\n",
              "      </button>\n",
              "      \n",
              "  <style>\n",
              "    .colab-df-container {\n",
              "      display:flex;\n",
              "      flex-wrap:wrap;\n",
              "      gap: 12px;\n",
              "    }\n",
              "\n",
              "    .colab-df-convert {\n",
              "      background-color: #E8F0FE;\n",
              "      border: none;\n",
              "      border-radius: 50%;\n",
              "      cursor: pointer;\n",
              "      display: none;\n",
              "      fill: #1967D2;\n",
              "      height: 32px;\n",
              "      padding: 0 0 0 0;\n",
              "      width: 32px;\n",
              "    }\n",
              "\n",
              "    .colab-df-convert:hover {\n",
              "      background-color: #E2EBFA;\n",
              "      box-shadow: 0px 1px 2px rgba(60, 64, 67, 0.3), 0px 1px 3px 1px rgba(60, 64, 67, 0.15);\n",
              "      fill: #174EA6;\n",
              "    }\n",
              "\n",
              "    [theme=dark] .colab-df-convert {\n",
              "      background-color: #3B4455;\n",
              "      fill: #D2E3FC;\n",
              "    }\n",
              "\n",
              "    [theme=dark] .colab-df-convert:hover {\n",
              "      background-color: #434B5C;\n",
              "      box-shadow: 0px 1px 3px 1px rgba(0, 0, 0, 0.15);\n",
              "      filter: drop-shadow(0px 1px 2px rgba(0, 0, 0, 0.3));\n",
              "      fill: #FFFFFF;\n",
              "    }\n",
              "  </style>\n",
              "\n",
              "      <script>\n",
              "        const buttonEl =\n",
              "          document.querySelector('#df-4621ec3a-e4e3-4833-a56c-2ce76db0771b button.colab-df-convert');\n",
              "        buttonEl.style.display =\n",
              "          google.colab.kernel.accessAllowed ? 'block' : 'none';\n",
              "\n",
              "        async function convertToInteractive(key) {\n",
              "          const element = document.querySelector('#df-4621ec3a-e4e3-4833-a56c-2ce76db0771b');\n",
              "          const dataTable =\n",
              "            await google.colab.kernel.invokeFunction('convertToInteractive',\n",
              "                                                     [key], {});\n",
              "          if (!dataTable) return;\n",
              "\n",
              "          const docLinkHtml = 'Like what you see? Visit the ' +\n",
              "            '<a target=\"_blank\" href=https://colab.research.google.com/notebooks/data_table.ipynb>data table notebook</a>'\n",
              "            + ' to learn more about interactive tables.';\n",
              "          element.innerHTML = '';\n",
              "          dataTable['output_type'] = 'display_data';\n",
              "          await google.colab.output.renderOutput(dataTable, element);\n",
              "          const docLink = document.createElement('div');\n",
              "          docLink.innerHTML = docLinkHtml;\n",
              "          element.appendChild(docLink);\n",
              "        }\n",
              "      </script>\n",
              "    </div>\n",
              "  </div>\n",
              "  "
            ]
          },
          "metadata": {},
          "execution_count": 43
        }
      ]
    },
    {
      "cell_type": "markdown",
      "source": [
        "Οι κωμωδιες με διαρκεια πανω απο 2 ωρες?"
      ],
      "metadata": {
        "id": "XtCz6PVszw8u"
      }
    },
    {
      "cell_type": "code",
      "source": [
        "df[(df['genre'] == 'Comedy') & (df['duration'] > 120)]"
      ],
      "metadata": {
        "colab": {
          "base_uri": "https://localhost:8080/",
          "height": 959
        },
        "id": "JnXVY6jMzrNy",
        "outputId": "f5cd587d-9448-47c0-9533-77e35db0e104"
      },
      "execution_count": 116,
      "outputs": [
        {
          "output_type": "execute_result",
          "data": {
            "text/plain": [
              "     star_rating                        title content_rating   genre  \\\n",
              "52           8.5           The Great Dictator       APPROVED  Comedy   \n",
              "60           8.5                     3 Idiots          PG-13  Comedy   \n",
              "66           8.4          Munna Bhai M.B.B.S.      NOT RATED  Comedy   \n",
              "70           8.4                       Amelie              R  Comedy   \n",
              "93           8.4  Dilwale Dulhania Le Jayenge      NOT RATED  Comedy   \n",
              "97           8.4                    The Sting             PG  Comedy   \n",
              "103          8.3                The Apartment       APPROVED  Comedy   \n",
              "109          8.3               Dil Chahta Hai      NOT RATED  Comedy   \n",
              "155          8.2             Relatos salvajes              R  Comedy   \n",
              "165          8.2                My Sassy Girl      NOT RATED  Comedy   \n",
              "183          8.2                  Underground      NOT RATED  Comedy   \n",
              "189          8.2         Black Cat, White Cat              R  Comedy   \n",
              "231          8.1                La Dolce Vita      NOT RATED  Comedy   \n",
              "304          8.0                  Being There             PG  Comedy   \n",
              "367          8.0                     Amarcord              R  Comedy   \n",
              "458          7.9                     Hot Fuzz              R  Comedy   \n",
              "475          7.8      Silver Linings Playbook              R  Comedy   \n",
              "527          7.8               Night on Earth              R  Comedy   \n",
              "557          7.8                 Mary Poppins       APPROVED  Comedy   \n",
              "578          7.8           As Good as It Gets          PG-13  Comedy   \n",
              "584          7.8              Good Bye Lenin!              R  Comedy   \n",
              "611          7.7                   Short Cuts              R  Comedy   \n",
              "640          7.7                Love Actually              R  Comedy   \n",
              "693          7.7                   The Player              R  Comedy   \n",
              "741          7.6                       Volver              R  Comedy   \n",
              "791          7.6                     Sideways              R  Comedy   \n",
              "808          7.6              The Fisher King              R  Comedy   \n",
              "857          7.5                Pleasantville          PG-13  Comedy   \n",
              "944          7.4          Terms of Endearment              R  Comedy   \n",
              "\n",
              "     duration                                        actors_list  \n",
              "52        125  [u'Charles Chaplin', u'Paulette Goddard', u'Ja...  \n",
              "60        170        [u'Aamir Khan', u'Madhavan', u'Mona Singh']  \n",
              "66        156   [u'Sunil Dutt', u'Sanjay Dutt', u'Arshad Warsi']  \n",
              "70        122  [u'Audrey Tautou', u'Mathieu Kassovitz', u'Ruf...  \n",
              "93        181      [u'Shah Rukh Khan', u'Kajol', u'Amrish Puri']  \n",
              "97        129  [u'Paul Newman', u'Robert Redford', u'Robert S...  \n",
              "103       125  [u'Jack Lemmon', u'Shirley MacLaine', u'Fred M...  \n",
              "109       183  [u'Aamir Khan', u'Saif Ali Khan', u'Akshaye Kh...  \n",
              "155       122  [u'Dar\\xedo Grandinetti', u'Mar\\xeda Marull', ...  \n",
              "165       123    [u'Tae-hyun Cha', u'Gianna Jun', u'In-mun Kim']  \n",
              "183       167  [u'Predrag Manojlovic', u'Lazar Ristovski', u'...  \n",
              "189       127  [u'Bajram Severdzan', u'Srdjan Todorovic', u'B...  \n",
              "231       174  [u'Marcello Mastroianni', u'Anita Ekberg', u'A...  \n",
              "304       130  [u'Peter Sellers', u'Shirley MacLaine', u'Melv...  \n",
              "367       123  [u'Magali No\\xebl', u'Bruno Zanin', u'Pupella ...  \n",
              "458       121  [u'Simon Pegg', u'Nick Frost', u'Martin Freeman']  \n",
              "475       122  [u'Bradley Cooper', u'Jennifer Lawrence', u'Ro...  \n",
              "527       129  [u'Winona Ryder', u'Gena Rowlands', u'Lisanne ...  \n",
              "557       139  [u'Julie Andrews', u'Dick Van Dyke', u'David T...  \n",
              "578       139  [u'Jack Nicholson', u'Helen Hunt', u'Greg Kinn...  \n",
              "584       121  [u'Daniel Br\\xfchl', u'Katrin Sa\\xdf', u'Chulp...  \n",
              "611       187  [u'Andie MacDowell', u'Julianne Moore', u'Tim ...  \n",
              "640       135  [u'Hugh Grant', u'Martine McCutcheon', u'Liam ...  \n",
              "693       124   [u'Tim Robbins', u'Greta Scacchi', u'Fred Ward']  \n",
              "741       121  [u'Pen\\xe9lope Cruz', u'Carmen Maura', u'Lola ...  \n",
              "791       126  [u'Paul Giamatti', u'Thomas Haden Church', u'V...  \n",
              "808       137  [u'Jeff Bridges', u'Robin Williams', u'Adam Br...  \n",
              "857       124  [u'Tobey Maguire', u'Jeff Daniels', u'Joan All...  \n",
              "944       132  [u'Shirley MacLaine', u'Debra Winger', u'Jack ...  "
            ],
            "text/html": [
              "\n",
              "  <div id=\"df-2b5b39d0-3054-40ce-8984-4a209dc6aa9e\">\n",
              "    <div class=\"colab-df-container\">\n",
              "      <div>\n",
              "<style scoped>\n",
              "    .dataframe tbody tr th:only-of-type {\n",
              "        vertical-align: middle;\n",
              "    }\n",
              "\n",
              "    .dataframe tbody tr th {\n",
              "        vertical-align: top;\n",
              "    }\n",
              "\n",
              "    .dataframe thead th {\n",
              "        text-align: right;\n",
              "    }\n",
              "</style>\n",
              "<table border=\"1\" class=\"dataframe\">\n",
              "  <thead>\n",
              "    <tr style=\"text-align: right;\">\n",
              "      <th></th>\n",
              "      <th>star_rating</th>\n",
              "      <th>title</th>\n",
              "      <th>content_rating</th>\n",
              "      <th>genre</th>\n",
              "      <th>duration</th>\n",
              "      <th>actors_list</th>\n",
              "    </tr>\n",
              "  </thead>\n",
              "  <tbody>\n",
              "    <tr>\n",
              "      <th>52</th>\n",
              "      <td>8.5</td>\n",
              "      <td>The Great Dictator</td>\n",
              "      <td>APPROVED</td>\n",
              "      <td>Comedy</td>\n",
              "      <td>125</td>\n",
              "      <td>[u'Charles Chaplin', u'Paulette Goddard', u'Ja...</td>\n",
              "    </tr>\n",
              "    <tr>\n",
              "      <th>60</th>\n",
              "      <td>8.5</td>\n",
              "      <td>3 Idiots</td>\n",
              "      <td>PG-13</td>\n",
              "      <td>Comedy</td>\n",
              "      <td>170</td>\n",
              "      <td>[u'Aamir Khan', u'Madhavan', u'Mona Singh']</td>\n",
              "    </tr>\n",
              "    <tr>\n",
              "      <th>66</th>\n",
              "      <td>8.4</td>\n",
              "      <td>Munna Bhai M.B.B.S.</td>\n",
              "      <td>NOT RATED</td>\n",
              "      <td>Comedy</td>\n",
              "      <td>156</td>\n",
              "      <td>[u'Sunil Dutt', u'Sanjay Dutt', u'Arshad Warsi']</td>\n",
              "    </tr>\n",
              "    <tr>\n",
              "      <th>70</th>\n",
              "      <td>8.4</td>\n",
              "      <td>Amelie</td>\n",
              "      <td>R</td>\n",
              "      <td>Comedy</td>\n",
              "      <td>122</td>\n",
              "      <td>[u'Audrey Tautou', u'Mathieu Kassovitz', u'Ruf...</td>\n",
              "    </tr>\n",
              "    <tr>\n",
              "      <th>93</th>\n",
              "      <td>8.4</td>\n",
              "      <td>Dilwale Dulhania Le Jayenge</td>\n",
              "      <td>NOT RATED</td>\n",
              "      <td>Comedy</td>\n",
              "      <td>181</td>\n",
              "      <td>[u'Shah Rukh Khan', u'Kajol', u'Amrish Puri']</td>\n",
              "    </tr>\n",
              "    <tr>\n",
              "      <th>97</th>\n",
              "      <td>8.4</td>\n",
              "      <td>The Sting</td>\n",
              "      <td>PG</td>\n",
              "      <td>Comedy</td>\n",
              "      <td>129</td>\n",
              "      <td>[u'Paul Newman', u'Robert Redford', u'Robert S...</td>\n",
              "    </tr>\n",
              "    <tr>\n",
              "      <th>103</th>\n",
              "      <td>8.3</td>\n",
              "      <td>The Apartment</td>\n",
              "      <td>APPROVED</td>\n",
              "      <td>Comedy</td>\n",
              "      <td>125</td>\n",
              "      <td>[u'Jack Lemmon', u'Shirley MacLaine', u'Fred M...</td>\n",
              "    </tr>\n",
              "    <tr>\n",
              "      <th>109</th>\n",
              "      <td>8.3</td>\n",
              "      <td>Dil Chahta Hai</td>\n",
              "      <td>NOT RATED</td>\n",
              "      <td>Comedy</td>\n",
              "      <td>183</td>\n",
              "      <td>[u'Aamir Khan', u'Saif Ali Khan', u'Akshaye Kh...</td>\n",
              "    </tr>\n",
              "    <tr>\n",
              "      <th>155</th>\n",
              "      <td>8.2</td>\n",
              "      <td>Relatos salvajes</td>\n",
              "      <td>R</td>\n",
              "      <td>Comedy</td>\n",
              "      <td>122</td>\n",
              "      <td>[u'Dar\\xedo Grandinetti', u'Mar\\xeda Marull', ...</td>\n",
              "    </tr>\n",
              "    <tr>\n",
              "      <th>165</th>\n",
              "      <td>8.2</td>\n",
              "      <td>My Sassy Girl</td>\n",
              "      <td>NOT RATED</td>\n",
              "      <td>Comedy</td>\n",
              "      <td>123</td>\n",
              "      <td>[u'Tae-hyun Cha', u'Gianna Jun', u'In-mun Kim']</td>\n",
              "    </tr>\n",
              "    <tr>\n",
              "      <th>183</th>\n",
              "      <td>8.2</td>\n",
              "      <td>Underground</td>\n",
              "      <td>NOT RATED</td>\n",
              "      <td>Comedy</td>\n",
              "      <td>167</td>\n",
              "      <td>[u'Predrag Manojlovic', u'Lazar Ristovski', u'...</td>\n",
              "    </tr>\n",
              "    <tr>\n",
              "      <th>189</th>\n",
              "      <td>8.2</td>\n",
              "      <td>Black Cat, White Cat</td>\n",
              "      <td>R</td>\n",
              "      <td>Comedy</td>\n",
              "      <td>127</td>\n",
              "      <td>[u'Bajram Severdzan', u'Srdjan Todorovic', u'B...</td>\n",
              "    </tr>\n",
              "    <tr>\n",
              "      <th>231</th>\n",
              "      <td>8.1</td>\n",
              "      <td>La Dolce Vita</td>\n",
              "      <td>NOT RATED</td>\n",
              "      <td>Comedy</td>\n",
              "      <td>174</td>\n",
              "      <td>[u'Marcello Mastroianni', u'Anita Ekberg', u'A...</td>\n",
              "    </tr>\n",
              "    <tr>\n",
              "      <th>304</th>\n",
              "      <td>8.0</td>\n",
              "      <td>Being There</td>\n",
              "      <td>PG</td>\n",
              "      <td>Comedy</td>\n",
              "      <td>130</td>\n",
              "      <td>[u'Peter Sellers', u'Shirley MacLaine', u'Melv...</td>\n",
              "    </tr>\n",
              "    <tr>\n",
              "      <th>367</th>\n",
              "      <td>8.0</td>\n",
              "      <td>Amarcord</td>\n",
              "      <td>R</td>\n",
              "      <td>Comedy</td>\n",
              "      <td>123</td>\n",
              "      <td>[u'Magali No\\xebl', u'Bruno Zanin', u'Pupella ...</td>\n",
              "    </tr>\n",
              "    <tr>\n",
              "      <th>458</th>\n",
              "      <td>7.9</td>\n",
              "      <td>Hot Fuzz</td>\n",
              "      <td>R</td>\n",
              "      <td>Comedy</td>\n",
              "      <td>121</td>\n",
              "      <td>[u'Simon Pegg', u'Nick Frost', u'Martin Freeman']</td>\n",
              "    </tr>\n",
              "    <tr>\n",
              "      <th>475</th>\n",
              "      <td>7.8</td>\n",
              "      <td>Silver Linings Playbook</td>\n",
              "      <td>R</td>\n",
              "      <td>Comedy</td>\n",
              "      <td>122</td>\n",
              "      <td>[u'Bradley Cooper', u'Jennifer Lawrence', u'Ro...</td>\n",
              "    </tr>\n",
              "    <tr>\n",
              "      <th>527</th>\n",
              "      <td>7.8</td>\n",
              "      <td>Night on Earth</td>\n",
              "      <td>R</td>\n",
              "      <td>Comedy</td>\n",
              "      <td>129</td>\n",
              "      <td>[u'Winona Ryder', u'Gena Rowlands', u'Lisanne ...</td>\n",
              "    </tr>\n",
              "    <tr>\n",
              "      <th>557</th>\n",
              "      <td>7.8</td>\n",
              "      <td>Mary Poppins</td>\n",
              "      <td>APPROVED</td>\n",
              "      <td>Comedy</td>\n",
              "      <td>139</td>\n",
              "      <td>[u'Julie Andrews', u'Dick Van Dyke', u'David T...</td>\n",
              "    </tr>\n",
              "    <tr>\n",
              "      <th>578</th>\n",
              "      <td>7.8</td>\n",
              "      <td>As Good as It Gets</td>\n",
              "      <td>PG-13</td>\n",
              "      <td>Comedy</td>\n",
              "      <td>139</td>\n",
              "      <td>[u'Jack Nicholson', u'Helen Hunt', u'Greg Kinn...</td>\n",
              "    </tr>\n",
              "    <tr>\n",
              "      <th>584</th>\n",
              "      <td>7.8</td>\n",
              "      <td>Good Bye Lenin!</td>\n",
              "      <td>R</td>\n",
              "      <td>Comedy</td>\n",
              "      <td>121</td>\n",
              "      <td>[u'Daniel Br\\xfchl', u'Katrin Sa\\xdf', u'Chulp...</td>\n",
              "    </tr>\n",
              "    <tr>\n",
              "      <th>611</th>\n",
              "      <td>7.7</td>\n",
              "      <td>Short Cuts</td>\n",
              "      <td>R</td>\n",
              "      <td>Comedy</td>\n",
              "      <td>187</td>\n",
              "      <td>[u'Andie MacDowell', u'Julianne Moore', u'Tim ...</td>\n",
              "    </tr>\n",
              "    <tr>\n",
              "      <th>640</th>\n",
              "      <td>7.7</td>\n",
              "      <td>Love Actually</td>\n",
              "      <td>R</td>\n",
              "      <td>Comedy</td>\n",
              "      <td>135</td>\n",
              "      <td>[u'Hugh Grant', u'Martine McCutcheon', u'Liam ...</td>\n",
              "    </tr>\n",
              "    <tr>\n",
              "      <th>693</th>\n",
              "      <td>7.7</td>\n",
              "      <td>The Player</td>\n",
              "      <td>R</td>\n",
              "      <td>Comedy</td>\n",
              "      <td>124</td>\n",
              "      <td>[u'Tim Robbins', u'Greta Scacchi', u'Fred Ward']</td>\n",
              "    </tr>\n",
              "    <tr>\n",
              "      <th>741</th>\n",
              "      <td>7.6</td>\n",
              "      <td>Volver</td>\n",
              "      <td>R</td>\n",
              "      <td>Comedy</td>\n",
              "      <td>121</td>\n",
              "      <td>[u'Pen\\xe9lope Cruz', u'Carmen Maura', u'Lola ...</td>\n",
              "    </tr>\n",
              "    <tr>\n",
              "      <th>791</th>\n",
              "      <td>7.6</td>\n",
              "      <td>Sideways</td>\n",
              "      <td>R</td>\n",
              "      <td>Comedy</td>\n",
              "      <td>126</td>\n",
              "      <td>[u'Paul Giamatti', u'Thomas Haden Church', u'V...</td>\n",
              "    </tr>\n",
              "    <tr>\n",
              "      <th>808</th>\n",
              "      <td>7.6</td>\n",
              "      <td>The Fisher King</td>\n",
              "      <td>R</td>\n",
              "      <td>Comedy</td>\n",
              "      <td>137</td>\n",
              "      <td>[u'Jeff Bridges', u'Robin Williams', u'Adam Br...</td>\n",
              "    </tr>\n",
              "    <tr>\n",
              "      <th>857</th>\n",
              "      <td>7.5</td>\n",
              "      <td>Pleasantville</td>\n",
              "      <td>PG-13</td>\n",
              "      <td>Comedy</td>\n",
              "      <td>124</td>\n",
              "      <td>[u'Tobey Maguire', u'Jeff Daniels', u'Joan All...</td>\n",
              "    </tr>\n",
              "    <tr>\n",
              "      <th>944</th>\n",
              "      <td>7.4</td>\n",
              "      <td>Terms of Endearment</td>\n",
              "      <td>R</td>\n",
              "      <td>Comedy</td>\n",
              "      <td>132</td>\n",
              "      <td>[u'Shirley MacLaine', u'Debra Winger', u'Jack ...</td>\n",
              "    </tr>\n",
              "  </tbody>\n",
              "</table>\n",
              "</div>\n",
              "      <button class=\"colab-df-convert\" onclick=\"convertToInteractive('df-2b5b39d0-3054-40ce-8984-4a209dc6aa9e')\"\n",
              "              title=\"Convert this dataframe to an interactive table.\"\n",
              "              style=\"display:none;\">\n",
              "        \n",
              "  <svg xmlns=\"http://www.w3.org/2000/svg\" height=\"24px\"viewBox=\"0 0 24 24\"\n",
              "       width=\"24px\">\n",
              "    <path d=\"M0 0h24v24H0V0z\" fill=\"none\"/>\n",
              "    <path d=\"M18.56 5.44l.94 2.06.94-2.06 2.06-.94-2.06-.94-.94-2.06-.94 2.06-2.06.94zm-11 1L8.5 8.5l.94-2.06 2.06-.94-2.06-.94L8.5 2.5l-.94 2.06-2.06.94zm10 10l.94 2.06.94-2.06 2.06-.94-2.06-.94-.94-2.06-.94 2.06-2.06.94z\"/><path d=\"M17.41 7.96l-1.37-1.37c-.4-.4-.92-.59-1.43-.59-.52 0-1.04.2-1.43.59L10.3 9.45l-7.72 7.72c-.78.78-.78 2.05 0 2.83L4 21.41c.39.39.9.59 1.41.59.51 0 1.02-.2 1.41-.59l7.78-7.78 2.81-2.81c.8-.78.8-2.07 0-2.86zM5.41 20L4 18.59l7.72-7.72 1.47 1.35L5.41 20z\"/>\n",
              "  </svg>\n",
              "      </button>\n",
              "      \n",
              "  <style>\n",
              "    .colab-df-container {\n",
              "      display:flex;\n",
              "      flex-wrap:wrap;\n",
              "      gap: 12px;\n",
              "    }\n",
              "\n",
              "    .colab-df-convert {\n",
              "      background-color: #E8F0FE;\n",
              "      border: none;\n",
              "      border-radius: 50%;\n",
              "      cursor: pointer;\n",
              "      display: none;\n",
              "      fill: #1967D2;\n",
              "      height: 32px;\n",
              "      padding: 0 0 0 0;\n",
              "      width: 32px;\n",
              "    }\n",
              "\n",
              "    .colab-df-convert:hover {\n",
              "      background-color: #E2EBFA;\n",
              "      box-shadow: 0px 1px 2px rgba(60, 64, 67, 0.3), 0px 1px 3px 1px rgba(60, 64, 67, 0.15);\n",
              "      fill: #174EA6;\n",
              "    }\n",
              "\n",
              "    [theme=dark] .colab-df-convert {\n",
              "      background-color: #3B4455;\n",
              "      fill: #D2E3FC;\n",
              "    }\n",
              "\n",
              "    [theme=dark] .colab-df-convert:hover {\n",
              "      background-color: #434B5C;\n",
              "      box-shadow: 0px 1px 3px 1px rgba(0, 0, 0, 0.15);\n",
              "      filter: drop-shadow(0px 1px 2px rgba(0, 0, 0, 0.3));\n",
              "      fill: #FFFFFF;\n",
              "    }\n",
              "  </style>\n",
              "\n",
              "      <script>\n",
              "        const buttonEl =\n",
              "          document.querySelector('#df-2b5b39d0-3054-40ce-8984-4a209dc6aa9e button.colab-df-convert');\n",
              "        buttonEl.style.display =\n",
              "          google.colab.kernel.accessAllowed ? 'block' : 'none';\n",
              "\n",
              "        async function convertToInteractive(key) {\n",
              "          const element = document.querySelector('#df-2b5b39d0-3054-40ce-8984-4a209dc6aa9e');\n",
              "          const dataTable =\n",
              "            await google.colab.kernel.invokeFunction('convertToInteractive',\n",
              "                                                     [key], {});\n",
              "          if (!dataTable) return;\n",
              "\n",
              "          const docLinkHtml = 'Like what you see? Visit the ' +\n",
              "            '<a target=\"_blank\" href=https://colab.research.google.com/notebooks/data_table.ipynb>data table notebook</a>'\n",
              "            + ' to learn more about interactive tables.';\n",
              "          element.innerHTML = '';\n",
              "          dataTable['output_type'] = 'display_data';\n",
              "          await google.colab.output.renderOutput(dataTable, element);\n",
              "          const docLink = document.createElement('div');\n",
              "          docLink.innerHTML = docLinkHtml;\n",
              "          element.appendChild(docLink);\n",
              "        }\n",
              "      </script>\n",
              "    </div>\n",
              "  </div>\n",
              "  "
            ]
          },
          "metadata": {},
          "execution_count": 116
        }
      ]
    },
    {
      "cell_type": "markdown",
      "source": [
        "Ποιες ειναι οι ταινιες περιπετειας με αξιολογηση μεγαλυτερη απο πχ 8.5 ?"
      ],
      "metadata": {
        "id": "iqBdzZRuqQ6P"
      }
    },
    {
      "cell_type": "code",
      "source": [
        "df[(df['genre'] == 'Adventure') & (df['star_rating'] > 8.5)]"
      ],
      "metadata": {
        "colab": {
          "base_uri": "https://localhost:8080/",
          "height": 175
        },
        "id": "vBf3psP8pubY",
        "outputId": "668056c7-6994-4b3b-c08f-04b22063d5fa"
      },
      "execution_count": 80,
      "outputs": [
        {
          "output_type": "execute_result",
          "data": {
            "text/plain": [
              "    star_rating                                              title  \\\n",
              "7           8.9      The Lord of the Rings: The Return of the King   \n",
              "10          8.8  The Lord of the Rings: The Fellowship of the Ring   \n",
              "14          8.8              The Lord of the Rings: The Two Towers   \n",
              "15          8.7                                       Interstellar   \n",
              "\n",
              "   content_rating      genre  duration  \\\n",
              "7           PG-13  Adventure       201   \n",
              "10          PG-13  Adventure       178   \n",
              "14          PG-13  Adventure       179   \n",
              "15          PG-13  Adventure       169   \n",
              "\n",
              "                                          actors_list  \n",
              "7   [u'Elijah Wood', u'Viggo Mortensen', u'Ian McK...  \n",
              "10  [u'Elijah Wood', u'Ian McKellen', u'Orlando Bl...  \n",
              "14  [u'Elijah Wood', u'Ian McKellen', u'Viggo Mort...  \n",
              "15  [u'Matthew McConaughey', u'Anne Hathaway', u'J...  "
            ],
            "text/html": [
              "\n",
              "  <div id=\"df-c7698a42-11eb-4231-a440-002f9cdebca2\">\n",
              "    <div class=\"colab-df-container\">\n",
              "      <div>\n",
              "<style scoped>\n",
              "    .dataframe tbody tr th:only-of-type {\n",
              "        vertical-align: middle;\n",
              "    }\n",
              "\n",
              "    .dataframe tbody tr th {\n",
              "        vertical-align: top;\n",
              "    }\n",
              "\n",
              "    .dataframe thead th {\n",
              "        text-align: right;\n",
              "    }\n",
              "</style>\n",
              "<table border=\"1\" class=\"dataframe\">\n",
              "  <thead>\n",
              "    <tr style=\"text-align: right;\">\n",
              "      <th></th>\n",
              "      <th>star_rating</th>\n",
              "      <th>title</th>\n",
              "      <th>content_rating</th>\n",
              "      <th>genre</th>\n",
              "      <th>duration</th>\n",
              "      <th>actors_list</th>\n",
              "    </tr>\n",
              "  </thead>\n",
              "  <tbody>\n",
              "    <tr>\n",
              "      <th>7</th>\n",
              "      <td>8.9</td>\n",
              "      <td>The Lord of the Rings: The Return of the King</td>\n",
              "      <td>PG-13</td>\n",
              "      <td>Adventure</td>\n",
              "      <td>201</td>\n",
              "      <td>[u'Elijah Wood', u'Viggo Mortensen', u'Ian McK...</td>\n",
              "    </tr>\n",
              "    <tr>\n",
              "      <th>10</th>\n",
              "      <td>8.8</td>\n",
              "      <td>The Lord of the Rings: The Fellowship of the Ring</td>\n",
              "      <td>PG-13</td>\n",
              "      <td>Adventure</td>\n",
              "      <td>178</td>\n",
              "      <td>[u'Elijah Wood', u'Ian McKellen', u'Orlando Bl...</td>\n",
              "    </tr>\n",
              "    <tr>\n",
              "      <th>14</th>\n",
              "      <td>8.8</td>\n",
              "      <td>The Lord of the Rings: The Two Towers</td>\n",
              "      <td>PG-13</td>\n",
              "      <td>Adventure</td>\n",
              "      <td>179</td>\n",
              "      <td>[u'Elijah Wood', u'Ian McKellen', u'Viggo Mort...</td>\n",
              "    </tr>\n",
              "    <tr>\n",
              "      <th>15</th>\n",
              "      <td>8.7</td>\n",
              "      <td>Interstellar</td>\n",
              "      <td>PG-13</td>\n",
              "      <td>Adventure</td>\n",
              "      <td>169</td>\n",
              "      <td>[u'Matthew McConaughey', u'Anne Hathaway', u'J...</td>\n",
              "    </tr>\n",
              "  </tbody>\n",
              "</table>\n",
              "</div>\n",
              "      <button class=\"colab-df-convert\" onclick=\"convertToInteractive('df-c7698a42-11eb-4231-a440-002f9cdebca2')\"\n",
              "              title=\"Convert this dataframe to an interactive table.\"\n",
              "              style=\"display:none;\">\n",
              "        \n",
              "  <svg xmlns=\"http://www.w3.org/2000/svg\" height=\"24px\"viewBox=\"0 0 24 24\"\n",
              "       width=\"24px\">\n",
              "    <path d=\"M0 0h24v24H0V0z\" fill=\"none\"/>\n",
              "    <path d=\"M18.56 5.44l.94 2.06.94-2.06 2.06-.94-2.06-.94-.94-2.06-.94 2.06-2.06.94zm-11 1L8.5 8.5l.94-2.06 2.06-.94-2.06-.94L8.5 2.5l-.94 2.06-2.06.94zm10 10l.94 2.06.94-2.06 2.06-.94-2.06-.94-.94-2.06-.94 2.06-2.06.94z\"/><path d=\"M17.41 7.96l-1.37-1.37c-.4-.4-.92-.59-1.43-.59-.52 0-1.04.2-1.43.59L10.3 9.45l-7.72 7.72c-.78.78-.78 2.05 0 2.83L4 21.41c.39.39.9.59 1.41.59.51 0 1.02-.2 1.41-.59l7.78-7.78 2.81-2.81c.8-.78.8-2.07 0-2.86zM5.41 20L4 18.59l7.72-7.72 1.47 1.35L5.41 20z\"/>\n",
              "  </svg>\n",
              "      </button>\n",
              "      \n",
              "  <style>\n",
              "    .colab-df-container {\n",
              "      display:flex;\n",
              "      flex-wrap:wrap;\n",
              "      gap: 12px;\n",
              "    }\n",
              "\n",
              "    .colab-df-convert {\n",
              "      background-color: #E8F0FE;\n",
              "      border: none;\n",
              "      border-radius: 50%;\n",
              "      cursor: pointer;\n",
              "      display: none;\n",
              "      fill: #1967D2;\n",
              "      height: 32px;\n",
              "      padding: 0 0 0 0;\n",
              "      width: 32px;\n",
              "    }\n",
              "\n",
              "    .colab-df-convert:hover {\n",
              "      background-color: #E2EBFA;\n",
              "      box-shadow: 0px 1px 2px rgba(60, 64, 67, 0.3), 0px 1px 3px 1px rgba(60, 64, 67, 0.15);\n",
              "      fill: #174EA6;\n",
              "    }\n",
              "\n",
              "    [theme=dark] .colab-df-convert {\n",
              "      background-color: #3B4455;\n",
              "      fill: #D2E3FC;\n",
              "    }\n",
              "\n",
              "    [theme=dark] .colab-df-convert:hover {\n",
              "      background-color: #434B5C;\n",
              "      box-shadow: 0px 1px 3px 1px rgba(0, 0, 0, 0.15);\n",
              "      filter: drop-shadow(0px 1px 2px rgba(0, 0, 0, 0.3));\n",
              "      fill: #FFFFFF;\n",
              "    }\n",
              "  </style>\n",
              "\n",
              "      <script>\n",
              "        const buttonEl =\n",
              "          document.querySelector('#df-c7698a42-11eb-4231-a440-002f9cdebca2 button.colab-df-convert');\n",
              "        buttonEl.style.display =\n",
              "          google.colab.kernel.accessAllowed ? 'block' : 'none';\n",
              "\n",
              "        async function convertToInteractive(key) {\n",
              "          const element = document.querySelector('#df-c7698a42-11eb-4231-a440-002f9cdebca2');\n",
              "          const dataTable =\n",
              "            await google.colab.kernel.invokeFunction('convertToInteractive',\n",
              "                                                     [key], {});\n",
              "          if (!dataTable) return;\n",
              "\n",
              "          const docLinkHtml = 'Like what you see? Visit the ' +\n",
              "            '<a target=\"_blank\" href=https://colab.research.google.com/notebooks/data_table.ipynb>data table notebook</a>'\n",
              "            + ' to learn more about interactive tables.';\n",
              "          element.innerHTML = '';\n",
              "          dataTable['output_type'] = 'display_data';\n",
              "          await google.colab.output.renderOutput(dataTable, element);\n",
              "          const docLink = document.createElement('div');\n",
              "          docLink.innerHTML = docLinkHtml;\n",
              "          element.appendChild(docLink);\n",
              "        }\n",
              "      </script>\n",
              "    </div>\n",
              "  </div>\n",
              "  "
            ]
          },
          "metadata": {},
          "execution_count": 80
        }
      ]
    },
    {
      "cell_type": "markdown",
      "source": [
        "Συσχετιση αξιολογησης πχ πανω απο 8.0 με συγκεκριμενη αξιολογηση περιεχομενου"
      ],
      "metadata": {
        "id": "-MFT108kyzZt"
      }
    },
    {
      "cell_type": "code",
      "source": [
        "df[(df['star_rating'] > 8.0 ) & (df['content_rating'] == 'PG')]"
      ],
      "metadata": {
        "colab": {
          "base_uri": "https://localhost:8080/",
          "height": 1000
        },
        "id": "4Kzyt8OTxoJ0",
        "outputId": "f6ad3b09-906a-4dc6-abe0-18ff15685de7"
      },
      "execution_count": 115,
      "outputs": [
        {
          "output_type": "execute_result",
          "data": {
            "text/plain": [
              "     star_rating                                              title  \\\n",
              "12           8.8     Star Wars: Episode V - The Empire Strikes Back   \n",
              "19           8.7                                          Star Wars   \n",
              "30           8.6                                      Spirited Away   \n",
              "32           8.6                                         Casablanca   \n",
              "37           8.6                            Raiders of the Lost Ark   \n",
              "47           8.5                                   Taare Zameen Par   \n",
              "48           8.5  Dr. Strangelove or: How I Learned to Stop Worr...   \n",
              "54           8.5                                 Back to the Future   \n",
              "80           8.4         Star Wars: Episode VI - Return of the Jedi   \n",
              "85           8.4                                 Lawrence of Arabia   \n",
              "97           8.4                                          The Sting   \n",
              "101          8.3                    Monty Python and the Holy Grail   \n",
              "126          8.3                                                 Up   \n",
              "137          8.3                       The Bridge on the River Kwai   \n",
              "142          8.3                  Lagaan: Once Upon a Time in India   \n",
              "147          8.2                               Howl's Moving Castle   \n",
              "148          8.2                                   The Elephant Man   \n",
              "154          8.2                                     Cool Hand Luke   \n",
              "160          8.2                           How to Train Your Dragon   \n",
              "171          8.2                                  Dial M for Murder   \n",
              "179          8.2                                 The Princess Bride   \n",
              "193          8.2                 Nausicaa of the Valley of the Wind   \n",
              "200          8.1                                        Le Samourai   \n",
              "208          8.1                                         Annie Hall   \n",
              "220          8.1                                             Gandhi   \n",
              "221          8.1                                            Solaris   \n",
              "236          8.1                                          High Noon   \n",
              "241          8.1                                  Castle in the Sky   \n",
              "245          8.1                                       Barry Lyndon   \n",
              "249          8.1                                             Sleuth   \n",
              "250          8.1                               In the Mood for Love   \n",
              "266          8.1                                  A Christmas Story   \n",
              "267          8.1                                               Jaws   \n",
              "269          8.1                                              Rocky   \n",
              "275          8.1                                      Groundhog Day   \n",
              "280          8.1                                 Young Frankenstein   \n",
              "284          8.1                           A Streetcar Named Desire   \n",
              "295          8.1                                    The Truman Show   \n",
              "\n",
              "    content_rating      genre  duration  \\\n",
              "12              PG     Action       124   \n",
              "19              PG     Action       121   \n",
              "30              PG  Animation       125   \n",
              "32              PG      Drama       102   \n",
              "37              PG     Action       115   \n",
              "47              PG      Drama       165   \n",
              "48              PG     Comedy        95   \n",
              "54              PG  Adventure       116   \n",
              "80              PG     Action       134   \n",
              "85              PG  Adventure       216   \n",
              "97              PG     Comedy       129   \n",
              "101             PG  Adventure        91   \n",
              "126             PG  Animation        96   \n",
              "137             PG  Adventure       161   \n",
              "142             PG  Adventure       224   \n",
              "147             PG  Animation       119   \n",
              "148             PG  Biography       124   \n",
              "154             PG      Crime       126   \n",
              "160             PG  Animation        98   \n",
              "171             PG      Crime       105   \n",
              "179             PG  Adventure        98   \n",
              "193             PG  Animation       117   \n",
              "200             PG      Crime       101   \n",
              "208             PG     Comedy        93   \n",
              "220             PG  Biography       191   \n",
              "221             PG      Drama       167   \n",
              "236             PG    Western        85   \n",
              "241             PG  Animation       124   \n",
              "245             PG  Adventure       184   \n",
              "249             PG    Mystery       138   \n",
              "250             PG      Drama        98   \n",
              "266             PG     Comedy        94   \n",
              "267             PG      Drama       124   \n",
              "269             PG      Drama       119   \n",
              "275             PG     Comedy       101   \n",
              "280             PG     Comedy       106   \n",
              "284             PG      Drama       122   \n",
              "295             PG      Drama       103   \n",
              "\n",
              "                                           actors_list  \n",
              "12   [u'Mark Hamill', u'Harrison Ford', u'Carrie Fi...  \n",
              "19   [u'Mark Hamill', u'Harrison Ford', u'Carrie Fi...  \n",
              "30   [u'Daveigh Chase', u'Suzanne Pleshette', u'Miy...  \n",
              "32   [u'Humphrey Bogart', u'Ingrid Bergman', u'Paul...  \n",
              "37   [u'Harrison Ford', u'Karen Allen', u'Paul Free...  \n",
              "47   [u'Darsheel Safary', u'Aamir Khan', u'Tanay Ch...  \n",
              "48   [u'Peter Sellers', u'George C. Scott', u'Sterl...  \n",
              "54   [u'Michael J. Fox', u'Christopher Lloyd', u'Le...  \n",
              "80   [u'Mark Hamill', u'Harrison Ford', u'Carrie Fi...  \n",
              "85   [u\"Peter O'Toole\", u'Alec Guinness', u'Anthony...  \n",
              "97   [u'Paul Newman', u'Robert Redford', u'Robert S...  \n",
              "101  [u'Graham Chapman', u'John Cleese', u'Eric Idle']  \n",
              "126  [u'Edward Asner', u'Jordan Nagai', u'John Ratz...  \n",
              "137  [u'William Holden', u'Alec Guinness', u'Jack H...  \n",
              "142  [u'Aamir Khan', u'Gracy Singh', u'Rachel Shell...  \n",
              "147  [u'Chieko Baish\\xf4', u'Takuya Kimura', u'Tats...  \n",
              "148  [u'Anthony Hopkins', u'John Hurt', u'Anne Banc...  \n",
              "154  [u'Paul Newman', u'George Kennedy', u'Strother...  \n",
              "160  [u'Jay Baruchel', u'Gerard Butler', u'Christop...  \n",
              "171  [u'Ray Milland', u'Grace Kelly', u'Robert Cumm...  \n",
              "179  [u'Cary Elwes', u'Mandy Patinkin', u'Robin Wri...  \n",
              "193  [u'Sumi Shimamoto', u'Mahito Tsujimura', u'His...  \n",
              "200  [u'Alain Delon', u'Nathalie Delon', u'Fran\\xe7...  \n",
              "208  [u'Woody Allen', u'Diane Keaton', u'Tony Rober...  \n",
              "220  [u'Ben Kingsley', u'John Gielgud', u'Candice B...  \n",
              "221  [u'Natalya Bondarchuk', u'Donatas Banionis', u...  \n",
              "236  [u'Gary Cooper', u'Grace Kelly', u'Thomas Mitc...  \n",
              "241  [u'Anna Paquin', u'James Van Der Beek', u'Clor...  \n",
              "245  [u\"Ryan O'Neal\", u'Marisa Berenson', u'Patrick...  \n",
              "249  [u'Laurence Olivier', u'Michael Caine', u'Alec...  \n",
              "250  [u'Tony Chiu Wai Leung', u'Maggie Cheung', u'P...  \n",
              "266  [u'Peter Billingsley', u'Melinda Dillon', u'Da...  \n",
              "267  [u'Roy Scheider', u'Robert Shaw', u'Richard Dr...  \n",
              "269  [u'Sylvester Stallone', u'Talia Shire', u'Burt...  \n",
              "275  [u'Bill Murray', u'Andie MacDowell', u'Chris E...  \n",
              "280  [u'Gene Wilder', u'Madeline Kahn', u'Marty Fel...  \n",
              "284  [u'Vivien Leigh', u'Marlon Brando', u'Kim Hunt...  \n",
              "295     [u'Jim Carrey', u'Ed Harris', u'Laura Linney']  "
            ],
            "text/html": [
              "\n",
              "  <div id=\"df-0c6ec654-729b-477c-8d80-645c91e21a4c\">\n",
              "    <div class=\"colab-df-container\">\n",
              "      <div>\n",
              "<style scoped>\n",
              "    .dataframe tbody tr th:only-of-type {\n",
              "        vertical-align: middle;\n",
              "    }\n",
              "\n",
              "    .dataframe tbody tr th {\n",
              "        vertical-align: top;\n",
              "    }\n",
              "\n",
              "    .dataframe thead th {\n",
              "        text-align: right;\n",
              "    }\n",
              "</style>\n",
              "<table border=\"1\" class=\"dataframe\">\n",
              "  <thead>\n",
              "    <tr style=\"text-align: right;\">\n",
              "      <th></th>\n",
              "      <th>star_rating</th>\n",
              "      <th>title</th>\n",
              "      <th>content_rating</th>\n",
              "      <th>genre</th>\n",
              "      <th>duration</th>\n",
              "      <th>actors_list</th>\n",
              "    </tr>\n",
              "  </thead>\n",
              "  <tbody>\n",
              "    <tr>\n",
              "      <th>12</th>\n",
              "      <td>8.8</td>\n",
              "      <td>Star Wars: Episode V - The Empire Strikes Back</td>\n",
              "      <td>PG</td>\n",
              "      <td>Action</td>\n",
              "      <td>124</td>\n",
              "      <td>[u'Mark Hamill', u'Harrison Ford', u'Carrie Fi...</td>\n",
              "    </tr>\n",
              "    <tr>\n",
              "      <th>19</th>\n",
              "      <td>8.7</td>\n",
              "      <td>Star Wars</td>\n",
              "      <td>PG</td>\n",
              "      <td>Action</td>\n",
              "      <td>121</td>\n",
              "      <td>[u'Mark Hamill', u'Harrison Ford', u'Carrie Fi...</td>\n",
              "    </tr>\n",
              "    <tr>\n",
              "      <th>30</th>\n",
              "      <td>8.6</td>\n",
              "      <td>Spirited Away</td>\n",
              "      <td>PG</td>\n",
              "      <td>Animation</td>\n",
              "      <td>125</td>\n",
              "      <td>[u'Daveigh Chase', u'Suzanne Pleshette', u'Miy...</td>\n",
              "    </tr>\n",
              "    <tr>\n",
              "      <th>32</th>\n",
              "      <td>8.6</td>\n",
              "      <td>Casablanca</td>\n",
              "      <td>PG</td>\n",
              "      <td>Drama</td>\n",
              "      <td>102</td>\n",
              "      <td>[u'Humphrey Bogart', u'Ingrid Bergman', u'Paul...</td>\n",
              "    </tr>\n",
              "    <tr>\n",
              "      <th>37</th>\n",
              "      <td>8.6</td>\n",
              "      <td>Raiders of the Lost Ark</td>\n",
              "      <td>PG</td>\n",
              "      <td>Action</td>\n",
              "      <td>115</td>\n",
              "      <td>[u'Harrison Ford', u'Karen Allen', u'Paul Free...</td>\n",
              "    </tr>\n",
              "    <tr>\n",
              "      <th>47</th>\n",
              "      <td>8.5</td>\n",
              "      <td>Taare Zameen Par</td>\n",
              "      <td>PG</td>\n",
              "      <td>Drama</td>\n",
              "      <td>165</td>\n",
              "      <td>[u'Darsheel Safary', u'Aamir Khan', u'Tanay Ch...</td>\n",
              "    </tr>\n",
              "    <tr>\n",
              "      <th>48</th>\n",
              "      <td>8.5</td>\n",
              "      <td>Dr. Strangelove or: How I Learned to Stop Worr...</td>\n",
              "      <td>PG</td>\n",
              "      <td>Comedy</td>\n",
              "      <td>95</td>\n",
              "      <td>[u'Peter Sellers', u'George C. Scott', u'Sterl...</td>\n",
              "    </tr>\n",
              "    <tr>\n",
              "      <th>54</th>\n",
              "      <td>8.5</td>\n",
              "      <td>Back to the Future</td>\n",
              "      <td>PG</td>\n",
              "      <td>Adventure</td>\n",
              "      <td>116</td>\n",
              "      <td>[u'Michael J. Fox', u'Christopher Lloyd', u'Le...</td>\n",
              "    </tr>\n",
              "    <tr>\n",
              "      <th>80</th>\n",
              "      <td>8.4</td>\n",
              "      <td>Star Wars: Episode VI - Return of the Jedi</td>\n",
              "      <td>PG</td>\n",
              "      <td>Action</td>\n",
              "      <td>134</td>\n",
              "      <td>[u'Mark Hamill', u'Harrison Ford', u'Carrie Fi...</td>\n",
              "    </tr>\n",
              "    <tr>\n",
              "      <th>85</th>\n",
              "      <td>8.4</td>\n",
              "      <td>Lawrence of Arabia</td>\n",
              "      <td>PG</td>\n",
              "      <td>Adventure</td>\n",
              "      <td>216</td>\n",
              "      <td>[u\"Peter O'Toole\", u'Alec Guinness', u'Anthony...</td>\n",
              "    </tr>\n",
              "    <tr>\n",
              "      <th>97</th>\n",
              "      <td>8.4</td>\n",
              "      <td>The Sting</td>\n",
              "      <td>PG</td>\n",
              "      <td>Comedy</td>\n",
              "      <td>129</td>\n",
              "      <td>[u'Paul Newman', u'Robert Redford', u'Robert S...</td>\n",
              "    </tr>\n",
              "    <tr>\n",
              "      <th>101</th>\n",
              "      <td>8.3</td>\n",
              "      <td>Monty Python and the Holy Grail</td>\n",
              "      <td>PG</td>\n",
              "      <td>Adventure</td>\n",
              "      <td>91</td>\n",
              "      <td>[u'Graham Chapman', u'John Cleese', u'Eric Idle']</td>\n",
              "    </tr>\n",
              "    <tr>\n",
              "      <th>126</th>\n",
              "      <td>8.3</td>\n",
              "      <td>Up</td>\n",
              "      <td>PG</td>\n",
              "      <td>Animation</td>\n",
              "      <td>96</td>\n",
              "      <td>[u'Edward Asner', u'Jordan Nagai', u'John Ratz...</td>\n",
              "    </tr>\n",
              "    <tr>\n",
              "      <th>137</th>\n",
              "      <td>8.3</td>\n",
              "      <td>The Bridge on the River Kwai</td>\n",
              "      <td>PG</td>\n",
              "      <td>Adventure</td>\n",
              "      <td>161</td>\n",
              "      <td>[u'William Holden', u'Alec Guinness', u'Jack H...</td>\n",
              "    </tr>\n",
              "    <tr>\n",
              "      <th>142</th>\n",
              "      <td>8.3</td>\n",
              "      <td>Lagaan: Once Upon a Time in India</td>\n",
              "      <td>PG</td>\n",
              "      <td>Adventure</td>\n",
              "      <td>224</td>\n",
              "      <td>[u'Aamir Khan', u'Gracy Singh', u'Rachel Shell...</td>\n",
              "    </tr>\n",
              "    <tr>\n",
              "      <th>147</th>\n",
              "      <td>8.2</td>\n",
              "      <td>Howl's Moving Castle</td>\n",
              "      <td>PG</td>\n",
              "      <td>Animation</td>\n",
              "      <td>119</td>\n",
              "      <td>[u'Chieko Baish\\xf4', u'Takuya Kimura', u'Tats...</td>\n",
              "    </tr>\n",
              "    <tr>\n",
              "      <th>148</th>\n",
              "      <td>8.2</td>\n",
              "      <td>The Elephant Man</td>\n",
              "      <td>PG</td>\n",
              "      <td>Biography</td>\n",
              "      <td>124</td>\n",
              "      <td>[u'Anthony Hopkins', u'John Hurt', u'Anne Banc...</td>\n",
              "    </tr>\n",
              "    <tr>\n",
              "      <th>154</th>\n",
              "      <td>8.2</td>\n",
              "      <td>Cool Hand Luke</td>\n",
              "      <td>PG</td>\n",
              "      <td>Crime</td>\n",
              "      <td>126</td>\n",
              "      <td>[u'Paul Newman', u'George Kennedy', u'Strother...</td>\n",
              "    </tr>\n",
              "    <tr>\n",
              "      <th>160</th>\n",
              "      <td>8.2</td>\n",
              "      <td>How to Train Your Dragon</td>\n",
              "      <td>PG</td>\n",
              "      <td>Animation</td>\n",
              "      <td>98</td>\n",
              "      <td>[u'Jay Baruchel', u'Gerard Butler', u'Christop...</td>\n",
              "    </tr>\n",
              "    <tr>\n",
              "      <th>171</th>\n",
              "      <td>8.2</td>\n",
              "      <td>Dial M for Murder</td>\n",
              "      <td>PG</td>\n",
              "      <td>Crime</td>\n",
              "      <td>105</td>\n",
              "      <td>[u'Ray Milland', u'Grace Kelly', u'Robert Cumm...</td>\n",
              "    </tr>\n",
              "    <tr>\n",
              "      <th>179</th>\n",
              "      <td>8.2</td>\n",
              "      <td>The Princess Bride</td>\n",
              "      <td>PG</td>\n",
              "      <td>Adventure</td>\n",
              "      <td>98</td>\n",
              "      <td>[u'Cary Elwes', u'Mandy Patinkin', u'Robin Wri...</td>\n",
              "    </tr>\n",
              "    <tr>\n",
              "      <th>193</th>\n",
              "      <td>8.2</td>\n",
              "      <td>Nausicaa of the Valley of the Wind</td>\n",
              "      <td>PG</td>\n",
              "      <td>Animation</td>\n",
              "      <td>117</td>\n",
              "      <td>[u'Sumi Shimamoto', u'Mahito Tsujimura', u'His...</td>\n",
              "    </tr>\n",
              "    <tr>\n",
              "      <th>200</th>\n",
              "      <td>8.1</td>\n",
              "      <td>Le Samourai</td>\n",
              "      <td>PG</td>\n",
              "      <td>Crime</td>\n",
              "      <td>101</td>\n",
              "      <td>[u'Alain Delon', u'Nathalie Delon', u'Fran\\xe7...</td>\n",
              "    </tr>\n",
              "    <tr>\n",
              "      <th>208</th>\n",
              "      <td>8.1</td>\n",
              "      <td>Annie Hall</td>\n",
              "      <td>PG</td>\n",
              "      <td>Comedy</td>\n",
              "      <td>93</td>\n",
              "      <td>[u'Woody Allen', u'Diane Keaton', u'Tony Rober...</td>\n",
              "    </tr>\n",
              "    <tr>\n",
              "      <th>220</th>\n",
              "      <td>8.1</td>\n",
              "      <td>Gandhi</td>\n",
              "      <td>PG</td>\n",
              "      <td>Biography</td>\n",
              "      <td>191</td>\n",
              "      <td>[u'Ben Kingsley', u'John Gielgud', u'Candice B...</td>\n",
              "    </tr>\n",
              "    <tr>\n",
              "      <th>221</th>\n",
              "      <td>8.1</td>\n",
              "      <td>Solaris</td>\n",
              "      <td>PG</td>\n",
              "      <td>Drama</td>\n",
              "      <td>167</td>\n",
              "      <td>[u'Natalya Bondarchuk', u'Donatas Banionis', u...</td>\n",
              "    </tr>\n",
              "    <tr>\n",
              "      <th>236</th>\n",
              "      <td>8.1</td>\n",
              "      <td>High Noon</td>\n",
              "      <td>PG</td>\n",
              "      <td>Western</td>\n",
              "      <td>85</td>\n",
              "      <td>[u'Gary Cooper', u'Grace Kelly', u'Thomas Mitc...</td>\n",
              "    </tr>\n",
              "    <tr>\n",
              "      <th>241</th>\n",
              "      <td>8.1</td>\n",
              "      <td>Castle in the Sky</td>\n",
              "      <td>PG</td>\n",
              "      <td>Animation</td>\n",
              "      <td>124</td>\n",
              "      <td>[u'Anna Paquin', u'James Van Der Beek', u'Clor...</td>\n",
              "    </tr>\n",
              "    <tr>\n",
              "      <th>245</th>\n",
              "      <td>8.1</td>\n",
              "      <td>Barry Lyndon</td>\n",
              "      <td>PG</td>\n",
              "      <td>Adventure</td>\n",
              "      <td>184</td>\n",
              "      <td>[u\"Ryan O'Neal\", u'Marisa Berenson', u'Patrick...</td>\n",
              "    </tr>\n",
              "    <tr>\n",
              "      <th>249</th>\n",
              "      <td>8.1</td>\n",
              "      <td>Sleuth</td>\n",
              "      <td>PG</td>\n",
              "      <td>Mystery</td>\n",
              "      <td>138</td>\n",
              "      <td>[u'Laurence Olivier', u'Michael Caine', u'Alec...</td>\n",
              "    </tr>\n",
              "    <tr>\n",
              "      <th>250</th>\n",
              "      <td>8.1</td>\n",
              "      <td>In the Mood for Love</td>\n",
              "      <td>PG</td>\n",
              "      <td>Drama</td>\n",
              "      <td>98</td>\n",
              "      <td>[u'Tony Chiu Wai Leung', u'Maggie Cheung', u'P...</td>\n",
              "    </tr>\n",
              "    <tr>\n",
              "      <th>266</th>\n",
              "      <td>8.1</td>\n",
              "      <td>A Christmas Story</td>\n",
              "      <td>PG</td>\n",
              "      <td>Comedy</td>\n",
              "      <td>94</td>\n",
              "      <td>[u'Peter Billingsley', u'Melinda Dillon', u'Da...</td>\n",
              "    </tr>\n",
              "    <tr>\n",
              "      <th>267</th>\n",
              "      <td>8.1</td>\n",
              "      <td>Jaws</td>\n",
              "      <td>PG</td>\n",
              "      <td>Drama</td>\n",
              "      <td>124</td>\n",
              "      <td>[u'Roy Scheider', u'Robert Shaw', u'Richard Dr...</td>\n",
              "    </tr>\n",
              "    <tr>\n",
              "      <th>269</th>\n",
              "      <td>8.1</td>\n",
              "      <td>Rocky</td>\n",
              "      <td>PG</td>\n",
              "      <td>Drama</td>\n",
              "      <td>119</td>\n",
              "      <td>[u'Sylvester Stallone', u'Talia Shire', u'Burt...</td>\n",
              "    </tr>\n",
              "    <tr>\n",
              "      <th>275</th>\n",
              "      <td>8.1</td>\n",
              "      <td>Groundhog Day</td>\n",
              "      <td>PG</td>\n",
              "      <td>Comedy</td>\n",
              "      <td>101</td>\n",
              "      <td>[u'Bill Murray', u'Andie MacDowell', u'Chris E...</td>\n",
              "    </tr>\n",
              "    <tr>\n",
              "      <th>280</th>\n",
              "      <td>8.1</td>\n",
              "      <td>Young Frankenstein</td>\n",
              "      <td>PG</td>\n",
              "      <td>Comedy</td>\n",
              "      <td>106</td>\n",
              "      <td>[u'Gene Wilder', u'Madeline Kahn', u'Marty Fel...</td>\n",
              "    </tr>\n",
              "    <tr>\n",
              "      <th>284</th>\n",
              "      <td>8.1</td>\n",
              "      <td>A Streetcar Named Desire</td>\n",
              "      <td>PG</td>\n",
              "      <td>Drama</td>\n",
              "      <td>122</td>\n",
              "      <td>[u'Vivien Leigh', u'Marlon Brando', u'Kim Hunt...</td>\n",
              "    </tr>\n",
              "    <tr>\n",
              "      <th>295</th>\n",
              "      <td>8.1</td>\n",
              "      <td>The Truman Show</td>\n",
              "      <td>PG</td>\n",
              "      <td>Drama</td>\n",
              "      <td>103</td>\n",
              "      <td>[u'Jim Carrey', u'Ed Harris', u'Laura Linney']</td>\n",
              "    </tr>\n",
              "  </tbody>\n",
              "</table>\n",
              "</div>\n",
              "      <button class=\"colab-df-convert\" onclick=\"convertToInteractive('df-0c6ec654-729b-477c-8d80-645c91e21a4c')\"\n",
              "              title=\"Convert this dataframe to an interactive table.\"\n",
              "              style=\"display:none;\">\n",
              "        \n",
              "  <svg xmlns=\"http://www.w3.org/2000/svg\" height=\"24px\"viewBox=\"0 0 24 24\"\n",
              "       width=\"24px\">\n",
              "    <path d=\"M0 0h24v24H0V0z\" fill=\"none\"/>\n",
              "    <path d=\"M18.56 5.44l.94 2.06.94-2.06 2.06-.94-2.06-.94-.94-2.06-.94 2.06-2.06.94zm-11 1L8.5 8.5l.94-2.06 2.06-.94-2.06-.94L8.5 2.5l-.94 2.06-2.06.94zm10 10l.94 2.06.94-2.06 2.06-.94-2.06-.94-.94-2.06-.94 2.06-2.06.94z\"/><path d=\"M17.41 7.96l-1.37-1.37c-.4-.4-.92-.59-1.43-.59-.52 0-1.04.2-1.43.59L10.3 9.45l-7.72 7.72c-.78.78-.78 2.05 0 2.83L4 21.41c.39.39.9.59 1.41.59.51 0 1.02-.2 1.41-.59l7.78-7.78 2.81-2.81c.8-.78.8-2.07 0-2.86zM5.41 20L4 18.59l7.72-7.72 1.47 1.35L5.41 20z\"/>\n",
              "  </svg>\n",
              "      </button>\n",
              "      \n",
              "  <style>\n",
              "    .colab-df-container {\n",
              "      display:flex;\n",
              "      flex-wrap:wrap;\n",
              "      gap: 12px;\n",
              "    }\n",
              "\n",
              "    .colab-df-convert {\n",
              "      background-color: #E8F0FE;\n",
              "      border: none;\n",
              "      border-radius: 50%;\n",
              "      cursor: pointer;\n",
              "      display: none;\n",
              "      fill: #1967D2;\n",
              "      height: 32px;\n",
              "      padding: 0 0 0 0;\n",
              "      width: 32px;\n",
              "    }\n",
              "\n",
              "    .colab-df-convert:hover {\n",
              "      background-color: #E2EBFA;\n",
              "      box-shadow: 0px 1px 2px rgba(60, 64, 67, 0.3), 0px 1px 3px 1px rgba(60, 64, 67, 0.15);\n",
              "      fill: #174EA6;\n",
              "    }\n",
              "\n",
              "    [theme=dark] .colab-df-convert {\n",
              "      background-color: #3B4455;\n",
              "      fill: #D2E3FC;\n",
              "    }\n",
              "\n",
              "    [theme=dark] .colab-df-convert:hover {\n",
              "      background-color: #434B5C;\n",
              "      box-shadow: 0px 1px 3px 1px rgba(0, 0, 0, 0.15);\n",
              "      filter: drop-shadow(0px 1px 2px rgba(0, 0, 0, 0.3));\n",
              "      fill: #FFFFFF;\n",
              "    }\n",
              "  </style>\n",
              "\n",
              "      <script>\n",
              "        const buttonEl =\n",
              "          document.querySelector('#df-0c6ec654-729b-477c-8d80-645c91e21a4c button.colab-df-convert');\n",
              "        buttonEl.style.display =\n",
              "          google.colab.kernel.accessAllowed ? 'block' : 'none';\n",
              "\n",
              "        async function convertToInteractive(key) {\n",
              "          const element = document.querySelector('#df-0c6ec654-729b-477c-8d80-645c91e21a4c');\n",
              "          const dataTable =\n",
              "            await google.colab.kernel.invokeFunction('convertToInteractive',\n",
              "                                                     [key], {});\n",
              "          if (!dataTable) return;\n",
              "\n",
              "          const docLinkHtml = 'Like what you see? Visit the ' +\n",
              "            '<a target=\"_blank\" href=https://colab.research.google.com/notebooks/data_table.ipynb>data table notebook</a>'\n",
              "            + ' to learn more about interactive tables.';\n",
              "          element.innerHTML = '';\n",
              "          dataTable['output_type'] = 'display_data';\n",
              "          await google.colab.output.renderOutput(dataTable, element);\n",
              "          const docLink = document.createElement('div');\n",
              "          docLink.innerHTML = docLinkHtml;\n",
              "          element.appendChild(docLink);\n",
              "        }\n",
              "      </script>\n",
              "    </div>\n",
              "  </div>\n",
              "  "
            ]
          },
          "metadata": {},
          "execution_count": 115
        }
      ]
    }
  ]
}