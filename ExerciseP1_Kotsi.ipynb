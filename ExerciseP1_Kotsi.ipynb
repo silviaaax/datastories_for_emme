{
  "nbformat": 4,
  "nbformat_minor": 0,
  "metadata": {
    "colab": {
      "provenance": [],
      "include_colab_link": true
    },
    "kernelspec": {
      "name": "python3",
      "display_name": "Python 3"
    },
    "language_info": {
      "name": "python"
    }
  },
  "cells": [
    {
      "cell_type": "markdown",
      "metadata": {
        "id": "view-in-github",
        "colab_type": "text"
      },
      "source": [
        "<a href=\"https://colab.research.google.com/github/silviaaax/datastories_for_emme/blob/main/ExerciseP1_Kotsi.ipynb\" target=\"_parent\"><img src=\"https://colab.research.google.com/assets/colab-badge.svg\" alt=\"Open In Colab\"/></a>"
      ]
    },
    {
      "cell_type": "markdown",
      "source": [
        "#Ασκήσεις του μαθήματος \"Εισαγωγή στην Python 1 - Variables, data types (integers, floats, stings, boolean, lists, dictionaries), mathematical & comparison operators, functions & methods"
      ],
      "metadata": {
        "id": "eZ6s1jOQBAty"
      }
    },
    {
      "cell_type": "markdown",
      "source": [
        "\n",
        "\n",
        "---\n",
        "\n",
        "\n",
        "####**Άσκηση 2** (Προαιρετικά)\n",
        "\n",
        "**Try yourself**: Φτιάξτε ένα νέο κελί κώδικα (Code cell) ακριβώς κάτω από αυτό και δημιουργήστε μεταβλητές με τα στοιχεία σας:\n",
        "\n",
        "*   το μικρό σας όνομα\n",
        "*   το επίθετό σας\n",
        "*   το email σας\n",
        "*   το εξάμηνό σας\n",
        "*   τυπώστε όλα μαζί τα παραπάνω στην οθόνη"
      ],
      "metadata": {
        "id": "wiiXoX3tfVML"
      }
    },
    {
      "cell_type": "code",
      "source": [
        "firstName = 'Silvia'\n",
        "lastName = 'Kotsi'\n",
        "email =  'kotsisilvia@gmail.com'\n",
        "semester = '8'\n",
        "print (firstName , lastName , email, semester)"
      ],
      "metadata": {
        "id": "armjB2HCS8J_",
        "outputId": "065ec74a-fb2c-412b-bd49-151bb0cb8802",
        "colab": {
          "base_uri": "https://localhost:8080/"
        }
      },
      "execution_count": null,
      "outputs": [
        {
          "output_type": "stream",
          "name": "stdout",
          "text": [
            "Silvia Kotsi kotsisilvia@gmail.com 8\n"
          ]
        }
      ]
    },
    {
      "cell_type": "markdown",
      "source": [
        "\n",
        "\n",
        "---\n",
        "\n",
        "####**Άσκηση 3**\n",
        "\n",
        "**Try yourself**: Φτιάξτε ένα νέο κελί κώδικα (Code cell) ακριβώς κάτω από αυτό και κάνετε τα παρακάτω:\n",
        "\n",
        "* δημιουργήστε 3 μεταβλητές, όπου η καθεμιά θα έχει τη θερμοκρασία του αέρα όπως την καταγράψαμε το πρωί, το μεσημέρι και το βράδυ\n",
        "* βρείτε το μέσο όρο των θερμοκρασιών\n",
        "* βρείτε τη μέγιστη διαφορά των θερμοκρασιών\n",
        "* δημιουργήστε μια νέα μεταβλητή που θα περιέχει την τιμή της μέσης θερμοκρασίας σε ακέραιο\n",
        "* ελέγξτε τα αποτελέσματα τυπώνοντάς τα στην οθόνη\n"
      ],
      "metadata": {
        "id": "yrhDlp7r8Jsi"
      }
    },
    {
      "cell_type": "code",
      "source": [
        "morningTemp = 13\n",
        "middayTemp = 17\n",
        "nightTemp = 14\n",
        "sum = (morningTemp + middayTemp + nightTemp )/ 3\n",
        "maxDiff = max([morningTemp, middayTemp, nightTemp]) - min([morningTemp, middayTemp, nightTemp])\n",
        "finalTemp = int(sum)\n",
        "print (\"Average Temperature: \", sum, \"Maximum difference:\", maxDiff, \"Integer Temperature\", finalTemp)\n",
        "\n"
      ],
      "metadata": {
        "id": "rLMJFAqoTtiX",
        "outputId": "80a2b9a1-b09a-470e-f493-0787a394a31c",
        "colab": {
          "base_uri": "https://localhost:8080/"
        }
      },
      "execution_count": null,
      "outputs": [
        {
          "output_type": "stream",
          "name": "stdout",
          "text": [
            "Average Temperature:  14.666666666666666 Maximum difference: 4 Integer Temperature 14\n"
          ]
        }
      ]
    },
    {
      "cell_type": "markdown",
      "source": [
        "\n",
        "\n",
        "---\n",
        "\n",
        "####**Άσκηση 4**\n",
        "\n",
        "**Try yourself**: Φτιάξτε ένα νέο κελί κώδικα (Code cell) ακριβώς κάτω από αυτό και κάνετε τα παρακάτω:\n",
        "\n",
        "* δημιουργήστε μια μεταβλητή με την πόλη που μένετε και μία με το αγαπημένο σας ταξιδιωτικό προορισμό\n",
        "* ελέγξτε την ομοιότητα του τύπου των μεταβλητών\n",
        "* ελέγξτε την ισότητα των μεταβλητών\n",
        "* ελέγξτε αν η μεταβλητή της πόλης είναι μικρότερη της μεταβλητής του ταξιδιωτικού προορισμού\n",
        "\n",
        "Τι νομίζετε ότι σημαίνει ότι ένα string είναι μεγαλύτερο, μικρότερο ή ίσο με ένα άλλο; (Γράψτε την απάντησή σας σε ένα νέο text cell ή σε ένα code cell σαν σχόλιο)\n"
      ],
      "metadata": {
        "id": "pg9-mk1eTq2l"
      }
    },
    {
      "cell_type": "code",
      "source": [
        "hometown = \"Trikala\"\n",
        "idealDestination = \"Stockholm\"\n",
        "if type(hometown) == type(idealDestination) :\n",
        "  print (\"Equal variable type\")\n",
        "if hometown == idealDestination :\n",
        "  print(\"Equal variables\")\n",
        "if hometown < idealDestination :\n",
        "  print(\"Smaller\")\n",
        "\n",
        "\n",
        "\n"
      ],
      "metadata": {
        "id": "qErp7VD9TGuS",
        "outputId": "a7e06cef-b17c-417c-d385-05c8f20fe938",
        "colab": {
          "base_uri": "https://localhost:8080/"
        }
      },
      "execution_count": null,
      "outputs": [
        {
          "output_type": "stream",
          "name": "stdout",
          "text": [
            "Equal variable type\n"
          ]
        }
      ]
    },
    {
      "cell_type": "markdown",
      "source": [
        "\n",
        "\n",
        "---\n",
        "\n",
        "####**Άσκηση 5**\n",
        "\n",
        "**Try yourself**: Φτιάξτε ένα νέο κελί κώδικα (Code cell) ακριβώς κάτω από αυτό και κάνετε τα παρακάτω:\n",
        "\n",
        "* δημιουργήστε μια μεταβλητή με τιμή την datetime ημερομηνία δημοσίευσης ενός άρθρου: 2023-03-24T12:07:19+02:00\n",
        "* απομονώστε την ημερομηνία και αποθηκεύστε τη σε μια μεταβλητή με κατάλληλο όνομα\n",
        "* τυπώστε την ημερομηνία\n",
        "* φτιάξτε ένα νέο code cell\n",
        "* αποθηκεύστε σε διαφορετικές μεταβλητές το έτος, το μήνα και την ημέρα (**tip**: κάντε το ένα ένα και τυπώνετε για να βλέπετε αν το κάνετε σωστά)\n",
        "* φτιάξτε ένα νέο code cell\n",
        "* απομονώστε την ώρα (το 12:07:19) και αποθηκεύστε τη σε μια νέα μεταβλητή \n",
        "* φτιάξτε ένα νέο code cell\n",
        "* χρησιμοποιώντας τις μεταβλητές που φτιάξατε, δημιουργήστε μια νέα μεταβλητή με όνομα custom_daytime που θα περιέχει: <ημέρα>/<μήνας>/<έτος>, ώρα: <ώρα>\n",
        "* και τυπώστε τη στην οθόνη"
      ],
      "metadata": {
        "id": "jIk9BoTu-f05"
      }
    },
    {
      "cell_type": "code",
      "source": [
        "articleDatetime = \"2023-03-24T12:07:19+02:00\"\n",
        "date =  articleDatetime.split(\"T\")[0]\n",
        "print(date)"
      ],
      "metadata": {
        "id": "cpJhiuIqefLf",
        "outputId": "d8a1debe-10c3-43b1-bcc6-053eb3d7ffea",
        "colab": {
          "base_uri": "https://localhost:8080/"
        }
      },
      "execution_count": null,
      "outputs": [
        {
          "output_type": "stream",
          "name": "stdout",
          "text": [
            "2023-03-24\n"
          ]
        }
      ]
    },
    {
      "cell_type": "code",
      "source": [
        "year = date.split(\"-\")[0]\n",
        "print(year)\n",
        "month = date.split(\"-\")[1]\n",
        "print(month)\n",
        "day = date.split(\"-\")[2]\n",
        "print(day)"
      ],
      "metadata": {
        "id": "AwgD5HReirdg",
        "outputId": "33393fea-1604-4377-cd7d-429f2aa20262",
        "colab": {
          "base_uri": "https://localhost:8080/"
        }
      },
      "execution_count": null,
      "outputs": [
        {
          "output_type": "stream",
          "name": "stdout",
          "text": [
            "2023\n",
            "03\n",
            "24\n"
          ]
        }
      ]
    },
    {
      "cell_type": "code",
      "source": [
        "time =  articleDatetime.split(\"T\")[1].split(\"+\")[0]\n"
      ],
      "metadata": {
        "id": "zMC0nxrukm4R",
        "outputId": "88e45982-d6df-46b6-ecb2-fea8826102ab",
        "colab": {
          "base_uri": "https://localhost:8080/"
        }
      },
      "execution_count": null,
      "outputs": [
        {
          "output_type": "stream",
          "name": "stdout",
          "text": [
            "12:07:19\n"
          ]
        }
      ]
    },
    {
      "cell_type": "code",
      "source": [
        "custom_daytime = day+\"/\"+ month+\"/\"+ year+ \", ώρα:\"+ time\n",
        "print(custom_daytime)"
      ],
      "metadata": {
        "id": "DvCZGdLUllob",
        "outputId": "ce84b686-96b4-4f14-951c-3c45049aa533",
        "colab": {
          "base_uri": "https://localhost:8080/"
        }
      },
      "execution_count": null,
      "outputs": [
        {
          "output_type": "stream",
          "name": "stdout",
          "text": [
            "24/03/2023, ώρα:12:07:19\n"
          ]
        }
      ]
    },
    {
      "cell_type": "markdown",
      "source": [
        "\n",
        "\n",
        "---\n",
        "\n",
        "####**Άσκηση 6**\n",
        "\n",
        "**Try yourself**: Φτιάξτε ένα νέο κελί κώδικα (Code cell) ακριβώς κάτω από αυτό και κάνετε τα παρακάτω:\n",
        "\n",
        "1. Δημιουργήστε μια κενή λίστα με όνομα usersL\n",
        "2. Φτιάξτε μια μεταβλητή με όνομα email1 και τιμή ένα email\n",
        "3. Βρείτε το index του \"@\" (με function) και αποθηκεύστε το σε μια μεταβλητή με όνομα at1\n",
        "4. Πάρτε (slice) το τμήμα του mail που έχει μόνο το όνομα, αποθηκεύστε το σε μια μεταβλητή με όνομα user1 και βάλτε το στη λίστα usersL\n",
        "5. Επαναλάβετε τα βήματα 2-4 άλλη 1 φορά (κάντε copy-paste και αλλάξτε ό,τι χρειάεται)\n",
        "6. Ταξινομήστε τα περιεχόμενα της λίστας με αύξουσα σειρά και\n",
        "7. Τυπώστε τα περιεχόμενά της στην οθόνη\n",
        "\n",
        "**Tip**: χρησιμοποιήστε όσα κελιά θέλετε έτσι ώστε να ελέγχετε τι κάνετε σε κάθε βήμα"
      ],
      "metadata": {
        "id": "_agWj9vpdYL9"
      }
    },
    {
      "cell_type": "code",
      "source": [
        "usersL = []\n",
        "email1 = \"ThisExerciseIsNotFun@gmail.com\"\n",
        "at1 = email1.split(\"@\")[1] #δεν καταλαβα αν θελετε να εμφανιζετε μονο το @gmail η @gmail.com\n",
        "user1 = email1.split(\"@\")[0]\n",
        "usersL.append(user1)\n",
        "\n",
        "email1 = \"ThisExerciseIsNotFun2@gmail.com\"\n",
        "at1 = email1.split(\"@\")[1] #δεν καταλαβα αν θελετε να εμφανιζετε μονο το @gmail η @gmail.com\n",
        "user1 = email1.split(\"@\")[0]\n",
        "usersL.append(user1)\n",
        "\n",
        "usersL.sort()\n",
        "\n",
        "print(usersL)\n",
        "\n"
      ],
      "metadata": {
        "id": "2Mv2gz1Im7rf",
        "outputId": "4432c3f5-34af-4a5f-88b8-7929e420976d",
        "colab": {
          "base_uri": "https://localhost:8080/"
        }
      },
      "execution_count": null,
      "outputs": [
        {
          "output_type": "stream",
          "name": "stdout",
          "text": [
            "['ThisExerciseIsNotFun', 'ThisExerciseIsNotFun2']\n"
          ]
        }
      ]
    },
    {
      "cell_type": "markdown",
      "source": [
        "\n",
        "\n",
        "---\n",
        "\n",
        "####**Άσκηση 7**\n",
        "\n",
        "**Try yourself**: Σ' αυτή την άσκηση θα φτιάξουμε μια λίστα στην οποία θα αποθηκεύουμε δίάφορα δεδομένα από άρθρα που δημοσιεύονται σε sites.\n",
        "\n",
        "Φτιάξτε ένα νέο κελί κώδικα (Code cell) ακριβώς κάτω από αυτό και κάνετε τα παρακάτω:\n",
        "\n",
        "1. Δημιουργήστε μια κενή λίστα όπου θα αποθηκεύετε τα δεδομένα των άρθρων\n",
        "2. Δημιουργήστε ένα λεξικό με τα στοιχεία του πρώτου άρθρου που θα συλλέξετε από ένα site: \"Τίτλος\", \"Ημερομηνία\", \"Κατηγορία\", \"url\"\n",
        "3. Επαναλάβετε το 2 για ακόμα ένα άρθρο\n",
        "4. Προσθέστε τα λεξικά στη λίστα.\n",
        "5. Τυπώστε στην οθόνη τον τίτλο του 2ου άρθρου\n",
        "6. Προσθέστε και στα 2 άρθρα μια εγγραφή με το όνομα του αντίστοιχου site που πήρατε το άρθρο\n",
        "7. Τυπώστε στην οθόνη το πλήθος των λεξικών που έχει η λίστα.\n",
        "\n",
        "**Tip**:Δουλέψτε τμηματικά και ελέγχετε σε κάθε βήμα αυτό που κάνετε."
      ],
      "metadata": {
        "id": "KpVX9pHLNgB6"
      }
    },
    {
      "cell_type": "code",
      "source": [
        "articlesDataL = []\n",
        "articlesDataD = {\"Τίτλος\" : \"Η Φιλανδια γινεται σημερα επισημα μελος του ΝΑΤΟ\" , \"Ημερομηνία\" : \"4-4-2023\", \"Κατηγορία\" : \"Κοσμος\" , \"url\" : \"https://www.newsit.gr/kosmos/nato-i-finlandia-ginetai-simera-episima-melos/3742970/\" }\n",
        "articlesDataD2 = { \"Τίτλος\" : \"Εκλογές 2023: Το crash test των πολιτικών αρχηγών στα Social Media\" , \"Ημερομηνία\": \"4-4-2023\" , \"Κατηγορία\": \"Πολιτικη\" , \"url\": \"https://www.tovima.gr/print/politics/to-crash-test-ton-arxigon-sta/\" }\n",
        "articlesDataL.append(articlesDataD)\n",
        "articlesDataL.append(articlesDataD2)\n",
        "print(articlesDataD2[\"Τίτλος\"])\n",
        "articlesDataD.update({\"Πηγη\" : \"NewsIt\"})\n",
        "articlesDataD2.update({\"Πηγη\" : \"ToVima\"})\n",
        "print(len(articlesDataL))\n"
      ],
      "metadata": {
        "id": "DzO_ytN-ssry",
        "outputId": "3865052a-ebc1-4079-9dc5-96af2d6473f6",
        "colab": {
          "base_uri": "https://localhost:8080/"
        }
      },
      "execution_count": null,
      "outputs": [
        {
          "output_type": "stream",
          "name": "stdout",
          "text": [
            "Εκλογές 2023: Το crash test των πολιτικών αρχηγών στα Social Media\n",
            "2\n"
          ]
        }
      ]
    }
  ]
}