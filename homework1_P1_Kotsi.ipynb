{
  "cells": [
    {
      "cell_type": "markdown",
      "metadata": {
        "id": "view-in-github",
        "colab_type": "text"
      },
      "source": [
        "<a href=\"https://colab.research.google.com/github/silviaaax/datastories_for_emme/blob/main/homework1_P1_Kotsi.ipynb\" target=\"_parent\"><img src=\"https://colab.research.google.com/assets/colab-badge.svg\" alt=\"Open In Colab\"/></a>"
      ]
    },
    {
      "cell_type": "code",
      "execution_count": null,
      "metadata": {
        "id": "VkanbhNb5Omk"
      },
      "outputs": [],
      "source": []
    },
    {
      "cell_type": "markdown",
      "metadata": {
        "collapsed": true,
        "id": "vqy8ZCS35Oml"
      },
      "source": [
        "##  Εβδομάδα 1 - Εισαγωγή στην Python\n",
        "\n",
        "**Θεωρία**\n",
        "\n",
        "Η **Python** είναι γλώσσα προγραμματισμού υψηλού επιπέδου, ανοικτού πηγαίου κώδικα (open source) και γενικής χρήσης. Είναι\n",
        "εύκολη στην εκμάθηση (απλούστερη από τις C, C++, Java) και παρέχει ισχυρές δυνατότητες σε αρχάριους και έμπειρους προγραμματιστές.\n",
        "\n",
        "\n",
        "**Τιμές και τύποι**\n",
        "\n",
        "Η έννοια της τιμής αναφέρεται σε μεταβλητές αλλά και σε σταθερές τιμές. Επίσης, τιμές μπορεί να είναι οι αριθμοί αλλά και οι αριθμητικές εκφράσεις, όπως αν γράψετε 1+1. Ωστόσο, τιμή είναι και η έκφραση ‘hello world’. \n",
        "\n",
        "Κάθε τιμή ανήκει σε κάποιον τύπο (ακέραιοι αριθμοί, ομάδες χαρακτήρων ή strings, κλπ.). Η ομάδα χαρακτήρων είναι ένας από τους θεμελιώδεις τύπους της Python και σταθερές του τύπου ομάδα χαρακτήρων (ή συμβολοσειρά) τις οποίες περικλείουμε με εισαγωγικά (μονά (‘) ή διπλά (‘‘)) αρχής και τέλους. \n",
        "\n",
        "Η εντολή εκτύπωσης δουλεύει, βεβαίως, με ακέραιους αριθμούς και με πολλούς άλλους τύπους, όπως θα δούμε αργότερα.\n",
        "Με τον όρο κυριολεκτικές σταθερές (literal constants) αναφερόμαστε σε προκαθορισμένες τιμές που παραμένουν αμετάβλητες σε όλη τη διάρκεια εκτέλεσης ενός προγράμματος.\n",
        "\n",
        "Παραδείγματα τιμών:\n",
        "• 3,\n",
        "• 2.5,\n",
        "• ‘Hello, World!’\n",
        "\n",
        "Αυτές οι τιμές ανήκουν σε διαφορετικούς τύπους (types):\n",
        "\n",
        "• 3 είναι ένας ακέραιος αριθμός (integer).\n",
        "\n",
        "• 2.5 είναι ένας αριθμός κινητής υποδιαστολής (float).\n",
        "\n",
        "• ‘Hello, World!’ είναι μια συμβολοσειρά (string). Πρόκειται για μια ακολουθία από χαρακτήρες οι οποίοι περικλείονται σε μονά ή διπλά εισαγωγικά.\n",
        "\n",
        "• Εκτύπωση με χρήση της εντολής print."
      ]
    },
    {
      "cell_type": "code",
      "execution_count": null,
      "metadata": {
        "id": "yywwNp9Y5Omo",
        "outputId": "a6d16044-53bc-4416-eef6-378ab52d1d4b"
      },
      "outputs": [
        {
          "data": {
            "text/plain": [
              "13399"
            ]
          },
          "execution_count": 6,
          "metadata": {},
          "output_type": "execute_result"
        }
      ],
      "source": [
        "a = 12344\n",
        "c = 55\n",
        "d = 1000\n",
        "a + c + d"
      ]
    },
    {
      "cell_type": "code",
      "execution_count": null,
      "metadata": {
        "id": "3PH_Mv2a5Omq",
        "outputId": "4ef401cd-5de7-439e-f925-53292d82e24a"
      },
      "outputs": [
        {
          "name": "stdout",
          "output_type": "stream",
          "text": [
            "Kostas Mourlas\n"
          ]
        }
      ],
      "source": [
        "b =\"Kostas Mourlas\"\n",
        "print(b)"
      ]
    },
    {
      "cell_type": "code",
      "execution_count": null,
      "metadata": {
        "id": "0bs2pGhU5Omr",
        "outputId": "9db3410f-8f82-4de1-f609-abdfabfeaf49"
      },
      "outputs": [
        {
          "data": {
            "text/plain": [
              "'Costas Mourlas 1000'"
            ]
          },
          "execution_count": 12,
          "metadata": {},
          "output_type": "execute_result"
        }
      ],
      "source": [
        "a = 17\n",
        "a = \"Costas\"\n",
        "b = \"Mourlas\"\n",
        "a + \" \" + b + \" \" + str(d)"
      ]
    },
    {
      "cell_type": "markdown",
      "metadata": {
        "id": "TUeW0X8Q5Oms"
      },
      "source": [
        "Τύπος `int`  ακέραιοι αριθμοί\n",
        "\n",
        "Τύπος `float`  αριθμοί κινητής υποδιαστολής (δεκαδικοί αριθμοί)\n",
        "\n",
        "Τύπος `str`  συμβολοσειρές (ακολουθίες χαρακτήρων)"
      ]
    },
    {
      "cell_type": "code",
      "execution_count": null,
      "metadata": {
        "id": "1nZnV9EE5Oms",
        "outputId": "1dc0c520-085c-4d32-c3c9-a777d87b252c"
      },
      "outputs": [
        {
          "name": "stdout",
          "output_type": "stream",
          "text": [
            "33\n",
            "33\n",
            "137\n",
            "0.75\n"
          ]
        }
      ],
      "source": [
        "# Συμβολοσειρές'str' \n",
        "print (str(3) + \"3\")\n",
        "# Μετατρέψτε το 3 σε STRING\n",
        "print (\"3\" + \"3\")\n",
        "# Μετατρέψτε το 3 σε INTEGER\n",
        "print(int(\"134\") + 3)\n",
        "print(3/4)"
      ]
    },
    {
      "cell_type": "code",
      "execution_count": null,
      "metadata": {
        "id": "qaIeyxML5Oms",
        "outputId": "181e85dc-5ab7-4cab-ac59-098e61e4a469"
      },
      "outputs": [
        {
          "data": {
            "text/plain": [
              "1313233"
            ]
          },
          "execution_count": 102,
          "metadata": {},
          "output_type": "execute_result"
        }
      ],
      "source": [
        "v =\"1313233\"\n",
        "int(v)"
      ]
    },
    {
      "cell_type": "markdown",
      "metadata": {
        "id": "rgeTf0Fe5Oms"
      },
      "source": [
        "## Μεταβλητές"
      ]
    },
    {
      "cell_type": "markdown",
      "metadata": {
        "id": "EkRXRkza5Omt"
      },
      "source": [
        "Τώρα, λοιπόν, γνωρίζουμε ότι έχουμε σταθερές τιμές, αλλά έχουμε και μεταβλητές\n",
        "τιμές. Από τα πιο δυνατά χαρακτηριστικά μιας γλώσσας προγραμματισμού είναι\n",
        "η δυνατότητα διαχείρισης μεταβλητών. Η **μεταβλητή (variable)** είναι ένα όνομα\n",
        "που αναφέρεται σε μια τιμή."
      ]
    },
    {
      "cell_type": "markdown",
      "metadata": {
        "id": "lD9XasXf5Omt"
      },
      "source": [
        "Τα ονόματα μεταβλητών μπορούν να περιέχουν αριθμούς και γράμματα, αλλά\n",
        "πρέπει να ξεκινούν με ένα γράμμα.\n",
        "\n",
        "Τα πεζά διακρίνονται από τα κεφαλαία:\n",
        "    \n",
        "• **Course** και **course** είναι διαφορετικές μεταβλητές.\n",
        "\n",
        "• **myname** και **myName** είναι διαφορετικές μεταβλητές."
      ]
    },
    {
      "cell_type": "code",
      "execution_count": null,
      "metadata": {
        "id": "GVNdNLfC5Omu",
        "outputId": "11284a8f-ab48-4c37-c1c8-27623ddae6f1"
      },
      "outputs": [
        {
          "name": "stdout",
          "output_type": "stream",
          "text": [
            "Hello  Helen !!!\n"
          ]
        }
      ],
      "source": [
        "name= \"Helen\" \n",
        "print ('Hello ', name, \"!!!\")"
      ]
    },
    {
      "cell_type": "code",
      "execution_count": null,
      "metadata": {
        "id": "ch_W7IZZ5Omv"
      },
      "outputs": [],
      "source": [
        "age= input(\"Πόσο χρονών είσαι?\")\n",
        "print(5*age)\n",
        "hlikia = int(age)\n",
        "print(hlikia)\n",
        "print(2*hlikia)"
      ]
    },
    {
      "cell_type": "markdown",
      "metadata": {
        "id": "rhkeGlO35Omw"
      },
      "source": [
        "Ως εδώ κάτι έχω καταλάβει....."
      ]
    },
    {
      "cell_type": "code",
      "execution_count": null,
      "metadata": {
        "id": "U6aDtng25Omw",
        "outputId": "62390458-06d4-4593-afa0-e9a3bbd6ca4f"
      },
      "outputs": [
        {
          "name": "stdout",
          "output_type": "stream",
          "text": [
            "Hello world\n",
            "Hello world\n",
            "4\n",
            "Hello world\n"
          ]
        }
      ],
      "source": [
        "age =55\n",
        "print('Hello world')\n",
        "print (\"Hello world\")\n",
        "print (2+2)\n",
        "print('Hello world')"
      ]
    },
    {
      "cell_type": "code",
      "execution_count": null,
      "metadata": {
        "id": "oSKkYmic5Omw",
        "outputId": "7c6c71e2-39fa-4e9e-8a17-525d87a63dfd"
      },
      "outputs": [
        {
          "name": "stdout",
          "output_type": "stream",
          "text": [
            "age 55\n",
            "205\n",
            "200 Helen Γεια σου\n"
          ]
        }
      ],
      "source": [
        "print(\"age\", age)\n",
        "arithos  = 5\n",
        "A = 200\n",
        "print(arithos +A)\n",
        "print(A,name,\"Γεια σου\")"
      ]
    },
    {
      "cell_type": "markdown",
      "metadata": {
        "id": "Grxa23zJ5Omx"
      },
      "source": [
        "## Πολλαπλές εκχωρήσεις\n",
        "Όπως ίσως θα έχετε διαπιστώσει, είναι νόμιμο να γίνουν παραπάνω από μία εκχωρήσεις σε μια μεταβλητή. \n",
        "\n",
        "Μια νέα εκχώρηση κάνει μια μεταβλητή να αναφέρεται σε μία **νέα τιμή** και να σταματήσει να αναφέρεται στην παλιά τιμή"
      ]
    },
    {
      "cell_type": "code",
      "execution_count": null,
      "metadata": {
        "id": "ozfmr5_K5Omx",
        "outputId": "56ba2f42-5a74-4032-d60d-7b8b13f0025c"
      },
      "outputs": [
        {
          "name": "stdout",
          "output_type": "stream",
          "text": [
            "1\n"
          ]
        }
      ],
      "source": [
        "value = 1\n",
        "print(value)"
      ]
    },
    {
      "cell_type": "code",
      "execution_count": null,
      "metadata": {
        "id": "vRqC-PEu5Omx",
        "outputId": "381ead67-d9c6-4d65-db47-b81d3538e697"
      },
      "outputs": [
        {
          "name": "stdout",
          "output_type": "stream",
          "text": [
            "2\n"
          ]
        }
      ],
      "source": [
        "value = 2\n",
        "print(value)"
      ]
    },
    {
      "cell_type": "markdown",
      "metadata": {
        "id": "EW7PkQNg5Omx"
      },
      "source": [
        "## Υπό συνθήκη (Conditional)"
      ]
    },
    {
      "cell_type": "markdown",
      "metadata": {
        "id": "Pn2gRVmu5Omy"
      },
      "source": [
        "## Εντολές\n",
        "\n",
        "Έχουμε δει, ήδη, δύο είδη εντολών: print (εκτύπωση) και assignment (εκχώρηση).\n",
        "\n",
        "Οι εντολές γενικότερα εκτελούνται από το διερμηνευτή της Python. Όταν γράφετε μια εντολή στη γραμμή εντολών (command line), ο διερμηνευτής την εκτελεί και δείχνει στην οθόνη το αποτέλεσμα, αν η εντολή είναι εντολή εξόδου. Στην περίπτωση του print είναι, ενώ στην περίπτωση της εκχώρησης δεν είναι. Ένα πρόγραμμα ή ένα σενάριο (script) όπως ονομάζεται στην Python, συνήθως περιέχει\n",
        "περισσότερες της μίας εντολές. "
      ]
    },
    {
      "cell_type": "code",
      "execution_count": null,
      "metadata": {
        "id": "JM1qvkBJ5Omy",
        "outputId": "8fbf97b0-a8de-405d-b177-3b05e06cfb3d"
      },
      "outputs": [
        {
          "name": "stdout",
          "output_type": "stream",
          "text": [
            "Απαγορεύεται να αγοράσεις αλκοόλ\n",
            "Συγγνώμη\n"
          ]
        }
      ],
      "source": [
        "#Αν η μεταβλητή'age' είναι μικρότερη του 18,\n",
        "#τότε τύπωσε αυτό που πρέπει \n",
        "# Να προσέχω να βάζω : στο τέλος κάθε εντολής if\n",
        "\n",
        "if (hlikia < 18):\n",
        "    print(\"Απαγορεύεται να αγοράσεις αλκοόλ\")\n",
        "    print(\"Συγγνώμη\")\n",
        "else:\n",
        "    print (\"Αγόρασε σε παρακαλώ 20 μπύρες\")\n",
        "    print ( \"Θα σε πληρώσω αργότερα\")\n",
        "    print(\"Ας κάνουμε ένα πάρτυ!\")"
      ]
    },
    {
      "cell_type": "markdown",
      "metadata": {
        "id": "-yu8NMhW5Omy"
      },
      "source": [
        "Στο παρακάτω παράδειγμα στο οποίο ελέγχουμε για ισότητα της μεταβλητής x με το 2 (η σύγκριση για ισότητα εκφράζεται με δύο ίσον (==)\n",
        "σε αντίθεση με την εκχώρηση (=)). \n",
        "\n",
        "Αν το 3 είναι ίσον με το 2, ακολουθεί η άνω-κάτω-τελεία (:), που σημαίνει ότι τελείωσε το κομμάτι της συνθήκης και τώρα πάμε να εκτελέσουμε αν ισχύει η συνθήκη. \n",
        "\n",
        "Αν το 3 ήταν ίσο με 2, που δεν είναι, τότε θα εκτυπώναμε την τιμή του x, διαφορετικά (κάτι που ισχύει εδώ) το x παίρνει την τιμή 3 και μετά τυπώνουμε το x."
      ]
    },
    {
      "cell_type": "code",
      "execution_count": null,
      "metadata": {
        "id": "RR9zbqPB5Omy",
        "outputId": "2124fa3f-b59a-46c1-ab63-4c483daa6db5"
      },
      "outputs": [
        {
          "name": "stdout",
          "output_type": "stream",
          "text": [
            "To x δεν είναι 3\n"
          ]
        }
      ],
      "source": [
        "x = 4\n",
        "\n",
        "if x == 3:\n",
        "    print(x)\n",
        "else:\n",
        "    print(\"To x δεν είναι 3\")\n",
        "    x = 3\n",
        "    \n",
        "#print(x)"
      ]
    },
    {
      "cell_type": "code",
      "execution_count": null,
      "metadata": {
        "id": "svfvGOM35Omz",
        "outputId": "1fe70d4b-c533-4e2b-b511-cc98f8791d3f"
      },
      "outputs": [
        {
          "data": {
            "text/plain": [
              "3"
            ]
          },
          "execution_count": 46,
          "metadata": {},
          "output_type": "execute_result"
        }
      ],
      "source": [
        "x"
      ]
    },
    {
      "cell_type": "markdown",
      "metadata": {
        "id": "yCp-2quR5Omz"
      },
      "source": [
        "## Λάθη\n",
        "\n",
        "Αν κάνουμε κάποιο συντακτικό λάθος (π.χ. παραλείψουμε το :) η λειτουργία check module («έλεγξε το πρόγραμμα») θα μας πει ότι δεν είναι σωστή η σύνταξη και θα κοκκινίσει το μέρος όπου βλέπει κάποιο λάθος. \n",
        "Έτσι θα το διορθώσουμε, θα το ξανατρέξουμε και εφόσον δεν υπάρχει συντακτικό λάθος στο πρόγραμμα,θα τυπώσει 3, όπως αναμένουμε.\n",
        "\n",
        "\n",
        "Αν υποθέσουμε ότι για κάποιο λόγο είχαμε βάλει print y, το οποίο δεν είναι ορισμένο, αυτό δεν είναι συντακτικό λάθος.\n",
        "\n"
      ]
    },
    {
      "cell_type": "code",
      "execution_count": null,
      "metadata": {
        "id": "s6s6wahh5Omz",
        "outputId": "e1668805-1571-49fc-9132-a52c8c63114d"
      },
      "outputs": [
        {
          "name": "stdout",
          "output_type": "stream",
          "text": [
            "3\n"
          ]
        }
      ],
      "source": [
        "x = 3\n",
        "y = 0\n",
        "if y == 3:\n",
        "    print(y)\n",
        "else:\n",
        "    y = 3\n",
        "    \n",
        "print(y)"
      ]
    },
    {
      "cell_type": "markdown",
      "metadata": {
        "id": "SWAPBcE-5Om0"
      },
      "source": [
        "Οι μεταβλητές δηλώνονται την πρώτη φορά που τις χρησιμοποιούμε. Αλλά αν προσπαθήσουμε να το τρέξουμε, τότε βλέπετε ότι έχουμε το λεγόμενο run time error, λάθος κατά το χρόνο εκτέλεσης γιατί, προφανώς, δεν ήταν ορισμένο, επομένως δεν μπορεί να τυπωθεί κάτι, αφού δεν ξέρει την τιμή.\n",
        "\n",
        "Είδαμε, λοιπόν, δύο διαφορετικές πολύ μεγάλες κατηγορίες λαθών, τα πρώτα, σχετικά πιο εύκολα, τα λεγόμενα συντακτικά λάθη, δηλαδή, στη σύνταξη της γλώσσας και τα άλλα πιο δύσκολα να αντιληφθεί κανείς, τα λεγόμενα λάθη εκτέλεσης, run time error. \n",
        "\n",
        "Είναι πολύ σημαντικό να γίνει κατανοητή αυτή η σημαντική διαφορά μεταξύ αυτών των δύο κατηγοριών λαθών."
      ]
    },
    {
      "cell_type": "markdown",
      "metadata": {
        "id": "PoHhxsCS5Om0"
      },
      "source": [
        "## Συμβολοσειρές, λίστες, λεξικά, μέθοδοι\n",
        "\n",
        "**Θεωρία**\n",
        "\n",
        "Σήμερα θα δούμε επίσης, τις βασικές δομές δεδομένων, όπως οι συμβολοσειρές (strings), οι λίστες (lists), οι πλειάδες (tuples)\n",
        "και τα λεξικά (dictionaries), καθώς και της διαχείρισής τους."
      ]
    },
    {
      "cell_type": "markdown",
      "metadata": {
        "id": "Hcy6pi-Q5Om0"
      },
      "source": [
        "**Συμβολοσειρές**\n",
        "\n",
        "\n",
        "Μια συμβολοσειρά είναι μια ακολουθία από χαρακτήρες. Οι συμβολοσειρές ανήκουν στον τύπο δεδομένων `str`. Μπορείτε να ορίσετε συμβολοσειρές με μονά (‘) ή διπλά (‘‘) εισαγωγικά:"
      ]
    },
    {
      "cell_type": "code",
      "execution_count": null,
      "metadata": {
        "id": "CgyVh_Ei5Om0",
        "outputId": "1d2cf0f4-f05a-495a-d248-6601b8271a1e"
      },
      "outputs": [
        {
          "data": {
            "text/plain": [
              "'Vasilis'"
            ]
          },
          "execution_count": 49,
          "metadata": {},
          "output_type": "execute_result"
        }
      ],
      "source": [
        "name = 'Vasilis'\n",
        "name"
      ]
    },
    {
      "cell_type": "code",
      "execution_count": null,
      "metadata": {
        "id": "SIwCrVXp5Om1",
        "outputId": "a7cfd845-bfbc-4c90-d7a6-b7ffe2e731ee"
      },
      "outputs": [
        {
          "data": {
            "text/plain": [
              "'Vasilis'"
            ]
          },
          "execution_count": 50,
          "metadata": {},
          "output_type": "execute_result"
        }
      ],
      "source": [
        "name = \"Vasilis\"\n",
        "name"
      ]
    },
    {
      "cell_type": "markdown",
      "metadata": {
        "id": "AQE3RUT75Om1"
      },
      "source": [
        "Τα μονά εισαγωγικά (‘) μπορείτε να τα χρησιμοποιείτε ελεύθερα μέσα σε διπλά εισαγωγικά (‘‘)"
      ]
    },
    {
      "cell_type": "code",
      "execution_count": null,
      "metadata": {
        "id": "KwGAQ3k85Om1",
        "outputId": "75be1c49-3bb8-47ee-b8bb-65588272be1d"
      },
      "outputs": [
        {
          "name": "stdout",
          "output_type": "stream",
          "text": [
            "Let's party!\n"
          ]
        }
      ],
      "source": [
        "print(\"Let's party!\")"
      ]
    },
    {
      "cell_type": "code",
      "execution_count": null,
      "metadata": {
        "id": "VfRiLBF_5Om1",
        "outputId": "82a54e1a-56fd-43be-9155-93bc37b3bbd7"
      },
      "outputs": [
        {
          "name": "stdout",
          "output_type": "stream",
          "text": [
            "Μπορείτε να ορίσετε συμβολοσειρές πολλαπλών γραμμών με τριπλά εισαγωγικά (τρία διπλά ‘‘‘‘‘‘ ή τρία μονά ‘‘‘).  \n",
            "Βλέπετε ότι με τα τριπλά εισαγωγικά μπορούμε να αλλάξουμε και γραμμή, \n",
            "χωρίς να χρειάζεται να βάλουμε την ακολουθία διαφυγής\n"
          ]
        }
      ],
      "source": [
        "c = '''Μπορείτε να ορίσετε συμβολοσειρές πολλαπλών γραμμών με τριπλά εισαγωγικά (τρία διπλά ‘‘‘‘‘‘ ή τρία μονά ‘‘‘).  \n",
        "Βλέπετε ότι με τα τριπλά εισαγωγικά μπορούμε να αλλάξουμε και γραμμή, \n",
        "χωρίς να χρειάζεται να βάλουμε την ακολουθία διαφυγής'''\n",
        "\n",
        "print(c)"
      ]
    },
    {
      "cell_type": "markdown",
      "metadata": {
        "id": "_yMO4XGL5Om1"
      },
      "source": [
        "## Λίστες\n",
        "\n",
        "Η λίστα είναι ο δεύτερος σύνθετος τύπος (μετά τις συμβολοσειρές) στον οποίο αναφερόμαστε στην Python. Οι λίστες (`lists`), δηλώνουν πράγματα καθώς και διατεταγμένα σύνολα τιμών. Οι τιμές (μέλη μιας λίστας) λέγονται στοιχεία (`elements`).\n",
        "\n",
        "Ο όρος «διατεταγμένα» σημαίνει ότι μπορούμε να ορίσουμε ότι αυτό είναι το πρώτο, αυτό είναι δεύτερο, αυτό τρίτο κλπ. Οι λίστες είναι παρόμοιες με τις συμβολοσειρές, οι οποίες είναι διατεταγμένα σύνολα χαρακτήρων, ωστόσο τα στοιχεία μιας λίστας μπορεί να είναι οποιουδήποτε τύπου. \n",
        "\n",
        "Μπορεί να είναι νούμερα, ακέραιοι, πραγματικοί, μπορεί να είναι άλλες λίστες. Μπορεί να περιέχουν στοιχεία οποιουδήποτε τύπου της Python και όλα αυτά να τα βάζουμε μαζί γιατί πιστεύουμε ότι πρέπει να είναι μαζί. "
      ]
    },
    {
      "cell_type": "markdown",
      "metadata": {
        "id": "u0Y8Tvp-5Om1"
      },
      "source": [
        "Ο απλούστερος τρόπος να δημιουργήσει κανείς μια λίστα, είναι να βάλει τα στοιχεία της μέσα σε [ ]. "
      ]
    },
    {
      "cell_type": "code",
      "execution_count": null,
      "metadata": {
        "id": "UBWk8vPx5Om2"
      },
      "outputs": [],
      "source": [
        "L = [\"Dimitris\", \"Sotiris\", \"Katerina\", \"Christos\", \"Eleni\"]"
      ]
    },
    {
      "cell_type": "code",
      "execution_count": null,
      "metadata": {
        "id": "0acA10TI5Om2"
      },
      "outputs": [],
      "source": [
        "grades = [5, 6,7,8,3]"
      ]
    },
    {
      "cell_type": "code",
      "execution_count": null,
      "metadata": {
        "id": "ichXMlrJ5Om2",
        "outputId": "710ba7a2-81a7-4072-9f23-0812e75f71cb"
      },
      "outputs": [
        {
          "name": "stdout",
          "output_type": "stream",
          "text": [
            "Dimitris\n",
            "Sotiris\n",
            "Katerina\n",
            "Christos\n",
            "Eleni\n",
            "5\n",
            "6\n",
            "7\n",
            "8\n",
            "3\n"
          ]
        }
      ],
      "source": [
        "for name in L:\n",
        "    print(name)\n",
        "\n",
        "for grade in grades:\n",
        "    print(grade)"
      ]
    },
    {
      "cell_type": "code",
      "execution_count": null,
      "metadata": {
        "id": "xSAPqwvu5Om2",
        "outputId": "e77f819e-2cb8-4f4f-819a-ea2d2917d553"
      },
      "outputs": [
        {
          "name": "stdout",
          "output_type": "stream",
          "text": [
            "O  Dimitris  πήρε βαθμό:  5\n",
            "O  Sotiris  πήρε βαθμό:  6\n",
            "H  Katerina  πήρε βαθμό:  7\n",
            "O  Christos  πήρε βαθμό:  8\n",
            "H  Eleni  πήρε βαθμό:  3\n"
          ]
        }
      ],
      "source": [
        "suffix =\"s\"\n",
        "for i in range(0,5):\n",
        "    if (L[i].endswith(suffix)):\n",
        "        print(\"O \", L[i], \" πήρε βαθμό: \", grades[i])\n",
        "    else:\n",
        "        print(\"H \", L[i], \" πήρε βαθμό: \", grades[i])\n",
        "        "
      ]
    },
    {
      "cell_type": "code",
      "execution_count": null,
      "metadata": {
        "id": "c0zm7xks5Om2",
        "outputId": "13e38630-cc72-40ef-bd67-69bc462aac4f"
      },
      "outputs": [
        {
          "data": {
            "text/plain": [
              "True"
            ]
          },
          "execution_count": 83,
          "metadata": {},
          "output_type": "execute_result"
        }
      ],
      "source": [
        "\n",
        "x = \"Sotiris\"\n",
        "x[-1:] == 's'"
      ]
    },
    {
      "cell_type": "code",
      "execution_count": null,
      "metadata": {
        "id": "M-jIT1hE5Om2",
        "outputId": "cee8b94e-7d7a-4303-9bc9-2ef2b2a342db"
      },
      "outputs": [
        {
          "data": {
            "text/plain": [
              "'Dimitris'"
            ]
          },
          "execution_count": 55,
          "metadata": {},
          "output_type": "execute_result"
        }
      ],
      "source": [
        "L[0]"
      ]
    },
    {
      "cell_type": "code",
      "execution_count": null,
      "metadata": {
        "id": "ynTG6gCO5Om3",
        "outputId": "a05d6412-08ec-4725-eb4b-0f44105c9eb6"
      },
      "outputs": [
        {
          "name": "stdout",
          "output_type": "stream",
          "text": [
            "Dimitris\n"
          ]
        }
      ],
      "source": [
        "print(L[0])"
      ]
    },
    {
      "cell_type": "code",
      "execution_count": null,
      "metadata": {
        "id": "KkZM07C15Om3",
        "outputId": "d15e9419-0197-4339-c9c4-24c785be3af8"
      },
      "outputs": [
        {
          "name": "stdout",
          "output_type": "stream",
          "text": [
            "Sotiris\n"
          ]
        }
      ],
      "source": [
        "print(L[1])"
      ]
    },
    {
      "cell_type": "code",
      "execution_count": null,
      "metadata": {
        "id": "9V1Sv3rO5Om4",
        "outputId": "9028fa28-9d29-44a4-937c-62a4625ffe9f"
      },
      "outputs": [
        {
          "name": "stdout",
          "output_type": "stream",
          "text": [
            "Katerina\n"
          ]
        }
      ],
      "source": [
        "print(L[2])"
      ]
    },
    {
      "cell_type": "markdown",
      "metadata": {
        "id": "J-2-qvj25Om5"
      },
      "source": [
        "## Λειτουργίες & Μέθοδοι"
      ]
    },
    {
      "cell_type": "markdown",
      "metadata": {
        "id": "5qAa-uBn5Om5"
      },
      "source": [
        "## Μήκος λίστας\n",
        "Όπως είχαμε δει και με τις συμβολοσειρές, έτσι και στις λίστες έχουμε μια συνάρτηση len, η οποία επιστρέφει το μήκος μιας λίστας. "
      ]
    },
    {
      "cell_type": "code",
      "execution_count": null,
      "metadata": {
        "id": "3hU8o6-P5Om5"
      },
      "outputs": [],
      "source": [
        "M = [1,3,4,5,5,6,6,6,77,87,8,88,8,8,88,8,8,8,8,88,8]"
      ]
    },
    {
      "cell_type": "code",
      "execution_count": null,
      "metadata": {
        "id": "1my0kJYx5Om5",
        "outputId": "c6159e52-6905-44de-bf36-50eea7a74f9b"
      },
      "outputs": [
        {
          "data": {
            "text/plain": [
              "21"
            ]
          },
          "execution_count": 60,
          "metadata": {},
          "output_type": "execute_result"
        }
      ],
      "source": [
        "len(M)"
      ]
    },
    {
      "cell_type": "code",
      "execution_count": null,
      "metadata": {
        "id": "9ag_59n95Om6",
        "outputId": "5f956539-a56f-464c-e422-4b0710181f8d"
      },
      "outputs": [
        {
          "data": {
            "text/plain": [
              "528"
            ]
          },
          "execution_count": 61,
          "metadata": {},
          "output_type": "execute_result"
        }
      ],
      "source": [
        "sum(M)"
      ]
    },
    {
      "cell_type": "markdown",
      "metadata": {
        "id": "G7GJ-0S45Om6"
      },
      "source": [
        "**Φέτες από λίστες**\n",
        "\n",
        "Όπως και στις συμβολοσειρές, ο τελεστής φέτας (`slice`) δουλεύει επίσης και με τις λίστες. "
      ]
    },
    {
      "cell_type": "code",
      "execution_count": null,
      "metadata": {
        "id": "t8eUOlGw5Om6",
        "outputId": "0213e88d-fdf4-4ade-e9bc-f3adb40cf3d4"
      },
      "outputs": [
        {
          "data": {
            "text/plain": [
              "[4, 5, 5]"
            ]
          },
          "execution_count": 65,
          "metadata": {},
          "output_type": "execute_result"
        }
      ],
      "source": [
        "M[2:5]"
      ]
    },
    {
      "cell_type": "markdown",
      "metadata": {
        "id": "G5ItUg5_5Om6"
      },
      "source": [
        "**Έλεγχος του “ανήκειν”**\n",
        "\n",
        "Ο `in` είναι λογικός τελεστής ο οποίος ελέγχει αν μια τιμή ανήκει σε μια λίστα (επιστρέφοντας true ή false) και δουλεύει όπως και στις συμβολοσειρές. \n",
        "Μπορούμε, επίσης, να χρησιμοποιήσουμε την έκφραση `not in`. "
      ]
    },
    {
      "cell_type": "code",
      "execution_count": null,
      "metadata": {
        "id": "7ZRkd87p5Om6"
      },
      "outputs": [],
      "source": [
        "for patates in L: \n",
        "    print(patates) \n",
        "\n",
        "\n",
        "\n",
        "len(L)"
      ]
    },
    {
      "cell_type": "markdown",
      "metadata": {
        "id": "LAMIEGTT5Om7"
      },
      "source": [
        "Η συνάρτηση `range` έχει ως ορίσματα δύο ακεραίους και επιστρέφει την ακολουθία των ακέραιων αριθμών στο διάστημα από το πρώτο έως \n",
        "το δεύτερό της όρισμα, συμπεριλαμβάνοντας το πρώτο όρισμα, αλλά αποκλείοντας το δεύτερο. "
      ]
    },
    {
      "cell_type": "code",
      "execution_count": null,
      "metadata": {
        "id": "ZPmbi70k5Om7"
      },
      "outputs": [],
      "source": [
        "for ntomates in range(0,len(L)):\n",
        "     print(ntomates, L[ntomates].upper())"
      ]
    },
    {
      "cell_type": "markdown",
      "metadata": {
        "id": "9rnYc-0x5Om7"
      },
      "source": [
        "**Κεφαλαία**"
      ]
    },
    {
      "cell_type": "markdown",
      "metadata": {
        "id": "BADmwddn5Om7"
      },
      "source": [
        "Μέθοδος για κεφαλαία συμβολοσειρά"
      ]
    },
    {
      "cell_type": "code",
      "execution_count": null,
      "metadata": {
        "id": "AQ8iNNRY5Om7"
      },
      "outputs": [],
      "source": [
        "\"Γεια σου\".upper()"
      ]
    },
    {
      "cell_type": "markdown",
      "metadata": {
        "id": "p7D1mvR55Om8"
      },
      "source": [
        "Λειτουργία για να βρούμε τον αριθμό των χαρακτήρων σε μια συμβολοσειρά"
      ]
    },
    {
      "cell_type": "code",
      "execution_count": null,
      "metadata": {
        "id": "1UDk-HYh5Om8"
      },
      "outputs": [],
      "source": [
        "len(\"καλημέρα\") "
      ]
    },
    {
      "cell_type": "markdown",
      "metadata": {
        "id": "HNGbr9aP5Om8"
      },
      "source": [
        "Λειτουργία για να ιεραρχήσουμε μια λίστα με αριθμούς "
      ]
    },
    {
      "cell_type": "code",
      "execution_count": null,
      "metadata": {
        "id": "G-IaP8y35Om8",
        "outputId": "569598e0-8fdb-422e-97d6-fcae02e4877e"
      },
      "outputs": [
        {
          "data": {
            "text/plain": [
              "[0, 1, 2, 3, 4, 5]"
            ]
          },
          "execution_count": 103,
          "metadata": {},
          "output_type": "execute_result"
        }
      ],
      "source": [
        "sorted([0, 5, 4, 2, 3, 1]) "
      ]
    },
    {
      "cell_type": "code",
      "execution_count": null,
      "metadata": {
        "id": "krz9czKP5Om9",
        "outputId": "04ce35ae-58e7-4d6a-ef6c-e1e97772a3f3"
      },
      "outputs": [
        {
          "data": {
            "text/plain": [
              "['Dimitris', 'Giannis', 'Kostas', 'Paris']"
            ]
          },
          "execution_count": 104,
          "metadata": {},
          "output_type": "execute_result"
        }
      ],
      "source": [
        "M = [\"Giannis\", \"Kostas\", \"Dimitris\", \"Paris\"]\n",
        "sorted(M)"
      ]
    },
    {
      "cell_type": "markdown",
      "metadata": {
        "id": "8hW0RfwB5Om9"
      },
      "source": [
        "Μέθοδος για αντικατάσταση κειμένου με κείμενο "
      ]
    },
    {
      "cell_type": "code",
      "execution_count": null,
      "metadata": {
        "id": "j4PA9VkG5Om9",
        "outputId": "b2b55ad2-99eb-4a52-b1e2-42b90a12cad9"
      },
      "outputs": [
        {
          "data": {
            "text/plain": [
              "'_3_3_3'"
            ]
          },
          "execution_count": 105,
          "metadata": {},
          "output_type": "execute_result"
        }
      ],
      "source": [
        "\"123123123\".replace(\"12\", \"_\") "
      ]
    },
    {
      "cell_type": "code",
      "execution_count": null,
      "metadata": {
        "id": "O04FWiMr5Om-",
        "outputId": "4ff8474a-bebd-48ee-e020-cdc5950d949a"
      },
      "outputs": [
        {
          "data": {
            "text/plain": [
              "'Mirii'"
            ]
          },
          "execution_count": 106,
          "metadata": {},
          "output_type": "execute_result"
        }
      ],
      "source": [
        "\"Maria\".replace(\"a\",\"i\")"
      ]
    },
    {
      "cell_type": "markdown",
      "metadata": {
        "collapsed": true,
        "id": "4wbO6aAt5OnA"
      },
      "source": [
        "Οι λειτουργίες δίνουν αποτέλεσμα έξω από τις μεταβλητές, ενώ οι μέθοδοι επηρεάζουν τις ίδιες τις μεταβλητές.\n",
        "\n",
        "Μην ξεχνάτε το σύμβολο () γιατί διαφορετικά οι λειτουργίες και οι μέθοδοί σας δεν θα δουλέψουν."
      ]
    },
    {
      "cell_type": "markdown",
      "metadata": {
        "id": "gKx4u-xp5OnA"
      },
      "source": [
        "# Λειτουργίες & Μέθοδοι για αριθμούς"
      ]
    },
    {
      "cell_type": "markdown",
      "metadata": {
        "id": "kM_6CSP05OnB"
      },
      "source": [
        "**Στρογγυλοποίηση δεκαδικών**"
      ]
    },
    {
      "cell_type": "code",
      "execution_count": null,
      "metadata": {
        "id": "s5yO8ado5OnB",
        "outputId": "5356a5bf-32d8-4686-ed4b-d2ca8bdbebd4"
      },
      "outputs": [
        {
          "name": "stdout",
          "output_type": "stream",
          "text": [
            "1\n",
            "24\n",
            "7\n"
          ]
        }
      ],
      "source": [
        "L = [1.34546, 23.5666, 6.566646]\n",
        "for number in L:\n",
        "     print(round(number))"
      ]
    },
    {
      "cell_type": "markdown",
      "metadata": {
        "id": "UKlMozOm5OnC"
      },
      "source": [
        "Στρογγυλοποίηση προς τα πάνω και προς τα κάτω.\n",
        "\n",
        "Απαιτούνται εξωτερικές βιβλιοθήκες - κώδικας που έγραψε κάποιος άλλος και που.\n",
        "\n",
        "δεν συμπεριλαμβάνεται αυτόματα στην Python."
      ]
    },
    {
      "cell_type": "code",
      "execution_count": null,
      "metadata": {
        "id": "fGtpxCfg5OnC",
        "outputId": "2d52505c-4f47-4201-cd71-98562f0b5fee"
      },
      "outputs": [
        {
          "name": "stdout",
          "output_type": "stream",
          "text": [
            "4\n",
            "3\n"
          ]
        }
      ],
      "source": [
        "import math\n",
        "print(math.ceil(3.14159))\n",
        "print(math.floor(3.14159))"
      ]
    },
    {
      "cell_type": "markdown",
      "metadata": {
        "id": "HDXosHuC5OnC"
      },
      "source": [
        "# Συναρτήσεις & Μέθοδοι για συμβολοσειρές"
      ]
    },
    {
      "cell_type": "markdown",
      "metadata": {
        "id": "mlLr8ECI5OnC"
      },
      "source": [
        " Μάκρος συμβολοσειράς"
      ]
    },
    {
      "cell_type": "code",
      "execution_count": null,
      "metadata": {
        "id": "oZafF4pe5OnC",
        "outputId": "34c500e6-045a-462b-f34c-2c0d32d942c5"
      },
      "outputs": [
        {
          "data": {
            "text/plain": [
              "10"
            ]
          },
          "execution_count": 112,
          "metadata": {},
          "output_type": "execute_result"
        }
      ],
      "source": [
        "len(\"yourstring\")"
      ]
    },
    {
      "cell_type": "code",
      "execution_count": null,
      "metadata": {
        "id": "d2CWKsV45OnD",
        "outputId": "58c590dd-63c5-4c86-99ee-8c2c4cb4ef85"
      },
      "outputs": [
        {
          "data": {
            "text/plain": [
              "4"
            ]
          },
          "execution_count": 114,
          "metadata": {},
          "output_type": "execute_result"
        }
      ],
      "source": [
        "len(M)"
      ]
    },
    {
      "cell_type": "markdown",
      "metadata": {
        "id": "U8v86RRz5OnD"
      },
      "source": [
        "Αντικατάσταση περιεχομένου στη συμβολοσειρά"
      ]
    },
    {
      "cell_type": "code",
      "execution_count": null,
      "metadata": {
        "id": "RhWZZBOZ5OnD",
        "outputId": "c05ceed5-65c3-4933-c720-a7b3f52faae7"
      },
      "outputs": [
        {
          "data": {
            "text/plain": [
              "'mystring'"
            ]
          },
          "execution_count": 115,
          "metadata": {},
          "output_type": "execute_result"
        }
      ],
      "source": [
        "\"yourstring\".replace(\"your\", \"my\")"
      ]
    },
    {
      "cell_type": "markdown",
      "metadata": {
        "id": "cofdSS-Z5OnD"
      },
      "source": [
        "Αλλαγή στους χαρακτήρες της συμβολοσειράς"
      ]
    },
    {
      "cell_type": "code",
      "execution_count": null,
      "metadata": {
        "id": "oioD5-675OnE",
        "outputId": "73304a83-3923-44d3-c4ea-ab08e6628171"
      },
      "outputs": [
        {
          "data": {
            "text/plain": [
              "'yOUR sTRING'"
            ]
          },
          "execution_count": 117,
          "metadata": {},
          "output_type": "execute_result"
        }
      ],
      "source": [
        "#\"Your String\".upper()\n",
        "#\"Your String\".lower()\n",
        "#\"Your String\".title()\n",
        "\"Your String\".swapcase()"
      ]
    },
    {
      "cell_type": "markdown",
      "metadata": {
        "id": "w7TaWkQq5OnE"
      },
      "source": [
        "Μέτρηση του αριθμού κάποιυ χαρακτήρα ή χαρακτήρων εντός συμβολοσειράς"
      ]
    },
    {
      "cell_type": "code",
      "execution_count": null,
      "metadata": {
        "id": "TfBBxL7b5OnE",
        "outputId": "f683ad81-7ef6-482e-e7ab-83413815590b"
      },
      "outputs": [
        {
          "data": {
            "text/plain": [
              "1"
            ]
          },
          "execution_count": 119,
          "metadata": {},
          "output_type": "execute_result"
        }
      ],
      "source": [
        "\"Your String\".count(\"ur\")"
      ]
    },
    {
      "cell_type": "markdown",
      "metadata": {
        "id": "biR5nRa35OnF"
      },
      "source": [
        "Έλεγχος για το εάν η συμβολοσειρά τελειώνει με κάτι συγκεκριμένο"
      ]
    },
    {
      "cell_type": "code",
      "execution_count": null,
      "metadata": {
        "id": "j9cJeZMZ5OnF",
        "outputId": "7aab4e43-06d5-4933-9bf8-2f8a30c6318c"
      },
      "outputs": [
        {
          "data": {
            "text/plain": [
              "True"
            ]
          },
          "execution_count": 120,
          "metadata": {},
          "output_type": "execute_result"
        }
      ],
      "source": [
        "\"Your String\".endswith(\"ng\")"
      ]
    },
    {
      "cell_type": "markdown",
      "metadata": {
        "id": "E_-3Hvcc5OnF"
      },
      "source": [
        "Διαχωρισμός σε λίστα με βάση κάποιους χαρακτήρες "
      ]
    },
    {
      "cell_type": "code",
      "execution_count": null,
      "metadata": {
        "id": "bhGOrCYv5OnK",
        "outputId": "f3820c3d-e30c-4b73-f152-7646a8d5ea00"
      },
      "outputs": [
        {
          "data": {
            "text/plain": [
              "['MOURLAS', 'MEDIA', 'UOA', 'GR']"
            ]
          },
          "execution_count": 123,
          "metadata": {},
          "output_type": "execute_result"
        }
      ],
      "source": [
        "\"mourlas@media.uoa.gr\".replace(\"@\",'$').replace(\".\", \"$\").upper().split(\"$\")\n",
        "#\"Your String\".split(\" \")"
      ]
    },
    {
      "cell_type": "markdown",
      "metadata": {
        "id": "RO5O3gAg5OnK"
      },
      "source": [
        "Ένωση λίστας μέσα σε συμβολοσειρά στη βάση κάποιων χαρακτήρων "
      ]
    },
    {
      "cell_type": "code",
      "execution_count": null,
      "metadata": {
        "id": "M_7P_F2D5OnK",
        "outputId": "83637aa9-71de-43bb-e0e7-f816f5d269d6"
      },
      "outputs": [
        {
          "data": {
            "text/plain": [
              "'mourlas media uoa'"
            ]
          },
          "execution_count": 128,
          "metadata": {},
          "output_type": "execute_result"
        }
      ],
      "source": [
        "\" \".join([\"mourlas\", \"media\", \"uoa\"])\n",
        "#\"ou\".join([\"Your\", \"String\"])"
      ]
    },
    {
      "cell_type": "markdown",
      "metadata": {
        "id": "2Yrj5tUS5OnL"
      },
      "source": [
        "## <span style=\"color:red\">*Άσκηση 1*</span>\n",
        "\n",
        "<span style=\"color:red\">\n",
        "\n",
        "Αλλάξτε το όνομα του notebook βάζοντας το όνομά σας και homework-1-part1-lastname\n",
        "\n",
        "Ακριβώς κάτω από αυτό το κελί προσθέστε νέα κελιά στα οποία θα:\n",
        "\n",
        "Θα φτιάξετε μια λίστα με τους παρακάτω αριθμούς: 23, 91, 0, -11, 4, 23 και 49.\n",
        "Βρείτε τον αριθμό των αντικειμένων της λίστας.\n",
        "Βρείτε το 4ο στοιχείο της λίστας.\n",
        "Βρείτε το άθροισμα του 2ου και του 4ου στοιχείου της λίστας.\n",
        "Βρείτε το 2ο μεγαλύτερο στοιχείο της λίστας.\n",
        "Βρείτε το τελευταίο αντικείμενο της αρχικής λίστας (χωρίς σορτάρισμα).\n",
        "Για κάθε αριθμό να εμφανίσετε έναν αριθμό: αν ο αρχικός αριθμός είναι μεγαλύτερος του 10, πολλαπλασιάστε με το 30. Αν επίσης είναι ζυγός αριθμός, προσθέστε 6. Αν είναι μεγαλύτερος του 50, αφαιρέστε 10. Αν δεν είναι ίσος με -11, αφαιρέστε 1. (Για παράδειγμα το 12 είναι μεγαλύτερο του 10, άρα πολλαπλασιάζουμε 12 * 30 = 360, είναι επίσης ζυγός αριθμός, άρα 360 + 6 = 366, δεν είναι ίσο με -11, άρα 366-1=365.)\n",
        "\n",
        "Βρείτε το σύνολο των αριθμών δια δύο.\n",
        "</span>"
      ]
    },
    {
      "cell_type": "markdown",
      "source": [
        "Θα φτιάξετε μια λίστα με τους παρακάτω αριθμούς: 23, 91, 0, -11, 4, 23 και 49. Βρείτε τον αριθμό των αντικειμένων της λίστας"
      ],
      "metadata": {
        "id": "EOxcaFNo-1he"
      }
    },
    {
      "cell_type": "code",
      "execution_count": null,
      "metadata": {
        "colab": {
          "base_uri": "https://localhost:8080/"
        },
        "id": "uaH7CnYz5OnL",
        "outputId": "5965710f-8dbf-421b-d9aa-55c975485989"
      },
      "outputs": [
        {
          "output_type": "execute_result",
          "data": {
            "text/plain": [
              "7"
            ]
          },
          "metadata": {},
          "execution_count": 60
        }
      ],
      "source": [
        "list = [23,91,0,-11,4,23,49]\n",
        "len(list)"
      ]
    },
    {
      "cell_type": "markdown",
      "source": [
        "Βρείτε το 4ο στοιχείο της λίστας"
      ],
      "metadata": {
        "id": "dRRXFzJi-_oj"
      }
    },
    {
      "cell_type": "code",
      "source": [
        "print (list[3])"
      ],
      "metadata": {
        "colab": {
          "base_uri": "https://localhost:8080/"
        },
        "id": "MNqSxh2K6Dhk",
        "outputId": "370f80fa-ca51-4749-c287-dab7b97b5161"
      },
      "execution_count": null,
      "outputs": [
        {
          "output_type": "stream",
          "name": "stdout",
          "text": [
            "-11\n"
          ]
        }
      ]
    },
    {
      "cell_type": "markdown",
      "source": [
        "Βρείτε το άθροισμα του 2ου και του 4ου στοιχείου της λίστας"
      ],
      "metadata": {
        "id": "jzs56ItQ_gPJ"
      }
    },
    {
      "cell_type": "code",
      "source": [
        "print ([list[i] for i in (1,3)])\n",
        "sum = 91 + -11\n",
        "print (sum)"
      ],
      "metadata": {
        "colab": {
          "base_uri": "https://localhost:8080/"
        },
        "id": "zujEG0X46P5k",
        "outputId": "0894cf9e-fc42-4816-f38e-a8e600948d55"
      },
      "execution_count": null,
      "outputs": [
        {
          "output_type": "stream",
          "name": "stdout",
          "text": [
            "[91, -11]\n",
            "80\n"
          ]
        }
      ]
    },
    {
      "cell_type": "markdown",
      "source": [
        "Βρείτε το 2ο μεγαλύτερο στοιχείο της λίστας (εδώ φτιάχνω μια κανουργία μεταβλητή για την σορταρισμένη λίστα)"
      ],
      "metadata": {
        "id": "gA2w1IyR_hq7"
      }
    },
    {
      "cell_type": "code",
      "source": [
        "list.sort()\n",
        "print (list[-2])"
      ],
      "metadata": {
        "colab": {
          "base_uri": "https://localhost:8080/"
        },
        "id": "0Q-EeAEM9cOY",
        "outputId": "18eff6c5-b11b-419d-cc28-e472626bff59"
      },
      "execution_count": null,
      "outputs": [
        {
          "output_type": "stream",
          "name": "stdout",
          "text": [
            "49\n"
          ]
        }
      ]
    },
    {
      "cell_type": "markdown",
      "source": [
        "Βρείτε το τελευταίο αντικείμενο της αρχικής λίστας (χωρίς σορτάρισμα)"
      ],
      "metadata": {
        "id": "mpzwEw8lCnBK"
      }
    },
    {
      "cell_type": "code",
      "source": [
        "list = [23,91,0,-11,4,23,49]\n",
        "print (list[-1])"
      ],
      "metadata": {
        "colab": {
          "base_uri": "https://localhost:8080/"
        },
        "id": "F7SUQ5gU-nJL",
        "outputId": "ea11b884-aed5-4c0c-9ed7-22c0f8b17fd6"
      },
      "execution_count": null,
      "outputs": [
        {
          "output_type": "stream",
          "name": "stdout",
          "text": [
            "49\n"
          ]
        }
      ]
    },
    {
      "cell_type": "markdown",
      "source": [
        "αν ο αρχικός αριθμός είναι μεγαλύτερος του 10, πολλαπλασιάστε με το 30. Αν επίσης είναι ζυγός αριθμός, προσθέστε 6."
      ],
      "metadata": {
        "id": "WgZrd5sbCtcv"
      }
    },
    {
      "cell_type": "code",
      "source": [
        "finalSum = 0\n",
        "for i in list:\n",
        "  result=0\n",
        "  if (i > 10) : \n",
        "    result = i*30 \n",
        "    print (result)\n",
        "  if i % 2 == 0  :\n",
        "    result = (result + 6) \n",
        "    print (result)\n",
        "  if i>50 :\n",
        "    result = result-10\n",
        "    print (result)\n",
        "  if i!= -11 :\n",
        "    result = (result-1)\n",
        "    print (result)\n",
        "  finalSum = (finalSum + result) \n",
        "print (\"finalsum \" , finalSum /2)\n",
        "  "
      ],
      "metadata": {
        "colab": {
          "base_uri": "https://localhost:8080/"
        },
        "id": "08qaRT_UAZ0Q",
        "outputId": "53784295-29d0-4046-b67f-0c0040ac74e2"
      },
      "execution_count": null,
      "outputs": [
        {
          "output_type": "stream",
          "name": "stdout",
          "text": [
            "690\n",
            "689\n",
            "2730\n",
            "2720\n",
            "2719\n",
            "6\n",
            "5\n",
            "6\n",
            "5\n",
            "690\n",
            "689\n",
            "1470\n",
            "1469\n",
            "finalsum  2788.0\n"
          ]
        }
      ]
    }
  ],
  "metadata": {
    "kernelspec": {
      "display_name": "Python 3",
      "language": "python",
      "name": "python3"
    },
    "language_info": {
      "codemirror_mode": {
        "name": "ipython",
        "version": 3
      },
      "file_extension": ".py",
      "mimetype": "text/x-python",
      "name": "python",
      "nbconvert_exporter": "python",
      "pygments_lexer": "ipython3",
      "version": "3.6.7"
    },
    "colab": {
      "provenance": [],
      "include_colab_link": true
    }
  },
  "nbformat": 4,
  "nbformat_minor": 0
}